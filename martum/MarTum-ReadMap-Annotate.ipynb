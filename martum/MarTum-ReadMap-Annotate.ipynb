{
 "cells": [
  {
   "cell_type": "markdown",
   "metadata": {},
   "source": [
    "* pip install -U scikit-allel\n",
    "* pip install vcfnp\n",
    "* pip install petl\n",
    "* pip install seaborn\n",
    "\n",
    "Heavily munged from [The Scikit Allel walkthrough](http://alimanfoo.github.io/2015/09/28/fast-pca.html), and the [vcfnp notebook](http://nbviewer.ipython.org/github/alimanfoo/vcfnp/blob/master/example.ipynb)\n",
    "\n",
    "* [EggNog GO db](http://eggnogdb.embl.de/#/app/seqscan)"
   ]
  },
  {
   "cell_type": "code",
   "execution_count": 136,
   "metadata": {
    "collapsed": false
   },
   "outputs": [
    {
     "data": {
      "text/plain": [
       "'2.2.0'"
      ]
     },
     "execution_count": 136,
     "metadata": {},
     "output_type": "execute_result"
    }
   ],
   "source": [
    "from __future__ import print_function, division\n",
    "import numpy as np\n",
    "%matplotlib inline\n",
    "import matplotlib.pyplot as plt\n",
    "import seaborn as sns\n",
    "sns.set_style('white')\n",
    "sns.set_style('ticks')\n",
    "import pandas\n",
    "import vcfnp\n",
    "import allel\n",
    "import subprocess\n",
    "import os\n",
    "vcfnp.__version__"
   ]
  },
  {
   "cell_type": "markdown",
   "metadata": {},
   "source": [
    "### Set up data dirs to pull from"
   ]
  },
  {
   "cell_type": "code",
   "execution_count": 139,
   "metadata": {
    "collapsed": false
   },
   "outputs": [],
   "source": [
    "DATA_DIR=\"/Users/iovercast/Dropbox/Tumbes-Maranon-Project/Pyrad-output/Step6/\"\n",
    "POPS_FILES_DIR=\"/Users/iovercast/Dropbox/Tumbes-Maranon-Project/Fastsimcoal2/PopsFiles/\"\n",
    "OUTLIERS_DIR=\"/Users/iovercast/Desktop/MarTum/ReadMapping/zf-cdna/outliers/\"\n",
    "SAM_DIR=\"/Users/iovercast/Desktop/MarTum/ReadMapping/smalt-work/\"\n",
    "READ_MAPPING_DIR = \"/Users/iovercast/Desktop/MarTum/ReadMapping/\"\n",
    "ZF_REF = READ_MAPPING_DIR+\"zf/zf.rm.fa\"\n",
    "ZF_REF_CDNA = READ_MAPPING_DIR+\"zf-cdna/Taeniopygia_guttata.taeGut3.2.4.cdna.all.fa\""
   ]
  },
  {
   "cell_type": "code",
   "execution_count": 3,
   "metadata": {
    "collapsed": false,
    "scrolled": true
   },
   "outputs": [
    {
     "name": "stdout",
     "output_type": "stream",
     "text": [
      "['Arremon', 'Campylorhynchus', 'Melanopareia', 'Mimus', 'Saltator', 'Thamnophilus']\n"
     ]
    }
   ],
   "source": [
    "specieslist = os.listdir(DATA_DIR)\n",
    "print(specieslist)"
   ]
  },
  {
   "cell_type": "code",
   "execution_count": 142,
   "metadata": {
    "collapsed": false,
    "scrolled": true
   },
   "outputs": [
    {
     "name": "stderr",
     "output_type": "stream",
     "text": [
      "[vcfnp] 2016-04-23 21:08:56.372643 :: caching is disabled\n",
      "[vcfnp] 2016-04-23 21:08:56.373494 :: building array\n"
     ]
    },
    {
     "name": "stdout",
     "output_type": "stream",
     "text": [
      "Doing - Arremon\n",
      "# outlier loci =  1190\n",
      "('smalt map -f samsoft -n 8 -y 0.8 -o /Users/iovercast/Desktop/MarTum/ReadMapping/zf-cdna/outliers/Arremon.cdna.sam', '/Users/iovercast/Desktop/MarTum/ReadMapping/zf-cdna/Taeniopygia_guttata.taeGut3.2.4.cdna.all.fa', '/Users/iovercast/Desktop/MarTum/ReadMapping/zf-cdna/outliers/Arremon.outliers.fa')\n",
      "SMALT - Mapping reads for Arremon\n"
     ]
    },
    {
     "name": "stderr",
     "output_type": "stream",
     "text": [
      "[vcfnp] 2016-04-23 21:09:14.436668 :: caching is disabled\n",
      "[vcfnp] 2016-04-23 21:09:14.437652 :: building array\n"
     ]
    },
    {
     "name": "stdout",
     "output_type": "stream",
     "text": [
      "\n",
      "Doing - Campylorhynchus\n",
      "# outlier loci =  359\n",
      "('smalt map -f samsoft -n 8 -y 0.8 -o /Users/iovercast/Desktop/MarTum/ReadMapping/zf-cdna/outliers/Campylorhynchus.cdna.sam', '/Users/iovercast/Desktop/MarTum/ReadMapping/zf-cdna/Taeniopygia_guttata.taeGut3.2.4.cdna.all.fa', '/Users/iovercast/Desktop/MarTum/ReadMapping/zf-cdna/outliers/Campylorhynchus.outliers.fa')\n",
      "SMALT - Mapping reads for Campylorhynchus\n"
     ]
    },
    {
     "name": "stderr",
     "output_type": "stream",
     "text": [
      "[vcfnp] 2016-04-23 21:09:24.321184 :: caching is disabled\n",
      "[vcfnp] 2016-04-23 21:09:24.322309 :: building array\n"
     ]
    },
    {
     "name": "stdout",
     "output_type": "stream",
     "text": [
      "\n",
      "Doing - Melanopareia\n",
      "# outlier loci =  2075\n",
      "('smalt map -f samsoft -n 8 -y 0.8 -o /Users/iovercast/Desktop/MarTum/ReadMapping/zf-cdna/outliers/Melanopareia.cdna.sam', '/Users/iovercast/Desktop/MarTum/ReadMapping/zf-cdna/Taeniopygia_guttata.taeGut3.2.4.cdna.all.fa', '/Users/iovercast/Desktop/MarTum/ReadMapping/zf-cdna/outliers/Melanopareia.outliers.fa')\n",
      "SMALT - Mapping reads for Melanopareia\n"
     ]
    },
    {
     "name": "stderr",
     "output_type": "stream",
     "text": [
      "[vcfnp] 2016-04-23 21:09:53.590837 :: caching is disabled\n",
      "[vcfnp] 2016-04-23 21:09:53.591797 :: building array\n"
     ]
    },
    {
     "name": "stdout",
     "output_type": "stream",
     "text": [
      "\n",
      "Doing - Mimus\n",
      "# outlier loci =  813\n",
      "('smalt map -f samsoft -n 8 -y 0.8 -o /Users/iovercast/Desktop/MarTum/ReadMapping/zf-cdna/outliers/Mimus.cdna.sam', '/Users/iovercast/Desktop/MarTum/ReadMapping/zf-cdna/Taeniopygia_guttata.taeGut3.2.4.cdna.all.fa', '/Users/iovercast/Desktop/MarTum/ReadMapping/zf-cdna/outliers/Mimus.outliers.fa')\n",
      "SMALT - Mapping reads for Mimus\n"
     ]
    },
    {
     "name": "stderr",
     "output_type": "stream",
     "text": [
      "[vcfnp] 2016-04-23 21:10:08.688802 :: caching is disabled\n",
      "[vcfnp] 2016-04-23 21:10:08.689897 :: building array\n"
     ]
    },
    {
     "name": "stdout",
     "output_type": "stream",
     "text": [
      "\n",
      "Doing - Saltator\n",
      "# outlier loci =  1770\n",
      "('smalt map -f samsoft -n 8 -y 0.8 -o /Users/iovercast/Desktop/MarTum/ReadMapping/zf-cdna/outliers/Saltator.cdna.sam', '/Users/iovercast/Desktop/MarTum/ReadMapping/zf-cdna/Taeniopygia_guttata.taeGut3.2.4.cdna.all.fa', '/Users/iovercast/Desktop/MarTum/ReadMapping/zf-cdna/outliers/Saltator.outliers.fa')\n",
      "SMALT - Mapping reads for Saltator\n"
     ]
    },
    {
     "name": "stderr",
     "output_type": "stream",
     "text": [
      "[vcfnp] 2016-04-23 21:10:48.200527 :: caching is disabled\n",
      "[vcfnp] 2016-04-23 21:10:48.201525 :: building array\n"
     ]
    },
    {
     "name": "stdout",
     "output_type": "stream",
     "text": [
      "\n",
      "Doing - Thamnophilus\n",
      "# outlier loci =  1247\n",
      "('smalt map -f samsoft -n 8 -y 0.8 -o /Users/iovercast/Desktop/MarTum/ReadMapping/zf-cdna/outliers/Thamnophilus.cdna.sam', '/Users/iovercast/Desktop/MarTum/ReadMapping/zf-cdna/Taeniopygia_guttata.taeGut3.2.4.cdna.all.fa', '/Users/iovercast/Desktop/MarTum/ReadMapping/zf-cdna/outliers/Thamnophilus.outliers.fa')\n",
      "SMALT - Mapping reads for Thamnophilus\n",
      "\n"
     ]
    }
   ],
   "source": [
    "#for species in [\"Arremon\"]:\n",
    "for species in specieslist:\n",
    "    print(\"Doing - \"+species)\n",
    "    # Load the vcf files\n",
    "    # Actually read in the variants, this gives us access to CHROM\n",
    "    v = vcfnp.variants(DATA_DIR+species+\"/outfiles/c85d6m4p3.vcf\").view(np.recarray)\n",
    "    \n",
    "    ## Read outliers\n",
    "    ## Outliers are generated with an R script that makes use of PCAdapt to detect\n",
    "    ## outlier snps. Called MarTum-pcadapt-outlier-anaylsis.R, you could probably call\n",
    "    ## this on the fly, but i ran it once in rstudio and am just using the results\n",
    "    ## PCAdapt pub: http://arxiv.org/pdf/1402.5321.pdf\n",
    "    outliers_file = open(OUTLIERS_DIR+species+\".outliers\")\n",
    "    ## outliers here is a list of snp indices in the vcf file that are outliers\n",
    "    outliers = outliers_file.readlines()\n",
    "    \n",
    "    # Read Loci file\n",
    "    loci_file = open(DATA_DIR+species+\"/outfiles/c85d6m4p3.loci\")\n",
    "    loci = loci_file.read().split(\"|\")\n",
    "    \n",
    "    # Read sam file\n",
    "    sam_file = open(SAM_DIR+species+\".sam\")\n",
    "    sam = sam_file.read()\n",
    "    \n",
    "    ## For each outlier snp identify the stack it's from in the .loci file\n",
    "    ## We subtract 1 here because the variant array is 0-based and the\n",
    "    ## snp outliers are reported 1-based\n",
    "    outlier_loci_nums = []\n",
    "    for o in outliers:\n",
    "        #print(int(o), v[int(o)-1].CHROM)\n",
    "        outlier_loci_nums.extend([v[int(o)-1].CHROM])\n",
    "\n",
    "    ## Make a sorted set of loci. Removes duplicates in the event that\n",
    "    ## multiple snps are outliers\n",
    "    sorted_loci_nums = sorted(set(outlier_loci_nums), key=int)\n",
    "    \n",
    "    print(\"# outlier loci = \", len(sorted_loci_nums))\n",
    "    \n",
    "    ## For each outlier locus grab the first sequence\n",
    "    ## Again, sorted_loci are 1-based and loci from the file are 0-based\n",
    "    outlier_loci = {}\n",
    "    for l in sorted_loci_nums:\n",
    "        ## Replace all indels with N because that's what's in the sam files\n",
    "        outlier_loci[l] = loci[int(l)-1].split()[1].split(\"nnnn\")[0].replace('-','N')\n",
    "        \n",
    "    ## Find them in the sam file\n",
    "    ## Don't really care anymore, we just remap all the outlier loci by hand\n",
    "    ## saves the trouble of digging for them\n",
    "    found_loci = []\n",
    "    for l in outlier_loci.values():\n",
    "        if l in sam:\n",
    "            found_loci.extend([l])\n",
    "\n",
    "    out_fa = OUTLIERS_DIR+species+\".outliers.fa\"\n",
    "    ## Write out a dummy fasta file with dummy names and real seqs, just for mapping.\n",
    "    with open(out_fa, 'w') as outfile:\n",
    "        for i,l in enumerate(outlier_loci.values()):\n",
    "            outfile.write(\">\"+str(i)+\"\\n\"+l+\"\\n\")\n",
    "\n",
    "    output = OUTLIERS_DIR+species+\".cdna.sam\"\n",
    "    SMALT_CMD = \"smalt map -f samsoft -n 8 -y 0.8 -o \" + output\n",
    "    cmd = SMALT_CMD, ZF_REF_CDNA, out_fa\n",
    "    print(cmd)\n",
    "    print(\"SMALT - Mapping reads for \" + species)\n",
    "    output = subprocess.check_output( \" \".join(cmd), shell=True)\n",
    "    print(output)\n",
    "    "
   ]
  },
  {
   "cell_type": "code",
   "execution_count": 149,
   "metadata": {
    "collapsed": false
   },
   "outputs": [
    {
     "name": "stdout",
     "output_type": "stream",
     "text": [
      "Arremon = 34\n",
      "Campylorhynchus = 15\n",
      "Melanopareia = 53\n",
      "Mimus = 30\n",
      "Saltator = 69\n",
      "Thamnophilus = 59\n"
     ]
    }
   ],
   "source": [
    "## Extract the reads that hit to coding regions\n",
    "#for species in [\"Arremon\"]:\n",
    "for species in specieslist:\n",
    "    species_hits_file = OUTLIERS_DIR+species+\".hits\"\n",
    "    count = 0\n",
    "    with open(species_hits_file, 'w') as outhits:\n",
    "        with open(OUTLIERS_DIR+species+\".cdna.sam\") as insam:\n",
    "            for line in insam:\n",
    "                if \"ENST\" in line and not \"@SQ\" in line:\n",
    "                    #print(line.split()[2])\n",
    "                    count += 1\n",
    "                    outhits.write(line.split()[2]+\"\\n\")\n",
    "    print(species, \"=\", str(count))"
   ]
  },
  {
   "cell_type": "code",
   "execution_count": 231,
   "metadata": {
    "collapsed": false
   },
   "outputs": [
    {
     "name": "stdout",
     "output_type": "stream",
     "text": [
      "['ENSTGUT00000002499.1\\n', 'ENSTGUT00000005620.1\\n', 'ENSTGUT00000000603.1\\n', 'ENSTGUT00000005406.1\\n', 'ENSTGUT00000009188.1\\n', 'ENSTGUT00000007990.1\\n', 'ENSTGUT00000018194.1\\n', 'ENSTGUT00000002488.1\\n', 'ENSTGUT00000006140.1\\n', 'ENSTGUT00000006506.1\\n', 'ENSTGUT00000011420.1\\n', 'ENSTGUT00000008997.1\\n', 'ENSTGUT00000017958.1\\n', 'ENSTGUT00000016862.1\\n', 'ENSTGUT00000006063.1\\n', 'ENSTGUT00000006123.1\\n', 'ENSTGUT00000000170.1\\n', 'ENSTGUT00000008763.1\\n', 'ENSTGUT00000002835.1\\n', 'ENSTGUT00000007165.1\\n', 'ENSTGUT00000000459.1\\n', 'ENSTGUT00000015497.1\\n', 'ENSTGUT00000003238.1\\n', 'ENSTGUT00000017550.1\\n', 'ENSTGUT00000007168.1\\n', 'ENSTGUT00000001536.1\\n', 'ENSTGUT00000010005.1\\n', 'ENSTGUT00000011950.1\\n', 'ENSTGUT00000010830.1\\n', 'ENSTGUT00000008867.1\\n', 'ENSTGUT00000014418.1\\n', 'ENSTGUT00000000984.1\\n', 'ENSTGUT00000000152.1\\n', 'ENSTGUT00000014451.1\\n']\n",
      "ENSTGUT00000002499.1\n",
      "found ENSTGUG00000002344\n",
      "ENSTGUT00000005620.1\n",
      "found ENSTGUG00000005415\n",
      "ENSTGUT00000000603.1\n",
      "found ENSTGUG00000000581\n",
      "ENSTGUT00000005406.1\n",
      "found ENSTGUG00000005193\n",
      "ENSTGUT00000009188.1\n",
      "found ENSTGUG00000008776\n",
      "ENSTGUT00000007990.1\n",
      "found ENSTGUG00000007681\n",
      "ENSTGUT00000018194.1\n",
      "found ENSTGUG00000017505\n",
      "ENSTGUT00000002488.1\n",
      "found ENSTGUG00000002389\n",
      "ENSTGUT00000006140.1\n",
      "found ENSTGUG00000005861\n",
      "ENSTGUT00000006506.1\n",
      "found ENSTGUG00000006278\n",
      "ENSTGUT00000011420.1\n",
      "found ENSTGUG00000010927\n",
      "ENSTGUT00000008997.1\n",
      "found ENSTGUG00000008637\n",
      "ENSTGUT00000017958.1\n",
      "found ENSTGUG00000017278\n",
      "ENSTGUT00000016862.1\n",
      "found ENSTGUG00000016223\n",
      "ENSTGUT00000006063.1\n",
      "found ENSTGUG00000005809\n",
      "ENSTGUT00000006123.1\n",
      "found ENSTGUG00000005905\n",
      "ENSTGUT00000000170.1\n",
      "found ENSTGUG00000000163\n",
      "ENSTGUT00000008763.1\n",
      "found ENSTGUG00000008343\n",
      "ENSTGUT00000002835.1\n",
      "found ENSTGUG00000002716\n",
      "ENSTGUT00000007165.1\n",
      "found ENSTGUG00000006900\n",
      "ENSTGUT00000000459.1\n",
      "found ENSTGUG00000000439\n",
      "ENSTGUT00000015497.1\n",
      "found ENSTGUG00000014877\n",
      "ENSTGUT00000003238.1\n",
      "found ENSTGUG00000003074\n",
      "ENSTGUT00000017550.1\n",
      "found ENSTGUG00000016885\n",
      "ENSTGUT00000007168.1\n",
      "found ENSTGUG00000006903\n",
      "ENSTGUT00000001536.1\n",
      "found ENSTGUG00000001477\n",
      "ENSTGUT00000010005.1\n",
      "found ENSTGUG00000009601\n",
      "ENSTGUT00000011950.1\n",
      "found ENSTGUG00000011459\n",
      "ENSTGUT00000010830.1\n",
      "found ENSTGUG00000010382\n",
      "ENSTGUT00000008867.1\n",
      "found ENSTGUG00000008418\n",
      "ENSTGUT00000014418.1\n",
      "found ENSTGUG00000013842\n",
      "ENSTGUT00000000984.1\n",
      "found ENSTGUG00000000944\n",
      "ENSTGUT00000000152.1\n",
      "found ENSTGUG00000000144\n",
      "ENSTGUT00000014451.1\n",
      "found ENSTGUG00000013858\n",
      "['ENSTGUT00000007399.1\\n', 'ENSTGUT00000001536.1\\n', 'ENSTGUT00000006602.1\\n', 'ENSTGUT00000007359.1\\n', 'ENSTGUT00000002172.1\\n', 'ENSTGUT00000018928.1\\n', 'ENSTGUT00000013332.1\\n', 'ENSTGUT00000013210.1\\n', 'ENSTGUT00000007990.1\\n', 'ENSTGUT00000002511.1\\n', 'ENSTGUT00000001017.1\\n', 'ENSTGUT00000000686.1\\n', 'ENSTGUT00000001155.1\\n', 'ENSTGUT00000015011.1\\n', 'ENSTGUT00000012051.1\\n']\n",
      "ENSTGUT00000007399.1\n",
      "found ENSTGUG00000007115\n",
      "ENSTGUT00000001536.1\n",
      "found ENSTGUG00000001477\n",
      "ENSTGUT00000006602.1\n",
      "found ENSTGUG00000006327\n",
      "ENSTGUT00000007359.1\n",
      "found ENSTGUG00000007059\n",
      "ENSTGUT00000002172.1\n",
      "found ENSTGUG00000002077\n",
      "ENSTGUT00000018928.1\n",
      "found ENSTGUG00000018478\n",
      "ENSTGUT00000013332.1\n",
      "found ENSTGUG00000012804\n",
      "ENSTGUT00000013210.1\n",
      "found ENSTGUG00000012691\n",
      "ENSTGUT00000007990.1\n",
      "found ENSTGUG00000007681\n",
      "ENSTGUT00000002511.1\n",
      "found ENSTGUG00000002398\n",
      "ENSTGUT00000001017.1\n",
      "found ENSTGUG00000000981\n",
      "ENSTGUT00000000686.1\n",
      "found ENSTGUG00000000664\n",
      "ENSTGUT00000001155.1\n",
      "found ENSTGUG00000001111\n",
      "ENSTGUT00000015011.1\n",
      "found ENSTGUG00000014429\n",
      "ENSTGUT00000012051.1\n",
      "found ENSTGUG00000011567\n",
      "['ENSTGUT00000002339.1\\n', 'ENSTGUT00000010316.1\\n', 'ENSTGUT00000007217.1\\n', 'ENSTGUT00000018017.1\\n', 'ENSTGUT00000009174.1\\n', 'ENSTGUT00000007563.1\\n', 'ENSTGUT00000010970.1\\n', 'ENSTGUT00000011780.1\\n', 'ENSTGUT00000007712.1\\n', 'ENSTGUT00000003187.1\\n', 'ENSTGUT00000013046.1\\n', 'ENSTGUT00000012096.1\\n', 'ENSTGUT00000018037.1\\n', 'ENSTGUT00000006509.1\\n', 'ENSTGUT00000003047.1\\n', 'ENSTGUT00000001660.1\\n', 'ENSTGUT00000002618.1\\n', 'ENSTGUT00000003613.1\\n', 'ENSTGUT00000008603.1\\n', 'ENSTGUT00000004696.1\\n', 'ENSTGUT00000010548.1\\n', 'ENSTGUT00000004985.1\\n', 'ENSTGUT00000013945.1\\n', 'ENSTGUT00000010921.1\\n', 'ENSTGUT00000000536.1\\n', 'ENSTGUT00000011005.1\\n', 'ENSTGUT00000007663.1\\n', 'ENSTGUT00000005266.1\\n', 'ENSTGUT00000011048.1\\n', 'ENSTGUT00000010910.1\\n', 'ENSTGUT00000001824.1\\n', 'ENSTGUT00000007732.1\\n', 'ENSTGUT00000018101.1\\n', 'ENSTGUT00000009999.1\\n', 'ENSTGUT00000004235.1\\n', 'ENSTGUT00000000219.1\\n', 'ENSTGUT00000005921.1\\n', 'ENSTGUT00000013770.1\\n', 'ENSTGUT00000006035.1\\n', 'ENSTGUT00000005109.1\\n', 'ENSTGUT00000004556.1\\n', 'ENSTGUT00000003083.1\\n', 'ENSTGUT00000008924.1\\n', 'ENSTGUT00000006365.1\\n', 'ENSTGUT00000009732.1\\n', 'ENSTGUT00000016114.1\\n', 'ENSTGUT00000013376.1\\n', 'ENSTGUT00000001127.1\\n', 'ENSTGUT00000018097.1\\n', 'ENSTGUT00000002488.1\\n', 'ENSTGUT00000003536.1\\n', 'ENSTGUT00000003756.1\\n', 'ENSTGUT00000001801.1\\n']\n",
      "ENSTGUT00000002339.1\n",
      "found ENSTGUG00000002251\n",
      "ENSTGUT00000010316.1\n",
      "found ENSTGUG00000009850\n",
      "ENSTGUT00000007217.1\n",
      "found ENSTGUG00000006925\n",
      "ENSTGUT00000018017.1\n",
      "found ENSTGUG00000017337\n",
      "ENSTGUT00000009174.1\n",
      "found ENSTGUG00000008814\n",
      "ENSTGUT00000007563.1\n",
      "found ENSTGUG00000007255\n",
      "ENSTGUT00000010970.1\n",
      "found ENSTGUG00000010514\n",
      "ENSTGUT00000011780.1\n",
      "found ENSTGUG00000011310\n",
      "ENSTGUT00000007712.1\n",
      "found ENSTGUG00000007360\n",
      "ENSTGUT00000003187.1\n",
      "found ENSTGUG00000003062\n",
      "ENSTGUT00000013046.1\n",
      "found ENSTGUG00000012522\n",
      "ENSTGUT00000012096.1\n",
      "found ENSTGUG00000011610\n",
      "ENSTGUT00000018037.1\n",
      "found ENSTGUG00000017357\n",
      "ENSTGUT00000006509.1\n",
      "found ENSTGUG00000006241\n",
      "ENSTGUT00000003047.1\n",
      "found ENSTGUG00000002919\n",
      "ENSTGUT00000001660.1\n",
      "found ENSTGUG00000001597\n",
      "ENSTGUT00000002618.1\n",
      "found ENSTGUG00000002513\n",
      "ENSTGUT00000003613.1\n",
      "found ENSTGUG00000003412\n",
      "ENSTGUT00000008603.1\n",
      "found ENSTGUG00000008249\n",
      "ENSTGUT00000004696.1\n",
      "found ENSTGUG00000004513\n",
      "ENSTGUT00000010548.1\n",
      "found ENSTGUG00000010107\n",
      "ENSTGUT00000004985.1\n",
      "found ENSTGUG00000004775\n",
      "ENSTGUT00000013945.1\n",
      "found ENSTGUG00000013390\n",
      "ENSTGUT00000010921.1\n",
      "found ENSTGUG00000010478\n",
      "ENSTGUT00000000536.1\n",
      "found ENSTGUG00000000515\n",
      "ENSTGUT00000011005.1\n",
      "found ENSTGUG00000010564\n",
      "ENSTGUT00000007663.1\n",
      "found ENSTGUG00000007345\n",
      "ENSTGUT00000005266.1\n",
      "found ENSTGUG00000005007\n",
      "ENSTGUT00000011048.1\n",
      "found ENSTGUG00000010604\n",
      "ENSTGUT00000010910.1\n",
      "found ENSTGUG00000010461\n",
      "ENSTGUT00000001824.1\n",
      "found ENSTGUG00000001753\n",
      "ENSTGUT00000007732.1\n",
      "found ENSTGUG00000007374\n",
      "ENSTGUT00000018101.1\n",
      "found ENSTGUG00000017419\n",
      "ENSTGUT00000009999.1\n",
      "found ENSTGUG00000009590\n",
      "ENSTGUT00000004235.1\n",
      "found ENSTGUG00000003994\n",
      "ENSTGUT00000000219.1\n",
      "found ENSTGUG00000000198\n",
      "ENSTGUT00000005921.1\n",
      "found ENSTGUG00000005648\n",
      "ENSTGUT00000013770.1\n",
      "found ENSTGUG00000013219\n",
      "ENSTGUT00000006035.1\n",
      "found ENSTGUG00000005791\n",
      "ENSTGUT00000005109.1\n",
      "found ENSTGUG00000004918\n",
      "ENSTGUT00000004556.1\n",
      "found ENSTGUG00000004366\n",
      "ENSTGUT00000003083.1\n",
      "found ENSTGUG00000002967\n",
      "ENSTGUT00000008924.1\n",
      "found ENSTGUG00000008576\n",
      "ENSTGUT00000006365.1\n",
      "found ENSTGUG00000006101\n",
      "ENSTGUT00000009732.1\n",
      "found ENSTGUG00000009333\n",
      "ENSTGUT00000016114.1\n",
      "found ENSTGUG00000015456\n",
      "ENSTGUT00000013376.1\n",
      "found ENSTGUG00000012844\n",
      "ENSTGUT00000001127.1\n",
      "found ENSTGUG00000001080\n",
      "ENSTGUT00000018097.1\n",
      "found ENSTGUG00000017415\n",
      "ENSTGUT00000002488.1\n",
      "found ENSTGUG00000002389\n",
      "ENSTGUT00000003536.1\n",
      "found ENSTGUG00000003346\n",
      "ENSTGUT00000003756.1\n",
      "found ENSTGUG00000003608\n",
      "ENSTGUT00000001801.1\n",
      "found ENSTGUG00000001721\n",
      "['ENSTGUT00000008531.1\\n', 'ENSTGUT00000007286.1\\n', 'ENSTGUT00000001186.1\\n', 'ENSTGUT00000004993.1\\n', 'ENSTGUT00000011627.1\\n', 'ENSTGUT00000010368.1\\n', 'ENSTGUT00000017147.1\\n', 'ENSTGUT00000003863.1\\n', 'ENSTGUT00000003896.1\\n', 'ENSTGUT00000013533.1\\n', 'ENSTGUT00000008093.1\\n', 'ENSTGUT00000000731.1\\n', 'ENSTGUT00000006229.1\\n', 'ENSTGUT00000010311.1\\n', 'ENSTGUT00000016506.1\\n', 'ENSTGUT00000007709.1\\n', 'ENSTGUT00000007317.1\\n', 'ENSTGUT00000007359.1\\n', 'ENSTGUT00000005334.1\\n', 'ENSTGUT00000002625.1\\n', 'ENSTGUT00000013512.1\\n', 'ENSTGUT00000004192.1\\n', 'ENSTGUT00000012777.1\\n', 'ENSTGUT00000010176.1\\n', 'ENSTGUT00000000473.1\\n', 'ENSTGUT00000000270.1\\n', 'ENSTGUT00000001536.1\\n', 'ENSTGUT00000000989.1\\n', 'ENSTGUT00000018928.1\\n', 'ENSTGUT00000008162.1\\n']\n",
      "ENSTGUT00000008531.1\n",
      "found ENSTGUG00000008156\n",
      "ENSTGUT00000007286.1\n",
      "found ENSTGUG00000006881\n",
      "ENSTGUT00000001186.1\n",
      "found ENSTGUG00000001137\n",
      "ENSTGUT00000004993.1\n",
      "found ENSTGUG00000004812\n",
      "ENSTGUT00000011627.1\n",
      "found ENSTGUG00000011160\n",
      "ENSTGUT00000010368.1\n",
      "found ENSTGUG00000009938\n",
      "ENSTGUT00000017147.1\n",
      "found ENSTGUG00000016499\n",
      "ENSTGUT00000003863.1\n",
      "found ENSTGUG00000003698\n",
      "ENSTGUT00000003896.1\n",
      "found ENSTGUG00000003705\n",
      "ENSTGUT00000013533.1\n",
      "found ENSTGUG00000012995\n",
      "ENSTGUT00000008093.1\n",
      "found ENSTGUG00000007771\n",
      "ENSTGUT00000000731.1\n",
      "found ENSTGUG00000000704\n",
      "ENSTGUT00000006229.1\n",
      "found ENSTGUG00000005969\n",
      "ENSTGUT00000010311.1\n",
      "found ENSTGUG00000009890\n",
      "ENSTGUT00000016506.1\n",
      "found ENSTGUG00000015876\n",
      "ENSTGUT00000007709.1\n",
      "found ENSTGUG00000007224\n",
      "ENSTGUT00000007317.1\n",
      "found ENSTGUG00000007045\n",
      "ENSTGUT00000007359.1\n",
      "found ENSTGUG00000007059\n",
      "ENSTGUT00000005334.1\n",
      "found ENSTGUG00000005114\n",
      "ENSTGUT00000002625.1\n",
      "found ENSTGUG00000002518\n",
      "ENSTGUT00000013512.1\n",
      "found ENSTGUG00000012975\n",
      "ENSTGUT00000004192.1\n",
      "found ENSTGUG00000004008\n",
      "ENSTGUT00000012777.1\n",
      "found ENSTGUG00000012270\n",
      "ENSTGUT00000010176.1\n",
      "found ENSTGUG00000009729\n",
      "ENSTGUT00000000473.1\n",
      "found ENSTGUG00000000444\n",
      "ENSTGUT00000000270.1\n",
      "found ENSTGUG00000000259\n",
      "ENSTGUT00000001536.1\n",
      "found ENSTGUG00000001477\n",
      "ENSTGUT00000000989.1\n",
      "found ENSTGUG00000000955\n",
      "ENSTGUT00000018928.1\n",
      "found ENSTGUG00000018478\n",
      "ENSTGUT00000008162.1\n",
      "found ENSTGUG00000007833\n",
      "['ENSTGUT00000004013.1\\n', 'ENSTGUT00000006437.1\\n', 'ENSTGUT00000011620.1\\n', 'ENSTGUT00000008681.1\\n', 'ENSTGUT00000012987.1\\n', 'ENSTGUT00000004409.1\\n', 'ENSTGUT00000007168.1\\n', 'ENSTGUT00000006212.1\\n', 'ENSTGUT00000002906.1\\n', 'ENSTGUT00000002097.1\\n', 'ENSTGUT00000006814.1\\n', 'ENSTGUT00000001020.1\\n', 'ENSTGUT00000011942.1\\n', 'ENSTGUT00000003047.1\\n', 'ENSTGUT00000000042.1\\n', 'ENSTGUT00000005303.1\\n', 'ENSTGUT00000005761.1\\n', 'ENSTGUT00000012161.1\\n', 'ENSTGUT00000002014.1\\n', 'ENSTGUT00000003410.1\\n', 'ENSTGUT00000000857.1\\n', 'ENSTGUT00000000376.1\\n', 'ENSTGUT00000013210.1\\n', 'ENSTGUT00000001370.1\\n', 'ENSTGUT00000008729.1\\n', 'ENSTGUT00000004833.1\\n', 'ENSTGUT00000007008.1\\n', 'ENSTGUT00000005619.1\\n', 'ENSTGUT00000010205.1\\n', 'ENSTGUT00000003194.1\\n', 'ENSTGUT00000002937.1\\n', 'ENSTGUT00000018086.1\\n', 'ENSTGUT00000017356.1\\n', 'ENSTGUT00000010914.1\\n', 'ENSTGUT00000006229.1\\n', 'ENSTGUT00000016114.1\\n', 'ENSTGUT00000008392.1\\n', 'ENSTGUT00000007709.1\\n', 'ENSTGUT00000007905.1\\n', 'ENSTGUT00000001370.1\\n', 'ENSTGUT00000005085.1\\n', 'ENSTGUT00000001807.1\\n', 'ENSTGUT00000008590.1\\n', 'ENSTGUT00000018108.1\\n', 'ENSTGUT00000006153.1\\n', 'ENSTGUT00000005168.1\\n', 'ENSTGUT00000018074.1\\n', 'ENSTGUT00000011616.1\\n', 'ENSTGUT00000016275.1\\n', 'ENSTGUT00000003238.1\\n', 'ENSTGUT00000011457.1\\n', 'ENSTGUT00000005928.1\\n', 'ENSTGUT00000003083.1\\n', 'ENSTGUT00000001034.1\\n', 'ENSTGUT00000012339.1\\n', 'ENSTGUT00000007663.1\\n', 'ENSTGUT00000003865.1\\n', 'ENSTGUT00000008979.1\\n', 'ENSTGUT00000015198.1\\n', 'ENSTGUT00000003050.1\\n', 'ENSTGUT00000019479.1\\n', 'ENSTGUT00000012051.1\\n', 'ENSTGUT00000015014.1\\n', 'ENSTGUT00000011955.1\\n', 'ENSTGUT00000000188.1\\n', 'ENSTGUT00000009127.1\\n', 'ENSTGUT00000011974.1\\n', 'ENSTGUT00000003869.1\\n', 'ENSTGUT00000000270.1\\n']\n",
      "ENSTGUT00000004013.1\n",
      "found ENSTGUG00000003864\n",
      "ENSTGUT00000006437.1\n",
      "found ENSTGUG00000006208\n",
      "ENSTGUT00000011620.1\n",
      "found ENSTGUG00000011154\n",
      "ENSTGUT00000008681.1\n",
      "found ENSTGUG00000008339\n",
      "ENSTGUT00000012987.1\n",
      "found ENSTGUG00000012475\n",
      "ENSTGUT00000004409.1\n",
      "found ENSTGUG00000003883\n",
      "ENSTGUT00000007168.1\n",
      "found ENSTGUG00000006903\n",
      "ENSTGUT00000006212.1\n",
      "found ENSTGUG00000005989\n",
      "ENSTGUT00000002906.1\n",
      "found ENSTGUG00000002771\n",
      "ENSTGUT00000002097.1\n",
      "found ENSTGUG00000002003\n",
      "ENSTGUT00000006814.1\n",
      "found ENSTGUG00000006568\n",
      "ENSTGUT00000001020.1\n",
      "found ENSTGUG00000000981\n",
      "ENSTGUT00000011942.1\n",
      "found ENSTGUG00000011464\n",
      "ENSTGUT00000003047.1\n",
      "found ENSTGUG00000002919\n",
      "ENSTGUT00000000042.1\n",
      "found ENSTGUG00000000042\n",
      "ENSTGUT00000005303.1\n",
      "found ENSTGUG00000005085\n",
      "ENSTGUT00000005761.1\n",
      "found ENSTGUG00000005509\n",
      "ENSTGUT00000012161.1\n",
      "found ENSTGUG00000011662\n",
      "ENSTGUT00000002014.1\n",
      "found ENSTGUG00000001937\n",
      "ENSTGUT00000003410.1\n",
      "found ENSTGUG00000003249\n",
      "ENSTGUT00000000857.1\n",
      "found ENSTGUG00000000827\n",
      "ENSTGUT00000000376.1\n",
      "found ENSTGUG00000000361\n",
      "ENSTGUT00000013210.1\n",
      "found ENSTGUG00000012691\n",
      "ENSTGUT00000001370.1\n",
      "found ENSTGUG00000001293\n",
      "ENSTGUT00000008729.1\n",
      "found ENSTGUG00000008386\n",
      "ENSTGUT00000004833.1\n",
      "found ENSTGUG00000004644\n",
      "ENSTGUT00000007008.1\n",
      "found ENSTGUG00000006699\n",
      "ENSTGUT00000005619.1\n",
      "found ENSTGUG00000005376\n",
      "ENSTGUT00000010205.1\n",
      "found ENSTGUG00000009780\n",
      "ENSTGUT00000003194.1\n",
      "found ENSTGUG00000003072\n",
      "ENSTGUT00000002937.1\n",
      "found ENSTGUG00000002817\n",
      "ENSTGUT00000018086.1\n",
      "found ENSTGUG00000017403\n",
      "ENSTGUT00000017356.1\n",
      "found ENSTGUG00000016706\n",
      "ENSTGUT00000010914.1\n",
      "found ENSTGUG00000010468\n",
      "ENSTGUT00000006229.1\n",
      "found ENSTGUG00000005969\n",
      "ENSTGUT00000016114.1\n",
      "found ENSTGUG00000015456\n",
      "ENSTGUT00000008392.1\n",
      "found ENSTGUG00000007986\n",
      "ENSTGUT00000007709.1\n",
      "found ENSTGUG00000007224\n",
      "ENSTGUT00000007905.1\n",
      "found ENSTGUG00000007566\n",
      "ENSTGUT00000001370.1\n",
      "found ENSTGUG00000001293\n",
      "ENSTGUT00000005085.1\n",
      "found ENSTGUG00000004842\n",
      "ENSTGUT00000001807.1\n",
      "found ENSTGUG00000001735\n",
      "ENSTGUT00000008590.1\n",
      "found ENSTGUG00000008196\n",
      "ENSTGUT00000018108.1\n",
      "found ENSTGUG00000017420\n",
      "ENSTGUT00000006153.1\n",
      "found ENSTGUG00000005913\n",
      "ENSTGUT00000005168.1\n",
      "found ENSTGUG00000004976\n",
      "ENSTGUT00000018074.1\n",
      "found ENSTGUG00000017391\n",
      "ENSTGUT00000011616.1\n",
      "found ENSTGUG00000011140\n",
      "ENSTGUT00000016275.1\n",
      "found ENSTGUG00000015557\n",
      "ENSTGUT00000003238.1\n",
      "found ENSTGUG00000003074\n",
      "ENSTGUT00000011457.1\n",
      "found ENSTGUG00000010991\n",
      "ENSTGUT00000005928.1\n",
      "found ENSTGUG00000005690\n",
      "ENSTGUT00000003083.1\n",
      "found ENSTGUG00000002967\n",
      "ENSTGUT00000001034.1\n",
      "found ENSTGUG00000000997\n",
      "ENSTGUT00000012339.1\n",
      "found ENSTGUG00000011846\n",
      "ENSTGUT00000007663.1\n",
      "found ENSTGUG00000007345\n",
      "ENSTGUT00000003865.1\n",
      "found ENSTGUG00000003708\n",
      "ENSTGUT00000008979.1\n",
      "found ENSTGUG00000008622\n",
      "ENSTGUT00000015198.1\n",
      "found ENSTGUG00000014602\n",
      "ENSTGUT00000003050.1\n",
      "found ENSTGUG00000002931\n",
      "ENSTGUT00000019479.1\n",
      "found ENSTGUG00000018763\n",
      "ENSTGUT00000012051.1\n",
      "found ENSTGUG00000011567\n",
      "ENSTGUT00000015014.1\n",
      "found ENSTGUG00000014410\n",
      "ENSTGUT00000011955.1\n",
      "found ENSTGUG00000011468\n",
      "ENSTGUT00000000188.1\n",
      "found ENSTGUG00000000174\n",
      "ENSTGUT00000009127.1\n",
      "found ENSTGUG00000008764\n",
      "ENSTGUT00000011974.1\n",
      "found ENSTGUG00000011493\n",
      "ENSTGUT00000003869.1\n",
      "found ENSTGUG00000003720\n",
      "ENSTGUT00000000270.1\n",
      "found ENSTGUG00000000259\n",
      "['ENSTGUT00000013210.1\\n', 'ENSTGUT00000007434.1\\n', 'ENSTGUT00000003901.1\\n', 'ENSTGUT00000017220.1\\n', 'ENSTGUT00000015497.1\\n', 'ENSTGUT00000004409.1\\n', 'ENSTGUT00000016320.1\\n', 'ENSTGUT00000006452.1\\n', 'ENSTGUT00000010758.1\\n', 'ENSTGUT00000006106.1\\n', 'ENSTGUT00000006187.1\\n', 'ENSTGUT00000017325.1\\n', 'ENSTGUT00000003083.1\\n', 'ENSTGUT00000003822.1\\n', 'ENSTGUT00000012343.1\\n', 'ENSTGUT00000001186.1\\n', 'ENSTGUT00000003869.1\\n', 'ENSTGUT00000010926.1\\n', 'ENSTGUT00000006218.1\\n', 'ENSTGUT00000007563.1\\n', 'ENSTGUT00000011950.1\\n', 'ENSTGUT00000016555.1\\n', 'ENSTGUT00000005007.1\\n', 'ENSTGUT00000007663.1\\n', 'ENSTGUT00000008590.1\\n', 'ENSTGUT00000001076.1\\n', 'ENSTGUT00000006039.1\\n', 'ENSTGUT00000002037.1\\n', 'ENSTGUT00000012161.1\\n', 'ENSTGUT00000014416.1\\n', 'ENSTGUT00000011005.1\\n', 'ENSTGUT00000010774.1\\n', 'ENSTGUT00000006474.1\\n', 'ENSTGUT00000008681.1\\n', 'ENSTGUT00000014012.1\\n', 'ENSTGUT00000008676.1\\n', 'ENSTGUT00000006212.1\\n', 'ENSTGUT00000005467.1\\n', 'ENSTGUT00000011627.1\\n', 'ENSTGUT00000002499.1\\n', 'ENSTGUT00000013427.1\\n', 'ENSTGUT00000007816.1\\n', 'ENSTGUT00000001075.1\\n', 'ENSTGUT00000003200.1\\n', 'ENSTGUT00000016114.1\\n', 'ENSTGUT00000007805.1\\n', 'ENSTGUT00000003476.1\\n', 'ENSTGUT00000011751.1\\n', 'ENSTGUT00000005928.1\\n', 'ENSTGUT00000005778.1\\n', 'ENSTGUT00000018932.1\\n', 'ENSTGUT00000001536.1\\n', 'ENSTGUT00000019463.1\\n', 'ENSTGUT00000002931.1\\n', 'ENSTGUT00000010205.1\\n', 'ENSTGUT00000010343.1\\n', 'ENSTGUT00000007902.1\\n', 'ENSTGUT00000002163.1\\n', 'ENSTGUT00000015288.1\\n']\n",
      "ENSTGUT00000013210.1\n",
      "found ENSTGUG00000012691\n",
      "ENSTGUT00000007434.1\n",
      "found ENSTGUG00000007147\n",
      "ENSTGUT00000003901.1\n",
      "found ENSTGUG00000003694\n",
      "ENSTGUT00000017220.1\n",
      "found ENSTGUG00000016537\n",
      "ENSTGUT00000015497.1\n",
      "found ENSTGUG00000014877\n",
      "ENSTGUT00000004409.1\n",
      "found ENSTGUG00000003883\n",
      "ENSTGUT00000016320.1\n",
      "found ENSTGUG00000015702\n",
      "ENSTGUT00000006452.1\n",
      "found ENSTGUG00000006207\n",
      "ENSTGUT00000010758.1\n",
      "found ENSTGUG00000010322\n",
      "ENSTGUT00000006106.1\n",
      "found ENSTGUG00000005797\n",
      "ENSTGUT00000006187.1\n",
      "found ENSTGUG00000005860\n",
      "ENSTGUT00000017325.1\n",
      "found ENSTGUG00000016667\n",
      "ENSTGUT00000003083.1\n",
      "found ENSTGUG00000002967\n",
      "ENSTGUT00000003822.1\n",
      "found ENSTGUG00000003637\n",
      "ENSTGUT00000012343.1\n",
      "found ENSTGUG00000011844\n",
      "ENSTGUT00000001186.1\n",
      "found ENSTGUG00000001137\n",
      "ENSTGUT00000003869.1\n",
      "found ENSTGUG00000003720\n",
      "ENSTGUT00000010926.1\n",
      "found ENSTGUG00000010485\n",
      "ENSTGUT00000006218.1\n",
      "found ENSTGUG00000005958\n",
      "ENSTGUT00000007563.1\n",
      "found ENSTGUG00000007255\n",
      "ENSTGUT00000011950.1\n",
      "found ENSTGUG00000011459\n",
      "ENSTGUT00000016555.1\n",
      "found ENSTGUG00000015888\n",
      "ENSTGUT00000005007.1\n",
      "found ENSTGUG00000004732\n",
      "ENSTGUT00000007663.1\n",
      "found ENSTGUG00000007345\n",
      "ENSTGUT00000008590.1\n",
      "found ENSTGUG00000008196\n",
      "ENSTGUT00000001076.1\n",
      "found ENSTGUG00000001034\n",
      "ENSTGUT00000006039.1\n",
      "found ENSTGUG00000005822\n",
      "ENSTGUT00000002037.1\n",
      "found ENSTGUG00000001963\n",
      "ENSTGUT00000012161.1\n",
      "found ENSTGUG00000011662\n",
      "ENSTGUT00000014416.1\n",
      "found ENSTGUG00000013842\n",
      "ENSTGUT00000011005.1\n",
      "found ENSTGUG00000010564\n",
      "ENSTGUT00000010774.1\n",
      "found ENSTGUG00000010300\n",
      "ENSTGUT00000006474.1\n",
      "found ENSTGUG00000006245\n",
      "ENSTGUT00000008681.1\n",
      "found ENSTGUG00000008339\n",
      "ENSTGUT00000014012.1\n",
      "found ENSTGUG00000013454\n",
      "ENSTGUT00000008676.1\n",
      "found ENSTGUG00000008310\n",
      "ENSTGUT00000006212.1\n",
      "found ENSTGUG00000005989\n",
      "ENSTGUT00000005467.1\n",
      "found ENSTGUG00000005257\n",
      "ENSTGUT00000011627.1\n",
      "found ENSTGUG00000011160\n",
      "ENSTGUT00000002499.1\n",
      "found ENSTGUG00000002344\n",
      "ENSTGUT00000013427.1\n",
      "found ENSTGUG00000012894\n",
      "ENSTGUT00000007816.1\n",
      "found ENSTGUG00000007503\n",
      "ENSTGUT00000001075.1\n",
      "found ENSTGUG00000001040\n",
      "ENSTGUT00000003200.1\n",
      "found ENSTGUG00000003076\n",
      "ENSTGUT00000016114.1\n",
      "found ENSTGUG00000015456\n",
      "ENSTGUT00000007805.1\n",
      "found ENSTGUG00000007490\n",
      "ENSTGUT00000003476.1\n",
      "found ENSTGUG00000003319\n",
      "ENSTGUT00000011751.1\n",
      "found ENSTGUG00000011276\n",
      "ENSTGUT00000005928.1\n",
      "found ENSTGUG00000005690\n",
      "ENSTGUT00000005778.1\n",
      "found ENSTGUG00000005532\n",
      "ENSTGUT00000018932.1\n",
      "found ENSTGUG00000018256\n",
      "ENSTGUT00000001536.1\n",
      "found ENSTGUG00000001477\n",
      "ENSTGUT00000019463.1\n",
      "found ENSTGUG00000018747\n",
      "ENSTGUT00000002931.1\n",
      "found ENSTGUG00000002807\n",
      "ENSTGUT00000010205.1\n",
      "found ENSTGUG00000009780\n",
      "ENSTGUT00000010343.1\n",
      "found ENSTGUG00000009922\n",
      "ENSTGUT00000007902.1\n",
      "found ENSTGUG00000007593\n",
      "ENSTGUT00000002163.1\n",
      "found ENSTGUG00000002075\n",
      "ENSTGUT00000015288.1\n",
      "found ENSTGUG00000014695\n"
     ]
    }
   ],
   "source": [
    "## Turn hits on transcripts to hits on genes\n",
    "#for species in [\"Arremon\"]:\n",
    "for species in specieslist:\n",
    "    print(\"Doing - \"+species)\n",
    "    species_hits_file = OUTLIERS_DIR+species+\".hits\"\n",
    "    species_gene_hits_file = OUTLIERS_DIR+species+\".cds.hits\"\n",
    "    inhits_file = open(species_hits_file)\n",
    "    inhits = inhits_file.readlines()\n",
    "    print(inhits)\n",
    "    inhits = [x.strip() for x in inhits]\n",
    "#    for i in inhits:\n",
    "#        print(i)\n",
    "    zf = open(ZF_REF_CDNA)\n",
    "    zfcdna = zf.readlines()\n",
    "    with open(species_gene_hits_file, 'w') as outcdshits:\n",
    "            for line in inhits:\n",
    "                #print(line)\n",
    "                for i in zfcdna:\n",
    "                    if line in i:\n",
    "                        found = i.split(\":\")[7].split(\".\")[0]\n",
    "                        outcdshits.write(found+\"\\t\"+i+\"\\n\")\n",
    "                        print(\"found\", found)"
   ]
  },
  {
   "cell_type": "code",
   "execution_count": 233,
   "metadata": {
    "collapsed": false
   },
   "outputs": [
    {
     "name": "stdout",
     "output_type": "stream",
     "text": [
      "\n",
      "ENSTGUG00000013842\n",
      "ENSTGUG00000006903\n",
      "ENSTGUG00000009780\n",
      "ENSTGUG00000005690\n",
      "ENSTGUG00000005989\n",
      "ENSTGUG00000003883\n",
      "ENSTGUG00000002389\n",
      "ENSTGUG00000002919\n",
      "ENSTGUG00000007059\n",
      "ENSTGUG00000018478\n",
      "ENSTGUG00000007345\n",
      "ENSTGUG00000010564\n",
      "ENSTGUG00000007224\n",
      "ENSTGUG00000011160\n",
      "ENSTGUG00000008339\n",
      "ENSTGUG00000007255\n",
      "ENSTGUG00000015456\n",
      "ENSTGUG00000011459\n",
      "ENSTGUG00000011567\n",
      "ENSTGUG00000002967\n",
      "ENSTGUG00000008196\n",
      "ENSTGUG00000003720\n",
      "ENSTGUG00000012691\n",
      "ENSTGUG00000000981\n",
      "ENSTGUG00000001137\n",
      "ENSTGUG00000011662\n",
      "ENSTGUG00000001477\n",
      "ENSTGUG00000002344\n",
      "ENSTGUG00000005969\n",
      "ENSTGUG00000007681\n",
      "ENSTGUG00000003074\n",
      "ENSTGUG00000014877\n",
      "ENSTGUG00000000259\n"
     ]
    }
   ],
   "source": [
    "## Any hits to the same gene?\n",
    "hit_dict = {}\n",
    "for species in specieslist:\n",
    "    species_gene_hits_file = OUTLIERS_DIR+species+\".cds.hits\"\n",
    "    with open(species_gene_hits_file) as inhits:\n",
    "        hit_dict[species] = [x.strip().split(\"\\t\")[0] for x in inhits.readlines()]\n",
    "#print(set.intersection(*[set(x) for x in hit_dict.values()]))\n",
    "\n",
    "annotation_dict = {}\n",
    "for i, species in enumerate(specieslist):\n",
    "    for j in range(len(specieslist)):\n",
    "        if i == j:\n",
    "            continue\n",
    "        annotation_dict[specieslist[i]+\"-\"+specieslist[j]] = set.intersection(set(hit_dict[species]), set(hit_dict[specieslist[j]]))\n",
    "        #print(specieslist[i], specieslist[j])\n",
    "        #print(set.intersection(set(hit_dict[species]), set(hit_dict[specieslist[j]])))\n",
    "\n",
    "all_shared = set.union(*[x for x in annotation_dict.values()])\n",
    "for i in list(all_shared):\n",
    "    print(i)"
   ]
  },
  {
   "cell_type": "code",
   "execution_count": 193,
   "metadata": {
    "collapsed": true
   },
   "outputs": [
    {
     "name": "stdout",
     "output_type": "stream",
     "text": [
      "ENSTGUT0000000868\n",
      "ENSTGUT00000018928\n",
      "ENSTGUT00000004409\n",
      "ENSTGUT00000007990\n",
      "ENSTGUT00000003238\n",
      "ENSTGUT00000001186\n",
      "ENSTGUT00000000270\n",
      "ENSTGUT00000011627\n",
      "ENSTGUT00000010205\n",
      "ENSTGUT00000002499\n",
      "ENSTGUT00000016114\n",
      "ENSTGUT00000003083\n",
      "ENSTGUT00000006229\n",
      "ENSTGUT00000011005\n",
      "ENSTGUT00000007168\n",
      "ENSTGUT00000013210\n",
      "ENSTGUT00000005928\n",
      "ENSTGUT00000007663\n",
      "ENSTGUT0000001216\n",
      "ENSTGUT00000011950\n",
      "ENSTGUT0000001205\n",
      "ENSTGUT00000007359\n",
      "ENSTGUT00000003047\n",
      "ENSTGUT00000002488\n",
      "ENSTGUT00000006212\n",
      "ENSTGUT00000015497\n",
      "ENSTGUT00000001536\n",
      "ENSTGUT00000008590\n",
      "ENSTGUT00000007709\n",
      "ENSTGUT00000007563\n",
      "ENSTGUT00000003869\n"
     ]
    }
   ],
   "source": [
    "## Any hits to the same transcript?\n",
    "hit_dict = {}\n",
    "for species in specieslist:\n",
    "    species_hits_file = OUTLIERS_DIR+species+\".hits\"\n",
    "    with open(species_hits_file) as inhits:\n",
    "        hit_dict[species] = [x.strip().strip(\".1\") for x in inhits.readlines()]\n",
    "#print(set.intersection(*[set(x) for x in hit_dict.values()]))\n",
    "\n",
    "annotation_dict = {}\n",
    "for i, species in enumerate(specieslist):\n",
    "    for j in range(len(specieslist)):\n",
    "        if i == j:\n",
    "            continue\n",
    "        annotation_dict[specieslist[i]+\"-\"+specieslist[j]] = set.intersection(set(hit_dict[species]), set(hit_dict[specieslist[j]]))\n",
    "        #print(specieslist[i], specieslist[j])\n",
    "        #print(set.intersection(set(hit_dict[species]), set(hit_dict[specieslist[j]])))\n",
    "\n",
    "all_shared = set.union(*[x for x in annotation_dict.values()])\n",
    "for i in list(all_shared):\n",
    "    print(i)"
   ]
  },
  {
   "cell_type": "code",
   "execution_count": 192,
   "metadata": {
    "collapsed": false
   },
   "outputs": [
    {
     "name": "stdout",
     "output_type": "stream",
     "text": [
      "[set(['ENSTGUT0000000868', 'ENSTGUT00000018928', 'ENSTGUT00000004409', 'ENSTGUT00000007990', 'ENSTGUT00000003238', 'ENSTGUT00000001186', 'ENSTGUT00000000270', 'ENSTGUT00000011627', 'ENSTGUT00000010205', 'ENSTGUT00000002499', 'ENSTGUT00000016114', 'ENSTGUT00000003083', 'ENSTGUT00000006229', 'ENSTGUT00000011005', 'ENSTGUT00000007168', 'ENSTGUT00000013210', 'ENSTGUT00000005928', 'ENSTGUT00000007663', 'ENSTGUT0000001216', 'ENSTGUT00000011950', 'ENSTGUT0000001205', 'ENSTGUT00000007359', 'ENSTGUT00000003047', 'ENSTGUT00000002488', 'ENSTGUT00000006212', 'ENSTGUT00000015497', 'ENSTGUT00000001536', 'ENSTGUT00000008590', 'ENSTGUT00000007709', 'ENSTGUT00000007563', 'ENSTGUT00000003869'])]\n"
     ]
    }
   ],
   "source": [
    "print(list(all_shared))"
   ]
  },
  {
   "cell_type": "code",
   "execution_count": null,
   "metadata": {
    "collapsed": true
   },
   "outputs": [],
   "source": [
    "# Stable recombination hotspots in birds\n",
    "# http://science.sciencemag.org.ezproxy.gc.cuny.edu/content/350/6263/928\n",
    "# http://science.sciencemag.org.ezproxy.gc.cuny.edu/content/sci/suppl/2015/11/18/350.6263.928.DC1/aad0843-Singhal-SM.pdf\n",
    "\n",
    "# ZF GO site: http://www.ark-genomics.org/tools/GOfinch\n",
    "# Other useful GO site: http://cegg.unige.ch/OrthoDB7/results?searchtext=EOG7B8S3S\n",
    "\n",
    "# Annotations\n",
    "# Protein Sidekick-2 http://www.uniprot.org/uniprot/Q58EX2\n",
    "# Myosin, Heavy Chain 7B, Cardiac Muscle, Beta http://www.genecards.org/cgi-bin/carddisp.pl?gene=MYH7B\n",
    "\n",
    "# Also map divergent regions to the full reference so you can look at divergence wrt recombination rate across chroms."
   ]
  },
  {
   "cell_type": "markdown",
   "metadata": {},
   "source": [
    "### Helper functions for plotting"
   ]
  },
  {
   "cell_type": "code",
   "execution_count": 5,
   "metadata": {
    "collapsed": false
   },
   "outputs": [],
   "source": [
    "pop_colours = {\n",
    "    'Mar': '#FF0000',\n",
    "    'Tum': '#0000FF'\n",
    "}\n",
    "\n",
    "# This isn't used right now.\n",
    "def ld_prune(gn, size, step, threshold=.1, n_iter=1):\n",
    "    for i in range(n_iter):\n",
    "        loc_unlinked = allel.stats.locate_unlinked(gn, size=size, step=step, threshold=threshold)\n",
    "        n = np.count_nonzero(loc_unlinked)\n",
    "        n_remove = gn.shape[0] - n\n",
    "        print('iteration', i+1, 'retaining', n, 'removing', n_remove, 'variants')\n",
    "        gn = gn.compress(loc_unlinked, axis=0)\n",
    "    return gn\n",
    "\n",
    "def plot_ld(gn, title):\n",
    "    m = allel.stats.rogers_huff_r(gn) ** 2\n",
    "    ax = allel.plot.pairwise_ld(m)\n",
    "    ax.set_title(title)\n",
    "    \n",
    "def plot_pca_coords(coords, model, pc1, pc2, ax, sample_population):\n",
    "    sns.despine(ax=ax, offset=5)\n",
    "    x = coords[:, pc1]\n",
    "    y = coords[:, pc2]\n",
    "    for pop in populations:\n",
    "        flt = (sample_population == pop)\n",
    "        ax.plot(x[flt], y[flt], marker='o', linestyle=' ', color=pop_colours[pop], label=pop, markersize=6, mec='k', mew=.5)\n",
    "    ax.set_xlabel('PC%s (%.1f%%)' % (pc1+1, model.explained_variance_ratio_[pc1]*100))\n",
    "    ax.set_ylabel('PC%s (%.1f%%)' % (pc2+1, model.explained_variance_ratio_[pc2]*100))\n",
    "\n",
    "df_samples = []\n",
    "populations = []\n",
    "def fig_pca(coords, model, title, sample_population=None):\n",
    "    if sample_population is None:\n",
    "        sample_population = df_samples[1].values\n",
    "    # plot coords for PCs 1 vs 2, 3 vs 4\n",
    "    fig = plt.figure(figsize=(10, 5))\n",
    "    ax = fig.add_subplot(1, 2, 1)\n",
    "    plot_pca_coords(coords, model, 0, 1, ax, sample_population)\n",
    "    ax = fig.add_subplot(1, 2, 2)\n",
    "    plot_pca_coords(coords, model, 2, 3, ax, sample_population)\n",
    "    ax.legend(bbox_to_anchor=(1, 1), loc='upper left')\n",
    "    fig.suptitle(title, y=1.02)\n",
    "    fig.tight_layout()\n",
    "    \n",
    "def get_pops( species ):\n",
    "    # load the populations files\n",
    "    df_samples = pandas.read_csv(POPS_FILES_DIR+species+\"_pops.txt\", delimiter=\" \", header=None)\n",
    "\n",
    "    df_samples.head()\n",
    "    populations = df_samples[1].unique()\n",
    "    return( df_samples, populations )"
   ]
  },
  {
   "cell_type": "markdown",
   "metadata": {},
   "source": [
    "### For each species go through and do the plot"
   ]
  },
  {
   "cell_type": "code",
   "execution_count": 7,
   "metadata": {
    "collapsed": false,
    "scrolled": true
   },
   "outputs": [
    {
     "name": "stderr",
     "output_type": "stream",
     "text": [
      "[vcfnp] 2016-03-11 17:10:33.072038 :: caching is disabled\n",
      "[vcfnp] 2016-03-11 17:10:33.072545 :: building array\n"
     ]
    },
    {
     "name": "stdout",
     "output_type": "stream",
     "text": [
      "Doing - Arremon\n",
      "calls (phased, variant, missing): 672923 (287076, 66343, 385847)\n",
      "Doing - Campylorhynchus"
     ]
    },
    {
     "name": "stderr",
     "output_type": "stream",
     "text": [
      "[vcfnp] 2016-03-11 17:10:42.176160 :: caching is disabled\n",
      "[vcfnp] 2016-03-11 17:10:42.176596 :: building array\n"
     ]
    },
    {
     "name": "stdout",
     "output_type": "stream",
     "text": [
      "\n",
      "calls (phased, variant, missing): 366942 (164022, 29702, 202920)\n",
      "Doing - Melanopareia"
     ]
    },
    {
     "name": "stderr",
     "output_type": "stream",
     "text": [
      "[vcfnp] 2016-03-11 17:10:46.951615 :: caching is disabled\n",
      "[vcfnp] 2016-03-11 17:10:46.952226 :: building array\n"
     ]
    },
    {
     "name": "stdout",
     "output_type": "stream",
     "text": [
      "\n",
      "calls (phased, variant, missing): 640492 (294697, 77093, 345795)\n",
      "Doing - Mimus"
     ]
    },
    {
     "name": "stderr",
     "output_type": "stream",
     "text": [
      "[vcfnp] 2016-03-11 17:10:55.230100 :: caching is disabled\n",
      "[vcfnp] 2016-03-11 17:10:55.230558 :: building array\n"
     ]
    },
    {
     "name": "stdout",
     "output_type": "stream",
     "text": [
      "\n",
      "calls (phased, variant, missing): 434874 (171259, 37455, 263615)\n",
      "Doing - Saltator"
     ]
    },
    {
     "name": "stderr",
     "output_type": "stream",
     "text": [
      "[vcfnp] 2016-03-11 17:11:01.044557 :: caching is disabled\n",
      "[vcfnp] 2016-03-11 17:11:01.045003 :: building array\n"
     ]
    },
    {
     "name": "stdout",
     "output_type": "stream",
     "text": [
      "\n",
      "calls (phased, variant, missing): 1063062 (421361, 103729, 641701)\n",
      "Doing - Thamnophilus"
     ]
    },
    {
     "name": "stderr",
     "output_type": "stream",
     "text": [
      "[vcfnp] 2016-03-11 17:11:14.444455 :: caching is disabled\n",
      "[vcfnp] 2016-03-11 17:11:14.444892 :: building array\n"
     ]
    },
    {
     "name": "stdout",
     "output_type": "stream",
     "text": [
      "\n",
      "calls (phased, variant, missing): 479886 (171497, 40540, 308389)\n"
     ]
    },
    {
     "data": {
      "image/png": "[encoded data removed]",
      "text/plain": [
       "<matplotlib.figure.Figure at 0x104763f10>"
      ]
     },
     "metadata": {},
     "output_type": "display_data"
    },
    {
     "data": {
      "image/png": "[encoded data removed]",
      "text/plain": [
       "<matplotlib.figure.Figure at 0x101b0bb10>"
      ]
     },
     "metadata": {},
     "output_type": "display_data"
    },
    {
     "data": {
      "image/png": "[encoded data removed]",
      "text/plain": [
       "<matplotlib.figure.Figure at 0x1119a21d0>"
      ]
     },
     "metadata": {},
     "output_type": "display_data"
    },
    {
     "data": {
      "image/png": "[encoded data removed]",
      "text/plain": [
       "<matplotlib.figure.Figure at 0x10f650b10>"
      ]
     },
     "metadata": {},
     "output_type": "display_data"
    },
    {
     "data": {
      "image/png": "[encoded data removed]",
      "text/plain": [
       "<matplotlib.figure.Figure at 0x10fcff490>"
      ]
     },
     "metadata": {},
     "output_type": "display_data"
    },
    {
     "data": {
      "image/png": "[encoded data removed]",
      "text/plain": [
       "<matplotlib.figure.Figure at 0x102230690>"
      ]
     },
     "metadata": {},
     "output_type": "display_data"
    }
   ],
   "source": [
    "#for species in [\"Arremon\"]:\n",
    "for species in specieslist:\n",
    "    print(\"Doing - \"+species)\n",
    "    # Load the vcf files\n",
    "    # This is another way to load the vcf, but we don't use it.\n",
    "    #v = vcfnp.variants(DATA_DIR+\"Arremon/outfiles/c85d6m4p3.vcf\").view(np.recarray)\n",
    "    c = vcfnp.calldata_2d(DATA_DIR+species+\"/outfiles/c85d6m4p3.vcf\").view(np.recarray)\n",
    "    \n",
    "    # This is technically not that interesting or useful so get rid of it if its annoying\n",
    "    # print some simple genotype metrics\n",
    "    count_phased = np.count_nonzero(c.is_phased)\n",
    "    count_variant = np.count_nonzero(np.any(c.genotype > 0, axis=2))\n",
    "    count_missing = np.count_nonzero(~c.is_called)\n",
    "    print('calls (phased, variant, missing): %s (%s, %s, %s)'\n",
    "        % (c.flatten().size, count_phased, count_variant, count_missing))\n",
    "\n",
    "    # Make the genotype array and count # of alleles at each position\n",
    "    g = allel.GenotypeArray(c.genotype)\n",
    "    ac = g.count_alleles()\n",
    "\n",
    "    # Munging and transforming the data into a format pca will like\n",
    "    np.count_nonzero(ac.max_allele() > 1)\n",
    "    flt = (ac.max_allele() == 1) & (ac[:, :2].min(axis=1) > 1)\n",
    "    gf = g.compress(flt, axis=0)\n",
    "    gn = gf.to_n_alt()\n",
    "\n",
    "    # Must reinitialize the df_samples np array\n",
    "    df_samples = np.empty( len(ac) )\n",
    "    df_samples, populations = get_pops( species )\n",
    "\n",
    "    # Do the pca and then plot it\n",
    "    coords1, model1 = allel.stats.pca(gn, n_components=10, scaler='patterson')\n",
    "    fig_pca(coords1, model1, species+\" PCA\")\n"
   ]
  },
  {
   "cell_type": "markdown",
   "metadata": {
    "collapsed": true
   },
   "source": [
    "## Calculate some population genetic summary stats for each species pair"
   ]
  },
  {
   "cell_type": "code",
   "execution_count": 8,
   "metadata": {
    "collapsed": false
   },
   "outputs": [
    {
     "name": "stdout",
     "output_type": "stream",
     "text": [
      "Doing - Arremon\n",
      "retaining 34470 biallelic SNPs\n",
      "Pi Mar =  0.15058086094\n",
      "Pi Tum =  0.234235716219\n"
     ]
    },
    {
     "ename": "TypeError",
     "evalue": "array with 1 dimension required",
     "output_type": "error",
     "traceback": [
      "\u001b[0;31m---------------------------------------------------------------------------\u001b[0m",
      "\u001b[0;31mTypeError\u001b[0m                                 Traceback (most recent call last)",
      "\u001b[0;32m<ipython-input-8-529e49eedd5d>\u001b[0m in \u001b[0;36m<module>\u001b[0;34m()\u001b[0m\n\u001b[1;32m     51\u001b[0m     \u001b[0msum\u001b[0m \u001b[0;34m=\u001b[0m \u001b[0;36m0\u001b[0m\u001b[0;34m\u001b[0m\u001b[0m\n\u001b[1;32m     52\u001b[0m     \u001b[0;32mfor\u001b[0m \u001b[0mi\u001b[0m \u001b[0;32min\u001b[0m \u001b[0mrange\u001b[0m\u001b[0;34m(\u001b[0m\u001b[0mlen\u001b[0m\u001b[0;34m(\u001b[0m\u001b[0mg\u001b[0m\u001b[0;34m)\u001b[0m\u001b[0;34m)\u001b[0m\u001b[0;34m:\u001b[0m\u001b[0;34m\u001b[0m\u001b[0m\n\u001b[0;32m---> 53\u001b[0;31m         \u001b[0msum\u001b[0m \u001b[0;34m+=\u001b[0m \u001b[0mallel\u001b[0m\u001b[0;34m.\u001b[0m\u001b[0mstats\u001b[0m\u001b[0;34m.\u001b[0m\u001b[0msequence_diversity\u001b[0m\u001b[0;34m(\u001b[0m \u001b[0mi\u001b[0m\u001b[0;34m,\u001b[0m \u001b[0mac_mar\u001b[0m \u001b[0;34m)\u001b[0m\u001b[0;34m/\u001b[0m\u001b[0;36m225\u001b[0m\u001b[0;34m\u001b[0m\u001b[0m\n\u001b[0m\u001b[1;32m     54\u001b[0m     \u001b[0;32mprint\u001b[0m\u001b[0;34m(\u001b[0m \u001b[0;34m\"pi fix = \"\u001b[0m\u001b[0;34m,\u001b[0m \u001b[0msum\u001b[0m\u001b[0;34m/\u001b[0m\u001b[0mlen\u001b[0m\u001b[0;34m(\u001b[0m\u001b[0mg\u001b[0m\u001b[0;34m)\u001b[0m\u001b[0;34m)\u001b[0m\u001b[0;34m\u001b[0m\u001b[0m\n\u001b[1;32m     55\u001b[0m \u001b[0;34m\u001b[0m\u001b[0m\n",
      "\u001b[0;32m/usr/local/opt/anaconda/lib/python2.7/site-packages/allel/stats/diversity.pyc\u001b[0m in \u001b[0;36msequence_diversity\u001b[0;34m(pos, ac, start, stop, is_accessible)\u001b[0m\n\u001b[1;32m    252\u001b[0m     \u001b[0;31m# check inputs\u001b[0m\u001b[0;34m\u001b[0m\u001b[0;34m\u001b[0m\u001b[0m\n\u001b[1;32m    253\u001b[0m     \u001b[0;32mif\u001b[0m \u001b[0;32mnot\u001b[0m \u001b[0misinstance\u001b[0m\u001b[0;34m(\u001b[0m\u001b[0mpos\u001b[0m\u001b[0;34m,\u001b[0m \u001b[0mSortedIndex\u001b[0m\u001b[0;34m)\u001b[0m\u001b[0;34m:\u001b[0m\u001b[0;34m\u001b[0m\u001b[0m\n\u001b[0;32m--> 254\u001b[0;31m         \u001b[0mpos\u001b[0m \u001b[0;34m=\u001b[0m \u001b[0mSortedIndex\u001b[0m\u001b[0;34m(\u001b[0m\u001b[0mpos\u001b[0m\u001b[0;34m,\u001b[0m \u001b[0mcopy\u001b[0m\u001b[0;34m=\u001b[0m\u001b[0mFalse\u001b[0m\u001b[0;34m)\u001b[0m\u001b[0;34m\u001b[0m\u001b[0m\n\u001b[0m\u001b[1;32m    255\u001b[0m     \u001b[0mac\u001b[0m \u001b[0;34m=\u001b[0m \u001b[0masarray_ndim\u001b[0m\u001b[0;34m(\u001b[0m\u001b[0mac\u001b[0m\u001b[0;34m,\u001b[0m \u001b[0;36m2\u001b[0m\u001b[0;34m)\u001b[0m\u001b[0;34m\u001b[0m\u001b[0m\n\u001b[1;32m    256\u001b[0m     \u001b[0mis_accessible\u001b[0m \u001b[0;34m=\u001b[0m \u001b[0masarray_ndim\u001b[0m\u001b[0;34m(\u001b[0m\u001b[0mis_accessible\u001b[0m\u001b[0;34m,\u001b[0m \u001b[0;36m1\u001b[0m\u001b[0;34m,\u001b[0m \u001b[0mallow_none\u001b[0m\u001b[0;34m=\u001b[0m\u001b[0mTrue\u001b[0m\u001b[0;34m)\u001b[0m\u001b[0;34m\u001b[0m\u001b[0m\n",
      "\u001b[0;32m/usr/local/opt/anaconda/lib/python2.7/site-packages/allel/model/ndarray.pyc\u001b[0m in \u001b[0;36m__new__\u001b[0;34m(cls, data, **kwargs)\u001b[0m\n\u001b[1;32m   2837\u001b[0m         \u001b[0mkwargs\u001b[0m\u001b[0;34m.\u001b[0m\u001b[0msetdefault\u001b[0m\u001b[0;34m(\u001b[0m\u001b[0;34m'copy'\u001b[0m\u001b[0;34m,\u001b[0m \u001b[0mFalse\u001b[0m\u001b[0;34m)\u001b[0m\u001b[0;34m\u001b[0m\u001b[0m\n\u001b[1;32m   2838\u001b[0m         \u001b[0mobj\u001b[0m \u001b[0;34m=\u001b[0m \u001b[0mnp\u001b[0m\u001b[0;34m.\u001b[0m\u001b[0marray\u001b[0m\u001b[0;34m(\u001b[0m\u001b[0mdata\u001b[0m\u001b[0;34m,\u001b[0m \u001b[0;34m**\u001b[0m\u001b[0mkwargs\u001b[0m\u001b[0;34m)\u001b[0m\u001b[0;34m\u001b[0m\u001b[0m\n\u001b[0;32m-> 2839\u001b[0;31m         \u001b[0mcls\u001b[0m\u001b[0;34m.\u001b[0m\u001b[0m_check_input_data\u001b[0m\u001b[0;34m(\u001b[0m\u001b[0mobj\u001b[0m\u001b[0;34m)\u001b[0m\u001b[0;34m\u001b[0m\u001b[0m\n\u001b[0m\u001b[1;32m   2840\u001b[0m         \u001b[0mobj\u001b[0m \u001b[0;34m=\u001b[0m \u001b[0mobj\u001b[0m\u001b[0;34m.\u001b[0m\u001b[0mview\u001b[0m\u001b[0;34m(\u001b[0m\u001b[0mcls\u001b[0m\u001b[0;34m)\u001b[0m\u001b[0;34m\u001b[0m\u001b[0m\n\u001b[1;32m   2841\u001b[0m         \u001b[0;32mreturn\u001b[0m \u001b[0mobj\u001b[0m\u001b[0;34m\u001b[0m\u001b[0m\n",
      "\u001b[0;32m/usr/local/opt/anaconda/lib/python2.7/site-packages/allel/model/ndarray.pyc\u001b[0m in \u001b[0;36m_check_input_data\u001b[0;34m(obj)\u001b[0m\n\u001b[1;32m   2828\u001b[0m         \u001b[0;31m# check dimensionality\u001b[0m\u001b[0;34m\u001b[0m\u001b[0;34m\u001b[0m\u001b[0m\n\u001b[1;32m   2829\u001b[0m         \u001b[0;32mif\u001b[0m \u001b[0mobj\u001b[0m\u001b[0;34m.\u001b[0m\u001b[0mndim\u001b[0m \u001b[0;34m!=\u001b[0m \u001b[0;36m1\u001b[0m\u001b[0;34m:\u001b[0m\u001b[0;34m\u001b[0m\u001b[0m\n\u001b[0;32m-> 2830\u001b[0;31m             \u001b[0;32mraise\u001b[0m \u001b[0mTypeError\u001b[0m\u001b[0;34m(\u001b[0m\u001b[0;34m'array with 1 dimension required'\u001b[0m\u001b[0;34m)\u001b[0m\u001b[0;34m\u001b[0m\u001b[0m\n\u001b[0m\u001b[1;32m   2831\u001b[0m \u001b[0;34m\u001b[0m\u001b[0m\n\u001b[1;32m   2832\u001b[0m         \u001b[0;31m# check sorted ascending\u001b[0m\u001b[0;34m\u001b[0m\u001b[0;34m\u001b[0m\u001b[0m\n",
      "\u001b[0;31mTypeError\u001b[0m: array with 1 dimension required"
     ]
    }
   ],
   "source": [
    "#for species in [\"Mimus\"]:\n",
    "for species in specieslist:\n",
    "    print(\"Doing - \"+species)\n",
    "    # Load the vcf files\n",
    "    # This is another way to load the vcf, but we don't use it.\n",
    "    #v = vcfnp.variants(DATA_DIR+\"Arremon/outfiles/c85d6m4p3.vcf\").view(np.recarray)\n",
    "    c = vcfnp.calldata_2d(DATA_DIR+species+\"/outfiles/c85d6m4p3.vcf\", verbose=False).view(np.recarray)\n",
    "\n",
    "    # Make the genotype array and count # of alleles at each position\n",
    "    g = allel.GenotypeArray(c.genotype)\n",
    "    \n",
    "    # Get the population assignments\n",
    "    # Must reinitialize the df_samples np array\n",
    "    df_samples = np.empty( len(ac) )\n",
    "    df_samples, populations = get_pops( species )\n",
    "\n",
    "    pop1 = \"Mar\"\n",
    "    pop2 = \"Tum\"\n",
    "    pos_all = allel.SortedIndex(range(0, len(g)))\n",
    "    subpops = {\n",
    "        pop1: df_samples[df_samples[1] == pop1].index,\n",
    "        pop2: df_samples[df_samples[1] == pop2].index,\n",
    "    }\n",
    "\n",
    "    # Filter out multi-allelic and sites that don't segragate\n",
    "    # in the populations\n",
    "    acs = g.count_alleles_subpops(subpops)\n",
    "    acu = allel.AlleleCountsArray(acs[pop1][:] + acs[pop2][:])\n",
    "    flt = acu.is_segregating() & (acu.max_allele() == 1)\n",
    "    print('retaining', np.count_nonzero(flt), 'biallelic SNPs')\n",
    "    pos = pos_all.compress(flt)\n",
    "    genotype = g.compress(flt, axis=0)\n",
    "    biallelic_mar = allel.AlleleCountsArray(acs[pop1].compress(flt, axis=0)[:, :2])\n",
    "    biallelic_tum = allel.AlleleCountsArray(acs[pop2].compress(flt, axis=0)[:, :2])\n",
    "    \n",
    "    # subset genotype array per population\n",
    "    g_mar = g.subset(range(0, len(g)), np.where( df_samples[1] == pop1 )[0])\n",
    "    g_tum = g.subset(range(0, len(g)), np.where( df_samples[1] == pop2 )[0])\n",
    "    \n",
    "    # Get per population allele counts\n",
    "    ac_mar = g.count_alleles(subpop = np.where( df_samples[1] == pop1 )[0])\n",
    "    ac_tum = g.count_alleles(subpop = np.where( df_samples[1] == pop2 )[0])\n",
    "\n",
    "    # Get pi per population\n",
    "    pi_mar = allel.stats.sequence_diversity( range(1, len(g)), ac_mar )\n",
    "    pi_tum = allel.stats.sequence_diversity( range(1, len(g)), ac_tum )\n",
    "    print( \"Pi Mar = \", pi_mar )\n",
    "    print( \"Pi Tum = \", pi_tum )\n",
    "    \n",
    "    # Not stupid Pi\n",
    "    sum = 0\n",
    "    for i in range(len(g)):\n",
    "        sum += allel.stats.sequence_diversity( i, ac_mar )/225\n",
    "    print( \"pi fix = \", sum/len(g))\n",
    "\n",
    "    # Get average observed and expected heterozygosity per population\n",
    "    ho_mar = sum(np.nan_to_num(allel.stats.heterozygosity_observed(g_mar)))/len(g_mar)\n",
    "    af_mar = g_mar.count_alleles().to_frequencies()\n",
    "    he_mar = np.sum(np.nan_to_num(allel.stats.heterozygosity_expected(af_mar, ploidy=2)))/len(g_mar)\n",
    "    ho_tum = sum(np.nan_to_num(allel.stats.heterozygosity_observed(g_tum)))/len(g_tum)\n",
    "    af_tum = g_tum.count_alleles().to_frequencies()\n",
    "    he_tum = np.sum(np.nan_to_num(allel.stats.heterozygosity_expected(af_tum, ploidy=2)))/len(g_tum)\n",
    "    print( \"Ho / He Mar = \", ho_mar, he_mar )\n",
    "    print( \"Ho / He Tum = \", ho_tum, he_tum )\n",
    "    \n",
    "    # Get Watterson's Theta per population\n",
    "    ThetaHat_mar = allel.stats.diversity.watterson_theta( range(1, len(g)), ac_mar)\n",
    "    ThetaHat_tum = allel.stats.diversity.watterson_theta( range(1, len(g)), ac_tum)\n",
    "    print( \"ThetaHat Mar = \", ThetaHat_mar )\n",
    "    print( \"ThetaHat Tum = \", ThetaHat_tum )\n",
    "    \n",
    "    # Get Tajima's D per population\n",
    "    TajD_mar = allel.stats.diversity.tajima_d( range(1, len(g)), ac_mar )\n",
    "    TajD_tum = allel.stats.diversity.tajima_d( range(1, len(g)), ac_tum )\n",
    "    print( \"Tajima's D Mar = \", TajD_mar )\n",
    "    print( \"Tajima's D Tum = \", TajD_tum )\n",
    "\n",
    "    # Print pairwise differences Dxy\n",
    "    Dxy = allel.stats.diversity.sequence_divergence( range(1, len(g)), ac_mar, ac_tum)\n",
    "    print( \"Dxy = \",Dxy )\n",
    "\n",
    "    # W & C Fst\n",
    "    a, b, c = allel.stats.weir_cockerham_fst(g, [np.where( df_samples[1] == pop1)[0], np.where( df_samples[1] == pop2)[0]])\n",
    "    fst = np.sum(np.nan_to_num(a)) / (np.sum(np.nan_to_num(a)) + np.sum(np.nan_to_num(b)) + np.sum(np.nan_to_num(c)))\n",
    "    print( \"W&C Fst = \", fst )\n",
    "\n",
    "    # Hudson's Fst\n",
    "    num, den = allel.stats.hudson_fst(ac_mar, ac_tum)\n",
    "    fst = np.sum(np.nan_to_num(num)) / np.sum(np.nan_to_num(den))\n",
    "    print( \"Hudson's Fst = \", fst )\n",
    "\n",
    "    print( \"\\n\" )\n",
    "    # Compute and plot pairwise distances for all individuals.\n",
    "    # Lots of different options for distance metric, see here for more docs:\n",
    "    # http://docs.scipy.org/doc/scipy-0.16.0/reference/generated/scipy.spatial.distance.pdist.html\n",
    "    gn = g.to_n_alt()\n",
    "    dist = allel.stats.pairwise_distance(gn, metric='euclidean')\n",
    "    allel.plot.pairwise_distance(dist, labels=df_samples[0].values.tolist())\n",
    "    \n",
    "    # Compute and plot pairwise Dxy\n",
    "    # This works, it just maybe is tmi at this point\n",
    "    #dist = allel.stats.distance.pairwise_dxy( range(0, len(g)), g.to_allele_counts() )\n",
    "    #allel.plot.pairwise_distance(dist, labels=df_samples[0].values.tolist() )"
   ]
  },
  {
   "cell_type": "markdown",
   "metadata": {},
   "source": [
    "## Pairwise distances between individuals"
   ]
  },
  {
   "cell_type": "code",
   "execution_count": 239,
   "metadata": {
    "collapsed": false
   },
   "outputs": [
    {
     "data": {
      "text/plain": [
       "<matplotlib.axes._subplots.AxesSubplot at 0x117565790>"
      ]
     },
     "execution_count": 239,
     "metadata": {},
     "output_type": "execute_result"
    },
    {
     "data": {
      "image/png": "[encoded data removed]",
      "text/plain": [
       "<matplotlib.figure.Figure at 0x11756fc90>"
      ]
     },
     "metadata": {},
     "output_type": "display_data"
    }
   ],
   "source": [
    "    gn = g.to_n_alt()\n",
    "    dist = allel.stats.pairwise_distance(gn, metric='euclidean')\n",
    "    allel.plot.pairwise_distance(dist, labels=df_samples[0].values.tolist())"
   ]
  },
  {
   "cell_type": "markdown",
   "metadata": {},
   "source": [
    "## Stats based on biallelic markers only"
   ]
  },
  {
   "cell_type": "code",
   "execution_count": 469,
   "metadata": {
    "collapsed": false
   },
   "outputs": [
    {
     "name": "stdout",
     "output_type": "stream",
     "text": [
      "0.107981958389 0.174875213853\n",
      "Tajima's D Mar =  2.38661808453\n",
      "Tajima's D Tum =  2.14746728967\n",
      "Dxy =  0.356755611529\n"
     ]
    }
   ],
   "source": [
    "# Get Watterson's Theta per population\n",
    "ThetaHat_mar = allel.stats.diversity.watterson_theta( range(1, len(g)), biallelic_mar)\n",
    "ThetaHat_tum = allel.stats.diversity.watterson_theta( range(1, len(g)), biallelic_tum)\n",
    "print(ThetaHat_mar, ThetaHat_tum)\n",
    "TajD_mar = allel.stats.diversity.tajima_d( range(1, len(g)), biallelic_mar )\n",
    "TajD_tum = allel.stats.diversity.tajima_d( range(1, len(g)), biallelic_tum )\n",
    "print( \"Tajima's D Mar = \", TajD_mar )\n",
    "print( \"Tajima's D Tum = \", TajD_tum )\n",
    "# Print pairwise differences Dxy\n",
    "Dxy = allel.stats.diversity.sequence_divergence( range(1, len(g)), biallelic_mar, biallelic_tum)\n",
    "print( \"Dxy = \",Dxy )\n",
    "pf2 = allel.stats.admixture.patterson_f2(biallelic_mar, biallelic_tum)"
   ]
  },
  {
   "cell_type": "code",
   "execution_count": 439,
   "metadata": {
    "collapsed": false
   },
   "outputs": [
    {
     "data": {
      "text/plain": [
       "array([[1605, 4718, 4777,  763,  846,  181,  136,   47,    5,   13,    1,\n",
       "           1],\n",
       "       [1902,  466,  407,  164,  123,   44,   40,    4,    4,    3,    2,\n",
       "           0],\n",
       "       [3012,  523,  446,  106,   90,   18,    4,    3,    2,    1,    1,\n",
       "           0],\n",
       "       [ 163,   30,   35,    6,    9,    4,    5,    0,    0,    0,    1,\n",
       "           0],\n",
       "       [ 451,   26,  110,    4,   42,    2,    1,    2,    0,    0,    0,\n",
       "           0],\n",
       "       [  48,    4,    3,    0,    1,    0,   10,    0,    0,    0,    0,\n",
       "           0],\n",
       "       [  14,    1,    3,    1,    1,    0,    0,    0,    0,    0,    0,\n",
       "           0],\n",
       "       [   8,    0,    3,    0,    1,    0,    0,    0,    0,    0,    0,\n",
       "           0],\n",
       "       [   2,    0,    0,    0,    0,    0,    0,    0,    0,    0,    0,\n",
       "           0]])"
      ]
     },
     "execution_count": 439,
     "metadata": {},
     "output_type": "execute_result"
    }
   ],
   "source": [
    "## Site frequency spectrum early attempt.\n",
    "## This is broken.\n",
    "allel.stats.sf.joint_sfs_folded( biallelic_mar, biallelic_tum )\n"
   ]
  },
  {
   "cell_type": "code",
   "execution_count": 441,
   "metadata": {
    "collapsed": false
   },
   "outputs": [
    {
     "data": {
      "text/plain": [
       "array([-1.        , -1.        , -1.        , ..., -0.11846866,\n",
       "        0.04289544, -0.0196135 ])"
      ]
     },
     "execution_count": 441,
     "metadata": {},
     "output_type": "execute_result"
    }
   ],
   "source": [
    "pop1_idx = subpops[pop1]\n",
    "pop2_idx = subpops[pop2]\n",
    "a, b, c = allel.stats.weir_cockerham_fst(g, subpops=[pop1_idx, pop2_idx] , max_allele=1)\n",
    "snp_fst_wc = (a / (a + b + c))[:, 0]\n",
    "snp_fst_wc"
   ]
  },
  {
   "cell_type": "code",
   "execution_count": 468,
   "metadata": {
    "collapsed": false
   },
   "outputs": [
    {
     "data": {
      "text/plain": [
       "(array([  5.00000000e+00,   0.00000000e+00,   0.00000000e+00,\n",
       "          0.00000000e+00,   0.00000000e+00,   0.00000000e+00,\n",
       "          0.00000000e+00,   0.00000000e+00,   0.00000000e+00,\n",
       "          0.00000000e+00,   0.00000000e+00,   5.00000000e+00,\n",
       "          0.00000000e+00,   0.00000000e+00,   1.00000000e+00,\n",
       "          0.00000000e+00,   0.00000000e+00,   0.00000000e+00,\n",
       "          0.00000000e+00,   0.00000000e+00,   1.00000000e+00,\n",
       "          0.00000000e+00,   0.00000000e+00,   0.00000000e+00,\n",
       "          0.00000000e+00,   0.00000000e+00,   3.00000000e+00,\n",
       "          4.00000000e+00,   0.00000000e+00,   3.90000000e+01,\n",
       "          0.00000000e+00,   0.00000000e+00,   8.17000000e+02,\n",
       "          1.00000000e+00,   1.00000000e+00,   0.00000000e+00,\n",
       "          0.00000000e+00,   1.30000000e+01,   1.00000000e+00,\n",
       "          7.00000000e+00,   6.60000000e+01,   1.00000000e+00,\n",
       "          9.40000000e+01,   6.00000000e+00,   1.50000000e+01,\n",
       "          1.19000000e+02,   6.00000000e+01,   2.33000000e+02,\n",
       "          2.36000000e+02,   2.10000000e+02,   2.01000000e+02,\n",
       "          3.26000000e+02,   5.08000000e+02,   3.52000000e+02,\n",
       "          7.13000000e+02,   8.89000000e+02,   8.22000000e+02,\n",
       "          1.36400000e+03,   3.95500000e+03,   6.44000000e+02,\n",
       "          8.46000000e+02,   5.76000000e+02,   4.15000000e+02,\n",
       "          3.22000000e+02,   5.48000000e+02,   2.37000000e+02,\n",
       "          1.93000000e+02,   2.69000000e+02,   2.17000000e+02,\n",
       "          2.15000000e+02,   1.15000000e+02,   5.20000000e+02,\n",
       "          2.60000000e+02,   2.19000000e+02,   2.16000000e+02,\n",
       "          5.25000000e+02,   1.52000000e+02,   1.86000000e+02,\n",
       "          2.44000000e+02,   8.60000000e+01,   1.10000000e+02,\n",
       "          1.23000000e+02,   5.20000000e+01,   1.00000000e+00,\n",
       "          1.52600000e+03,   0.00000000e+00,   1.00000000e+00,\n",
       "          0.00000000e+00,   0.00000000e+00,   0.00000000e+00,\n",
       "          0.00000000e+00,   0.00000000e+00,   0.00000000e+00,\n",
       "          0.00000000e+00,   0.00000000e+00,   0.00000000e+00,\n",
       "          0.00000000e+00,   0.00000000e+00,   0.00000000e+00,\n",
       "          2.00000000e+00]),\n",
       " array([ -2.23255814e+00,  -2.19407871e+00,  -2.15559928e+00,\n",
       "         -2.11711986e+00,  -2.07864043e+00,  -2.04016100e+00,\n",
       "         -2.00168157e+00,  -1.96320215e+00,  -1.92472272e+00,\n",
       "         -1.88624329e+00,  -1.84776386e+00,  -1.80928444e+00,\n",
       "         -1.77080501e+00,  -1.73232558e+00,  -1.69384615e+00,\n",
       "         -1.65536673e+00,  -1.61688730e+00,  -1.57840787e+00,\n",
       "         -1.53992844e+00,  -1.50144902e+00,  -1.46296959e+00,\n",
       "         -1.42449016e+00,  -1.38601073e+00,  -1.34753131e+00,\n",
       "         -1.30905188e+00,  -1.27057245e+00,  -1.23209302e+00,\n",
       "         -1.19361360e+00,  -1.15513417e+00,  -1.11665474e+00,\n",
       "         -1.07817531e+00,  -1.03969589e+00,  -1.00121646e+00,\n",
       "         -9.62737030e-01,  -9.24257603e-01,  -8.85778175e-01,\n",
       "         -8.47298748e-01,  -8.08819320e-01,  -7.70339893e-01,\n",
       "         -7.31860465e-01,  -6.93381038e-01,  -6.54901610e-01,\n",
       "         -6.16422182e-01,  -5.77942755e-01,  -5.39463327e-01,\n",
       "         -5.00983900e-01,  -4.62504472e-01,  -4.24025045e-01,\n",
       "         -3.85545617e-01,  -3.47066190e-01,  -3.08586762e-01,\n",
       "         -2.70107335e-01,  -2.31627907e-01,  -1.93148479e-01,\n",
       "         -1.54669052e-01,  -1.16189624e-01,  -7.77101968e-02,\n",
       "         -3.92307692e-02,  -7.51341682e-04,   3.77280859e-02,\n",
       "          7.62075134e-02,   1.14686941e-01,   1.53166369e-01,\n",
       "          1.91645796e-01,   2.30125224e-01,   2.68604651e-01,\n",
       "          3.07084079e-01,   3.45563506e-01,   3.84042934e-01,\n",
       "          4.22522361e-01,   4.61001789e-01,   4.99481216e-01,\n",
       "          5.37960644e-01,   5.76440072e-01,   6.14919499e-01,\n",
       "          6.53398927e-01,   6.91878354e-01,   7.30357782e-01,\n",
       "          7.68837209e-01,   8.07316637e-01,   8.45796064e-01,\n",
       "          8.84275492e-01,   9.22754919e-01,   9.61234347e-01,\n",
       "          9.99713775e-01,   1.03819320e+00,   1.07667263e+00,\n",
       "          1.11515206e+00,   1.15363148e+00,   1.19211091e+00,\n",
       "          1.23059034e+00,   1.26906977e+00,   1.30754919e+00,\n",
       "          1.34602862e+00,   1.38450805e+00,   1.42298748e+00,\n",
       "          1.46146691e+00,   1.49994633e+00,   1.53842576e+00,\n",
       "          1.57690519e+00,   1.61538462e+00]),\n",
       " <a list of 100 Patch objects>)"
      ]
     },
     "execution_count": 468,
     "metadata": {},
     "output_type": "execute_result"
    },
    {
     "data": {
      "image/png": "[encoded data removed]",
      "text/plain": [
       "<matplotlib.figure.Figure at 0x119044250>"
      ]
     },
     "metadata": {},
     "output_type": "display_data"
    }
   ],
   "source": [
    "x = snp_fst_wc[~np.isnan(snp_fst_wc)]\n",
    "plt.xlim(-1,1.1)\n",
    "plt.hist(x, 100)"
   ]
  },
  {
   "cell_type": "code",
   "execution_count": 470,
   "metadata": {
    "collapsed": false
   },
   "outputs": [
    {
     "data": {
      "text/plain": [
       "(array([  1.00000000e+01,   0.00000000e+00,   0.00000000e+00,\n",
       "          0.00000000e+00,   0.00000000e+00,   0.00000000e+00,\n",
       "          0.00000000e+00,   0.00000000e+00,   0.00000000e+00,\n",
       "          0.00000000e+00,   0.00000000e+00,   2.40000000e+01,\n",
       "          0.00000000e+00,   1.30000000e+01,   0.00000000e+00,\n",
       "          7.20000000e+01,   1.60000000e+01,   4.00000000e+00,\n",
       "          0.00000000e+00,   7.00000000e+00,   0.00000000e+00,\n",
       "          3.00000000e+00,   1.20000000e+02,   0.00000000e+00,\n",
       "          2.20000000e+01,   4.50000000e+01,   2.12000000e+02,\n",
       "          2.82000000e+02,   3.40000000e+01,   9.70000000e+01,\n",
       "          1.22000000e+02,   1.33000000e+02,   4.16000000e+02,\n",
       "          6.11100000e+03,   1.41800000e+03,   1.30200000e+03,\n",
       "          2.44000000e+02,   2.03400000e+03,   4.30000000e+01,\n",
       "          1.47000000e+02,   2.00000000e+02,   3.40000000e+01,\n",
       "          1.89000000e+02,   5.00000000e+01,   1.61700000e+03,\n",
       "          5.20000000e+01,   1.77000000e+02,   3.66000000e+02,\n",
       "          1.25000000e+02,   1.10000000e+01,   3.40000000e+01,\n",
       "          5.00000000e+00,   2.00000000e+01,   5.20000000e+01,\n",
       "          4.90000000e+01,   1.25000000e+02,   2.40000000e+01,\n",
       "          5.40000000e+01,   8.00000000e+00,   2.50000000e+01,\n",
       "          6.02000000e+02,   5.00000000e+01,   1.90000000e+01,\n",
       "          2.40000000e+01,   4.10000000e+01,   1.20000000e+01,\n",
       "          2.23000000e+02,   1.90000000e+01,   8.00000000e+00,\n",
       "          1.29000000e+02,   2.40000000e+01,   1.50000000e+01,\n",
       "          1.30000000e+01,   2.30000000e+01,   1.35000000e+02,\n",
       "          1.60000000e+01,   2.60000000e+01,   1.00000000e+02,\n",
       "          1.05000000e+02,   1.20000000e+01,   7.00000000e+00,\n",
       "          8.80000000e+01,   8.00000000e+00,   9.20000000e+01,\n",
       "          1.00000000e+00,   9.00000000e+00,   5.70000000e+01,\n",
       "          1.00000000e+00,   5.50000000e+01,   0.00000000e+00,\n",
       "          5.50000000e+01,   2.70000000e+01,   1.30000000e+01,\n",
       "          3.00000000e+00,   0.00000000e+00,   0.00000000e+00,\n",
       "          0.00000000e+00,   0.00000000e+00,   0.00000000e+00,\n",
       "          1.60500000e+03]),\n",
       " array([-0.5  , -0.485, -0.47 , -0.455, -0.44 , -0.425, -0.41 , -0.395,\n",
       "        -0.38 , -0.365, -0.35 , -0.335, -0.32 , -0.305, -0.29 , -0.275,\n",
       "        -0.26 , -0.245, -0.23 , -0.215, -0.2  , -0.185, -0.17 , -0.155,\n",
       "        -0.14 , -0.125, -0.11 , -0.095, -0.08 , -0.065, -0.05 , -0.035,\n",
       "        -0.02 , -0.005,  0.01 ,  0.025,  0.04 ,  0.055,  0.07 ,  0.085,\n",
       "         0.1  ,  0.115,  0.13 ,  0.145,  0.16 ,  0.175,  0.19 ,  0.205,\n",
       "         0.22 ,  0.235,  0.25 ,  0.265,  0.28 ,  0.295,  0.31 ,  0.325,\n",
       "         0.34 ,  0.355,  0.37 ,  0.385,  0.4  ,  0.415,  0.43 ,  0.445,\n",
       "         0.46 ,  0.475,  0.49 ,  0.505,  0.52 ,  0.535,  0.55 ,  0.565,\n",
       "         0.58 ,  0.595,  0.61 ,  0.625,  0.64 ,  0.655,  0.67 ,  0.685,\n",
       "         0.7  ,  0.715,  0.73 ,  0.745,  0.76 ,  0.775,  0.79 ,  0.805,\n",
       "         0.82 ,  0.835,  0.85 ,  0.865,  0.88 ,  0.895,  0.91 ,  0.925,\n",
       "         0.94 ,  0.955,  0.97 ,  0.985,  1.   ]),\n",
       " <a list of 100 Patch objects>)"
      ]
     },
     "execution_count": 470,
     "metadata": {},
     "output_type": "execute_result"
    },
    {
     "data": {
      "image/png": "[encoded data removed]",
      "text/plain": [
       "<matplotlib.figure.Figure at 0x119044410>"
      ]
     },
     "metadata": {},
     "output_type": "display_data"
    }
   ],
   "source": [
    "x = pf2[~np.isnan(pf2)]\n",
    "plt.xlim(-1,1.1)\n",
    "plt.hist(x, 100)"
   ]
  },
  {
   "cell_type": "code",
   "execution_count": 34,
   "metadata": {
    "collapsed": false
   },
   "outputs": [
    {
     "name": "stdout",
     "output_type": "stream",
     "text": [
      "0.15058086094\n"
     ]
    },
    {
     "data": {
      "text/plain": [
       "rec.array([[(True, True, array([0, 0], dtype=int8), 0, 0, '0|0'),\n",
       "  (False, False, array([-1, -1], dtype=int8), 0, 0, './.'),\n",
       "  (False, False, array([-1, -1], dtype=int8), 0, 0, './.'), ...,\n",
       "  (True, True, array([0, 0], dtype=int8), 0, 0, '0|0'),\n",
       "  (True, True, array([0, 0], dtype=int8), 0, 0, '0|0'),\n",
       "  (True, True, array([0, 0], dtype=int8), 0, 0, '0|0')],\n",
       " [(False, False, array([-1, -1], dtype=int8), 0, 0, './.'),\n",
       "  (False, False, array([-1, -1], dtype=int8), 0, 0, './.'),\n",
       "  (False, False, array([-1, -1], dtype=int8), 0, 0, './.'), ...,\n",
       "  (True, True, array([1, 0], dtype=int8), 0, 0, '1|0'),\n",
       "  (False, False, array([-1, -1], dtype=int8), 0, 0, './.'),\n",
       "  (True, True, array([0, 0], dtype=int8), 0, 0, '0|0')],\n",
       " [(False, False, array([-1, -1], dtype=int8), 0, 0, './.'),\n",
       "  (False, False, array([-1, -1], dtype=int8), 0, 0, './.'),\n",
       "  (False, False, array([-1, -1], dtype=int8), 0, 0, './.'), ...,\n",
       "  (True, True, array([0, 0], dtype=int8), 0, 0, '0|0'),\n",
       "  (False, False, array([-1, -1], dtype=int8), 0, 0, './.'),\n",
       "  (True, True, array([0, 0], dtype=int8), 0, 0, '0|0')],\n",
       " ..., \n",
       " [(True, True, array([0, 1], dtype=int8), 0, 0, '0|1'),\n",
       "  (False, False, array([-1, -1], dtype=int8), 0, 0, './.'),\n",
       "  (False, False, array([-1, -1], dtype=int8), 0, 0, './.'), ...,\n",
       "  (True, True, array([0, 0], dtype=int8), 0, 0, '0|0'),\n",
       "  (False, False, array([-1, -1], dtype=int8), 0, 0, './.'),\n",
       "  (True, True, array([0, 0], dtype=int8), 0, 0, '0|0')],\n",
       " [(True, True, array([0, 0], dtype=int8), 0, 0, '0|0'),\n",
       "  (False, False, array([-1, -1], dtype=int8), 0, 0, './.'),\n",
       "  (False, False, array([-1, -1], dtype=int8), 0, 0, './.'), ...,\n",
       "  (True, True, array([0, 0], dtype=int8), 0, 0, '0|0'),\n",
       "  (False, False, array([-1, -1], dtype=int8), 0, 0, './.'),\n",
       "  (True, True, array([0, 0], dtype=int8), 0, 0, '0|0')],\n",
       " [(True, True, array([0, 0], dtype=int8), 0, 0, '0|0'),\n",
       "  (False, False, array([-1, -1], dtype=int8), 0, 0, './.'),\n",
       "  (False, False, array([-1, -1], dtype=int8), 0, 0, './.'), ...,\n",
       "  (False, False, array([-1, -1], dtype=int8), 0, 0, './.'),\n",
       "  (True, True, array([0, 1], dtype=int8), 0, 0, '0|1'),\n",
       "  (False, False, array([-1, -1], dtype=int8), 0, 0, './.')]], \n",
       "          dtype=[('is_called', '?'), ('is_phased', '?'), ('genotype', 'i1', (2,)), ('DP', '<u2'), ('GQ', 'u1'), ('GT', 'S3')])"
      ]
     },
     "execution_count": 34,
     "metadata": {},
     "output_type": "execute_result"
    }
   ],
   "source": [
    "# Not stupid Pi\n",
    "#ac_mar = g.count_alleles(subpop = np.where( df_samples[1] == pop1 )[0])\n",
    "#print(ac_mar)\n",
    "#np.where( df_samples[1] == pop1 )\n",
    "#sum = 0\n",
    "#for i in range(len(g)):\n",
    "#    sum += allel.stats.sequence_diversity( i, ac_mar )/225\n",
    "#print( \"pi fix = \", sum/len(g))\n",
    "print(allel.stats.sequence_diversity( range(1, len(g)), ac_mar ))\n",
    "c"
   ]
  },
  {
   "cell_type": "code",
   "execution_count": null,
   "metadata": {
    "collapsed": true
   },
   "outputs": [],
   "source": []
  }
 ],
 "metadata": {
  "kernelspec": {
   "display_name": "Python 2",
   "language": "python",
   "name": "python2"
  },
  "language_info": {
   "codemirror_mode": {
    "name": "ipython",
    "version": 2
   },
   "file_extension": ".py",
   "mimetype": "text/x-python",
   "name": "python",
   "nbconvert_exporter": "python",
   "pygments_lexer": "ipython2",
   "version": "2.7.10"
  }
 },
 "nbformat": 4,
 "nbformat_minor": 0
}
