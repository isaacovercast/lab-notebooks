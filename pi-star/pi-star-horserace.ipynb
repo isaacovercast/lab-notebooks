{
 "cells": [
  {
   "cell_type": "code",
   "execution_count": 23,
   "metadata": {},
   "outputs": [],
   "source": [
    "import msprime\n",
    "import numpy as np\n",
    "from itertools import combinations"
   ]
  },
  {
   "cell_type": "code",
   "execution_count": 25,
   "metadata": {},
   "outputs": [],
   "source": [
    "def get_pi(haplotypes):\n",
    "    ## If no seg sites in a pop then haplotypes will be 0 length\n",
    "    if haplotypes.size == 0:\n",
    "        return 0\n",
    "    n = len(haplotypes[0])\n",
    "    n_comparisons = float(n) * (n - 1) / 2\n",
    "\n",
    "    pi = 0\n",
    "    for hap in haplotypes:\n",
    "        k = np.count_nonzero(hap)\n",
    "        pi += float(k) * (n - k) / n_comparisons\n",
    "    return(pi)\n"
   ]
  },
  {
   "cell_type": "code",
   "execution_count": 132,
   "metadata": {},
   "outputs": [
    {
     "name": "stdout",
     "output_type": "stream",
     "text": [
      "Sample size 5\n",
      "  TS: 0.00344\n",
      "  My: 0.00344\n",
      "  Uniq (avg# 272.0): 0.005098\n",
      "  Resampled to <=5: 0.00275946666667\n",
      "Sample size 10\n",
      "  TS: 0.00393111111111\n",
      "  My: 0.00393111111111\n",
      "  Uniq (avg# 405.0): 0.00604114285714\n",
      "  Resampled to <=5: 0.00212506666667\n",
      "Sample size 25\n",
      "  TS: 0.0037844\n",
      "  My: 0.0037844\n",
      "  Uniq (avg# 542.0): 0.00623296825397\n",
      "  Resampled to <=5: 0.00319906666667\n",
      "Sample size 50\n",
      "  TS: 0.00385696326531\n",
      "  My: 0.00385696326531\n",
      "  Uniq (avg# 696.0): 0.00642703318903\n",
      "  Resampled to <=5: 0.00491266666667\n"
     ]
    }
   ],
   "source": [
    "# Run `reps` number of simulations accumulating pi and pi* values then average over reps\n",
    "def simulate(ss=10, Ne=1e4, length=5e2, reps=100):\n",
    "    ts_pis = []\n",
    "    my_pis = []\n",
    "    uniq_pis = []\n",
    "    resampled_pis = []\n",
    "    nuniq = 0\n",
    "    for i in range(reps):\n",
    "        tree_sequence = msprime.simulate(sample_size=ss, Ne=Ne, length=length, mutation_rate=1e-7)\n",
    "        ts_pis.append(tree_sequence.get_pairwise_diversity()/length)\n",
    "\n",
    "        haps = list(tree_sequence.haplotypes())\n",
    "        haps_t = np.transpose(np.array([list(map(int, list(x))) for x in haps]))\n",
    "        my_pis.append(get_pi(haps_t)/length)\n",
    "\n",
    "        haps = set(haps)\n",
    "        haps_t = np.transpose(np.array([list(map(int, list(x))) for x in haps]))\n",
    "        uniq_pis.append(get_pi(haps_t)/length)\n",
    "        nuniq += len(haps)\n",
    "\n",
    "        resampled_pis.append(resample(haps, length))\n",
    "\n",
    "    print(\"  TS: {}\".format(np.mean(ts_pis)))\n",
    "    print(\"  My: {}\".format(np.mean(my_pis)))\n",
    "    print(\"  Uniq (avg# {}): {}\".format(np.mean(nuniq),\n",
    "                                        np.mean(uniq_pis)))\n",
    "    print(\"  Resampled to <=5: {}\".format(np.mean(resampled_pis)))\n",
    "\n",
    "    return haps\n",
    "\n",
    "# Ne 10000, 500bp loci\n",
    "for ss in [5, 10, 25, 50]:\n",
    "    print(\"Sample size {}\".format(ss))\n",
    "    _ = simulate(ss=ss, reps=100)"
   ]
  },
  {
   "cell_type": "code",
   "execution_count": 129,
   "metadata": {},
   "outputs": [
    {
     "name": "stdout",
     "output_type": "stream",
     "text": [
      "  TS: 0.00189551020408\n",
      "  My: 0.00189551020408\n",
      "  Uniq (avg# 5.0): 0.006\n",
      "  Resampled to <=5: 0.0006\n"
     ]
    },
    {
     "data": {
      "text/plain": [
       "5.9999999999999995e-05"
      ]
     },
     "execution_count": 129,
     "metadata": {},
     "output_type": "execute_result"
    }
   ],
   "source": [
    "def resample(haps, length=5e3, nsamps=50):\n",
    "    totpi = 0\n",
    "    minsamps = 5\n",
    "    if len(haps) < minsamps:\n",
    "        minsamps = len(haps) - 1\n",
    "    if minsamps <=1:\n",
    "        haps_t = np.transpose(np.array([list(map(int, list(x))) for x in haps]))\n",
    "        return get_pi(haps_t)/length \n",
    "    for comb in list(combinations(haps, minsamps))[:10]:\n",
    "        haps_t = np.transpose(np.array([list(map(int, list(x))) for x in comb]))\n",
    "        totpi += get_pi(haps_t)/length\n",
    "    ncombs = len(list(combinations(haps, minsamps)))\n",
    "    return totpi/float(10)\n",
    "haps = simulate(ss=50, reps=1)\n",
    "resample(haps)"
   ]
  },
  {
   "cell_type": "code",
   "execution_count": 11,
   "metadata": {},
   "outputs": [
    {
     "name": "stdout",
     "output_type": "stream",
     "text": [
      "Sample size 5\n",
      "  TS: 0.00398404\n",
      "  My: 0.00398404\n",
      "  Uniq: 0.00400111333333\n",
      "Sample size 10\n",
      "  TS: 0.00371806666667\n",
      "  My: 0.00371806666667\n",
      "  Uniq: 0.00374890269841\n",
      "Sample size 25\n",
      "  TS: 0.00428718133333\n",
      "  My: 0.00428718133333\n",
      "  Uniq: 0.00427695312015\n",
      "Sample size 50\n",
      "  TS: 0.00374426187755\n",
      "  My: 0.00374426187755\n",
      "  Uniq: 0.00376571732038\n"
     ]
    }
   ],
   "source": [
    "# Ne 10000, for 5000bp loci\n",
    "for ss in [5, 10, 25, 50]:\n",
    "    print(\"Sample size {}\".format(ss))\n",
    "    simulate(ss=ss, length=5e4, reps=100)"
   ]
  },
  {
   "cell_type": "code",
   "execution_count": 12,
   "metadata": {},
   "outputs": [
    {
     "name": "stdout",
     "output_type": "stream",
     "text": [
      "Sample size 5\n",
      "  TS: 0.038754\n",
      "  My: 0.038754\n",
      "  Uniq: 0.0389556\n",
      "Sample size 10\n",
      "  TS: 0.0421256888889\n",
      "  My: 0.0421256888889\n",
      "  Uniq: 0.0420385285714\n",
      "Sample size 25\n",
      "  TS: 0.0383534266667\n",
      "  My: 0.0383534266667\n",
      "  Uniq: 0.0382341022148\n",
      "Sample size 50\n",
      "  TS: 0.0396354677551\n",
      "  My: 0.0396354677551\n",
      "  Uniq: 0.0402361897382\n"
     ]
    }
   ],
   "source": [
    "for ss in [5, 10, 25, 50]:\n",
    "    print(\"Sample size {}\".format(ss))\n",
    "    simulate(ss=ss, Ne=1e5, length=5e3, reps=100)"
   ]
  },
  {
   "cell_type": "code",
   "execution_count": 13,
   "metadata": {},
   "outputs": [
    {
     "name": "stdout",
     "output_type": "stream",
     "text": [
      "Sample size 5\n",
      "  TS: 0.04143968\n",
      "  My: 0.04143968\n",
      "  Uniq: 0.04143968\n",
      "Sample size 10\n",
      "  TS: 0.0401874888889\n",
      "  My: 0.0401874888889\n",
      "  Uniq: 0.0401889688889\n",
      "Sample size 25\n",
      "  TS: 0.0405720106667\n",
      "  My: 0.0405720106667\n",
      "  Uniq: 0.0406147050804\n",
      "Sample size 50\n",
      "  TS: 0.0386323533061\n",
      "  My: 0.0386323533061\n",
      "  Uniq: 0.0386258339373\n"
     ]
    }
   ],
   "source": [
    "for ss in [5, 10, 25, 50]:\n",
    "    print(\"Sample size {}\".format(ss))\n",
    "    simulate(ss=ss, Ne=1e5, length=5e4, reps=100)"
   ]
  }
 ],
 "metadata": {
  "kernelspec": {
   "display_name": "Python 2",
   "language": "python",
   "name": "python2"
  },
  "language_info": {
   "codemirror_mode": {
    "name": "ipython",
    "version": 2
   },
   "file_extension": ".py",
   "mimetype": "text/x-python",
   "name": "python",
   "nbconvert_exporter": "python",
   "pygments_lexer": "ipython2",
   "version": "2.7.14"
  }
 },
 "nbformat": 4,
 "nbformat_minor": 2
}
