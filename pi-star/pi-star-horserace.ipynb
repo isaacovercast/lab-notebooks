{
 "cells": [
  {
   "cell_type": "code",
   "execution_count": 23,
   "metadata": {},
   "outputs": [],
   "source": [
    "import msprime\n",
    "import numpy as np\n",
    "from itertools import combinations"
   ]
  },
  {
   "cell_type": "code",
   "execution_count": 25,
   "metadata": {},
   "outputs": [],
   "source": [
    "def get_pi(haplotypes):\n",
    "    ## If no seg sites in a pop then haplotypes will be 0 length\n",
    "    if haplotypes.size == 0:\n",
    "        return 0\n",
    "    n = len(haplotypes[0])\n",
    "    n_comparisons = float(n) * (n - 1) / 2\n",
    "\n",
    "    pi = 0\n",
    "    for hap in haplotypes:\n",
    "        k = np.count_nonzero(hap)\n",
    "        pi += float(k) * (n - k) / n_comparisons\n",
    "    return(pi)\n"
   ]
  },
  {
   "cell_type": "code",
   "execution_count": 163,
   "metadata": {},
   "outputs": [
    {
     "name": "stdout",
     "output_type": "stream",
     "text": [
      "Sample size 5\n",
      "  TS: 0.004576/0.00333193997545\n",
      "  My: 0.004576/0.00333193997545\n",
      "  Uniq (avg# 3.03): 0.006072/0.00410600297667\n",
      "Sample size 10\n",
      "  TS: 0.00381022222222/0.00239166333978\n",
      "  My: 0.00381022222222/0.00239166333978\n",
      "  Uniq (avg# 4.12): 0.00564847619048/0.00280617010328\n",
      "Sample size 25\n",
      "  TS: 0.0036908/0.00227661401208\n",
      "  My: 0.0036908/0.00227661401208\n",
      "  Uniq (avg# 5.7): 0.00617882539683/0.00336495878954\n",
      "Sample size 50\n",
      "  TS: 0.00402318367347/0.00246645366454\n",
      "  My: 0.00402318367347/0.00246645366454\n",
      "  Uniq (avg# 7.21): 0.0065221996892/0.00269547044362\n"
     ]
    }
   ],
   "source": [
    "# Run `reps` number of simulations accumulating pi and pi* values then average over reps\n",
    "def simulate(ss=10, Ne=1e4, length=5e2, reps=100):\n",
    "    ts_pis = []\n",
    "    my_pis = []\n",
    "    uniq_pis = []\n",
    "    resampled_pis = []\n",
    "    nuniq = 0\n",
    "    for i in range(reps):\n",
    "        tree_sequence = msprime.simulate(sample_size=ss, Ne=Ne, length=length, mutation_rate=1e-7)\n",
    "        ts_pis.append(tree_sequence.get_pairwise_diversity()/length)\n",
    "\n",
    "        haps = list(tree_sequence.haplotypes())\n",
    "        haps_t = np.transpose(np.array([list(map(int, list(x))) for x in haps]))\n",
    "        my_pis.append(get_pi(haps_t)/length)\n",
    "\n",
    "        haps = set(haps)\n",
    "        haps_t = np.transpose(np.array([list(map(int, list(x))) for x in haps]))\n",
    "        uniq_pis.append(get_pi(haps_t)/length)\n",
    "        nuniq += len(haps)\n",
    "\n",
    "        resampled_pis.append(resample(haps, length))\n",
    "\n",
    "    print(\"  TS: {}/{}\".format(np.mean(ts_pis), np.std(ts_pis)))\n",
    "    print(\"  My: {}/{}\".format(np.mean(my_pis), np.std(my_pis)))\n",
    "    print(\"  Uniq (avg# {}): {}/{}\".format(nuniq/float(reps),\n",
    "                                        np.mean(uniq_pis),\n",
    "                                        np.std(uniq_pis)))\n",
    "    #print(\"  Resampled to <=5: {}\".format(np.mean(resampled_pis)))\n",
    "\n",
    "    return haps\n",
    "\n",
    "# Ne 10000, 500bp loci\n",
    "for ss in [5, 10, 25, 50]:\n",
    "    print(\"Sample size {}\".format(ss))\n",
    "    _ = simulate(ss=ss, reps=100)"
   ]
  },
  {
   "cell_type": "code",
   "execution_count": 164,
   "metadata": {},
   "outputs": [
    {
     "name": "stdout",
     "output_type": "stream",
     "text": [
      "Sample size 5\n",
      "  TS: 0.003962/0.00224284373062\n",
      "  My: 0.003962/0.00224284373062\n",
      "  Uniq (avg# 4.54): 0.00421113333333/0.00238578122402\n",
      "Sample size 10\n",
      "  TS: 0.0041168/0.00218425160944\n",
      "  My: 0.0041168/0.00218425160944\n",
      "  Uniq (avg# 8.33): 0.00433464761905/0.00220678942886\n",
      "Sample size 25\n",
      "  TS: 0.00418788/0.00237521336844\n",
      "  My: 0.00418788/0.00237521336844\n",
      "  Uniq (avg# 16.34): 0.00449082116576/0.00240931534673\n",
      "Sample size 50\n",
      "  TS: 0.00428038204082/0.00255241770265\n",
      "  My: 0.00428038204082/0.00255241770265\n",
      "  Uniq (avg# 25.36): 0.00458455175386/0.00258529630936\n"
     ]
    }
   ],
   "source": [
    "# Ne 10000, for 5000bp loci\n",
    "for ss in [5, 10, 25, 50]:\n",
    "    print(\"Sample size {}\".format(ss))\n",
    "    simulate(ss=ss, length=5e3, reps=100)"
   ]
  },
  {
   "cell_type": "code",
   "execution_count": 165,
   "metadata": {},
   "outputs": [
    {
     "name": "stdout",
     "output_type": "stream",
     "text": [
      "Sample size 5\n",
      "  TS: 0.035912/0.0198464973232\n",
      "  My: 0.035912/0.0198464973232\n",
      "  Uniq (avg# 4.49): 0.037074/0.0192667333217\n",
      "Sample size 10\n",
      "  TS: 0.04368/0.0238300824512\n",
      "  My: 0.04368/0.0238300824512\n",
      "  Uniq (avg# 8.42): 0.0459373809524/0.0251966928151\n",
      "Sample size 25\n",
      "  TS: 0.0386714666667/0.0187111107594\n",
      "  My: 0.0386714666667/0.0187111107594\n",
      "  Uniq (avg# 16.47): 0.0410137145462/0.0200289716271\n",
      "Sample size 50\n",
      "  TS: 0.0412124081633/0.0213201970508\n",
      "  My: 0.0412124081633/0.0213201970508\n",
      "  Uniq (avg# 26.15): 0.0436178778215/0.0220485422932\n"
     ]
    }
   ],
   "source": [
    "# Ne 100000, for 500bp loci\n",
    "for ss in [5, 10, 25, 50]:\n",
    "    print(\"Sample size {}\".format(ss))\n",
    "    simulate(ss=ss, Ne=1e5, length=5e2, reps=100)"
   ]
  },
  {
   "cell_type": "code",
   "execution_count": 166,
   "metadata": {},
   "outputs": [
    {
     "name": "stdout",
     "output_type": "stream",
     "text": [
      "Sample size 5\n",
      "  TS: 0.0403556/0.0219305302407\n",
      "  My: 0.0403556/0.0219305302407\n",
      "  Uniq (avg# 4.96): 0.0405032/0.022140981379\n",
      "Sample size 10\n",
      "  TS: 0.0426194222222/0.0294884011793\n",
      "  My: 0.0426194222222/0.0294884011793\n",
      "  Uniq (avg# 9.84): 0.0428889968254/0.0297409762912\n",
      "Sample size 25\n",
      "  TS: 0.0365466/0.0159030120399\n",
      "  My: 0.0365466/0.0159030120399\n",
      "  Uniq (avg# 23.54): 0.0368156317749/0.0159856725722\n",
      "Sample size 50\n",
      "  TS: 0.0370141355102/0.0173566752718\n",
      "  My: 0.0370141355102/0.0173566752718\n",
      "  Uniq (avg# 45.1): 0.037198071374/0.0172897285051\n"
     ]
    }
   ],
   "source": [
    "# Ne 100000, for 5000bp loci\n",
    "for ss in [5, 10, 25, 50]:\n",
    "    print(\"Sample size {}\".format(ss))\n",
    "    simulate(ss=ss, Ne=1e5, length=5e3, reps=100)"
   ]
  },
  {
   "cell_type": "markdown",
   "metadata": {},
   "source": [
    "## Trash below here\n",
    "Experiment with multiple downsampling, but this is kind of dumb. Averaging\n",
    "all possible combinations is identical to actually just using all the samples\n",
    "in the first place."
   ]
  },
  {
   "cell_type": "code",
   "execution_count": 153,
   "metadata": {},
   "outputs": [
    {
     "name": "stdout",
     "output_type": "stream",
     "text": [
      "  TS: 0.00428897959184\n",
      "  My: 0.00428897959184\n",
      "  Uniq (avg# 11.0): 0.0056\n",
      "  Resampled to <=5: 0.00488\n",
      "ncombs: 462\n"
     ]
    },
    {
     "data": {
      "text/plain": [
       "0.0004879999999999999"
      ]
     },
     "execution_count": 153,
     "metadata": {},
     "output_type": "execute_result"
    }
   ],
   "source": [
    "def resample(haps, length=5e3, nresamples=5, verbose=False):\n",
    "    totpi = 0\n",
    "    minsamps = 5\n",
    "    if len(haps) < minsamps:\n",
    "        minsamps = len(haps) - 1\n",
    "    if minsamps <=1:\n",
    "        haps_t = np.transpose(np.array([list(map(int, list(x))) for x in haps]))\n",
    "        return get_pi(haps_t)/length \n",
    "    for comb in list(combinations(haps, minsamps))[:nresamples]:\n",
    "        haps_t = np.transpose(np.array([list(map(int, list(x))) for x in comb]))\n",
    "        totpi += get_pi(haps_t)/length\n",
    "    ncombs = len(list(combinations(haps, minsamps)))\n",
    "    if verbose: print(\"ncombs: {}\".format(ncombs))\n",
    "    nresamples = min([nresamples, ncombs])\n",
    "    return totpi/float(nresamples)\n",
    "haps = simulate(ss=50, reps=1)\n",
    "resample(haps, verbose=True)"
   ]
  }
 ],
 "metadata": {
  "kernelspec": {
   "display_name": "Python 2",
   "language": "python",
   "name": "python2"
  },
  "language_info": {
   "codemirror_mode": {
    "name": "ipython",
    "version": 2
   },
   "file_extension": ".py",
   "mimetype": "text/x-python",
   "name": "python",
   "nbconvert_exporter": "python",
   "pygments_lexer": "ipython2",
   "version": "2.7.14"
  }
 },
 "nbformat": 4,
 "nbformat_minor": 2
}
