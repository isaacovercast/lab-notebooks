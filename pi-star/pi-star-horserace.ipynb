{
 "cells": [
  {
   "cell_type": "code",
   "execution_count": 3,
   "metadata": {},
   "outputs": [],
   "source": [
    "import msprime\n",
    "import numpy as np\n"
   ]
  },
  {
   "cell_type": "code",
   "execution_count": 5,
   "metadata": {},
   "outputs": [],
   "source": [
    "def get_pi(haplotypes):\n",
    "    ## If no seg sites in a pop then haplotypes will be 0 length\n",
    "    if haplotypes.size == 0:\n",
    "        return 0\n",
    "    n = len(haplotypes[0])\n",
    "    n_comparisons = float(n) * (n - 1) / 2\n",
    "\n",
    "    pi = 0\n",
    "    for hap in haplotypes:\n",
    "        k = np.count_nonzero(hap)\n",
    "        pi += float(k) * (n - k) / n_comparisons\n",
    "    return(pi)"
   ]
  },
  {
   "cell_type": "code",
   "execution_count": 18,
   "metadata": {},
   "outputs": [
    {
     "name": "stdout",
     "output_type": "stream",
     "text": [
      "Sample size 5\n",
      "  TS: 0.0037752\n",
      "  My: 0.0037752\n",
      "  Uniq (avg# 4.6): 0.00389126666667\n",
      "Sample size 10\n",
      "  TS: 0.00407266666667\n",
      "  My: 0.00407266666667\n",
      "  Uniq (avg# 8.29): 0.00426271269841\n",
      "Sample size 25\n",
      "  TS: 0.00393384\n",
      "  My: 0.00393384\n",
      "  Uniq (avg# 16.46): 0.00415783478684\n",
      "Sample size 50\n",
      "  TS: 0.00384919673469\n",
      "  My: 0.00384919673469\n",
      "  Uniq (avg# 24.88): 0.00420818508661\n"
     ]
    }
   ],
   "source": [
    "# Run `reps` number of simulations accumulating pi and pi* values then average over reps\n",
    "def simulate(ss=10, Ne=1e4, length=5e3, reps=10):\n",
    "    ts_pis = []\n",
    "    my_pis = []\n",
    "    uniq_pis = []\n",
    "    nuniq = 0\n",
    "    for i in range(reps):\n",
    "        tree_sequence = msprime.simulate(sample_size=ss, Ne=Ne, length=length, mutation_rate=1e-7)\n",
    "        ts_pis.append(tree_sequence.get_pairwise_diversity()/length)\n",
    "\n",
    "        haps = list(tree_sequence.haplotypes())\n",
    "        haps_t = np.transpose(np.array([list(map(int, list(x))) for x in haps]))\n",
    "        my_pis.append(get_pi(haps_t)/length)\n",
    "\n",
    "        haps = set(haps)\n",
    "        haps_t = np.transpose(np.array([list(map(int, list(x))) for x in haps]))\n",
    "        uniq_pis.append(get_pi(haps_t)/length)\n",
    "        nuniq += len(haps)\n",
    "    print(\"  TS: {}\".format(sum(ts_pis)/reps))\n",
    "    print(\"  My: {}\".format(sum(my_pis)/reps))\n",
    "    print(\"  Uniq (avg# {}): {}\".format(float(nuniq)/reps, sum(uniq_pis)/reps))\n",
    "\n",
    "# Ne 10000, 500bp loci\n",
    "for ss in [5, 10, 25, 50]:\n",
    "    print(\"Sample size {}\".format(ss))\n",
    "    simulate(ss=ss, reps=100)"
   ]
  },
  {
   "cell_type": "code",
   "execution_count": 11,
   "metadata": {},
   "outputs": [
    {
     "name": "stdout",
     "output_type": "stream",
     "text": [
      "Sample size 5\n",
      "  TS: 0.00398404\n",
      "  My: 0.00398404\n",
      "  Uniq: 0.00400111333333\n",
      "Sample size 10\n",
      "  TS: 0.00371806666667\n",
      "  My: 0.00371806666667\n",
      "  Uniq: 0.00374890269841\n",
      "Sample size 25\n",
      "  TS: 0.00428718133333\n",
      "  My: 0.00428718133333\n",
      "  Uniq: 0.00427695312015\n",
      "Sample size 50\n",
      "  TS: 0.00374426187755\n",
      "  My: 0.00374426187755\n",
      "  Uniq: 0.00376571732038\n"
     ]
    }
   ],
   "source": [
    "# Ne 10000, for 5000bp loci\n",
    "for ss in [5, 10, 25, 50]:\n",
    "    print(\"Sample size {}\".format(ss))\n",
    "    simulate(ss=ss, length=5e4, reps=100)"
   ]
  },
  {
   "cell_type": "code",
   "execution_count": 12,
   "metadata": {},
   "outputs": [
    {
     "name": "stdout",
     "output_type": "stream",
     "text": [
      "Sample size 5\n",
      "  TS: 0.038754\n",
      "  My: 0.038754\n",
      "  Uniq: 0.0389556\n",
      "Sample size 10\n",
      "  TS: 0.0421256888889\n",
      "  My: 0.0421256888889\n",
      "  Uniq: 0.0420385285714\n",
      "Sample size 25\n",
      "  TS: 0.0383534266667\n",
      "  My: 0.0383534266667\n",
      "  Uniq: 0.0382341022148\n",
      "Sample size 50\n",
      "  TS: 0.0396354677551\n",
      "  My: 0.0396354677551\n",
      "  Uniq: 0.0402361897382\n"
     ]
    }
   ],
   "source": [
    "for ss in [5, 10, 25, 50]:\n",
    "    print(\"Sample size {}\".format(ss))\n",
    "    simulate(ss=ss, Ne=1e5, length=5e3, reps=100)"
   ]
  },
  {
   "cell_type": "code",
   "execution_count": 13,
   "metadata": {},
   "outputs": [
    {
     "name": "stdout",
     "output_type": "stream",
     "text": [
      "Sample size 5\n",
      "  TS: 0.04143968\n",
      "  My: 0.04143968\n",
      "  Uniq: 0.04143968\n",
      "Sample size 10\n",
      "  TS: 0.0401874888889\n",
      "  My: 0.0401874888889\n",
      "  Uniq: 0.0401889688889\n",
      "Sample size 25\n",
      "  TS: 0.0405720106667\n",
      "  My: 0.0405720106667\n",
      "  Uniq: 0.0406147050804\n",
      "Sample size 50\n",
      "  TS: 0.0386323533061\n",
      "  My: 0.0386323533061\n",
      "  Uniq: 0.0386258339373\n"
     ]
    }
   ],
   "source": [
    "for ss in [5, 10, 25, 50]:\n",
    "    print(\"Sample size {}\".format(ss))\n",
    "    simulate(ss=ss, Ne=1e5, length=5e4, reps=100)"
   ]
  }
 ],
 "metadata": {
  "kernelspec": {
   "display_name": "Python 2",
   "language": "python",
   "name": "python2"
  },
  "language_info": {
   "codemirror_mode": {
    "name": "ipython",
    "version": 2
   },
   "file_extension": ".py",
   "mimetype": "text/x-python",
   "name": "python",
   "nbconvert_exporter": "python",
   "pygments_lexer": "ipython2",
   "version": "2.7.14"
  }
 },
 "nbformat": 4,
 "nbformat_minor": 2
}
