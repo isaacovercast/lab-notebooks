{
 "cells": [
  {
   "cell_type": "code",
   "execution_count": 7,
   "metadata": {
    "collapsed": false
   },
   "outputs": [],
   "source": [
    "%matplotlib inline\n",
    "import os\n",
    "\n",
    "GIMME_DIR = \"/Volumes/WorkDrive/gimmeSAD\"\n",
    "SIMOUT_DIR = os.path.join(GIMME_DIR, \"replicates/\")\n",
    "\n",
    "os.chdir(GIMME_DIR)\n",
    "import implicit_BI\n",
    "import gimmeSAD\n",
    "import numpy as np\n",
    "import matplotlib.pyplot as plt\n",
    "import itertools\n",
    "import glob\n"
   ]
  },
  {
   "cell_type": "code",
   "execution_count": 122,
   "metadata": {
    "collapsed": true
   },
   "outputs": [],
   "source": [
    "def load_pidxy(filename):\n",
    "    with open(filename) as infile:\n",
    "        dat = []\n",
    "        while True:\n",
    "            next_n_lines = list(itertools.islice(infile, 12))\n",
    "            if not next_n_lines:\n",
    "                break\n",
    "            lines = [list(x.strip(\"[\").strip(\"]\\n\").split()) for x in next_n_lines[1:-1]]\n",
    "            lines = list(itertools.chain.from_iterable([ map(int, x) for x in lines]))\n",
    "            dat.append(lines)\n",
    "    #dat = np.array(dat)\n",
    "    return dat"
   ]
  },
  {
   "cell_type": "code",
   "execution_count": 120,
   "metadata": {
    "collapsed": false
   },
   "outputs": [
    {
     "name": "stdout",
     "output_type": "stream",
     "text": [
      "(10,)\n"
     ]
    }
   ],
   "source": [
    "with open(\"/Volumes/WorkDrive/gimmeSAD/output/pi_x_dxy.log\") as infile:\n",
    "    dat = []\n",
    "    while True:\n",
    "        next_n_lines = list(itertools.islice(infile, 12))\n",
    "        if not next_n_lines:\n",
    "            break\n",
    "        lines = [list(x.strip(\"[\").strip(\"]\\n\").split()) for x in next_n_lines[1:-1]]\n",
    "        lines = list(itertools.chain.from_iterable([ map(int, x) for x in lines]))\n",
    "        dat.append(lines)\n",
    "dat = np.array(dat)\n",
    "print(dat.shape)"
   ]
  },
  {
   "cell_type": "code",
   "execution_count": 5,
   "metadata": {
    "collapsed": false
   },
   "outputs": [
    {
     "name": "stdout",
     "output_type": "stream",
     "text": [
      "(57, 100)\n"
     ]
    }
   ],
   "source": [
    "from matplotlib.mlab import PCA\n",
    "print(dat.shape)\n",
    "res = PCA(np.array(dat.T))"
   ]
  },
  {
   "cell_type": "code",
   "execution_count": 123,
   "metadata": {
    "collapsed": false
   },
   "outputs": [
    {
     "name": "stdout",
     "output_type": "stream",
     "text": [
      "lenfiles 66\n",
      "lenfiles 66\n",
      "explained variance ratio (first two components): [ 0.94003892  0.04603198]\n",
      "doing 1 - lightsalmon doing 7 - tomato doing 9 - red doing 1 - royalblue doing 7 - blue doing 9 - navy"
     ]
    },
    {
     "data": {
      "image/png": "[encoded data removed]",
      "text/plain": [
       "<matplotlib.figure.Figure at 0x128445650>"
      ]
     },
     "metadata": {},
     "output_type": "display_data"
    },
    {
     "name": "stdout",
     "output_type": "stream",
     "text": [
      "\n"
     ]
    }
   ],
   "source": [
    "import collections \n",
    "SIMOUT_DIR = \"tmp/\"\n",
    "C = [\"0.01\", \"0.05\"]\n",
    "times = [1,7,9]\n",
    "full_dat = []\n",
    "subset_dat = []\n",
    "for c in C:\n",
    "    files = glob.glob(SIMOUT_DIR+\"K_1000-C_{}*/pi_x_dxy.log\".format(c))\n",
    "    print(\"lenfiles {}\".format(len(files)))\n",
    "    full_dat = []\n",
    "    for f in files:\n",
    "        try:\n",
    "            full_dat.append(load_pidxy(f))\n",
    "        except:\n",
    "            pass\n",
    "    for t in times:\n",
    "        subset_dat.extend([x[t] for x in full_dat])\n",
    "pca = PCA(n_components=2)\n",
    "\n",
    "X_r = pca.fit(subset_dat).transform(subset_dat)\n",
    "print('explained variance ratio (first two components): %s'\n",
    "      % str(pca.explained_variance_ratio_))\n",
    "plt.figure()\n",
    "x,y = zip(*X_r)\n",
    "cur = 0\n",
    "for col, idx, size in zip([\"lightsalmon\", \"tomato\", \"red\", \"royalblue\", \"blue\", \"navy\"], [66]*6, times*2):\n",
    "    print(\"doing {} - {}\".format(size, col)),\n",
    "    plt.scatter(x[cur:idx+cur], y[cur:idx+cur], color=col, label=size, lw=2)\n",
    "    cur+=idx\n",
    "plt.legend(loc='upper right', scatterpoints=1)\n",
    "plt.show()"
   ]
  },
  {
   "cell_type": "code",
   "execution_count": 6,
   "metadata": {
    "collapsed": false
   },
   "outputs": [
    {
     "name": "stdout",
     "output_type": "stream",
     "text": [
      "(57, 100)\n",
      "explained variance ratio (first two components): [ 0.62286836  0.23778228]\n"
     ]
    },
    {
     "data": {
      "text/plain": [
       "<matplotlib.collections.PathCollection at 0x1208677d0>"
      ]
     },
     "execution_count": 6,
     "metadata": {},
     "output_type": "execute_result"
    },
    {
     "data": {
      "image/png": "[encoded data removed]",
      "text/plain": [
       "<matplotlib.figure.Figure at 0x1202d2810>"
      ]
     },
     "metadata": {},
     "output_type": "display_data"
    }
   ],
   "source": [
    "from sklearn.decomposition import PCA\n",
    "import matplotlib.pyplot as plt\n",
    "\n",
    "print(dat.shape)\n",
    "pca = PCA(n_components=2)\n",
    "X_r = pca.fit(dat).transform(dat)\n",
    "print('explained variance ratio (first two components): %s'\n",
    "      % str(pca.explained_variance_ratio_))\n",
    "plt.figure()\n",
    "x, y = zip(*X_r)\n",
    "plt.scatter(x, y)"
   ]
  },
  {
   "cell_type": "code",
   "execution_count": 115,
   "metadata": {
    "collapsed": false
   },
   "outputs": [
    {
     "name": "stdout",
     "output_type": "stream",
     "text": [
      "[43, 40, 33, 37, 44, 50, 41, 35, 37, 37, 48, 47, 34, 33, 40, 34, 30, 39, 35, 39, 39, 40, 37, 44, 35, 36, 50, 35, 26, 42, 38, 42, 48, 36, 43, 41, 38, 37, 42, 39, 45, 40, 39, 41, 44, 41, 36, 42, 42, 42, 46, 45, 41, 37, 35, 37, 23, 43, 41, 47, 36, 39, 36, 54, 42, 43, 39, 41, 36, 45, 43, 39, 43, 39, 33, 46, 34, 44, 44, 33, 43, 39, 28, 39, 42, 36, 32, 44, 40, 39, 38, 38, 50, 39, 49, 40, 43, 35, 42, 43, 35, 42, 47, 40, 31, 45, 42, 30, 40, 50, 39, 34, 36, 42, 44, 44, 43, 45, 31, 44, 43, 48, 34, 32, 44, 38, 31, 37, 38, 37, 31, 37, 39, 42, 49, 53, 32, 36, 29, 45, 46, 38, 31, 47, 39, 47, 33, 41, 40, 44, 41, 34, 27, 39, 34, 37, 42, 40, 46, 42, 37, 39, 31, 44, 36, 43, 38, 39, 45, 41, 46, 37, 39, 41, 47, 47, 42, 46, 35, 46, 39, 37, 38, 36, 35, 35, 32, 45, 36, 42, 37, 39, 33, 43, 40, 42, 41, 29, 91, 100, 95, 106, 91, 108, 93, 111, 102, 99, 84, 90, 101, 93, 95, 99, 94, 109, 103, 101, 85, 99, 100, 94, 92, 112, 100, 96, 99, 105, 112, 103, 103, 96, 104, 102, 93, 96, 94, 94, 108, 93, 92, 97, 103, 105, 92, 103, 97, 104, 100, 104, 99, 99, 103, 97, 107, 93, 98, 100, 100, 105, 97, 96, 101, 92, 102, 100, 92, 100, 109, 102, 99, 112, 92, 106, 99, 90, 104, 105, 95, 101, 99, 101, 100, 95, 108, 99, 97, 89, 100, 100, 94, 100, 104, 107, 100, 92, 107, 101, 92, 88, 108, 99, 100, 105, 102, 93, 107, 105, 93, 103, 104, 100, 96, 107, 102, 101, 100, 106, 103, 91, 101, 100, 103, 109, 102, 98, 105, 95, 104, 101, 103, 104, 104, 99, 92, 103, 107, 100, 92, 108, 89, 92, 101, 103, 104, 98, 100, 113, 91, 96, 107, 98, 103, 105, 97, 98, 93, 97, 95, 94, 101, 109, 102, 94, 90, 98, 94, 111, 96, 99, 108, 98, 103, 106, 94, 94, 97, 100, 104, 108, 102, 102, 102, 95, 102, 103, 105, 97, 93, 105, 93, 98, 98, 99, 95, 91]\n"
     ]
    }
   ],
   "source": [
    "print([np.sum(x) for x in subset_dat])"
   ]
  },
  {
   "cell_type": "markdown",
   "metadata": {},
   "source": [
    "## Plot colonization rates"
   ]
  },
  {
   "cell_type": "code",
   "execution_count": 96,
   "metadata": {
    "collapsed": false
   },
   "outputs": [
    {
     "name": "stdout",
     "output_type": "stream",
     "text": [
      "66\n",
      "66\n",
      "[10, 10, 10, 10, 10, 10, 10, 10, 10, 10, 10, 10, 10, 10, 10, 10, 10, 10, 10, 10, 10, 10, 10, 10, 10, 10, 10, 10, 10, 10, 10, 10, 10, 10, 10, 10, 10, 10, 10, 10, 10, 10, 10, 10, 10, 10, 10, 10, 10, 10, 10, 10, 10, 10, 10, 10, 10, 10, 10, 10, 10, 10, 10, 10, 10, 10, 10, 10, 10, 10, 10, 10, 10, 10, 10, 10, 10, 10, 10, 10, 10, 10, 10, 10, 10, 10, 10, 10, 10, 10, 10, 10, 10, 10, 10, 10, 10, 10, 10, 10, 10, 10, 10, 10, 10, 10, 10, 10, 10, 10, 10, 10, 10, 10, 10, 10, 10, 10, 10, 10, 10, 10, 10, 10, 10, 10, 10, 10, 10, 10, 10, 10]\n",
      "(1320, 100)\n",
      "explained variance ratio (first two components): [ 0.81530358  0.05690712]\n",
      "doing 0.05 - red\n",
      "doing 0.01 - blue\n"
     ]
    },
    {
     "data": {
      "image/png": "[encoded data removed]",
      "text/plain": [
       "<matplotlib.figure.Figure at 0x128250410>"
      ]
     },
     "metadata": {},
     "output_type": "display_data"
    }
   ],
   "source": [
    "SIMOUT_DIR=\"tmp/\"\n",
    "K = [10000, 5000, 1000]\n",
    "C = [0.05, 0.01]\n",
    "\n",
    "dat = []\n",
    "lens = []\n",
    "for c in C:\n",
    "\n",
    "    datfiles = glob.glob(SIMOUT_DIR+\"K_1000-C_{}*/pi_x_dxy.log\".format(c))\n",
    "    print(len(datfiles))\n",
    "    for f in datfiles:\n",
    "        mydat = load_pidxy(f)\n",
    "        dat.extend(mydat)\n",
    "        lens.append(len(mydat))\n",
    "print(lens)\n",
    "dat = np.array(dat)\n",
    "print(dat.shape)\n",
    "\n",
    "pca = PCA(n_components=2)\n",
    "X_r = pca.fit(dat).transform(dat)\n",
    "print('explained variance ratio (first two components): %s'\n",
    "      % str(pca.explained_variance_ratio_))\n",
    "plt.figure()\n",
    "x,y = zip(*X_r)\n",
    "cur = 0\n",
    "for col, idx, size in zip([\"red\", \"blue\"], [len(dat)/2]*2, C):\n",
    "    print(\"doing {} - {}\".format(size, col))\n",
    "    plt.scatter(x[cur:idx+cur], y[cur:idx+cur], color=col, label=size, lw=2)\n",
    "    cur+=idx\n",
    "plt.legend(loc='upper left', scatterpoints=1)\n",
    "plt.show()"
   ]
  },
  {
   "cell_type": "code",
   "execution_count": 91,
   "metadata": {
    "collapsed": false
   },
   "outputs": [
    {
     "data": {
      "text/plain": [
       "1320"
      ]
     },
     "execution_count": 91,
     "metadata": {},
     "output_type": "execute_result"
    }
   ],
   "source": [
    "len(dat)"
   ]
  },
  {
   "cell_type": "markdown",
   "metadata": {},
   "source": [
    "## Plot local community sizes"
   ]
  },
  {
   "cell_type": "code",
   "execution_count": 219,
   "metadata": {
    "collapsed": false
   },
   "outputs": [
    {
     "name": "stdout",
     "output_type": "stream",
     "text": [
      "/Volumes/WorkDrive/gimmeSAD/simout/K_10000-C_0.01/pi_x_dxy.log\n",
      "/Volumes/WorkDrive/gimmeSAD/simout/K_5000-C_0.01/pi_x_dxy.log\n",
      "/Volumes/WorkDrive/gimmeSAD/simout/K_1000-C_0.01/pi_x_dxy.log\n",
      "[100, 46, 2]\n",
      "(148, 100)\n",
      "explained variance ratio (first two components): [ 0.7633547   0.11368971]\n",
      "doing 10000 - red\n",
      "doing 5000 - blue\n",
      "doing 1000 - yellow\n"
     ]
    },
    {
     "data": {
      "image/png": "[encoded data removed]",
      "text/plain": [
       "<matplotlib.figure.Figure at 0x12999f590>"
      ]
     },
     "metadata": {},
     "output_type": "display_data"
    }
   ],
   "source": [
    "os.chdir(SIMOUT_DIR)\n",
    "K = [10000, 5000, 1000]\n",
    "C = [0.1, 0.01, 0.001]\n",
    "multi_col = [\"\", \"_x4\", \"_x10\"]\n",
    "\n",
    "dat = []\n",
    "lens = []\n",
    "for k in K:\n",
    "    datfile = os.path.join(SIMOUT_DIR, \"K_{}-C_0.01/pi_x_dxy.log\".format(k))\n",
    "    print(datfile)\n",
    "    mydat = load_pidxy(datfile)\n",
    "    dat.extend(mydat)\n",
    "    lens.append(len(mydat))\n",
    "print(lens)\n",
    "dat = np.array(dat)\n",
    "print(dat.shape)\n",
    "\n",
    "pca = PCA(n_components=2)\n",
    "X_r = pca.fit(dat).transform(dat)\n",
    "print('explained variance ratio (first two components): %s'\n",
    "      % str(pca.explained_variance_ratio_))\n",
    "plt.figure()\n",
    "x,y = zip(*X_r)\n",
    "cur = 0\n",
    "for col, idx, size in zip([\"red\", \"blue\", \"yellow\"], lens, K):\n",
    "    print(\"doing {} - {}\".format(size, col))\n",
    "    plt.scatter(x[cur:idx+cur], y[cur:idx+cur], color=col, label=size, lw=2)\n",
    "    cur+=idx\n",
    "plt.legend(loc='upper left', scatterpoints=1)\n",
    "plt.show()"
   ]
  },
  {
   "cell_type": "markdown",
   "metadata": {},
   "source": [
    "# Get data and make matrices"
   ]
  },
  {
   "cell_type": "code",
   "execution_count": 235,
   "metadata": {
    "collapsed": false
   },
   "outputs": [],
   "source": [
    "def make_heatmaps(rowlist, max_pi, max_dxy):\n",
    "    heat_size = 5\n",
    "    heats = []\n",
    "    ## Make the bins\n",
    "    pi_bins = np.linspace(0, max_pi, heat_size)\n",
    "    pi_island_bins = np.linspace(0, max_dxy, heat_size)\n",
    "    \n",
    "    for row in rowlist:\n",
    "        #print(row, len(row))\n",
    "        heat = np.zeros((heat_size, heat_size), dtype=np.int)\n",
    "\n",
    "        pis = zip(row[3], row[4])\n",
    "        ## Set a reasonable default\n",
    "        #max_pi = max_pi_island = 0.1\n",
    "        #if pis.any():\n",
    "            #max_pi = max([x[0] for x in pis])\n",
    "            #max_pi_island = max([x[1] for x in pis])\n",
    "            #print(max_pi, max_pi_island)\n",
    "\n",
    "\n",
    "        ## Now you have the bins each value belongs in, but you need to \n",
    "        ## go through and populate the heat matrix\n",
    "        for pi, pi_island in pis:\n",
    "            count_pi = 0\n",
    "            count_pi_island = 0\n",
    "            try:\n",
    "                while not pi <= pi_bins[count_pi]:\n",
    "                    count_pi += 1\n",
    "                while not pi_island <= pi_island_bins[count_pi_island]:\n",
    "                    count_pi_island += 1\n",
    "                ## increment the heatmap point this corresponds to\n",
    "                heat[count_pi][count_pi_island] += 1\n",
    "            except:\n",
    "                heat[heat_size-1][heat_size-1] += 1\n",
    "        heats.append(heat)\n",
    "    return(heats)\n",
    "heats = make_heatmaps(rowlist, max_pi, max_dxy)"
   ]
  },
  {
   "cell_type": "code",
   "execution_count": 168,
   "metadata": {
    "collapsed": false,
    "scrolled": true
   },
   "outputs": [
    {
     "name": "stdout",
     "output_type": "stream",
     "text": [
      "n ['K_1000-C_0.01_1476044316.61', 'K_1000-C_0.01_1476044473.39', 'K_1000-C_0.01_1476044593.42', 'K_1000-C_0.01_1476044713.44', 'K_1000-C_0.01_1476044833.46', 'K_1000-C_0.01_1476044953.49', 'K_1000-C_0.01_1476045073.51', 'K_1000-C_0.01_1476045193.53', 'K_1000-C_0.01_1476045313.56', 'K_1000-C_0.01_1476045433.58', 'K_1000-C_0.01_1476045553.6', 'K_1000-C_0.01_1476045673.63', 'K_1000-C_0.01_1476045793.65', 'K_1000-C_0.01_1476045913.67', 'K_1000-C_0.01_1476046033.7', 'K_1000-C_0.01_1476046153.72', 'K_1000-C_0.01_1476046273.75', 'K_1000-C_0.01_1476046393.77', 'K_1000-C_0.01_1476046513.79', 'K_1000-C_0.01_1476046633.81', 'K_1000-C_0.01_1476046753.84', 'K_1000-C_0.01_1476046873.86', 'K_1000-C_0.01_1476046993.88', 'K_1000-C_0.01_1476047113.91', 'K_1000-C_0.01_1476047233.93', 'K_1000-C_0.01_1476047353.95', 'K_1000-C_0.01_1476047473.98', 'K_1000-C_0.01_1476047594.0', 'K_1000-C_0.01_1476047714.03', 'K_1000-C_0.01_1476047834.05', 'K_1000-C_0.01_1476047954.07', 'K_1000-C_0.01_1476048074.1', 'K_1000-C_0.01_1476048194.12', 'K_1000-C_0.01_1476048314.14', 'K_1000-C_0.01_1476048434.17', 'K_1000-C_0.01_1476048554.19', 'K_1000-C_0.01_1476048674.21', 'K_1000-C_0.01_1476048794.24', 'K_1000-C_0.01_1476048914.26', 'K_1000-C_0.01_1476049034.28', 'K_1000-C_0.01_1476049154.31', 'K_1000-C_0.01_1476049274.33', 'K_1000-C_0.01_1476049394.35', 'K_1000-C_0.01_1476049514.38', 'K_1000-C_0.01_1476049634.4', 'K_1000-C_0.01_1476049754.42', 'K_1000-C_0.01_1476049874.45', 'K_1000-C_0.01_1476049994.47', 'K_1000-C_0.01_1476050114.49', 'K_1000-C_0.01_1476050234.52', 'K_1000-C_0.01_1476050354.54', 'K_1000-C_0.01_1476050474.56', 'K_1000-C_0.01_1476050594.58', 'K_1000-C_0.01_1476050714.61', 'K_1000-C_0.01_1476050834.63', 'K_1000-C_0.01_1476050954.65', 'K_1000-C_0.01_1476051074.68', 'K_1000-C_0.01_1476051194.7', 'K_1000-C_0.01_1476051314.72', 'K_1000-C_0.01_1476051434.75', 'K_1000-C_0.01_1476051554.77', 'K_1000-C_0.01_1476051674.79', 'K_1000-C_0.01_1476051794.82', 'K_1000-C_0.01_1476051914.84', 'K_1000-C_0.01_1476052034.86', 'K_1000-C_0.01_1476052154.89', 'K_1000-C_0.01_1476052274.91', 'K_1000-C_0.01_1476052394.93', 'K_1000-C_0.01_1476052514.96', 'K_1000-C_0.01_1476052634.98', 'K_1000-C_0.01_1476052755.0', 'K_1000-C_0.01_1476052875.03', 'K_1000-C_0.01_1476052995.05', 'K_1000-C_0.01_1476053115.07', 'K_1000-C_0.01_1476053235.1', 'K_1000-C_0.01_1476053355.12', 'K_1000-C_0.01_1476053475.14', 'K_1000-C_0.01_1476053595.17', 'K_1000-C_0.01_1476053715.19', 'K_1000-C_0.01_1476053835.21', 'K_1000-C_0.01_1476053955.24', 'K_1000-C_0.01_1476054075.26', 'K_1000-C_0.01_1476054195.28', 'K_1000-C_0.01_1476054315.31', 'K_1000-C_0.01_1476054435.33', 'K_1000-C_0.01_1476054555.35', 'K_1000-C_0.01_1476054675.38', 'K_1000-C_0.01_1476054795.4', 'K_1000-C_0.01_1476054915.42', 'K_1000-C_0.01_1476055035.45', 'K_1000-C_0.01_1476055155.47', 'K_1000-C_0.01_1476055275.49', 'K_1000-C_0.01_1476055395.51', 'K_1000-C_0.01_1476055515.54', 'K_1000-C_0.01_1476055635.56', 'K_1000-C_0.01_1476055755.58', 'K_1000-C_0.01_1476055875.61', 'K_1000-C_0.01_1476055995.63', 'K_1000-C_0.01_1476056115.66', 'K_1000-C_0.01_1476056235.68', 'K_1000-C_0.01_1476056355.7', 'K_1000-C_0.01_1477083903.05', 'K_1000-C_0.01_1477084023.08', 'K_1000-C_0.01_1477084143.1', 'K_1000-C_0.01_1477084263.13', 'K_1000-C_0.01_1477084383.18', 'K_1000-C_0.01_1477084503.22', 'K_1000-C_0.01_1477084623.28', 'K_1000-C_0.01_1477084743.33', 'K_1000-C_0.01_1477084863.39', 'K_1000-C_0.01_1477084983.46', 'K_1000-C_0.01_1477085103.53', 'K_1000-C_0.01_1477085223.62', 'K_1000-C_0.01_1477085343.69', 'K_1000-C_0.01_1477085463.77', 'K_1000-C_0.01_1477085583.83', 'K_1000-C_0.01_1477085703.9', 'K_1000-C_0.01_1477085823.98', 'K_1000-C_0.01_1477085944.04', 'K_1000-C_0.01_1477086064.1', 'K_1000-C_0.01_1477086184.2', 'K_1000-C_0.01_1477086304.28', 'K_1000-C_0.01_1477086424.37', 'K_1000-C_0.01_1477086544.52', 'K_1000-C_0.01_1477086664.58', 'K_1000-C_0.01_1477086784.64', 'K_1000-C_0.01_1477086904.71', 'K_1000-C_0.01_1477087024.81', 'K_1000-C_0.01_1477087144.96', 'K_1000-C_0.01_1477087265.03', 'K_1000-C_0.01_1477087385.09', 'K_1000-C_0.01_1477087505.25', 'K_1000-C_0.01_1477087625.34', 'K_1000-C_0.01_1477087745.41', 'K_1000-C_0.01_1477087865.5', 'K_1000-C_0.01_1477087985.63', 'K_1000-C_0.01_1477088105.9', 'K_1000-C_0.01_1477088226.03', 'K_1000-C_0.01_1477088346.18', 'K_1000-C_0.01_1477088466.31', 'K_1000-C_0.01_1477088586.51', 'K_1000-C_0.01_1477088777.57', 'K_1000-C_0.01_1477088897.92', 'K_1000-C_0.01_1477089017.99', 'K_1000-C_0.01_1477089138.08', 'K_1000-C_0.01_1477089258.23', 'K_1000-C_0.01_1477089378.57', 'K_1000-C_0.01_1477089499.36', 'K_1000-C_0.01_1477089619.44', 'K_1000-C_0.01_1477089818.55', 'K_1000-C_0.01_1477089972.63', 'K_1000-C_0.01_1477090092.76', 'K_1000-C_0.01_1477090212.89', 'K_1000-C_0.01_1477090333.02', 'K_1000-C_0.01_1477090453.16', 'K_1000-C_0.01_1477090573.26', 'K_1000-C_0.01_1477090693.33', 'K_1000-C_0.01_1477097994.36', 'K_1000-C_0.01_1477098666.73', 'K_1000-C_0.01_1477098786.81', 'K_1000-C_0.01_1477098907.08', 'K_1000-C_0.01_1477099027.21', 'K_1000-C_0.01_1477099147.3', 'K_1000-C_0.01_1477122113.91', 'K_1000-C_0.01_1477122233.97', 'K_1000-C_0.01_1477122354.13', 'K_1000-C_0.01_1477122474.5', 'K_1000-C_0.01_1477122594.62', 'K_1000-C_0.01_1477122714.99', 'K_1000-C_0.01_1477122835.15', 'K_1000-C_0.01_1477122955.53', 'K_1000-C_0.01_1477123075.92', 'K_1000-C_0.01_1477148273.68', 'K_1000-C_0.01_1477148393.8', 'K_1000-C_0.01_1477148513.92', 'K_1000-C_0.01_1477148634.07', 'K_1000-C_0.01_1477148754.67', 'K_1000-C_0.01_1477148874.78', 'K_1000-C_0.01_1477148994.84', 'K_1000-C_0.01_1477149114.96', 'K_1000-C_0.01_1477149235.6', 'K_1000-C_0.01_1477149355.71', 'K_1000-C_0.01_1477149476.35', 'K_1000-C_0.01_1477149596.5', 'K_1000-C_0.01_1477149716.69', 'K_1000-C_0.01_1477149836.76', 'K_1000-C_0.01_1477149957.28', 'K_1000-C_0.01_1477151139.94', 'K_1000-C_0.01_1477204888.61', 'K_1000-C_0.01_1477205008.69', 'K_1000-C_0.01_1477205128.75', 'K_1000-C_0.01_1477205248.82', 'K_1000-C_0.01_1477205368.97', 'K_1000-C_0.01_1477205489.21', 'K_1000-C_0.01_1477205609.35', 'K_1000-C_0.01_1477205729.51', 'K_1000-C_0.01_1477205849.66', 'K_1000-C_0.01_1477205969.91', 'K_1000-C_0.01_1477206090.13', 'K_1000-C_0.01_1477206210.43', 'K_1000-C_0.01_1477206330.68'] - 201\n",
      "n ['K_1000-C_0.05_1476044316.61', 'K_1000-C_0.05_1476044473.39', 'K_1000-C_0.05_1476044593.42', 'K_1000-C_0.05_1476044713.44', 'K_1000-C_0.05_1476044833.46', 'K_1000-C_0.05_1476044953.49', 'K_1000-C_0.05_1476045073.51', 'K_1000-C_0.05_1476045193.53', 'K_1000-C_0.05_1476045313.56', 'K_1000-C_0.05_1476045433.58', 'K_1000-C_0.05_1476045553.6', 'K_1000-C_0.05_1476045673.63', 'K_1000-C_0.05_1476045793.65', 'K_1000-C_0.05_1476045913.67', 'K_1000-C_0.05_1476046033.7', 'K_1000-C_0.05_1476046153.72', 'K_1000-C_0.05_1476046273.75', 'K_1000-C_0.05_1476046393.77', 'K_1000-C_0.05_1476046513.79', 'K_1000-C_0.05_1476046633.81', 'K_1000-C_0.05_1476046753.84', 'K_1000-C_0.05_1476046873.86', 'K_1000-C_0.05_1476046993.88', 'K_1000-C_0.05_1476047113.91', 'K_1000-C_0.05_1476047233.93', 'K_1000-C_0.05_1476047353.95', 'K_1000-C_0.05_1476047473.98', 'K_1000-C_0.05_1476047594.0', 'K_1000-C_0.05_1476047714.03', 'K_1000-C_0.05_1476047834.05', 'K_1000-C_0.05_1476047954.07', 'K_1000-C_0.05_1476048074.1', 'K_1000-C_0.05_1476048194.12', 'K_1000-C_0.05_1476048314.14', 'K_1000-C_0.05_1476048434.17', 'K_1000-C_0.05_1476048554.19', 'K_1000-C_0.05_1476048674.21', 'K_1000-C_0.05_1476048794.24', 'K_1000-C_0.05_1476048914.26', 'K_1000-C_0.05_1476049034.28', 'K_1000-C_0.05_1476049154.31', 'K_1000-C_0.05_1476049274.33', 'K_1000-C_0.05_1476049394.35', 'K_1000-C_0.05_1476049514.38', 'K_1000-C_0.05_1476049634.4', 'K_1000-C_0.05_1476049754.42', 'K_1000-C_0.05_1476049874.45', 'K_1000-C_0.05_1476049994.47', 'K_1000-C_0.05_1476050114.49', 'K_1000-C_0.05_1476050234.52', 'K_1000-C_0.05_1476050354.54', 'K_1000-C_0.05_1476050474.56', 'K_1000-C_0.05_1476050594.58', 'K_1000-C_0.05_1476050714.61', 'K_1000-C_0.05_1476050834.63', 'K_1000-C_0.05_1476050954.65', 'K_1000-C_0.05_1476051074.68', 'K_1000-C_0.05_1476051194.7', 'K_1000-C_0.05_1476051314.72', 'K_1000-C_0.05_1476051434.75', 'K_1000-C_0.05_1476051554.77', 'K_1000-C_0.05_1476051674.79', 'K_1000-C_0.05_1476051794.82', 'K_1000-C_0.05_1476051914.84', 'K_1000-C_0.05_1476052034.86', 'K_1000-C_0.05_1476052154.89', 'K_1000-C_0.05_1476052274.91', 'K_1000-C_0.05_1476052394.93', 'K_1000-C_0.05_1476052514.96', 'K_1000-C_0.05_1476052634.98', 'K_1000-C_0.05_1476052755.0', 'K_1000-C_0.05_1476052875.03', 'K_1000-C_0.05_1476052995.05', 'K_1000-C_0.05_1476053115.07', 'K_1000-C_0.05_1476053235.1', 'K_1000-C_0.05_1476053355.12', 'K_1000-C_0.05_1476053475.14', 'K_1000-C_0.05_1476053595.17', 'K_1000-C_0.05_1476053715.19', 'K_1000-C_0.05_1476053835.21', 'K_1000-C_0.05_1476053955.24', 'K_1000-C_0.05_1476054075.26', 'K_1000-C_0.05_1476054195.28', 'K_1000-C_0.05_1476054315.31', 'K_1000-C_0.05_1476054435.33', 'K_1000-C_0.05_1476054555.35', 'K_1000-C_0.05_1476054675.38', 'K_1000-C_0.05_1476054795.4', 'K_1000-C_0.05_1476054915.42', 'K_1000-C_0.05_1476055035.45', 'K_1000-C_0.05_1476055155.47', 'K_1000-C_0.05_1476055275.49', 'K_1000-C_0.05_1476055395.51', 'K_1000-C_0.05_1476055515.54', 'K_1000-C_0.05_1476055635.56', 'K_1000-C_0.05_1476055755.58', 'K_1000-C_0.05_1476055875.61', 'K_1000-C_0.05_1476055995.63', 'K_1000-C_0.05_1476056115.66', 'K_1000-C_0.05_1476056235.68', 'K_1000-C_0.05_1476056355.7', 'K_1000-C_0.05_1477083903.05', 'K_1000-C_0.05_1477084023.08', 'K_1000-C_0.05_1477084143.1', 'K_1000-C_0.05_1477084263.13', 'K_1000-C_0.05_1477084383.18', 'K_1000-C_0.05_1477084503.22', 'K_1000-C_0.05_1477084623.28', 'K_1000-C_0.05_1477084743.33', 'K_1000-C_0.05_1477084863.39', 'K_1000-C_0.05_1477084983.46', 'K_1000-C_0.05_1477085103.53', 'K_1000-C_0.05_1477085223.62', 'K_1000-C_0.05_1477085343.69', 'K_1000-C_0.05_1477085463.77', 'K_1000-C_0.05_1477085583.83', 'K_1000-C_0.05_1477085703.9', 'K_1000-C_0.05_1477085823.98', 'K_1000-C_0.05_1477085944.04', 'K_1000-C_0.05_1477086064.1', 'K_1000-C_0.05_1477086184.2', 'K_1000-C_0.05_1477086304.28', 'K_1000-C_0.05_1477086424.37', 'K_1000-C_0.05_1477086544.52', 'K_1000-C_0.05_1477086664.58', 'K_1000-C_0.05_1477086784.64', 'K_1000-C_0.05_1477086904.71', 'K_1000-C_0.05_1477087024.81', 'K_1000-C_0.05_1477087144.96', 'K_1000-C_0.05_1477087265.03', 'K_1000-C_0.05_1477087385.09', 'K_1000-C_0.05_1477087505.25', 'K_1000-C_0.05_1477087625.34', 'K_1000-C_0.05_1477087745.41', 'K_1000-C_0.05_1477087865.5', 'K_1000-C_0.05_1477087985.63', 'K_1000-C_0.05_1477088105.9', 'K_1000-C_0.05_1477088226.03', 'K_1000-C_0.05_1477088346.18', 'K_1000-C_0.05_1477088466.31', 'K_1000-C_0.05_1477088586.51', 'K_1000-C_0.05_1477088777.57', 'K_1000-C_0.05_1477088897.92', 'K_1000-C_0.05_1477089017.99', 'K_1000-C_0.05_1477089138.08', 'K_1000-C_0.05_1477089258.23', 'K_1000-C_0.05_1477089378.57', 'K_1000-C_0.05_1477089499.36', 'K_1000-C_0.05_1477089619.44', 'K_1000-C_0.05_1477089818.55', 'K_1000-C_0.05_1477089972.63', 'K_1000-C_0.05_1477090092.76', 'K_1000-C_0.05_1477090212.89', 'K_1000-C_0.05_1477090333.02', 'K_1000-C_0.05_1477090453.16', 'K_1000-C_0.05_1477090573.26', 'K_1000-C_0.05_1477090693.33', 'K_1000-C_0.05_1477097994.36', 'K_1000-C_0.05_1477098666.73', 'K_1000-C_0.05_1477098786.81', 'K_1000-C_0.05_1477098907.08', 'K_1000-C_0.05_1477099027.21', 'K_1000-C_0.05_1477099147.3', 'K_1000-C_0.05_1477122113.91', 'K_1000-C_0.05_1477122233.97', 'K_1000-C_0.05_1477122354.13', 'K_1000-C_0.05_1477122474.5', 'K_1000-C_0.05_1477122594.62', 'K_1000-C_0.05_1477122714.99', 'K_1000-C_0.05_1477122835.15', 'K_1000-C_0.05_1477122955.53', 'K_1000-C_0.05_1477123075.92', 'K_1000-C_0.05_1477148273.68', 'K_1000-C_0.05_1477148393.8', 'K_1000-C_0.05_1477148513.92', 'K_1000-C_0.05_1477148634.07', 'K_1000-C_0.05_1477148754.67', 'K_1000-C_0.05_1477148874.78', 'K_1000-C_0.05_1477148994.84', 'K_1000-C_0.05_1477149114.96', 'K_1000-C_0.05_1477149235.6', 'K_1000-C_0.05_1477149355.71', 'K_1000-C_0.05_1477149476.35', 'K_1000-C_0.05_1477149596.5', 'K_1000-C_0.05_1477149716.69', 'K_1000-C_0.05_1477149836.76', 'K_1000-C_0.05_1477149957.28', 'K_1000-C_0.05_1477151139.94', 'K_1000-C_0.05_1477204888.61', 'K_1000-C_0.05_1477205008.69', 'K_1000-C_0.05_1477205128.75', 'K_1000-C_0.05_1477205248.82', 'K_1000-C_0.05_1477205368.97', 'K_1000-C_0.05_1477205489.21', 'K_1000-C_0.05_1477205609.35', 'K_1000-C_0.05_1477205729.51', 'K_1000-C_0.05_1477205849.66', 'K_1000-C_0.05_1477205969.91', 'K_1000-C_0.05_1477206090.13', 'K_1000-C_0.05_1477206210.43', 'K_1000-C_0.05_1477206330.68'] - 201\n",
      "n ['K_5000-C_0.01_1476044316.61', 'K_5000-C_0.01_1476044473.39', 'K_5000-C_0.01_1476044593.42', 'K_5000-C_0.01_1476044713.44', 'K_5000-C_0.01_1476044833.46', 'K_5000-C_0.01_1476044953.49', 'K_5000-C_0.01_1476045073.51', 'K_5000-C_0.01_1476045193.53', 'K_5000-C_0.01_1476045313.56', 'K_5000-C_0.01_1476045433.58', 'K_5000-C_0.01_1476045553.6', 'K_5000-C_0.01_1476045673.63', 'K_5000-C_0.01_1476045793.65', 'K_5000-C_0.01_1476045913.67', 'K_5000-C_0.01_1476046033.7', 'K_5000-C_0.01_1476046153.72', 'K_5000-C_0.01_1476046273.75', 'K_5000-C_0.01_1476046393.77', 'K_5000-C_0.01_1476046513.79', 'K_5000-C_0.01_1476046633.81', 'K_5000-C_0.01_1476046753.84', 'K_5000-C_0.01_1476046873.86', 'K_5000-C_0.01_1476046993.88', 'K_5000-C_0.01_1476047113.91', 'K_5000-C_0.01_1476047233.93', 'K_5000-C_0.01_1476047353.95', 'K_5000-C_0.01_1476047473.98', 'K_5000-C_0.01_1476047594.0', 'K_5000-C_0.01_1476047714.03', 'K_5000-C_0.01_1476047834.05', 'K_5000-C_0.01_1476047954.07', 'K_5000-C_0.01_1476048074.1', 'K_5000-C_0.01_1476048194.12', 'K_5000-C_0.01_1476048314.14', 'K_5000-C_0.01_1476048434.17', 'K_5000-C_0.01_1476048554.19', 'K_5000-C_0.01_1476048674.21', 'K_5000-C_0.01_1476048794.24', 'K_5000-C_0.01_1476048914.26', 'K_5000-C_0.01_1476049034.28', 'K_5000-C_0.01_1476049154.31', 'K_5000-C_0.01_1476049274.33', 'K_5000-C_0.01_1476049394.35', 'K_5000-C_0.01_1476049514.38', 'K_5000-C_0.01_1476049634.4', 'K_5000-C_0.01_1476049754.42', 'K_5000-C_0.01_1476049874.45', 'K_5000-C_0.01_1476049994.47', 'K_5000-C_0.01_1476050114.49', 'K_5000-C_0.01_1476050234.52', 'K_5000-C_0.01_1476050354.54', 'K_5000-C_0.01_1476050474.56', 'K_5000-C_0.01_1476050594.58', 'K_5000-C_0.01_1476050714.61', 'K_5000-C_0.01_1476050834.63', 'K_5000-C_0.01_1476050954.65', 'K_5000-C_0.01_1476051074.68', 'K_5000-C_0.01_1476051194.7', 'K_5000-C_0.01_1476051314.72', 'K_5000-C_0.01_1476051434.75', 'K_5000-C_0.01_1476051554.77', 'K_5000-C_0.01_1476051674.79', 'K_5000-C_0.01_1476051794.82', 'K_5000-C_0.01_1476051914.84', 'K_5000-C_0.01_1476052034.86', 'K_5000-C_0.01_1476052154.89', 'K_5000-C_0.01_1476052274.91', 'K_5000-C_0.01_1476052394.93', 'K_5000-C_0.01_1476052514.96', 'K_5000-C_0.01_1476052634.98', 'K_5000-C_0.01_1476052755.0', 'K_5000-C_0.01_1476052875.03', 'K_5000-C_0.01_1476052995.05', 'K_5000-C_0.01_1476053115.07', 'K_5000-C_0.01_1476053235.1', 'K_5000-C_0.01_1476053355.12', 'K_5000-C_0.01_1476053475.14', 'K_5000-C_0.01_1476053595.17', 'K_5000-C_0.01_1476053715.19', 'K_5000-C_0.01_1476053835.21', 'K_5000-C_0.01_1476053955.24', 'K_5000-C_0.01_1476054075.26', 'K_5000-C_0.01_1476054195.28', 'K_5000-C_0.01_1476054315.31', 'K_5000-C_0.01_1476054435.33', 'K_5000-C_0.01_1476054555.35', 'K_5000-C_0.01_1476054675.38', 'K_5000-C_0.01_1476054795.4', 'K_5000-C_0.01_1476054915.42', 'K_5000-C_0.01_1476055035.45', 'K_5000-C_0.01_1476055155.47', 'K_5000-C_0.01_1476055275.49', 'K_5000-C_0.01_1476055395.51', 'K_5000-C_0.01_1476055515.54', 'K_5000-C_0.01_1476055635.56', 'K_5000-C_0.01_1476055755.58', 'K_5000-C_0.01_1476055875.61', 'K_5000-C_0.01_1476055995.63', 'K_5000-C_0.01_1476056115.66', 'K_5000-C_0.01_1476056235.68', 'K_5000-C_0.01_1476056355.7', 'K_5000-C_0.01_1477083903.05', 'K_5000-C_0.01_1477084023.08', 'K_5000-C_0.01_1477084143.1', 'K_5000-C_0.01_1477084263.13', 'K_5000-C_0.01_1477084383.18', 'K_5000-C_0.01_1477084503.22', 'K_5000-C_0.01_1477084623.28', 'K_5000-C_0.01_1477084743.33', 'K_5000-C_0.01_1477084863.39', 'K_5000-C_0.01_1477084983.46', 'K_5000-C_0.01_1477085103.53', 'K_5000-C_0.01_1477085223.62', 'K_5000-C_0.01_1477085343.69', 'K_5000-C_0.01_1477085463.77', 'K_5000-C_0.01_1477085583.83', 'K_5000-C_0.01_1477085703.9', 'K_5000-C_0.01_1477085823.98', 'K_5000-C_0.01_1477085944.04', 'K_5000-C_0.01_1477086064.1', 'K_5000-C_0.01_1477086184.2', 'K_5000-C_0.01_1477086304.28', 'K_5000-C_0.01_1477086424.37', 'K_5000-C_0.01_1477086544.52', 'K_5000-C_0.01_1477086664.58', 'K_5000-C_0.01_1477086784.64', 'K_5000-C_0.01_1477086904.71', 'K_5000-C_0.01_1477087024.81', 'K_5000-C_0.01_1477087144.96', 'K_5000-C_0.01_1477087265.03', 'K_5000-C_0.01_1477087385.09', 'K_5000-C_0.01_1477087505.25', 'K_5000-C_0.01_1477087625.34', 'K_5000-C_0.01_1477087745.41', 'K_5000-C_0.01_1477087865.5', 'K_5000-C_0.01_1477087985.63', 'K_5000-C_0.01_1477088105.9', 'K_5000-C_0.01_1477088226.03', 'K_5000-C_0.01_1477088346.18', 'K_5000-C_0.01_1477088466.31', 'K_5000-C_0.01_1477088586.51', 'K_5000-C_0.01_1477088777.57', 'K_5000-C_0.01_1477088897.92', 'K_5000-C_0.01_1477089017.99', 'K_5000-C_0.01_1477089138.08', 'K_5000-C_0.01_1477089258.23', 'K_5000-C_0.01_1477089378.57', 'K_5000-C_0.01_1477089499.36', 'K_5000-C_0.01_1477089619.44', 'K_5000-C_0.01_1477089818.55', 'K_5000-C_0.01_1477089972.63', 'K_5000-C_0.01_1477090092.76', 'K_5000-C_0.01_1477090212.89', 'K_5000-C_0.01_1477090333.02', 'K_5000-C_0.01_1477090453.16', 'K_5000-C_0.01_1477090573.26', 'K_5000-C_0.01_1477090693.33', 'K_5000-C_0.01_1477097994.36', 'K_5000-C_0.01_1477098666.73', 'K_5000-C_0.01_1477098786.81', 'K_5000-C_0.01_1477098907.08', 'K_5000-C_0.01_1477099027.21', 'K_5000-C_0.01_1477099147.3', 'K_5000-C_0.01_1477122113.91', 'K_5000-C_0.01_1477122233.97', 'K_5000-C_0.01_1477122354.13', 'K_5000-C_0.01_1477122474.5', 'K_5000-C_0.01_1477122594.62', 'K_5000-C_0.01_1477122714.99', 'K_5000-C_0.01_1477122835.15', 'K_5000-C_0.01_1477122955.53', 'K_5000-C_0.01_1477123075.92', 'K_5000-C_0.01_1477148273.68', 'K_5000-C_0.01_1477148393.8', 'K_5000-C_0.01_1477148513.92', 'K_5000-C_0.01_1477148634.07', 'K_5000-C_0.01_1477148754.67', 'K_5000-C_0.01_1477148874.78', 'K_5000-C_0.01_1477148994.84', 'K_5000-C_0.01_1477149114.96', 'K_5000-C_0.01_1477149235.6', 'K_5000-C_0.01_1477149355.71', 'K_5000-C_0.01_1477149476.35', 'K_5000-C_0.01_1477149596.5', 'K_5000-C_0.01_1477149716.69', 'K_5000-C_0.01_1477149836.76', 'K_5000-C_0.01_1477149957.28', 'K_5000-C_0.01_1477151139.94', 'K_5000-C_0.01_1477204888.61', 'K_5000-C_0.01_1477205008.69', 'K_5000-C_0.01_1477205128.75', 'K_5000-C_0.01_1477205248.82', 'K_5000-C_0.01_1477205368.97', 'K_5000-C_0.01_1477205489.21', 'K_5000-C_0.01_1477205609.35', 'K_5000-C_0.01_1477205729.51', 'K_5000-C_0.01_1477205849.66', 'K_5000-C_0.01_1477205969.91', 'K_5000-C_0.01_1477206090.13', 'K_5000-C_0.01_1477206210.43', 'K_5000-C_0.01_1477206330.68'] - 201\n",
      "n ['K_5000-C_0.05_1476044316.61', 'K_5000-C_0.05_1476044473.39', 'K_5000-C_0.05_1476044593.42', 'K_5000-C_0.05_1476044713.44', 'K_5000-C_0.05_1476044833.46', 'K_5000-C_0.05_1476044953.49', 'K_5000-C_0.05_1476045073.51', 'K_5000-C_0.05_1476045193.53', 'K_5000-C_0.05_1476045313.56', 'K_5000-C_0.05_1476045433.58', 'K_5000-C_0.05_1476045553.6', 'K_5000-C_0.05_1476045673.63', 'K_5000-C_0.05_1476045793.65', 'K_5000-C_0.05_1476045913.67', 'K_5000-C_0.05_1476046033.7', 'K_5000-C_0.05_1476046153.72', 'K_5000-C_0.05_1476046273.75', 'K_5000-C_0.05_1476046393.77', 'K_5000-C_0.05_1476046513.79', 'K_5000-C_0.05_1476046633.81', 'K_5000-C_0.05_1476046753.84', 'K_5000-C_0.05_1476046873.86', 'K_5000-C_0.05_1476046993.88', 'K_5000-C_0.05_1476047113.91', 'K_5000-C_0.05_1476047233.93', 'K_5000-C_0.05_1476047353.95', 'K_5000-C_0.05_1476047473.98', 'K_5000-C_0.05_1476047594.0', 'K_5000-C_0.05_1476047714.03', 'K_5000-C_0.05_1476047834.05', 'K_5000-C_0.05_1476047954.07', 'K_5000-C_0.05_1476048074.1', 'K_5000-C_0.05_1476048194.12', 'K_5000-C_0.05_1476048314.14', 'K_5000-C_0.05_1476048434.17', 'K_5000-C_0.05_1476048554.19', 'K_5000-C_0.05_1476048674.21', 'K_5000-C_0.05_1476048794.24', 'K_5000-C_0.05_1476048914.26', 'K_5000-C_0.05_1476049034.28', 'K_5000-C_0.05_1476049154.31', 'K_5000-C_0.05_1476049274.33', 'K_5000-C_0.05_1476049394.35', 'K_5000-C_0.05_1476049514.38', 'K_5000-C_0.05_1476049634.4', 'K_5000-C_0.05_1476049754.42', 'K_5000-C_0.05_1476049874.45', 'K_5000-C_0.05_1476049994.47', 'K_5000-C_0.05_1476050114.49', 'K_5000-C_0.05_1476050234.52', 'K_5000-C_0.05_1476050354.54', 'K_5000-C_0.05_1476050474.56', 'K_5000-C_0.05_1476050594.58', 'K_5000-C_0.05_1476050714.61', 'K_5000-C_0.05_1476050834.63', 'K_5000-C_0.05_1476050954.65', 'K_5000-C_0.05_1476051074.68', 'K_5000-C_0.05_1476051194.7', 'K_5000-C_0.05_1476051314.72', 'K_5000-C_0.05_1476051434.75', 'K_5000-C_0.05_1476051554.77', 'K_5000-C_0.05_1476051674.79', 'K_5000-C_0.05_1476051794.82', 'K_5000-C_0.05_1476051914.84', 'K_5000-C_0.05_1476052034.86', 'K_5000-C_0.05_1476052154.89', 'K_5000-C_0.05_1476052274.91', 'K_5000-C_0.05_1476052394.93', 'K_5000-C_0.05_1476052514.96', 'K_5000-C_0.05_1476052634.98', 'K_5000-C_0.05_1476052755.0', 'K_5000-C_0.05_1476052875.03', 'K_5000-C_0.05_1476052995.05', 'K_5000-C_0.05_1476053115.07', 'K_5000-C_0.05_1476053235.1', 'K_5000-C_0.05_1476053355.12', 'K_5000-C_0.05_1476053475.14', 'K_5000-C_0.05_1476053595.17', 'K_5000-C_0.05_1476053715.19', 'K_5000-C_0.05_1476053835.21', 'K_5000-C_0.05_1476053955.24', 'K_5000-C_0.05_1476054075.26', 'K_5000-C_0.05_1476054195.28', 'K_5000-C_0.05_1476054315.31', 'K_5000-C_0.05_1476054435.33', 'K_5000-C_0.05_1476054555.35', 'K_5000-C_0.05_1476054675.38', 'K_5000-C_0.05_1476054795.4', 'K_5000-C_0.05_1476054915.42', 'K_5000-C_0.05_1476055035.45', 'K_5000-C_0.05_1476055155.47', 'K_5000-C_0.05_1476055275.49', 'K_5000-C_0.05_1476055395.51', 'K_5000-C_0.05_1476055515.54', 'K_5000-C_0.05_1476055635.56', 'K_5000-C_0.05_1476055755.58', 'K_5000-C_0.05_1476055875.61', 'K_5000-C_0.05_1476055995.63', 'K_5000-C_0.05_1476056115.66', 'K_5000-C_0.05_1476056235.68', 'K_5000-C_0.05_1476056355.7', 'K_5000-C_0.05_1477083903.05', 'K_5000-C_0.05_1477084023.08', 'K_5000-C_0.05_1477084143.1', 'K_5000-C_0.05_1477084263.13', 'K_5000-C_0.05_1477084383.18', 'K_5000-C_0.05_1477084503.22', 'K_5000-C_0.05_1477084623.28', 'K_5000-C_0.05_1477084743.33', 'K_5000-C_0.05_1477084863.39', 'K_5000-C_0.05_1477084983.46', 'K_5000-C_0.05_1477085103.53', 'K_5000-C_0.05_1477085223.62', 'K_5000-C_0.05_1477085343.69', 'K_5000-C_0.05_1477085463.77', 'K_5000-C_0.05_1477085583.83', 'K_5000-C_0.05_1477085703.9', 'K_5000-C_0.05_1477085823.98', 'K_5000-C_0.05_1477085944.04', 'K_5000-C_0.05_1477086064.1', 'K_5000-C_0.05_1477086184.2', 'K_5000-C_0.05_1477086304.28', 'K_5000-C_0.05_1477086424.37', 'K_5000-C_0.05_1477086544.52', 'K_5000-C_0.05_1477086664.58', 'K_5000-C_0.05_1477086784.64', 'K_5000-C_0.05_1477086904.71', 'K_5000-C_0.05_1477087024.81', 'K_5000-C_0.05_1477087144.96', 'K_5000-C_0.05_1477087265.03', 'K_5000-C_0.05_1477087385.09', 'K_5000-C_0.05_1477087505.25', 'K_5000-C_0.05_1477087625.34', 'K_5000-C_0.05_1477087745.41', 'K_5000-C_0.05_1477087865.5', 'K_5000-C_0.05_1477087985.63', 'K_5000-C_0.05_1477088105.9', 'K_5000-C_0.05_1477088226.03', 'K_5000-C_0.05_1477088346.18', 'K_5000-C_0.05_1477088466.31', 'K_5000-C_0.05_1477088586.51', 'K_5000-C_0.05_1477088777.57', 'K_5000-C_0.05_1477088897.92', 'K_5000-C_0.05_1477089017.99', 'K_5000-C_0.05_1477089138.08', 'K_5000-C_0.05_1477089258.23', 'K_5000-C_0.05_1477089378.57', 'K_5000-C_0.05_1477089499.36', 'K_5000-C_0.05_1477089619.44', 'K_5000-C_0.05_1477089818.55', 'K_5000-C_0.05_1477089972.63', 'K_5000-C_0.05_1477090092.76', 'K_5000-C_0.05_1477090212.89', 'K_5000-C_0.05_1477090333.02', 'K_5000-C_0.05_1477090453.16', 'K_5000-C_0.05_1477090573.26', 'K_5000-C_0.05_1477090693.33', 'K_5000-C_0.05_1477097994.36', 'K_5000-C_0.05_1477098666.73', 'K_5000-C_0.05_1477098786.81', 'K_5000-C_0.05_1477098907.08', 'K_5000-C_0.05_1477099027.21', 'K_5000-C_0.05_1477099147.3', 'K_5000-C_0.05_1477122113.91', 'K_5000-C_0.05_1477122233.97', 'K_5000-C_0.05_1477122354.13', 'K_5000-C_0.05_1477122474.5', 'K_5000-C_0.05_1477122594.62', 'K_5000-C_0.05_1477122714.99', 'K_5000-C_0.05_1477122835.15', 'K_5000-C_0.05_1477122955.53', 'K_5000-C_0.05_1477123075.92', 'K_5000-C_0.05_1477148273.68', 'K_5000-C_0.05_1477148393.8', 'K_5000-C_0.05_1477148513.92', 'K_5000-C_0.05_1477148634.07', 'K_5000-C_0.05_1477148754.67', 'K_5000-C_0.05_1477148874.78', 'K_5000-C_0.05_1477148994.84', 'K_5000-C_0.05_1477149114.96', 'K_5000-C_0.05_1477149235.6', 'K_5000-C_0.05_1477149355.71', 'K_5000-C_0.05_1477149476.35', 'K_5000-C_0.05_1477149596.5', 'K_5000-C_0.05_1477149716.69', 'K_5000-C_0.05_1477149836.76', 'K_5000-C_0.05_1477149957.28', 'K_5000-C_0.05_1477151139.94', 'K_5000-C_0.05_1477204888.61', 'K_5000-C_0.05_1477205008.69', 'K_5000-C_0.05_1477205128.75', 'K_5000-C_0.05_1477205248.82', 'K_5000-C_0.05_1477205368.97', 'K_5000-C_0.05_1477205489.21', 'K_5000-C_0.05_1477205609.35', 'K_5000-C_0.05_1477205729.51', 'K_5000-C_0.05_1477205849.66', 'K_5000-C_0.05_1477205969.91', 'K_5000-C_0.05_1477206090.13', 'K_5000-C_0.05_1477206210.43', 'K_5000-C_0.05_1477206330.68'] - 201\n"
     ]
    }
   ],
   "source": [
    "import pandas as pd\n",
    "\n",
    "os.chdir(\"/Volumes/WorkDrive/gimmeSAD/replicates/\")\n",
    "num_species = 30\n",
    "\n",
    "## The values of K and c we're testing\n",
    "K = [\"1000\", \"5000\"]\n",
    "C = [\"0.01\", \"0.05\"]\n",
    "\n",
    "\n",
    "## Create the column names\n",
    "abund_idx = [\"abundance_{}\".format(x) for x in xrange(0,num_species)]\n",
    "pis_idx = [\"pi_{}\".format(x) for x in xrange(0,num_species)]\n",
    "dxy_idx = [\"dxy_{}\".format(x) for x in xrange(0,num_species)]\n",
    "\n",
    "rowlist = []\n",
    "for k in K:\n",
    "    for c in C:\n",
    "        dirs = glob.glob(\"K_{}-C_{}*\".format(k, c))\n",
    "        print(\"n {} - {}\".format(dirs, len(dirs)))\n",
    "        \n",
    "        for d in dirs:\n",
    "            with open(os.path.join(d, \"pi_x_dxy.log\")) as infile:\n",
    "                lines = infile.readlines()\n",
    "                for line in lines:\n",
    "                    if \"step\" in line:\n",
    "                        try:\n",
    "                            sumstats = eval(line.split(\" - \")[1])\n",
    "                        except:\n",
    "                            continue\n",
    "                        if len(sumstats) >= num_species:\n",
    "                            step = line.split(\" - \")[0].split()[1]\n",
    "                            wat = [step, k, c, [x[0] for x in sumstats.values()][:num_species],\\\n",
    "                                        [x[1] for x in sumstats.values()][:num_species]]\n",
    "                            rowlist.append(wat)\n",
    "                            \n",
    "dat = pd.DataFrame(rowlist, columns=[\"step\", \"K\", \"C\", \"pis\", \"dxys\"]) "
   ]
  },
  {
   "cell_type": "code",
   "execution_count": 236,
   "metadata": {
    "collapsed": false
   },
   "outputs": [
    {
     "name": "stdout",
     "output_type": "stream",
     "text": [
      "0.234013157895\n",
      "0.0101875706504\n",
      "0.0122966510668\n",
      "0.3465\n",
      "0.0134728061123\n",
      "0.0166241170698\n",
      "(0.034780872784023184, 0.046721040251905405)\n"
     ]
    }
   ],
   "source": [
    "max_pi = np.max([x[3] for x in rowlist])\n",
    "print(max_pi)\n",
    "mean_pi = np.mean([x[3] for x in rowlist])\n",
    "print(mean_pi)\n",
    "std_pi = np.std([x[3] for x in rowlist])\n",
    "print(std_pi)\n",
    "max_dxy = np.max([x[4] for x in rowlist])\n",
    "print(max_dxy)\n",
    "mean_dxy = np.mean([x[4] for x in rowlist])\n",
    "print(mean_dxy)\n",
    "std_dxy = np.std([x[4] for x in rowlist])\n",
    "print(std_dxy)\n",
    "max_pi = mean_pi + 2*std_pi\n",
    "max_dxy = mean_dxy + 2*std_dxy\n",
    "print(max_pi, max_dxy)\n",
    "heats = make_heatmaps(rowlist, max_pi, max_dxy)"
   ]
  },
  {
   "cell_type": "code",
   "execution_count": 244,
   "metadata": {
    "collapsed": false,
    "scrolled": true
   },
   "outputs": [
    {
     "name": "stdout",
     "output_type": "stream",
     "text": [
      "(3343, 25)\n",
      "explained variance ratio (first two components): [ 0.65913704  0.12805817]\n"
     ]
    },
    {
     "data": {
      "text/plain": [
       "<matplotlib.collections.PathCollection at 0x129a7be10>"
      ]
     },
     "execution_count": 244,
     "metadata": {},
     "output_type": "execute_result"
    },
    {
     "data": {
      "image/png": "[encoded data removed]",
      "text/plain": [
       "<matplotlib.figure.Figure at 0x1292c2110>"
      ]
     },
     "metadata": {},
     "output_type": "display_data"
    }
   ],
   "source": [
    "heat_dat = []\n",
    "for h in heats:\n",
    "    heat_dat.append([item for sublist in h for item in sublist])\n",
    "heat_dat = np.array([heat_dat])[0]\n",
    "print(heat_dat.shape)\n",
    "pca = PCA(n_components=2)\n",
    "X_r = pca.fit(heat_dat).transform(heat_dat)\n",
    "print('explained variance ratio (first two components): %s'\n",
    "      % str(pca.explained_variance_ratio_))\n",
    "plt.figure()\n",
    "x,y = zip(*X_r)\n",
    "cur = 0\n",
    "idx = 0\n",
    "quarter = len(rowlist)/4-13\n",
    "half = len(rowlist)/2-9\n",
    "last = len(rowlist)*3/4-5\n",
    "\n",
    "# Small K small c\n",
    "#plt.scatter(x[:quarter], y[:quarter], color='b', label=size, lw=2)\n",
    "# Small K big c\n",
    "plt.scatter(x[quarter:half], y[quarter:half], color='black', label=size, lw=2)\n",
    "# Big K small c\n",
    "plt.scatter(x[last:], y[last:], color='r', label=size, lw=2)\n",
    "# Big K big c\n",
    "#plt.scatter(x[half:last], y[half:last], color='y', label=size, lw=2)"
   ]
  },
  {
   "cell_type": "code",
   "execution_count": 195,
   "metadata": {
    "collapsed": false
   },
   "outputs": [
    {
     "name": "stdout",
     "output_type": "stream",
     "text": [
      "[0 0 0 0 0 0 0 0 0 0 0 6 0 0 0 0 0 0 0 0 0 0 7 0 0 0 0 0 0 0 0 0 0 2 0 0 0\n",
      " 0 0 0 0 0 0 3 3 1 0 0 0 0 0 0 0 0 1 0 1 0 0 0 0 0 0 0 0 0 0 0 0 0 0 0 0 0\n",
      " 0 0 0 0 0 0 0 0 0 0 0 0 0 1 0 0 0 0 0 0 0 0 0 0 0 5]\n"
     ]
    }
   ],
   "source": [
    "print(heat_dat[0][1])"
   ]
  },
  {
   "cell_type": "code",
   "execution_count": 229,
   "metadata": {
    "collapsed": false
   },
   "outputs": [
    {
     "data": {
      "text/plain": [
       "['1000000',\n",
       " '5000',\n",
       " '0.01',\n",
       " [0.0005986842105263158,\n",
       "  0.023513157894736837,\n",
       "  0.004809210526315789,\n",
       "  0.01096052631578947,\n",
       "  0.0017894736842105263,\n",
       "  0.0008881578947368421,\n",
       "  0.02795394736842106,\n",
       "  0.014552631578947364,\n",
       "  0.0022763157894736845,\n",
       "  0.024611842105263154,\n",
       "  0.014526315789473674,\n",
       "  0.02847368421052634,\n",
       "  0.00393421052631579,\n",
       "  0.0022434210526315794,\n",
       "  0.003375000000000001,\n",
       "  0.01510526315789474,\n",
       "  0.029052631578947396,\n",
       "  0.017756578947368415,\n",
       "  0.004513157894736845,\n",
       "  0.002144736842105263,\n",
       "  0.011934210526315783,\n",
       "  0.00461842105263158,\n",
       "  0.0029934210526315792,\n",
       "  0.0069276315789473675,\n",
       "  0.007019736842105264,\n",
       "  0.005546052631578948,\n",
       "  0.0025460526315789476,\n",
       "  0.048052631578947416,\n",
       "  0.0034210526315789484,\n",
       "  0.038881578947368385],\n",
       " [0.0008749999999999999,\n",
       "  0.02625000000000004,\n",
       "  0.007875,\n",
       "  0.014249999999999995,\n",
       "  0.00225,\n",
       "  0.001125,\n",
       "  0.034875000000000045,\n",
       "  0.019749999999999993,\n",
       "  0.002425,\n",
       "  0.04037499999999999,\n",
       "  0.022,\n",
       "  0.0345,\n",
       "  0.0045,\n",
       "  0.0028750000000000004,\n",
       "  0.004625000000000001,\n",
       "  0.026500000000000003,\n",
       "  0.03875,\n",
       "  0.019624999999999993,\n",
       "  0.005250000000000001,\n",
       "  0.00225,\n",
       "  0.01449999999999999,\n",
       "  0.006499999999999998,\n",
       "  0.005375,\n",
       "  0.009124999999999998,\n",
       "  0.009875,\n",
       "  0.0073750000000000005,\n",
       "  0.0033749999999999995,\n",
       "  0.059999999999999984,\n",
       "  0.004250000000000001,\n",
       "  0.062499999999999965]]"
      ]
     },
     "execution_count": 229,
     "metadata": {},
     "output_type": "execute_result"
    }
   ],
   "source": [
    "rowlist[len(rowlist)*3/4-5]"
   ]
  },
  {
   "cell_type": "code",
   "execution_count": null,
   "metadata": {
    "collapsed": true
   },
   "outputs": [],
   "source": []
  }
 ],
 "metadata": {
  "anaconda-cloud": {},
  "kernelspec": {
   "display_name": "Python [default]",
   "language": "python",
   "name": "python2"
  },
  "language_info": {
   "codemirror_mode": {
    "name": "ipython",
    "version": 2
   },
   "file_extension": ".py",
   "mimetype": "text/x-python",
   "name": "python",
   "nbconvert_exporter": "python",
   "pygments_lexer": "ipython2",
   "version": "2.7.12"
  }
 },
 "nbformat": 4,
 "nbformat_minor": 0
}
