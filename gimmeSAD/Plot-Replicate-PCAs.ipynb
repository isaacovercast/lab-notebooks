{
 "cells": [
  {
   "cell_type": "code",
   "execution_count": 7,
   "metadata": {
    "collapsed": false
   },
   "outputs": [],
   "source": [
    "%matplotlib inline\n",
    "import os\n",
    "\n",
    "GIMME_DIR = \"/Volumes/WorkDrive/gimmeSAD\"\n",
    "SIMOUT_DIR = os.path.join(GIMME_DIR, \"replicates/\")\n",
    "\n",
    "os.chdir(GIMME_DIR)\n",
    "import implicit_BI\n",
    "import gimmeSAD\n",
    "import numpy as np\n",
    "import matplotlib.pyplot as plt\n",
    "import itertools\n",
    "import glob\n"
   ]
  },
  {
   "cell_type": "code",
   "execution_count": 2,
   "metadata": {
    "collapsed": true
   },
   "outputs": [],
   "source": [
    "def load_pidxy(filename):\n",
    "    with open(filename) as infile:\n",
    "        dat = []\n",
    "        while True:\n",
    "            next_n_lines = list(itertools.islice(infile, 12))\n",
    "            if not next_n_lines:\n",
    "                break\n",
    "            lines = [list(x.strip(\"[\").strip(\"]\\n\").split()) for x in next_n_lines[1:-1]]\n",
    "            lines = list(itertools.chain.from_iterable([ map(int, x) for x in lines]))\n",
    "            dat.append(lines)\n",
    "    #dat = np.array(dat)\n",
    "    return dat"
   ]
  },
  {
   "cell_type": "code",
   "execution_count": 4,
   "metadata": {
    "collapsed": false
   },
   "outputs": [
    {
     "name": "stdout",
     "output_type": "stream",
     "text": [
      "(57, 100)\n"
     ]
    }
   ],
   "source": [
    "with open(\"/Volumes/WorkDrive/gimmeSAD/output/pi_x_dxy.log\") as infile:\n",
    "    dat = []\n",
    "    while True:\n",
    "        next_n_lines = list(itertools.islice(infile, 12))\n",
    "        if not next_n_lines:\n",
    "            break\n",
    "        lines = [list(x.strip(\"[\").strip(\"]\\n\").split()) for x in next_n_lines[1:-1]]\n",
    "        lines = list(itertools.chain.from_iterable([ map(int, x) for x in lines]))\n",
    "        dat.append(lines)\n",
    "dat = np.array(dat)\n",
    "print(dat.shape)"
   ]
  },
  {
   "cell_type": "code",
   "execution_count": 5,
   "metadata": {
    "collapsed": false
   },
   "outputs": [
    {
     "name": "stdout",
     "output_type": "stream",
     "text": [
      "(57, 100)\n"
     ]
    }
   ],
   "source": [
    "from matplotlib.mlab import PCA\n",
    "print(dat.shape)\n",
    "res = PCA(np.array(dat.T))"
   ]
  },
  {
   "cell_type": "code",
   "execution_count": 117,
   "metadata": {
    "collapsed": false
   },
   "outputs": [
    {
     "name": "stdout",
     "output_type": "stream",
     "text": [
      "lenfiles 66\n",
      "lenfiles 66\n",
      "explained variance ratio (first two components): [ 0.82376311  0.05718285]\n",
      "doing 1 - lightsalmon doing 7 - tomato doing 9 - red doing 1 - royalblue doing 7 - blue doing 9 - navy"
     ]
    },
    {
     "data": {
      "image/png": "[encoded data removed]",
      "text/plain": [
       "<matplotlib.figure.Figure at 0x128757650>"
      ]
     },
     "metadata": {},
     "output_type": "display_data"
    },
    {
     "name": "stdout",
     "output_type": "stream",
     "text": [
      "\n"
     ]
    }
   ],
   "source": [
    "import collections \n",
    "SIMOUT_DIR = \"tmp/\"\n",
    "C = [\"0.01\", \"0.05\"]\n",
    "times = [1,7,9]\n",
    "full_dat = []\n",
    "subset_dat = []\n",
    "for c in C:\n",
    "    files = glob.glob(SIMOUT_DIR+\"K_1000-C_{}*/pi_x_dxy.log\".format(c))\n",
    "    print(\"lenfiles {}\".format(len(files)))\n",
    "    full_dat = []\n",
    "    for f in files:\n",
    "        try:\n",
    "            full_dat.append(load_pidxy(f))\n",
    "        except:\n",
    "            pass\n",
    "    for t in times:\n",
    "        subset_dat.extend([x[t] for x in full_dat])\n",
    "pca = PCA(n_components=2)\n",
    "\n",
    "X_r = pca.fit(subset_dat).transform(subset_dat)\n",
    "print('explained variance ratio (first two components): %s'\n",
    "      % str(pca.explained_variance_ratio_))\n",
    "plt.figure()\n",
    "x,y = zip(*X_r)\n",
    "cur = 0\n",
    "for col, idx, size in zip([\"lightsalmon\", \"tomato\", \"red\", \"royalblue\", \"blue\", \"navy\"], [66]*6, times*2):\n",
    "    print(\"doing {} - {}\".format(size, col)),\n",
    "    plt.scatter(x[cur:idx+cur], y[cur:idx+cur], color=col, label=size, lw=2)\n",
    "    cur+=idx\n",
    "plt.legend(loc='upper right', scatterpoints=1)\n",
    "plt.show()"
   ]
  },
  {
   "cell_type": "code",
   "execution_count": 6,
   "metadata": {
    "collapsed": false
   },
   "outputs": [
    {
     "name": "stdout",
     "output_type": "stream",
     "text": [
      "(57, 100)\n",
      "explained variance ratio (first two components): [ 0.62286836  0.23778228]\n"
     ]
    },
    {
     "data": {
      "text/plain": [
       "<matplotlib.collections.PathCollection at 0x1208677d0>"
      ]
     },
     "execution_count": 6,
     "metadata": {},
     "output_type": "execute_result"
    },
    {
     "data": {
      "image/png": "[encoded data removed]",
      "text/plain": [
       "<matplotlib.figure.Figure at 0x1202d2810>"
      ]
     },
     "metadata": {},
     "output_type": "display_data"
    }
   ],
   "source": [
    "from sklearn.decomposition import PCA\n",
    "import matplotlib.pyplot as plt\n",
    "\n",
    "print(dat.shape)\n",
    "pca = PCA(n_components=2)\n",
    "X_r = pca.fit(dat).transform(dat)\n",
    "print('explained variance ratio (first two components): %s'\n",
    "      % str(pca.explained_variance_ratio_))\n",
    "plt.figure()\n",
    "x, y = zip(*X_r)\n",
    "plt.scatter(x, y)"
   ]
  },
  {
   "cell_type": "code",
   "execution_count": 115,
   "metadata": {
    "collapsed": false
   },
   "outputs": [
    {
     "name": "stdout",
     "output_type": "stream",
     "text": [
      "[43, 40, 33, 37, 44, 50, 41, 35, 37, 37, 48, 47, 34, 33, 40, 34, 30, 39, 35, 39, 39, 40, 37, 44, 35, 36, 50, 35, 26, 42, 38, 42, 48, 36, 43, 41, 38, 37, 42, 39, 45, 40, 39, 41, 44, 41, 36, 42, 42, 42, 46, 45, 41, 37, 35, 37, 23, 43, 41, 47, 36, 39, 36, 54, 42, 43, 39, 41, 36, 45, 43, 39, 43, 39, 33, 46, 34, 44, 44, 33, 43, 39, 28, 39, 42, 36, 32, 44, 40, 39, 38, 38, 50, 39, 49, 40, 43, 35, 42, 43, 35, 42, 47, 40, 31, 45, 42, 30, 40, 50, 39, 34, 36, 42, 44, 44, 43, 45, 31, 44, 43, 48, 34, 32, 44, 38, 31, 37, 38, 37, 31, 37, 39, 42, 49, 53, 32, 36, 29, 45, 46, 38, 31, 47, 39, 47, 33, 41, 40, 44, 41, 34, 27, 39, 34, 37, 42, 40, 46, 42, 37, 39, 31, 44, 36, 43, 38, 39, 45, 41, 46, 37, 39, 41, 47, 47, 42, 46, 35, 46, 39, 37, 38, 36, 35, 35, 32, 45, 36, 42, 37, 39, 33, 43, 40, 42, 41, 29, 91, 100, 95, 106, 91, 108, 93, 111, 102, 99, 84, 90, 101, 93, 95, 99, 94, 109, 103, 101, 85, 99, 100, 94, 92, 112, 100, 96, 99, 105, 112, 103, 103, 96, 104, 102, 93, 96, 94, 94, 108, 93, 92, 97, 103, 105, 92, 103, 97, 104, 100, 104, 99, 99, 103, 97, 107, 93, 98, 100, 100, 105, 97, 96, 101, 92, 102, 100, 92, 100, 109, 102, 99, 112, 92, 106, 99, 90, 104, 105, 95, 101, 99, 101, 100, 95, 108, 99, 97, 89, 100, 100, 94, 100, 104, 107, 100, 92, 107, 101, 92, 88, 108, 99, 100, 105, 102, 93, 107, 105, 93, 103, 104, 100, 96, 107, 102, 101, 100, 106, 103, 91, 101, 100, 103, 109, 102, 98, 105, 95, 104, 101, 103, 104, 104, 99, 92, 103, 107, 100, 92, 108, 89, 92, 101, 103, 104, 98, 100, 113, 91, 96, 107, 98, 103, 105, 97, 98, 93, 97, 95, 94, 101, 109, 102, 94, 90, 98, 94, 111, 96, 99, 108, 98, 103, 106, 94, 94, 97, 100, 104, 108, 102, 102, 102, 95, 102, 103, 105, 97, 93, 105, 93, 98, 98, 99, 95, 91]\n"
     ]
    }
   ],
   "source": [
    "print([np.sum(x) for x in subset_dat])"
   ]
  },
  {
   "cell_type": "markdown",
   "metadata": {},
   "source": [
    "## Plot colonization rates"
   ]
  },
  {
   "cell_type": "code",
   "execution_count": 96,
   "metadata": {
    "collapsed": false
   },
   "outputs": [
    {
     "name": "stdout",
     "output_type": "stream",
     "text": [
      "66\n",
      "66\n",
      "[10, 10, 10, 10, 10, 10, 10, 10, 10, 10, 10, 10, 10, 10, 10, 10, 10, 10, 10, 10, 10, 10, 10, 10, 10, 10, 10, 10, 10, 10, 10, 10, 10, 10, 10, 10, 10, 10, 10, 10, 10, 10, 10, 10, 10, 10, 10, 10, 10, 10, 10, 10, 10, 10, 10, 10, 10, 10, 10, 10, 10, 10, 10, 10, 10, 10, 10, 10, 10, 10, 10, 10, 10, 10, 10, 10, 10, 10, 10, 10, 10, 10, 10, 10, 10, 10, 10, 10, 10, 10, 10, 10, 10, 10, 10, 10, 10, 10, 10, 10, 10, 10, 10, 10, 10, 10, 10, 10, 10, 10, 10, 10, 10, 10, 10, 10, 10, 10, 10, 10, 10, 10, 10, 10, 10, 10, 10, 10, 10, 10, 10, 10]\n",
      "(1320, 100)\n",
      "explained variance ratio (first two components): [ 0.81530358  0.05690712]\n",
      "doing 0.05 - red\n",
      "doing 0.01 - blue\n"
     ]
    },
    {
     "data": {
      "image/png": "[encoded data removed]",
      "text/plain": [
       "<matplotlib.figure.Figure at 0x128250410>"
      ]
     },
     "metadata": {},
     "output_type": "display_data"
    }
   ],
   "source": [
    "SIMOUT_DIR=\"tmp/\"\n",
    "K = [10000, 5000, 1000]\n",
    "C = [0.05, 0.01]\n",
    "\n",
    "dat = []\n",
    "lens = []\n",
    "for c in C:\n",
    "\n",
    "    datfiles = glob.glob(SIMOUT_DIR+\"K_1000-C_{}*/pi_x_dxy.log\".format(c))\n",
    "    print(len(datfiles))\n",
    "    for f in datfiles:\n",
    "        mydat = load_pidxy(f)\n",
    "        dat.extend(mydat)\n",
    "        lens.append(len(mydat))\n",
    "print(lens)\n",
    "dat = np.array(dat)\n",
    "print(dat.shape)\n",
    "\n",
    "pca = PCA(n_components=2)\n",
    "X_r = pca.fit(dat).transform(dat)\n",
    "print('explained variance ratio (first two components): %s'\n",
    "      % str(pca.explained_variance_ratio_))\n",
    "plt.figure()\n",
    "x,y = zip(*X_r)\n",
    "cur = 0\n",
    "for col, idx, size in zip([\"red\", \"blue\"], [len(dat)/2]*2, C):\n",
    "    print(\"doing {} - {}\".format(size, col))\n",
    "    plt.scatter(x[cur:idx+cur], y[cur:idx+cur], color=col, label=size, lw=2)\n",
    "    cur+=idx\n",
    "plt.legend(loc='upper left', scatterpoints=1)\n",
    "plt.show()"
   ]
  },
  {
   "cell_type": "code",
   "execution_count": 91,
   "metadata": {
    "collapsed": false
   },
   "outputs": [
    {
     "data": {
      "text/plain": [
       "1320"
      ]
     },
     "execution_count": 91,
     "metadata": {},
     "output_type": "execute_result"
    }
   ],
   "source": [
    "len(dat)"
   ]
  },
  {
   "cell_type": "markdown",
   "metadata": {},
   "source": [
    "## Plot local community sizes"
   ]
  },
  {
   "cell_type": "code",
   "execution_count": 219,
   "metadata": {
    "collapsed": false
   },
   "outputs": [
    {
     "name": "stdout",
     "output_type": "stream",
     "text": [
      "/Volumes/WorkDrive/gimmeSAD/simout/K_10000-C_0.01/pi_x_dxy.log\n",
      "/Volumes/WorkDrive/gimmeSAD/simout/K_5000-C_0.01/pi_x_dxy.log\n",
      "/Volumes/WorkDrive/gimmeSAD/simout/K_1000-C_0.01/pi_x_dxy.log\n",
      "[100, 46, 2]\n",
      "(148, 100)\n",
      "explained variance ratio (first two components): [ 0.7633547   0.11368971]\n",
      "doing 10000 - red\n",
      "doing 5000 - blue\n",
      "doing 1000 - yellow\n"
     ]
    },
    {
     "data": {
      "image/png": "[encoded data removed]",
      "text/plain": [
       "<matplotlib.figure.Figure at 0x12999f590>"
      ]
     },
     "metadata": {},
     "output_type": "display_data"
    }
   ],
   "source": [
    "os.chdir(SIMOUT_DIR)\n",
    "K = [10000, 5000, 1000]\n",
    "C = [0.1, 0.01, 0.001]\n",
    "multi_col = [\"\", \"_x4\", \"_x10\"]\n",
    "\n",
    "dat = []\n",
    "lens = []\n",
    "for k in K:\n",
    "    datfile = os.path.join(SIMOUT_DIR, \"K_{}-C_0.01/pi_x_dxy.log\".format(k))\n",
    "    print(datfile)\n",
    "    mydat = load_pidxy(datfile)\n",
    "    dat.extend(mydat)\n",
    "    lens.append(len(mydat))\n",
    "print(lens)\n",
    "dat = np.array(dat)\n",
    "print(dat.shape)\n",
    "\n",
    "pca = PCA(n_components=2)\n",
    "X_r = pca.fit(dat).transform(dat)\n",
    "print('explained variance ratio (first two components): %s'\n",
    "      % str(pca.explained_variance_ratio_))\n",
    "plt.figure()\n",
    "x,y = zip(*X_r)\n",
    "cur = 0\n",
    "for col, idx, size in zip([\"red\", \"blue\", \"yellow\"], lens, K):\n",
    "    print(\"doing {} - {}\".format(size, col))\n",
    "    plt.scatter(x[cur:idx+cur], y[cur:idx+cur], color=col, label=size, lw=2)\n",
    "    cur+=idx\n",
    "plt.legend(loc='upper left', scatterpoints=1)\n",
    "plt.show()"
   ]
  },
  {
   "cell_type": "code",
   "execution_count": null,
   "metadata": {
    "collapsed": true
   },
   "outputs": [],
   "source": []
  }
 ],
 "metadata": {
  "anaconda-cloud": {},
  "kernelspec": {
   "display_name": "Python 2",
   "language": "python",
   "name": "python2"
  },
  "language_info": {
   "codemirror_mode": {
    "name": "ipython",
    "version": 2
   },
   "file_extension": ".py",
   "mimetype": "text/x-python",
   "name": "python",
   "nbconvert_exporter": "python",
   "pygments_lexer": "ipython2",
   "version": "2.7.12"
  }
 },
 "nbformat": 4,
 "nbformat_minor": 0
}
