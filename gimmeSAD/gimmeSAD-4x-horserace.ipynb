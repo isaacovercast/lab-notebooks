{
 "cells": [
  {
   "cell_type": "markdown",
   "metadata": {},
   "source": [
    "# Fit abundance curves to different models"
   ]
  },
  {
   "cell_type": "code",
   "execution_count": 9,
   "metadata": {
    "collapsed": false
   },
   "outputs": [],
   "source": [
    "%matplotlib inline\n",
    "\n",
    "import os\n",
    "os.chdir(\"/Volumes/WorkDrive/gimmeSAD\")\n",
    "import matplotlib.pyplot as plt\n",
    "import macroeco as meco\n",
    "import pandas as pd\n",
    "import numpy as np\n",
    "import implicit_BI\n",
    "import gimmeSAD\n",
    "## For literal_eval\n",
    "import sys\n",
    "import ast\n",
    "\n",
    "#SIMOUT_DIR = \"/Users/iovercast/Desktop/lab-notebooks/gimmeSAD/simout\"\n",
    "SIMOUT_DIR = \"/Volumes/WorkDrive/gimmeSAD/simout\"\n",
    "OUTFILE = \"gimmeSAD.out\"\n",
    "os.chdir(SIMOUT_DIR)\n",
    "col_rates = [0.01, 0.001]\n"
   ]
  },
  {
   "cell_type": "code",
   "execution_count": 6,
   "metadata": {
    "collapsed": true
   },
   "outputs": [],
   "source": [
    "## quicksort stolen from the internet\n",
    "def qsort(arr):\n",
    "     if len(arr) <= 1:\n",
    "          return arr\n",
    "     else:\n",
    "          return qsort([x for x in arr[1:] if x[0]<arr[0][0]])\\\n",
    "                    + [arr[0]] + qsort([x for x in arr[1:] if x[0]>=arr[0][0]])"
   ]
  },
  {
   "cell_type": "code",
   "execution_count": 2,
   "metadata": {
    "collapsed": false
   },
   "outputs": [],
   "source": [
    "def unpack_abundances(my_abund):\n",
    "    \"\"\" Unpacks packed abundances in my form (tuples), into just raw species abundances \"\"\"\n",
    "    raw_abund = []\n",
    "    for ab in my_abund:\n",
    "        raw_abund.extend([ab[0]] * ab[1])\n",
    "    return raw_abund\n"
   ]
  },
  {
   "cell_type": "code",
   "execution_count": 16,
   "metadata": {
    "collapsed": true
   },
   "outputs": [],
   "source": [
    "def plot_models(abundances):\n",
    "\n",
    "    plt.figure()\n",
    "    sad_df = abundances\n",
    "\n",
    "    p = meco.models.logser.fit_mle(sad_df)\n",
    "    logser_rad = meco.models.logser.rank(len(sad_df), p)\n",
    "\n",
    "    broken_stick_rad = meco.models.nbinom_ztrunc.rank(len(sad_df), np.mean(sad_df), 1)\n",
    "\n",
    "    mu, s = meco.models.plnorm_ztrunc.fit_mle(sad_df)\n",
    "    plnorm_rad = meco.models.plnorm_ztrunc.rank(len(sad_df), mu, s)\n",
    "\n",
    "    mu, s = meco.models.lognorm.fit_mle(sad_df)\n",
    "    lognorm_rad = meco.models.plnorm_ztrunc.rank(len(sad_df), mu, s)\n",
    "\n",
    "    ranks = np.arange(1, len(sad_df) + 1)\n",
    "    print(len(ranks))\n",
    "    print(ranks)\n",
    "    print(len(sad_df))\n",
    "    print(sad_df)\n",
    "          \n",
    "    broken_stick_rad = meco.models.nbinom_ztrunc.rank(len(sad_df), np.mean(sad_df), 1)\n",
    "    plt.scatter(ranks, np.sort(sad_df))\n",
    "    plt.semilogy(ranks, np.sort(sad_df)[::-1], label=\"Empirical RAD\")\n",
    "    plt.semilogy(ranks, logser_rad[::-1], label=\"Logseries RAD\")\n",
    "    plt.semilogy(ranks, broken_stick_rad[::-1], label=\"Broken Stick RAD\")\n",
    "    plt.semilogy(ranks, lognorm_rad[::-1], label=\"Lognormal RAD\")\n",
    "    plt.semilogy(ranks, plnorm_rad[::-1], label=\"Poisson Lognormal RAD\")\n",
    "    plt.xlabel(\"Rank\")\n",
    "    plt.ylabel(\"Log(Abundance)\")\n",
    "    plt.legend()\n",
    "    plt.show"
   ]
  },
  {
   "cell_type": "code",
   "execution_count": 4,
   "metadata": {
    "collapsed": false
   },
   "outputs": [],
   "source": [
    "models = [meco.models.logser, meco.models.lognorm, meco.models.nbinom_ztrunc, meco.models.plnorm_ztrunc]\n",
    "def best_fit(abundances):\n",
    "    \"\"\" Attempt to fit each model to the empirical, then get the AIC\n",
    "    of the model fit\"\"\"\n",
    "    \n",
    "    for m in models:\n",
    "        print(m)\n",
    "        mle_params = m.fit_mle(abundances)\n",
    "        #print(mle_params)\n",
    "        if len(mle_params) > 1:\n",
    "            model_aic = meco.compare.AIC(abundances, m(mle_params[0], mle_params[1]))\n",
    "        else:\n",
    "            model_aic = meco.compare.AIC(abundances, m(mle_params))\n",
    "\n",
    "        print(model_aic)"
   ]
  },
  {
   "cell_type": "code",
   "execution_count": 88,
   "metadata": {
    "collapsed": true
   },
   "outputs": [
    {
     "name": "stdout",
     "output_type": "stream",
     "text": [
      "<macroeco.models._distributions.logser_gen object at 0x11abbef50>\n",
      "50.081103715\n",
      "<macroeco.models._distributions.lognorm_gen object at 0x11a57c810>\n",
      "49.7912729904\n",
      "<macroeco.models._distributions.nbinom_ztrunc_gen object at 0x11ace08d0>\n",
      "47.55256415\n",
      "<macroeco.models._distributions.plnorm_ztrunc_gen object at 0x11abbe4d0>\n",
      "47.5582657028\n",
      "[2, 2, 2, 2, 2, 2, 2, 2, 2, 2, 500]\n"
     ]
    }
   ],
   "source": [
    "## Test widgets\n",
    "best_fit([1,1,1,2,3,4,4,4,5,5,6])\n",
    "print(unpack_abundances([(2,10), (500,1)]))"
   ]
  },
  {
   "cell_type": "code",
   "execution_count": null,
   "metadata": {
    "collapsed": false
   },
   "outputs": [
    {
     "name": "stdout",
     "output_type": "stream",
     "text": [
      "K_1000-C_0.001\n",
      "<macroeco.models._distributions.logser_gen object at 0x1190bb9d0>\n",
      "71.3453422877\n",
      "<macroeco.models._distributions.lognorm_gen object at 0x1191fec10>\n",
      "78.8309293004\n",
      "<macroeco.models._distributions.nbinom_ztrunc_gen object at 0x1190bb390>\n",
      "75.856290333\n",
      "<macroeco.models._distributions.plnorm_ztrunc_gen object at 0x1191fe390>\n",
      "78.269063712\n",
      "\n",
      "\n",
      "6\n",
      "[1 2 3 4 5 6]\n",
      "6\n",
      "[1, 2, 40, 219, 341, 397]\n",
      "K_1000-C_0.001_x10\n",
      "<macroeco.models._distributions.logser_gen object at 0x1190bb9d0>\n",
      "1554.11169589\n",
      "<macroeco.models._distributions.lognorm_gen object at 0x1191fec10>\n",
      "1488.23423831\n",
      "<macroeco.models._distributions.nbinom_ztrunc_gen object at 0x1190bb390>\n",
      "1483.26717152\n",
      "<macroeco.models._distributions.plnorm_ztrunc_gen object at 0x1191fe390>\n",
      "1486.99313632\n",
      "\n",
      "\n"
     ]
    }
   ],
   "source": [
    "dirs = os.listdir(SIMOUT_DIR)\n",
    "#dirs = [\"K_5000-C_0.01-1\"]\n",
    "for d in dirs:\n",
    "    if not \"K\" in d:\n",
    "        continue\n",
    "    else:\n",
    "        print(d)\n",
    "    if not os.path.isdir(d):\n",
    "        print(\"founda file\")\n",
    "        continue\n",
    "#sys.exit()\n",
    "#if True:\n",
    "    if not os.path.exists(os.path.join(d, OUTFILE)):\n",
    "        continue\n",
    "    with open(os.path.join(d, OUTFILE), 'r') as out:\n",
    "        lines = out.readlines()\n",
    "        for line in lines:\n",
    "            if \"Raw abundance\" in line:\n",
    "                abund = ast.literal_eval(line.split(\"OrderedDict\")[1])\n",
    "                abund = qsort(abund)\n",
    "                abund = unpack_abundances(abund)\n",
    "                best_fit(abund)\n",
    "                print(\"\\n\")\n",
    "                plot_models(abund)\n"
   ]
  },
  {
   "cell_type": "code",
   "execution_count": null,
   "metadata": {
    "collapsed": false
   },
   "outputs": [
    {
     "data": {
      "text/plain": [
       "1"
      ]
     },
     "execution_count": 15,
     "metadata": {},
     "output_type": "execute_result"
    }
   ],
   "source": [
    "1"
   ]
  },
  {
   "cell_type": "code",
   "execution_count": null,
   "metadata": {
    "collapsed": true
   },
   "outputs": [],
   "source": []
  }
 ],
 "metadata": {
  "anaconda-cloud": {},
  "kernelspec": {
   "display_name": "Python 2",
   "language": "python",
   "name": "python2"
  },
  "language_info": {
   "codemirror_mode": {
    "name": "ipython",
    "version": 2
   },
   "file_extension": ".py",
   "mimetype": "text/x-python",
   "name": "python",
   "nbconvert_exporter": "python",
   "pygments_lexer": "ipython2",
   "version": "2.7.12"
  }
 },
 "nbformat": 4,
 "nbformat_minor": 0
}
