{
 "cells": [
  {
   "cell_type": "markdown",
   "metadata": {},
   "source": [
    "# Fit abundance curves to different models"
   ]
  },
  {
   "cell_type": "code",
   "execution_count": 15,
   "metadata": {
    "collapsed": true
   },
   "outputs": [],
   "source": [
    "%matplotlib inline\n",
    "\n",
    "import os\n",
    "os.chdir(\"/Volumes/WorkDrive/gimmeSAD\")\n",
    "import implicit_BI\n",
    "import gimmeSAD\n",
    "import numpy as np\n",
    "## For literal_eval\n",
    "import ast\n",
    "import matplotlib.pyplot as plt\n",
    "\n",
    "SIMOUT_DIR = \"/Users/iovercast/Desktop/lab-notebooks/gimmeSAD/simout\"\n",
    "OUTFILE = \"gimmeSAD.out\"\n",
    "os.chdir(SIMOUT_DIR)\n",
    "col_rates = [0.01, 0.001]\n"
   ]
  },
  {
   "cell_type": "code",
   "execution_count": 18,
   "metadata": {
    "collapsed": true
   },
   "outputs": [],
   "source": [
    "## quicksort stolen from the internet\n",
    "def qsort(arr):\n",
    "     if len(arr) <= 1:\n",
    "          return arr\n",
    "     else:\n",
    "          return qsort([x for x in arr[1:] if x[0]<arr[0][0]])\\\n",
    "                    + [arr[0]] + qsort([x for x in arr[1:] if x[0]>=arr[0][0]])"
   ]
  },
  {
   "cell_type": "code",
   "execution_count": 53,
   "metadata": {
    "collapsed": false
   },
   "outputs": [
    {
     "name": "stdout",
     "output_type": "stream",
     "text": [
      "K_5000-C_0.01-1\n",
      "[(1, 20), (2, 8), (3, 12), (4, 5), (5, 5), (6, 2), (7, 2), (9, 4), (10, 1), (11, 3), (12, 6), (13, 2), (14, 2), (15, 1), (16, 1), (18, 1), (19, 1), (20, 5), (23, 1), (26, 2), (28, 1), (29, 3), (30, 1), (32, 1), (33, 1), (35, 2), (37, 4), (39, 1), (40, 1), (41, 2), (42, 1), (44, 2), (50, 1), (54, 2), (55, 1), (56, 4), (67, 2), (73, 1), (75, 1), (82, 1), (85, 1), (86, 1), (88, 1), (89, 1), (115, 1), (134, 1), (159, 1), (208, 1), (300, 1), (302, 1), (371, 1), (427, 1), (525, 1)]\n"
     ]
    },
    {
     "data": {
      "image/png": "[encoded data removed]",
      "text/plain": [
       "<matplotlib.figure.Figure at 0x11659d810>"
      ]
     },
     "metadata": {},
     "output_type": "display_data"
    },
    {
     "name": "stdout",
     "output_type": "stream",
     "text": [
      "Abundance in octaves - OrderedDict([(1, 20), (2, 20), (4, 14), (8, 19), (16, 16), (32, 23)])\n",
      "\n",
      "octaves - [(1, 20), (2, 20), (4, 14), (8, 19), (16, 16), (32, 23)]\n"
     ]
    },
    {
     "data": {
      "image/png": "[encoded data removed]",
      "text/plain": [
       "<matplotlib.figure.Figure at 0x11af0a290>"
      ]
     },
     "metadata": {},
     "output_type": "display_data"
    }
   ],
   "source": [
    "#dirs = os.listdir(SIMOUT_DIR)\n",
    "dirs = [\"K_5000-C_0.01-1\"]\n",
    "for d in dirs:\n",
    "    if not os.path.isdir(d):\n",
    "        print(\"founda file\")\n",
    "        continue\n",
    "    print(d)\n",
    "    with open(os.path.join(d, OUTFILE), 'r') as out:\n",
    "        lines = out.readlines()\n",
    "        for line in lines:\n",
    "            if \"Raw abundance\" in line:\n",
    "                abund = ast.literal_eval(line.split(\"OrderedDict\")[1])\n",
    "                abund = qsort(abund)\n",
    "                print(abund)\n",
    "                x, y = zip(*abund)\n",
    "                plt.bar(x, y)\n",
    "                plt.show()\n",
    "            if \"Abundance in octaves\" in line:\n",
    "                print(line)\n",
    "                abund = ast.literal_eval(line.split(\"OrderedDict\")[1])\n",
    "                abund = qsort(abund)\n",
    "                print(\"octaves - {}\".format(abund))\n",
    "                x, y = zip(*abund)\n",
    "                plt.bar(np.arange(len(x)), y)\n",
    "                plt.xticks(np.arange(len(x)))\n"
   ]
  },
  {
   "cell_type": "code",
   "execution_count": null,
   "metadata": {
    "collapsed": true
   },
   "outputs": [],
   "source": []
  }
 ],
 "metadata": {
  "kernelspec": {
   "display_name": "Python 2",
   "language": "python",
   "name": "python2"
  },
  "language_info": {
   "codemirror_mode": {
    "name": "ipython",
    "version": 2
   },
   "file_extension": ".py",
   "mimetype": "text/x-python",
   "name": "python",
   "nbconvert_exporter": "python",
   "pygments_lexer": "ipython2",
   "version": "2.7.11"
  }
 },
 "nbformat": 4,
 "nbformat_minor": 0
}
