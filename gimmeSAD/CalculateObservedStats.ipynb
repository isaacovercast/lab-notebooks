{
 "cells": [
  {
   "cell_type": "markdown",
   "metadata": {},
   "source": [
    "## Calculate pi and dxy for the observed data\n",
    "This assumes you have a directory full of fasta files, one for \n",
    "each species. "
   ]
  },
  {
   "cell_type": "code",
   "execution_count": 81,
   "metadata": {
    "collapsed": true
   },
   "outputs": [],
   "source": [
    "from itertools import combinations\n",
    "from collections import Counter\n",
    "import numpy as np\n",
    "import glob\n",
    "import os\n",
    "\n",
    "spider_dir = \"/Volumes/WorkDrive/gimmeSAD/brent_spider_data/spider-fasta\"\n",
    "os.chdir(spider_dir)"
   ]
  },
  {
   "cell_type": "code",
   "execution_count": 80,
   "metadata": {
    "collapsed": false
   },
   "outputs": [],
   "source": [
    "def pi(file):\n",
    "    ## Calculate average pi\n",
    "    pi = 0\n",
    "    len_seq = 0\n",
    "    try:\n",
    "        f = open(file).readlines()\n",
    "        ## Get just the sequences\n",
    "        dat = [list(x.strip()) for x in f if \">\" not in x]\n",
    "        len_seq = len(dat[0])\n",
    "\n",
    "        ## Transpose, so now we have a list of lists of all bases at each\n",
    "        ## position.\n",
    "        dat = np.transpose(np.array(dat))\n",
    "\n",
    "        ## for each position\n",
    "        for d in dat:\n",
    "            ## If the position is _not_ monomorphic\n",
    "            if len(Counter(d)) > 1:\n",
    "                ## Enumerate the possible comparisons and for each\n",
    "                ## comparison calculate the number of pairwise differences,\n",
    "                ## summing over all sites in the sequence.\n",
    "                for c in combinations(Counter(d).values(), 2):\n",
    "                    #print(c)\n",
    "                    n = c[0] + c[1]\n",
    "                    n_comparisons = float(n) * (n - 1) / 2\n",
    "                    pi += float(c[0]) * (n-c[0]) / n_comparisons\n",
    "    except Exception as inst:\n",
    "        print(\"Something happenend - {}\".format(inst))\n",
    "        pi = 0\n",
    "    ## Average over the length of the whole sequence.\n",
    "    return pi/len_seq"
   ]
  },
  {
   "cell_type": "code",
   "execution_count": 85,
   "metadata": {
    "collapsed": false
   },
   "outputs": [
    {
     "name": "stdout",
     "output_type": "stream",
     "text": [
      "/Volumes/WorkDrive/gimmeSAD/brent_spider_data/spider-fasta/GL-01a.fasta 0.0111257033344\n",
      "/Volumes/WorkDrive/gimmeSAD/brent_spider_data/spider-fasta/GL-01b.fasta 0.0232469419662\n",
      "/Volumes/WorkDrive/gimmeSAD/brent_spider_data/spider-fasta/GL-01c.fasta 0.000251794032481\n",
      "/Volumes/WorkDrive/gimmeSAD/brent_spider_data/spider-fasta/GL-02.fasta 0\n",
      "/Volumes/WorkDrive/gimmeSAD/brent_spider_data/spider-fasta/GL-03.fasta 0.0284987982991\n",
      "/Volumes/WorkDrive/gimmeSAD/brent_spider_data/spider-fasta/GL-04.fasta 0.020896656535\n",
      "/Volumes/WorkDrive/gimmeSAD/brent_spider_data/spider-fasta/GL-05.fasta 0\n",
      "/Volumes/WorkDrive/gimmeSAD/brent_spider_data/spider-fasta/GL-06.fasta 0.00325807829716\n",
      "/Volumes/WorkDrive/gimmeSAD/brent_spider_data/spider-fasta/GL-07.fasta 0\n",
      "/Volumes/WorkDrive/gimmeSAD/brent_spider_data/spider-fasta/GL-08.fasta 0.00340567121389\n",
      "/Volumes/WorkDrive/gimmeSAD/brent_spider_data/spider-fasta/GL-09.fasta 0.00303933357732\n",
      "/Volumes/WorkDrive/gimmeSAD/brent_spider_data/spider-fasta/GL-10.fasta 0.0369230769231\n",
      "/Volumes/WorkDrive/gimmeSAD/brent_spider_data/spider-fasta/GL-11.fasta 0.0319926028664\n",
      "/Volumes/WorkDrive/gimmeSAD/brent_spider_data/spider-fasta/GL-12.fasta 0.038754307369\n",
      "/Volumes/WorkDrive/gimmeSAD/brent_spider_data/spider-fasta/GL-13.fasta 0\n",
      "/Volumes/WorkDrive/gimmeSAD/brent_spider_data/spider-fasta/GL-14.fasta 0\n",
      "/Volumes/WorkDrive/gimmeSAD/brent_spider_data/spider-fasta/GL-15.fasta 0\n",
      "/Volumes/WorkDrive/gimmeSAD/brent_spider_data/spider-fasta/GL-16.fasta 0.00625811121094\n",
      "/Volumes/WorkDrive/gimmeSAD/brent_spider_data/spider-fasta/GL-17.fasta 0.0291742085154\n",
      "/Volumes/WorkDrive/gimmeSAD/brent_spider_data/spider-fasta/GL-18.fasta 0.000555555555556\n",
      "/Volumes/WorkDrive/gimmeSAD/brent_spider_data/spider-fasta/GL-19.fasta 0.00116754232341\n",
      "/Volumes/WorkDrive/gimmeSAD/brent_spider_data/spider-fasta/GL-20.fasta 0.00868055555556\n",
      "/Volumes/WorkDrive/gimmeSAD/brent_spider_data/spider-fasta/GL-21.fasta 0.0046387427741\n",
      "/Volumes/WorkDrive/gimmeSAD/brent_spider_data/spider-fasta/GL-22.fasta 0.00329493317476\n",
      "/Volumes/WorkDrive/gimmeSAD/brent_spider_data/spider-fasta/GL-23.fasta 0.00220327814842\n",
      "/Volumes/WorkDrive/gimmeSAD/brent_spider_data/spider-fasta/GL-24.fasta 0.000923147934456\n",
      "/Volumes/WorkDrive/gimmeSAD/brent_spider_data/spider-fasta/GL-25.fasta 0.0110062893082\n",
      "/Volumes/WorkDrive/gimmeSAD/brent_spider_data/spider-fasta/GL-26.fasta 0.0106382978723\n",
      "/Volumes/WorkDrive/gimmeSAD/brent_spider_data/spider-fasta/GL-27.fasta 0.00255516840883\n",
      "/Volumes/WorkDrive/gimmeSAD/brent_spider_data/spider-fasta/GL-28.fasta 0.0260895942886\n",
      "/Volumes/WorkDrive/gimmeSAD/brent_spider_data/spider-fasta/GL-29.fasta 0.00101317122594\n",
      "/Volumes/WorkDrive/gimmeSAD/brent_spider_data/spider-fasta/GL-30.fasta 0.00830143029958\n",
      "/Volumes/WorkDrive/gimmeSAD/brent_spider_data/spider-fasta/GL-31.fasta 0.0175121898237\n",
      "/Volumes/WorkDrive/gimmeSAD/brent_spider_data/spider-fasta/GL-32.fasta 0.00285342100366\n",
      "/Volumes/WorkDrive/gimmeSAD/brent_spider_data/spider-fasta/GL-33.fasta 0.0048969942587\n",
      "/Volumes/WorkDrive/gimmeSAD/brent_spider_data/spider-fasta/GL-34.fasta 0.0277057119732\n",
      "/Volumes/WorkDrive/gimmeSAD/brent_spider_data/spider-fasta/GL-35.fasta 0.00230043708305\n",
      "/Volumes/WorkDrive/gimmeSAD/brent_spider_data/spider-fasta/GL-36.fasta 0.00151975683891\n",
      "/Volumes/WorkDrive/gimmeSAD/brent_spider_data/spider-fasta/GL-37.fasta 0.00151975683891\n",
      "/Volumes/WorkDrive/gimmeSAD/brent_spider_data/spider-fasta/GL-38.fasta 0.000966183574879\n",
      "/Volumes/WorkDrive/gimmeSAD/brent_spider_data/spider-fasta/GL-39.fasta 0.0212765957447\n",
      "/Volumes/WorkDrive/gimmeSAD/brent_spider_data/spider-fasta/GL-40.fasta 0.00376676529902\n",
      "/Volumes/WorkDrive/gimmeSAD/brent_spider_data/spider-fasta/GL-41.fasta 0.00243931985375\n",
      "/Volumes/WorkDrive/gimmeSAD/brent_spider_data/spider-fasta/GL-42.fasta 0.0070523415978\n",
      "/Volumes/WorkDrive/gimmeSAD/brent_spider_data/spider-fasta/GL-43.fasta 0\n",
      "/Volumes/WorkDrive/gimmeSAD/brent_spider_data/spider-fasta/GL-44.fasta 0.0216182163042\n",
      "/Volumes/WorkDrive/gimmeSAD/brent_spider_data/spider-fasta/GL-45.fasta 0.0165224846076\n",
      "/Volumes/WorkDrive/gimmeSAD/brent_spider_data/spider-fasta/GL-46.fasta 0.000759878419453\n",
      "/Volumes/WorkDrive/gimmeSAD/brent_spider_data/spider-fasta/GL-47a.fasta 0.000855740004676\n",
      "/Volumes/WorkDrive/gimmeSAD/brent_spider_data/spider-fasta/GL-47b.fasta 0.00401565871277\n",
      "/Volumes/WorkDrive/gimmeSAD/brent_spider_data/spider-fasta/GL-48.fasta 0\n",
      "/Volumes/WorkDrive/gimmeSAD/brent_spider_data/spider-fasta/GL-49.fasta 0.00540363638847\n",
      "/Volumes/WorkDrive/gimmeSAD/brent_spider_data/spider-fasta/GL-50.fasta 0.00460213160103\n",
      "/Volumes/WorkDrive/gimmeSAD/brent_spider_data/spider-fasta/GL-51.fasta 0.000189969604863\n",
      "/Volumes/WorkDrive/gimmeSAD/brent_spider_data/spider-fasta/GL-52.fasta 0.0023369375654\n",
      "/Volumes/WorkDrive/gimmeSAD/brent_spider_data/spider-fasta/GL-53.fasta 0.00201640940064\n",
      "/Volumes/WorkDrive/gimmeSAD/brent_spider_data/spider-fasta/GL-54.fasta 0.0021358744763\n"
     ]
    }
   ],
   "source": [
    "files = glob.glob(os.path.join(spider_dir, \"*.fasta\"))\n",
    "pis = []\n",
    "for f in files:\n",
    "    print(f), \n",
    "    print(pi(f))\n",
    "    pis.append(pi(f))"
   ]
  },
  {
   "cell_type": "code",
   "execution_count": 93,
   "metadata": {
    "collapsed": false
   },
   "outputs": [
    {
     "name": "stdout",
     "output_type": "stream",
     "text": [
      "[0, 0, 0, 0, 0, 0, 0, 0, 0.00018996960486322188, 0.0002517940324814302, 0.0005555555555555556, 0.0007598784194528875, 0.0008557400046761748, 0.0009231479344564966, 0.000966183574879227, 0.0010131712259371832, 0.0011675423234092236, 0.001519756838905775, 0.001519756838905775, 0.0020164094006396888, 0.002135874476300008, 0.0022032781484227, 0.002300437083045779, 0.002336937565399372, 0.0024393198537509364, 0.0025551684088269454, 0.002853421003659824, 0.0030393335773165327, 0.003258078297161152, 0.0032949331747638244, 0.0034056712138903922, 0.003766765299023363, 0.004015658712767641, 0.004602131601026757, 0.004638742774096721, 0.0048969942586963855, 0.0054036363884719186, 0.006258111210941404, 0.0070523415977961435, 0.008301430299580163, 0.008680555555555554, 0.010638297872340425, 0.0110062893081761, 0.011125703334390787, 0.016522484607590992, 0.017512189823658986, 0.02089665653495441, 0.021276595744680844, 0.02161821630422097, 0.023246941966241903, 0.02608959428856512, 0.02770571197319974, 0.028498798299131076, 0.029174208515440194, 0.03199260286638926, 0.036923076923076927, 0.03875430736898448]\n"
     ]
    }
   ],
   "source": [
    "print(sorted(pis))"
   ]
  }
 ],
 "metadata": {
  "anaconda-cloud": {},
  "kernelspec": {
   "display_name": "Python 2",
   "language": "python",
   "name": "python2"
  },
  "language_info": {
   "codemirror_mode": {
    "name": "ipython",
    "version": 2
   },
   "file_extension": ".py",
   "mimetype": "text/x-python",
   "name": "python",
   "nbconvert_exporter": "python",
   "pygments_lexer": "ipython2",
   "version": "2.7.12"
  }
 },
 "nbformat": 4,
 "nbformat_minor": 0
}
