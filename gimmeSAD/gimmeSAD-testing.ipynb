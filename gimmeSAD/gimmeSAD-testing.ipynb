{
 "cells": [
  {
   "cell_type": "code",
   "execution_count": 190,
   "metadata": {
    "collapsed": false
   },
   "outputs": [],
   "source": [
    "%matplotlib inline\n",
    "\n",
    "import os\n",
    "os.chdir(\"/Volumes/WorkDrive/gimmeSAD\")\n",
    "import implicit_BI\n",
    "import gimmeSAD\n",
    "import numpy as np\n",
    "import matplotlib.pyplot as plt"
   ]
  },
  {
   "cell_type": "markdown",
   "metadata": {},
   "source": [
    "# Begin simulation code"
   ]
  },
  {
   "cell_type": "code",
   "execution_count": 191,
   "metadata": {
    "collapsed": true
   },
   "outputs": [],
   "source": [
    "## Create the spatial model\n",
    "data = implicit_BI.implicit_BI()\n",
    "\n",
    "## Select the composition of the metacommunity\n",
    "data.set_metacommunity(\"metacommunity_LS4.txt\")\n",
    "#data.set_metacommunity(\"uniform\")\n",
    "\n",
    "## Select the geologic process\n",
    "#data.prepopulate(mode=\"landbridge\")\n",
    "data.prepopulate(mode=\"volcanic\")\n",
    "\n",
    "## quicksort stolen from the internet\n",
    "def qsort(arr): \n",
    "     if len(arr) <= 1:\n",
    "          return arr\n",
    "     else:\n",
    "          return qsort([x for x in arr[1:] if x.abundance<arr[0].abundance])\\\n",
    "                    + [arr[0]] + qsort([x for x in arr[1:] if x.abundance>=arr[0].abundance])"
   ]
  },
  {
   "cell_type": "code",
   "execution_count": 192,
   "metadata": {
    "collapsed": false
   },
   "outputs": [
    {
     "name": "stdout",
     "output_type": "stream",
     "text": [
      "Done 0\n",
      "Done 10000\n",
      "Done 20000\n",
      "Done 30000\n",
      "Done 40000\n"
     ]
    }
   ],
   "source": [
    "## Run the simulation for a while\n",
    "for i in range(50000):\n",
    "    if not i % 10000:\n",
    "        print(\"Done {}\".format(i))\n",
    "        #print(i, len(data.local_community), len(set(data.local_community)))\n",
    "    data.step()"
   ]
  },
  {
   "cell_type": "code",
   "execution_count": 193,
   "metadata": {
    "collapsed": false
   },
   "outputs": [
    {
     "name": "stdout",
     "output_type": "stream",
     "text": [
      "\n",
      "\n",
      "Simulated Species Abundance Distribution\n",
      "###############################################################################\n",
      "||||||||||||||||||||||||||||||||||||||||||||||||||||||||||||||||||||||  8  1   \n",
      "|||||||||||||||||||||||||||||||||||||||||||                             5  2   \n",
      "|||||||||||||||||                                                       2  3   \n",
      "||||||||                                                                1  6   \n",
      "||||||||                                                                1  9959\n",
      "||||||||                                                                1  11  \n",
      "###############################################################################\n",
      "\n"
     ]
    }
   ],
   "source": [
    "## When you decide you've run the simulations long enough, then simulate sequences for\n",
    "## each species\n",
    "data.simulate_seqs()\n",
    "\n",
    "## Get the current abundace distribution and plot it\n",
    "abundance_distribution = data.get_abundances(octaves=False)\n",
    "print(gimmeSAD.plot_abundances_ascii(abundance_distribution))"
   ]
  },
  {
   "cell_type": "code",
   "execution_count": 194,
   "metadata": {
    "collapsed": false
   },
   "outputs": [
    {
     "name": "stdout",
     "output_type": "stream",
     "text": [
      "Species Name                    Col time    Loc Abund    Meta Abund      pi    pi_net     Dxy    S    S_island    pi_island    S_meta    pi_meta\n",
      "----------------------------  ----------  -----------  ------------  ------  --------  ------  ---  ----------  -----------  --------  ---------\n",
      "Dioryctria terebrans                4044            1        116299  0.0348    0.0199  0.0443   81           0       0.0000        79     0.0486\n",
      "Jonthonota kuriphilus              24277            3         65821  0.0097    0.0070  0.0130   34           0       0.0000        30     0.0121\n",
      "Phenacoccus spretulus              49999         9959        253524  0.0171    0.0088  0.0212   84          14       0.0035        66     0.0214\n",
      "Haplothrips quadrigibbus           16391            2         15703  0.0044    0.0055  0.0070   11           1       0.0003         7     0.0028\n",
      "Kilifia humile                      6090            1         43906  0.0049    0.0058  0.0076   12           0       0.0000         9     0.0036\n",
      "Otiorhynchus cassidea                129            1         64252  0.0133    0.0053  0.0158   37           0       0.0000        37     0.0210\n",
      "Alphitobius configurata            12060            2         23038  0.0028    0.0013  0.0034   11           0       0.0000        11     0.0042\n",
      "Tabanus abietis                    10798            2         16036  0.0050    0.0042  0.0070   15           0       0.0000        14     0.0055\n",
      "Dermatophagoides pomi               1758            1         40926  0.0026    0.0009  0.0030   11           0       0.0000        11     0.0041\n",
      "Autoplusia postica                 23593            2         63403  0.0087    0.0078  0.0124   27           1       0.0003        24     0.0088\n",
      "Bruchophagus floridensis           43068            6          4280  0.0042    0.0064  0.0072    9           3       0.0011         1     0.0006\n",
      "Dolichovespula semifuneralis        2818            1        164411  0.0525    0.0511  0.0768  113           0       0.0000       100     0.0512\n",
      "Jonthonota thrax                     626            2        122545  0.0158    0.0084  0.0198   49           1       0.0003        48     0.0225\n",
      "Ixodes serratella                  16915            3        152044  0.0199    0.0102  0.0248   57           2       0.0012        54     0.0279\n",
      "Cimex dentata                       4274            1         99273  0.0197    0.0126  0.0256   51           0       0.0000        49     0.0260\n",
      "Trialeurodes varians                6387           11         28321  0.0052    0.0048  0.0075   16           1       0.0003        14     0.0052\n",
      "Protocalliphora auxiliaris           328            1         48611  0.0039    0.0017  0.0048   12           0       0.0000        12     0.0061\n",
      "Acronicta humile                    2653            1        146244  0.0161    0.0133  0.0224   43           0       0.0000        41     0.0181\n"
     ]
    }
   ],
   "source": [
    "print(gimmeSAD.tabulate_sumstats(data))"
   ]
  },
  {
   "cell_type": "code",
   "execution_count": 195,
   "metadata": {
    "collapsed": false
   },
   "outputs": [
    {
     "data": {
      "image/png": "[encoded data removed]",
      "text/plain": [
       "<matplotlib.figure.Figure at 0x125996c10>"
      ]
     },
     "metadata": {},
     "output_type": "display_data"
    }
   ],
   "source": [
    "gimmeSAD.heatmap_pi_dxy(data)"
   ]
  },
  {
   "cell_type": "code",
   "execution_count": 69,
   "metadata": {
    "collapsed": false
   },
   "outputs": [
    {
     "name": "stdout",
     "output_type": "stream",
     "text": [
      "254.410526316 144.266666667\n",
      "[[9 0 0 0 0 0 0 0 0 0]\n",
      " [3 0 0 0 0 0 0 0 0 0]\n",
      " [2 0 2 0 0 0 0 0 0 0]\n",
      " [0 1 0 2 0 0 0 0 0 0]\n",
      " [0 1 0 2 0 0 0 0 0 0]\n",
      " [0 0 0 0 1 4 0 0 0 0]\n",
      " [0 0 0 0 0 3 0 0 0 0]\n",
      " [0 0 0 0 0 0 1 0 0 0]\n",
      " [0 0 0 0 0 0 0 1 2 0]\n",
      " [0 0 0 0 0 0 0 0 0 2]]\n"
     ]
    }
   ],
   "source": [
    "## Bunch of code for generating the matrix to plug into the heatmap\n",
    "sp = data.get_species()\n",
    "heat = np.zeros((10,10), dtype=np.int)\n",
    "\n",
    "for s in sp:\n",
    "    s.simulate_seqs()\n",
    "    s.get_sumstats()\n",
    "pis = np.array([(x.pi, x.pi_island) for x in sp])\n",
    "max_pi = max([x[0] for x in pis])\n",
    "max_pi_island = max([x[1] for x in pis])\n",
    "print max_pi, max_pi_island\n",
    "## Make the bins\n",
    "pi_bins = np.linspace(0, np.log(max_pi), 10)\n",
    "pi_island_bins = np.linspace(0, np.log(max_pi_island), 10)\n",
    "\n",
    "## Now you have the bins each value belongs in, but you need to \n",
    "## go through and populate the heat matrix\n",
    "for pi, pi_island in pis:\n",
    "    count_pi = 0\n",
    "    count_pi_island = 0\n",
    "    while not np.log(pi) <= pi_bins[count_pi]:\n",
    "        count_pi += 1\n",
    "    while not np.log(pi_island) <= pi_island_bins[count_pi_island]:\n",
    "        count_pi_island += 1\n",
    "    ## increment the heatmap point this corresponds to\n",
    "    heat[count_pi][count_pi_island] += 1\n",
    "\n",
    "    print(heat)"
   ]
  },
  {
   "cell_type": "code",
   "execution_count": 305,
   "metadata": {
    "collapsed": false
   },
   "outputs": [],
   "source": [
    "import matplotlib.pyplot as plt\n",
    "\n",
    "## Code for debugging the heatmap function\n",
    "def myheatmap_pi_dxy(data):\n",
    "    sp = data.get_species()\n",
    "\n",
    "    heat = np.zeros((10,10), dtype=np.int)\n",
    "\n",
    "    pis = np.array([(x.dxy, x.pi_island) for x in sp])\n",
    "    max_pi = max([x[0] for x in pis])\n",
    "    max_pi_island = max([x[1] for x in pis])\n",
    "    print(max_pi, max_pi_island)\n",
    "\n",
    "    ## Make the bins\n",
    "    pi_bins = np.linspace(0, max_pi, 10)\n",
    "    pi_island_bins = np.linspace(0, max_pi_island, 10)\n",
    "\n",
    "    ## Now you have the bins each value belongs in, but you need to \n",
    "    ## go through and populate the heat matrix\n",
    "    for pi, pi_island in pis:\n",
    "        count_pi = 0\n",
    "        count_pi_island = 0\n",
    "        while not pi <= pi_bins[count_pi]:\n",
    "            count_pi += 1\n",
    "        while not pi_island <= pi_island_bins[count_pi_island]:\n",
    "            count_pi_island += 1\n",
    "        ## increment the heatmap point this corresponds to\n",
    "        heat[count_pi][count_pi_island] += 1\n",
    "        \n",
    "\n",
    "    fig = plt.figure(figsize=(12,5))\n",
    "    ax = plt.subplot(121)\n",
    "\n",
    "    cmap = plt.cm.jet\n",
    "    cmap.set_under('white')\n",
    "    eps = np.spacing(0.1)\n",
    "    \n",
    "    #heat = np.ma.masked_where(heat < 1, heat)\n",
    "    \n",
    "    ax.pcolormesh(heat, cmap=cmap, vmin=eps)\n",
    "\n",
    "    #cbaxes = fig.add_axes([0.1, 0.1, 0.03, 0.8])  # This is the position for the colorbar\n",
    "    #cb = plt.colorbar(ax, cax = cbaxes)\n",
    "    \n",
    "    #    plt.axis([0, max_pi, 0, max_pi_island])\n",
    "    plt.title(\"RankAbundance\", fontsize=28)\n",
    "    plt.xlabel('Dxy')\n",
    "    plt.ylabel('Pi_w Island')\n",
    "    #plt.colorbar()\n",
    "    plt.xticks(np.arange(len(pi_bins)), [\"{0:.4f}\".format(x) for x in pi_bins], rotation='vertical')\n",
    "    plt.yticks(np.arange(len(pi_bins)), [\"{0:.4f}\".format(x) for x in pi_island_bins])\n",
    "\n",
    "    import matplotlib.patheffects as PathEffects\n",
    "    for y in range(heat.shape[0]):\n",
    "        for x in range(heat.shape[1]):\n",
    "            if heat[y, x] < 1:\n",
    "                val = \"\"\n",
    "            else:\n",
    "                val = str(int(heat[y,x]))\n",
    "            plt.text(x + 0.5, y + 0.5, '%s' % val,\n",
    "                     horizontalalignment='center',\n",
    "                     verticalalignment='center',\n",
    "                     path_effects=[PathEffects.withStroke(linewidth=3,foreground=\"w\")])\n",
    "\n",
    "    plt.subplot(122)\n",
    "    species = sp\n",
    "    species = qsort(species)\n",
    "    species = species[::-1]\n",
    "    x = np.arange(0,len(species))\n",
    "    y = [xx.abundance for xx in species]\n",
    "    y[0] = 176400\n",
    "    plt.scatter(x, y, color=\"red\")\n",
    "    plt.xlim(0, len(species))\n",
    "    plt.ylim(0, y[0])\n",
    "    plt.ylabel(\"Abundance\")\n",
    "    plt.xlabel(\"Rank\")\n",
    "    plt.title(\"RankAbundance\", fontsize=28)\n",
    "    \n",
    "    fig.get_axes()[0].annotate('Long Suptitle', (0.5, 0.96), \n",
    "                            xycoords='figure fraction', ha='center', \n",
    "                            fontsize=24\n",
    "                            )\n",
    "    #plt.tight_layout()\n",
    "\n",
    "    plt.show()\n",
    "    plt.savefig(\"wat.png\")\n",
    "    plt.close()\n"
   ]
  },
  {
   "cell_type": "code",
   "execution_count": 306,
   "metadata": {
    "collapsed": false
   },
   "outputs": [
    {
     "name": "stdout",
     "output_type": "stream",
     "text": [
      "(0.076750000000000096, 0.0035000000000000005)\n"
     ]
    },
    {
     "data": {
      "image/png": "[encoded data removed]",
      "text/plain": [
       "<matplotlib.figure.Figure at 0x12aecb850>"
      ]
     },
     "metadata": {},
     "output_type": "display_data"
    }
   ],
   "source": [
    "\n",
    "myheatmap_pi_dxy(data)"
   ]
  },
  {
   "cell_type": "markdown",
   "metadata": {
    "collapsed": true
   },
   "source": [
    "# Work on getting the heatmap axes normalized"
   ]
  },
  {
   "cell_type": "code",
   "execution_count": 21,
   "metadata": {
    "collapsed": true
   },
   "outputs": [],
   "source": [
    "sp_through_time = {}"
   ]
  },
  {
   "cell_type": "code",
   "execution_count": 22,
   "metadata": {
    "collapsed": false
   },
   "outputs": [],
   "source": [
    "## Get a chunk of data\n",
    "for i in range(10):\n",
    "    data.step(i*10000)\n",
    "    data.simulate_seqs()\n",
    "    sp_through_time[i] = data.get_species()"
   ]
  },
  {
   "cell_type": "code",
   "execution_count": 54,
   "metadata": {
    "collapsed": true
   },
   "outputs": [
    {
     "name": "stdout",
     "output_type": "stream",
     "text": [
      "[1039, 689, 403, 722, 11, 662, 1380, 1554, 1162, 1480, 1301, 565, 832, 853, 1554, 66, 435, 1634, 1384, 1180, 499, 1234, 1416, 19, 1494, 1499, 1242, 1449, 584, 456, 1122, 535, 1503, 566]\n",
      "(1.0202500000000034, 0.1094166666666668)\n",
      "(0.99750000000000327, 0.12838888888888919)\n",
      "(1.0356250000000042, 0.12505555555555578)\n",
      "(1.1433750000000031, 0.15602777777777799)\n",
      "(1.2398750000000036, 0.081722222222222293)\n",
      "(1.2398750000000036, 0.15602777777777799)\n",
      "('Doing', 'Time_11')\n",
      "('Doing', 'Time_12')\n",
      "('Doing', 'Time_13')\n",
      "('Doing', 'Time_14')\n",
      "('Doing', 'Time_15')\n"
     ]
    }
   ],
   "source": [
    "normalized_pi_dxy_heatmaps(\"/tmp\", sp_through_time)"
   ]
  },
  {
   "cell_type": "code",
   "execution_count": 23,
   "metadata": {
    "collapsed": false
   },
   "outputs": [
    {
     "data": {
      "image/png": "[encoded data removed]",
      "text/plain": [
       "<matplotlib.figure.Figure at 0x11bc3d790>"
      ]
     },
     "metadata": {},
     "output_type": "display_data"
    }
   ],
   "source": [
    "species = sp_through_time[9]\n",
    "## Rank species by abundance\n",
    "species = qsort(species)\n",
    "species = species[::-1]\n",
    "x = np.arange(0,len(species))\n",
    "y = [xx.abundance for xx in species]\n",
    "y[0] = 176400\n",
    "plt.scatter(x, y)\n",
    "plt.show()\n"
   ]
  },
  {
   "cell_type": "code",
   "execution_count": 137,
   "metadata": {
    "collapsed": false
   },
   "outputs": [
    {
     "data": {
      "text/plain": [
       "<function matplotlib.pyplot.show>"
      ]
     },
     "execution_count": 137,
     "metadata": {},
     "output_type": "execute_result"
    },
    {
     "data": {
      "image/png": "[encoded data removed]",
      "text/plain": [
       "<matplotlib.figure.Figure at 0x11eb0b050>"
      ]
     },
     "metadata": {},
     "output_type": "display_data"
    }
   ],
   "source": [
    "from scipy.stats import lognorm\n",
    "import numpy as np\n",
    "import pylab as pl\n",
    "\n",
    "## Figs use (lognorm = [0.25, 0.5, 1,0.3])\n",
    "\n",
    "stddev = 0.25\n",
    "mean = 1.18749176686875\n",
    "dist=lognorm(0.25, 0)\n",
    "x=np.linspace(0,6,200)\n",
    "pl.plot(x,dist.pdf(x), color=\"blue\", linewidth=4)\n",
    "pl.ylim(0, 1.75)\n",
    "pl.show\n",
    "#pl.plot(x,dist.cdf(x))\n",
    "\n"
   ]
  },
  {
   "cell_type": "code",
   "execution_count": 156,
   "metadata": {
    "collapsed": false
   },
   "outputs": [
    {
     "data": {
      "image/png": "[encoded data removed]",
      "text/plain": [
       "<matplotlib.figure.Figure at 0x125ceb310>"
      ]
     },
     "metadata": {},
     "output_type": "display_data"
    }
   ],
   "source": [
    "fig = plt.figure(figsize=(10,5))\n",
    "if True:\n",
    "    plt.subplot(122)\n",
    "    species = qsort(species)\n",
    "    species = species[::-1]\n",
    "    x = np.arange(0,len(species))\n",
    "    y = [xx.abundance for xx in species]\n",
    "    y[0] = 176400\n",
    "    plt.scatter(x, y, color=\"green\", s=150)\n",
    "    plt.xlim(0, len(species))\n",
    "    plt.ylim(0, y[0])\n",
    "    plt.ylabel(\"Abundance\")\n",
    "    plt.xlabel(\"Rank\")\n",
    "    \n",
    "    plt.tight_layout()\n",
    "\n",
    "    plt.show()"
   ]
  },
  {
   "cell_type": "code",
   "execution_count": 150,
   "metadata": {
    "collapsed": false
   },
   "outputs": [
    {
     "name": "stdout",
     "output_type": "stream",
     "text": [
      "OrderedDict([(1, 12), (2, 2), (4, 2), (8, 5), (16, 4)])\n"
     ]
    }
   ],
   "source": [
    "abund = data.get_abundances(octaves=True)\n",
    "print(abund)"
   ]
  },
  {
   "cell_type": "code",
   "execution_count": 182,
   "metadata": {
    "collapsed": false
   },
   "outputs": [
    {
     "data": {
      "image/png": "[encoded data removed]",
      "text/plain": [
       "<matplotlib.figure.Figure at 0x125778a90>"
      ]
     },
     "metadata": {},
     "output_type": "display_data"
    }
   ],
   "source": [
    "\n",
    "ab_class, count = zip(*abund.items())\n",
    "\n",
    "num_items = len(count)\n",
    "width = 0.5\n",
    "fig, ax = plt.subplots()\n",
    "rects1 = ax.bar(np.arange(num_items), count, width, color='r')\n",
    "ax.set_xticks(np.arange(num_items + width))\n",
    "ax.set_xticklabels(ab_class)\n",
    "plt.show()"
   ]
  },
  {
   "cell_type": "code",
   "execution_count": 32,
   "metadata": {
    "collapsed": false
   },
   "outputs": [
    {
     "name": "stdout",
     "output_type": "stream",
     "text": [
      "Generating abunance distributions through time\n",
      "Got\tmax_n_species - 35\t max_abundance - 9940\n",
      "Got\tmax_octave - 9940\t max_class_count - 14\n",
      "(1, 2, 4, 8, 16, 32, 64, 128, 256, 512, 1024, 2048, 4096, 8192) (12, 4, 3, 2, 0, 0, 0, 0, 0, 0, 0, 0, 0, 1)\n"
     ]
    },
    {
     "ename": "IndexError",
     "evalue": "list index out of range",
     "output_type": "error",
     "traceback": [
      "\u001b[0;31m---------------------------------------------------------------------------\u001b[0m",
      "\u001b[0;31mIndexError\u001b[0m                                Traceback (most recent call last)",
      "\u001b[0;32m<ipython-input-32-70a5261dcd30>\u001b[0m in \u001b[0;36m<module>\u001b[0;34m()\u001b[0m\n\u001b[1;32m      3\u001b[0m \u001b[0mmax\u001b[0m\u001b[0;34m(\u001b[0m\u001b[0;34m[\u001b[0m\u001b[0mmax\u001b[0m\u001b[0;34m(\u001b[0m\u001b[0;34m[\u001b[0m\u001b[0my\u001b[0m\u001b[0;34m.\u001b[0m\u001b[0mabundance\u001b[0m \u001b[0;32mfor\u001b[0m \u001b[0my\u001b[0m \u001b[0;32min\u001b[0m \u001b[0msp\u001b[0m\u001b[0;34m]\u001b[0m\u001b[0;34m)\u001b[0m \u001b[0;32mfor\u001b[0m \u001b[0msp\u001b[0m \u001b[0;32min\u001b[0m \u001b[0msp_through_time\u001b[0m\u001b[0;34m.\u001b[0m\u001b[0mvalues\u001b[0m\u001b[0;34m(\u001b[0m\u001b[0;34m)\u001b[0m\u001b[0;34m]\u001b[0m\u001b[0;34m)\u001b[0m\u001b[0;34m\u001b[0m\u001b[0m\n\u001b[1;32m      4\u001b[0m \u001b[0mequilibria\u001b[0m \u001b[0;34m=\u001b[0m \u001b[0mcollections\u001b[0m\u001b[0;34m.\u001b[0m\u001b[0mOrderedDict\u001b[0m\u001b[0;34m(\u001b[0m\u001b[0mzip\u001b[0m\u001b[0;34m(\u001b[0m\u001b[0;34m[\u001b[0m\u001b[0;36m0\u001b[0m\u001b[0;34m]\u001b[0m \u001b[0;34m*\u001b[0m \u001b[0;36m1000\u001b[0m\u001b[0;34m,\u001b[0m \u001b[0;34m[\u001b[0m\u001b[0;36m0\u001b[0m\u001b[0;34m]\u001b[0m \u001b[0;34m*\u001b[0m \u001b[0;36m1000\u001b[0m\u001b[0;34m)\u001b[0m\u001b[0;34m)\u001b[0m\u001b[0;34m\u001b[0m\u001b[0m\n\u001b[0;32m----> 5\u001b[0;31m \u001b[0mgimmeSAD\u001b[0m\u001b[0;34m.\u001b[0m\u001b[0mplot_rank_abundance_through_time\u001b[0m\u001b[0;34m(\u001b[0m\u001b[0;34m\"/Volumes/WorkDrive/gimmeSAD/output\"\u001b[0m\u001b[0;34m,\u001b[0m \u001b[0msp_through_time\u001b[0m\u001b[0;34m,\u001b[0m \u001b[0mequilibria\u001b[0m\u001b[0;34m)\u001b[0m\u001b[0;34m\u001b[0m\u001b[0m\n\u001b[0m",
      "\u001b[0;32m/Volumes/WorkDrive/gimmeSAD/gimmeSAD.py\u001b[0m in \u001b[0;36mplot_rank_abundance_through_time\u001b[0;34m(outdir, sp_through_time, equilibria, only_extant)\u001b[0m\n\u001b[1;32m    226\u001b[0m         \u001b[0;31m## Make the Plot\u001b[0m\u001b[0;34m\u001b[0m\u001b[0;34m\u001b[0m\u001b[0m\n\u001b[1;32m    227\u001b[0m         \u001b[0mfig\u001b[0m \u001b[0;34m=\u001b[0m \u001b[0mplt\u001b[0m\u001b[0;34m.\u001b[0m\u001b[0mfigure\u001b[0m\u001b[0;34m(\u001b[0m\u001b[0mfigsize\u001b[0m\u001b[0;34m=\u001b[0m\u001b[0;34m(\u001b[0m\u001b[0;36m12\u001b[0m\u001b[0;34m,\u001b[0m\u001b[0;36m5\u001b[0m\u001b[0;34m)\u001b[0m\u001b[0;34m)\u001b[0m\u001b[0;34m\u001b[0m\u001b[0m\n\u001b[0;32m--> 228\u001b[0;31m         \u001b[0mplt\u001b[0m\u001b[0;34m.\u001b[0m\u001b[0msuptitle\u001b[0m\u001b[0;34m(\u001b[0m\u001b[0;34m\"%equilibrium = {}\"\u001b[0m\u001b[0;34m.\u001b[0m\u001b[0mformat\u001b[0m\u001b[0;34m(\u001b[0m\u001b[0mequilibria\u001b[0m\u001b[0;34m[\u001b[0m\u001b[0mi\u001b[0m\u001b[0;34m]\u001b[0m\u001b[0;34m)\u001b[0m\u001b[0;34m,\u001b[0m \u001b[0mfontsize\u001b[0m\u001b[0;34m=\u001b[0m\u001b[0;36m25\u001b[0m\u001b[0;34m)\u001b[0m\u001b[0;34m\u001b[0m\u001b[0m\n\u001b[0m\u001b[1;32m    229\u001b[0m \u001b[0;34m\u001b[0m\u001b[0m\n\u001b[1;32m    230\u001b[0m         \u001b[0;31m## Make the rank abundance distribution\u001b[0m\u001b[0;34m\u001b[0m\u001b[0;34m\u001b[0m\u001b[0m\n",
      "\u001b[0;31mIndexError\u001b[0m: list index out of range"
     ]
    },
    {
     "data": {
      "text/plain": [
       "<matplotlib.figure.Figure at 0x122d94810>"
      ]
     },
     "metadata": {},
     "output_type": "display_data"
    }
   ],
   "source": [
    "import collections \n",
    "max([len(sp) for sp in sp_through_time.values()])\n",
    "max([max([y.abundance for y in sp]) for sp in sp_through_time.values()])\n",
    "equilibria = collections.OrderedDict(zip([0] * 1000, [0] * 1000))\n",
    "gimmeSAD.plot_rank_abundance_through_time(\"/Volumes/WorkDrive/gimmeSAD/output\", sp_through_time, equilibria)"
   ]
  },
  {
   "cell_type": "code",
   "execution_count": 307,
   "metadata": {
    "collapsed": false
   },
   "outputs": [
    {
     "name": "stdout",
     "output_type": "stream",
     "text": [
      "((1, 2, 4, 8, 16, 32, 64, 128, 256, 512, 1024, 2048, 4096, 8192), (5, 4, 5, 5, 5, 0, 0, 0, 0, 0, 0, 0, 0, 1))\n"
     ]
    },
    {
     "data": {
      "image/png": "[encoded data removed]",
      "text/plain": [
       "<matplotlib.figure.Figure at 0x12708c190>"
      ]
     },
     "metadata": {},
     "output_type": "display_data"
    }
   ],
   "source": [
    "import math\n",
    "max_n_species=10\n",
    "max_abundance=10\n",
    "max_n_bins=5\n",
    "max_class_count=20\n",
    "octave_bin_labels = [1,2,3,4,5,6,7,8,9,10,11,12,13,14,15,16,17,18,19,20,21,22]\n",
    "\n",
    "if True:\n",
    "    if True:\n",
    "        fig = plt.figure(figsize=(12,5))\n",
    "\n",
    "        ## Make the rank abundance distribution\n",
    "        plt.subplot(121)\n",
    "        species = qsort(sp_through_time.values()[5])\n",
    "        species = species[::-1]\n",
    "        x = np.arange(0,len(species))\n",
    "        y = [np.log10(xx.abundance) for xx in species]\n",
    "        plt.scatter(x, y, color=\"blue\", s=100)\n",
    "        plt.xlim(0, max_n_species)\n",
    "        plt.ylim(0, int(math.ceil(np.log10(max_abundance))))\n",
    "        plt.ylabel(\"Abundance (log10)\", fontsize=25)\n",
    "        plt.xlabel(\"Rank\", fontsize=25)\n",
    "\n",
    "        ## Make the SAD subplot\n",
    "        abund = gimmeSAD.abundances_from_sp_list(species, octaves=True)\n",
    "        \n",
    "        ax1 = plt.subplot(122)\n",
    "        ab_class, count = zip(*abund.items())\n",
    "        print(ab_class, count)\n",
    "        df = pd.DataFrame([x for x in count], index = [str(x) for x in ab_class])\n",
    "        df.loc[12]=0\n",
    "        df.loc[13]=0\n",
    "        df.loc[10000000]=1\n",
    "        df.loc[14] = 0\n",
    "        bar = df.plot(kind = \"bar\", legend = False, ax = ax1)\n",
    "        plt.xlim([-0.5, max_n_bins+20])\n",
    "        ax1.set_xticklabels([str(x+1) for x in octave_bin_labels])\n",
    "        plt.setp(bar.get_xticklabels(), rotation=0)\n",
    "        plt.ylim(0, max_class_count)\n",
    "        plt.xlabel(\"Abundance Class\", fontsize=25)\n",
    "        plt.ylabel(\"Count\", fontsize=25)"
   ]
  },
  {
   "cell_type": "code",
   "execution_count": 75,
   "metadata": {
    "collapsed": false
   },
   "outputs": [
    {
     "data": {
      "text/plain": [
       "16"
      ]
     },
     "execution_count": 75,
     "metadata": {},
     "output_type": "execute_result"
    }
   ],
   "source": [
    "len(df)"
   ]
  },
  {
   "cell_type": "code",
   "execution_count": 83,
   "metadata": {
    "collapsed": false
   },
   "outputs": [],
   "source": [
    "one_d = np.array([[12, 0, 0, 0, 0, 0, 1,  0,  0,  0,  0,  0,  2,  0,  0,  0,  0,  1,  0]])"
   ]
  },
  {
   "cell_type": "code",
   "execution_count": 95,
   "metadata": {
    "collapsed": false
   },
   "outputs": [
    {
     "data": {
      "text/plain": [
       "([], <a list of 0 Text yticklabel objects>)"
      ]
     },
     "execution_count": 95,
     "metadata": {},
     "output_type": "execute_result"
    },
    {
     "data": {
      "image/png": "[encoded data removed]",
      "text/plain": [
       "<matplotlib.figure.Figure at 0x123014390>"
      ]
     },
     "metadata": {},
     "output_type": "display_data"
    }
   ],
   "source": [
    "fig = plt.figure(figsize=(6, 0.3))\n",
    "plt.pcolor(one_d,cmap=plt.cm.Blues)\n",
    "plt.ylim(0,1)\n",
    "plt.yticks([])"
   ]
  },
  {
   "cell_type": "code",
   "execution_count": 103,
   "metadata": {
    "collapsed": false,
    "scrolled": true
   },
   "outputs": [
    {
     "name": "stdout",
     "output_type": "stream",
     "text": [
      "([0, 1, 2, 3, 4, 5, 6, 7, 8, 9, 10, 11, 12, 13, 14, 15, 16, 17, 18], [1, 1, 1, 1, 1, 1, 1, 1, 1, 1, 1, 1, 1, 1, 1, 1, 1, 1, 1], array([12,  0,  0,  0,  0,  0,  1,  0,  0,  0,  0,  0,  2,  0,  0,  0,  0,\n",
      "        1,  0]))\n"
     ]
    },
    {
     "ename": "ValueError",
     "evalue": "need more than 1 value to unpack",
     "output_type": "error",
     "traceback": [
      "\u001b[0;31m---------------------------------------------------------------------------\u001b[0m",
      "\u001b[0;31mValueError\u001b[0m                                Traceback (most recent call last)",
      "\u001b[0;32m<ipython-input-103-99531f0a3565>\u001b[0m in \u001b[0;36m<module>\u001b[0;34m()\u001b[0m\n\u001b[1;32m      3\u001b[0m \u001b[0mZ\u001b[0m \u001b[0;34m=\u001b[0m \u001b[0mone_d\u001b[0m\u001b[0;34m[\u001b[0m\u001b[0;36m0\u001b[0m\u001b[0;34m]\u001b[0m\u001b[0;34m\u001b[0m\u001b[0m\n\u001b[1;32m      4\u001b[0m \u001b[0;32mprint\u001b[0m\u001b[0;34m(\u001b[0m\u001b[0mX\u001b[0m\u001b[0;34m,\u001b[0m \u001b[0mY\u001b[0m\u001b[0;34m,\u001b[0m \u001b[0mZ\u001b[0m\u001b[0;34m)\u001b[0m\u001b[0;34m\u001b[0m\u001b[0m\n\u001b[0;32m----> 5\u001b[0;31m \u001b[0mplt\u001b[0m\u001b[0;34m.\u001b[0m\u001b[0mpcolor\u001b[0m\u001b[0;34m(\u001b[0m\u001b[0mX\u001b[0m\u001b[0;34m,\u001b[0m \u001b[0;36m1\u001b[0m\u001b[0;34m,\u001b[0m \u001b[0mZ\u001b[0m\u001b[0;34m,\u001b[0m \u001b[0mcmap\u001b[0m\u001b[0;34m=\u001b[0m\u001b[0mplt\u001b[0m\u001b[0;34m.\u001b[0m\u001b[0mcm\u001b[0m\u001b[0;34m.\u001b[0m\u001b[0mBlues\u001b[0m\u001b[0;34m)\u001b[0m\u001b[0;34m\u001b[0m\u001b[0m\n\u001b[0m\u001b[1;32m      6\u001b[0m \u001b[0mplt\u001b[0m\u001b[0;34m.\u001b[0m\u001b[0mylim\u001b[0m\u001b[0;34m(\u001b[0m\u001b[0;36m0\u001b[0m\u001b[0;34m,\u001b[0m\u001b[0;36m1\u001b[0m\u001b[0;34m)\u001b[0m\u001b[0;34m\u001b[0m\u001b[0m\n\u001b[1;32m      7\u001b[0m \u001b[0mplt\u001b[0m\u001b[0;34m.\u001b[0m\u001b[0maxis\u001b[0m\u001b[0;34m(\u001b[0m\u001b[0;34m[\u001b[0m\u001b[0;36m0\u001b[0m\u001b[0;34m,\u001b[0m \u001b[0;36m20\u001b[0m\u001b[0;34m,\u001b[0m \u001b[0;36m0\u001b[0m\u001b[0;34m,\u001b[0m \u001b[0;36m0.1\u001b[0m\u001b[0;34m]\u001b[0m\u001b[0;34m)\u001b[0m\u001b[0;34m\u001b[0m\u001b[0m\n",
      "\u001b[0;32m/usr/local/opt/anaconda/lib/python2.7/site-packages/matplotlib/pyplot.pyc\u001b[0m in \u001b[0;36mpcolor\u001b[0;34m(*args, **kwargs)\u001b[0m\n\u001b[1;32m   3074\u001b[0m         \u001b[0max\u001b[0m\u001b[0;34m.\u001b[0m\u001b[0mhold\u001b[0m\u001b[0;34m(\u001b[0m\u001b[0mhold\u001b[0m\u001b[0;34m)\u001b[0m\u001b[0;34m\u001b[0m\u001b[0m\n\u001b[1;32m   3075\u001b[0m     \u001b[0;32mtry\u001b[0m\u001b[0;34m:\u001b[0m\u001b[0;34m\u001b[0m\u001b[0m\n\u001b[0;32m-> 3076\u001b[0;31m         \u001b[0mret\u001b[0m \u001b[0;34m=\u001b[0m \u001b[0max\u001b[0m\u001b[0;34m.\u001b[0m\u001b[0mpcolor\u001b[0m\u001b[0;34m(\u001b[0m\u001b[0;34m*\u001b[0m\u001b[0margs\u001b[0m\u001b[0;34m,\u001b[0m \u001b[0;34m**\u001b[0m\u001b[0mkwargs\u001b[0m\u001b[0;34m)\u001b[0m\u001b[0;34m\u001b[0m\u001b[0m\n\u001b[0m\u001b[1;32m   3077\u001b[0m     \u001b[0;32mfinally\u001b[0m\u001b[0;34m:\u001b[0m\u001b[0;34m\u001b[0m\u001b[0m\n\u001b[1;32m   3078\u001b[0m         \u001b[0max\u001b[0m\u001b[0;34m.\u001b[0m\u001b[0mhold\u001b[0m\u001b[0;34m(\u001b[0m\u001b[0mwashold\u001b[0m\u001b[0;34m)\u001b[0m\u001b[0;34m\u001b[0m\u001b[0m\n",
      "\u001b[0;32m/usr/local/opt/anaconda/lib/python2.7/site-packages/matplotlib/__init__.pyc\u001b[0m in \u001b[0;36minner\u001b[0;34m(ax, *args, **kwargs)\u001b[0m\n\u001b[1;32m   1810\u001b[0m                     warnings.warn(msg % (label_namer, func.__name__),\n\u001b[1;32m   1811\u001b[0m                                   RuntimeWarning, stacklevel=2)\n\u001b[0;32m-> 1812\u001b[0;31m             \u001b[0;32mreturn\u001b[0m \u001b[0mfunc\u001b[0m\u001b[0;34m(\u001b[0m\u001b[0max\u001b[0m\u001b[0;34m,\u001b[0m \u001b[0;34m*\u001b[0m\u001b[0margs\u001b[0m\u001b[0;34m,\u001b[0m \u001b[0;34m**\u001b[0m\u001b[0mkwargs\u001b[0m\u001b[0;34m)\u001b[0m\u001b[0;34m\u001b[0m\u001b[0m\n\u001b[0m\u001b[1;32m   1813\u001b[0m         \u001b[0mpre_doc\u001b[0m \u001b[0;34m=\u001b[0m \u001b[0minner\u001b[0m\u001b[0;34m.\u001b[0m\u001b[0m__doc__\u001b[0m\u001b[0;34m\u001b[0m\u001b[0m\n\u001b[1;32m   1814\u001b[0m         \u001b[0;32mif\u001b[0m \u001b[0mpre_doc\u001b[0m \u001b[0;32mis\u001b[0m \u001b[0mNone\u001b[0m\u001b[0;34m:\u001b[0m\u001b[0;34m\u001b[0m\u001b[0m\n",
      "\u001b[0;32m/usr/local/opt/anaconda/lib/python2.7/site-packages/matplotlib/axes/_axes.pyc\u001b[0m in \u001b[0;36mpcolor\u001b[0;34m(self, *args, **kwargs)\u001b[0m\n\u001b[1;32m   5191\u001b[0m         \u001b[0mshading\u001b[0m \u001b[0;34m=\u001b[0m \u001b[0mkwargs\u001b[0m\u001b[0;34m.\u001b[0m\u001b[0mpop\u001b[0m\u001b[0;34m(\u001b[0m\u001b[0;34m'shading'\u001b[0m\u001b[0;34m,\u001b[0m \u001b[0;34m'flat'\u001b[0m\u001b[0;34m)\u001b[0m\u001b[0;34m\u001b[0m\u001b[0m\n\u001b[1;32m   5192\u001b[0m \u001b[0;34m\u001b[0m\u001b[0m\n\u001b[0;32m-> 5193\u001b[0;31m         \u001b[0mX\u001b[0m\u001b[0;34m,\u001b[0m \u001b[0mY\u001b[0m\u001b[0;34m,\u001b[0m \u001b[0mC\u001b[0m \u001b[0;34m=\u001b[0m \u001b[0mself\u001b[0m\u001b[0;34m.\u001b[0m\u001b[0m_pcolorargs\u001b[0m\u001b[0;34m(\u001b[0m\u001b[0;34m'pcolor'\u001b[0m\u001b[0;34m,\u001b[0m \u001b[0;34m*\u001b[0m\u001b[0margs\u001b[0m\u001b[0;34m,\u001b[0m \u001b[0mallmatch\u001b[0m\u001b[0;34m=\u001b[0m\u001b[0mFalse\u001b[0m\u001b[0;34m)\u001b[0m\u001b[0;34m\u001b[0m\u001b[0m\n\u001b[0m\u001b[1;32m   5194\u001b[0m         \u001b[0mNy\u001b[0m\u001b[0;34m,\u001b[0m \u001b[0mNx\u001b[0m \u001b[0;34m=\u001b[0m \u001b[0mX\u001b[0m\u001b[0;34m.\u001b[0m\u001b[0mshape\u001b[0m\u001b[0;34m\u001b[0m\u001b[0m\n\u001b[1;32m   5195\u001b[0m \u001b[0;34m\u001b[0m\u001b[0m\n",
      "\u001b[0;32m/usr/local/opt/anaconda/lib/python2.7/site-packages/matplotlib/axes/_axes.pyc\u001b[0m in \u001b[0;36m_pcolorargs\u001b[0;34m(funcname, *args, **kw)\u001b[0m\n\u001b[1;32m   4993\u001b[0m         \u001b[0;32mif\u001b[0m \u001b[0mlen\u001b[0m\u001b[0;34m(\u001b[0m\u001b[0margs\u001b[0m\u001b[0;34m)\u001b[0m \u001b[0;34m==\u001b[0m \u001b[0;36m3\u001b[0m\u001b[0;34m:\u001b[0m\u001b[0;34m\u001b[0m\u001b[0m\n\u001b[1;32m   4994\u001b[0m             \u001b[0mX\u001b[0m\u001b[0;34m,\u001b[0m \u001b[0mY\u001b[0m\u001b[0;34m,\u001b[0m \u001b[0mC\u001b[0m \u001b[0;34m=\u001b[0m \u001b[0;34m[\u001b[0m\u001b[0mnp\u001b[0m\u001b[0;34m.\u001b[0m\u001b[0masanyarray\u001b[0m\u001b[0;34m(\u001b[0m\u001b[0ma\u001b[0m\u001b[0;34m)\u001b[0m \u001b[0;32mfor\u001b[0m \u001b[0ma\u001b[0m \u001b[0;32min\u001b[0m \u001b[0margs\u001b[0m\u001b[0;34m]\u001b[0m\u001b[0;34m\u001b[0m\u001b[0m\n\u001b[0;32m-> 4995\u001b[0;31m             \u001b[0mnumRows\u001b[0m\u001b[0;34m,\u001b[0m \u001b[0mnumCols\u001b[0m \u001b[0;34m=\u001b[0m \u001b[0mC\u001b[0m\u001b[0;34m.\u001b[0m\u001b[0mshape\u001b[0m\u001b[0;34m\u001b[0m\u001b[0m\n\u001b[0m\u001b[1;32m   4996\u001b[0m         \u001b[0;32melse\u001b[0m\u001b[0;34m:\u001b[0m\u001b[0;34m\u001b[0m\u001b[0m\n\u001b[1;32m   4997\u001b[0m             raise TypeError(\n",
      "\u001b[0;31mValueError\u001b[0m: need more than 1 value to unpack"
     ]
    },
    {
     "data": {
      "image/png": "[encoded data removed]",
      "text/plain": [
       "<matplotlib.figure.Figure at 0x12319a190>"
      ]
     },
     "metadata": {},
     "output_type": "display_data"
    }
   ],
   "source": [
    "X = [x for x in np.arange(len(one_d[0]))]\n",
    "Y = [1] * len(X)\n",
    "Z = one_d[0]\n",
    "print(X, Y, Z)\n",
    "plt.pcolor(X, 1, Z, cmap=plt.cm.Blues)\n",
    "plt.ylim(0,1)\n",
    "plt.axis([0, 20, 0, 0.1])\n",
    "#plt.yticks([])"
   ]
  },
  {
   "cell_type": "code",
   "execution_count": 135,
   "metadata": {
    "collapsed": false
   },
   "outputs": [
    {
     "name": "stdout",
     "output_type": "stream",
     "text": [
      "[[ 0.26251947  0.70003364]\n",
      " [ 0.29321727  0.0719833 ]\n",
      " [ 0.07392543  0.37784176]\n",
      " [ 0.47300078  0.93797978]]\n",
      "4\n"
     ]
    }
   ],
   "source": [
    "X = np.array([[0, 1, 2, 3, 4],\n",
    "           [0, 1, 2, 3, 4],\n",
    "           [0, 1, 2, 3, 4]])\n",
    "\n",
    "Y = np.array([[0, 0, 0, 0, 0],\n",
    "           [1, 1, 1, 1, 1],\n",
    "           [2, 2, 2, 2, 2]])\n",
    "C = np.random.rand(4,2)\n",
    "print(C)\n",
    "print(np.amax(X))"
   ]
  },
  {
   "cell_type": "code",
   "execution_count": 155,
   "metadata": {
    "collapsed": false
   },
   "outputs": [
    {
     "data": {
      "text/plain": [
       "[<matplotlib.text.Text at 0x125d0a410>,\n",
       " <matplotlib.text.Text at 0x125d1d210>,\n",
       " <matplotlib.text.Text at 0x125d13050>,\n",
       " <matplotlib.text.Text at 0x125d0a6d0>]"
      ]
     },
     "execution_count": 155,
     "metadata": {},
     "output_type": "execute_result"
    },
    {
     "data": {
      "image/png": "[encoded data removed]",
      "text/plain": [
       "<matplotlib.figure.Figure at 0x125cee210>"
      ]
     },
     "metadata": {},
     "output_type": "display_data"
    }
   ],
   "source": [
    "f = plt.figure(figsize=(12, 6))\n",
    "ax1 = plt.subplot(121)\n",
    "ax1.set_aspect('equal')\n",
    "wat = plt.pcolormesh(C.T, vmin=.2)\n",
    "plt.colorbar()\n",
    "ax1.set_xticks(np.arange(C.T.shape[1]) + 0.5, minor=False)\n",
    "ax1.set_yticks(np.arange(C.T.shape[0]) + 0.3, minor=False)\n",
    "ax1.set_xticklabels(np.arange(C.T.shape[1]), rotation=\"vertical\")"
   ]
  },
  {
   "cell_type": "code",
   "execution_count": 186,
   "metadata": {
    "collapsed": false
   },
   "outputs": [
    {
     "name": "stdout",
     "output_type": "stream",
     "text": [
      "m = 0.001\n",
      "Values for M\n",
      "\tmin 1e-05\n",
      "\tmax 253.52422\n",
      "\tmean 6.11056995724\n",
      "\tmedian 0.0205\n",
      "\tvariance 444.198342584\n",
      "m = 0.005\n",
      "Values for M\n",
      "\tmin 5e-05\n",
      "\tmax 1267.6211\n",
      "\tmean 30.5528497862\n",
      "\tmedian 0.1025\n",
      "\tvariance 11104.9585646\n",
      "m = 0.01\n",
      "Values for M\n",
      "\tmin 0.0001\n",
      "\tmax 2535.2422\n",
      "\tmean 61.1056995724\n",
      "\tmedian 0.205\n",
      "\tvariance 44419.8342584\n",
      "m = 0.05\n",
      "Values for M\n",
      "\tmin 0.0005\n",
      "\tmax 12676.211\n",
      "\tmean 305.528497862\n",
      "\tmedian 1.025\n",
      "\tvariance 1110495.85646\n",
      "m = 0.1\n",
      "Values for M\n",
      "\tmin 0.001\n",
      "\tmax 25352.422\n",
      "\tmean 611.056995724\n",
      "\tmedian 2.05\n",
      "\tvariance 4441983.42584\n"
     ]
    },
    {
     "data": {
      "image/png": "[encoded data removed]",
      "text/plain": [
       "<matplotlib.figure.Figure at 0x1284850d0>"
      ]
     },
     "metadata": {},
     "output_type": "display_data"
    }
   ],
   "source": [
    "fname = \"/Volumes/WorkDrive/gimmeSAD/metacommunity_LS4.txt\"\n",
    "for val in [0.001, 0.005, 0.01, 0.05, 0.1]:\n",
    "    inf = open(fname)\n",
    "    dat = [x.strip() for x in inf.readlines()]\n",
    "    dat = np.array([int(x) for x in dat])\n",
    "    plt.hist(np.log(dat))\n",
    "    dat = val * (dat / 100.)\n",
    "    print(\"m = {}\".format(val))\n",
    "    print(\"Values for M\")\n",
    "    print(\"\\tmin {}\".format(min(dat)))\n",
    "    print(\"\\tmax {}\".format(max(dat)))\n",
    "    print(\"\\tmean {}\".format(np.mean(dat)))\n",
    "    print(\"\\tmedian {}\".format(np.median(dat)))\n",
    "    print(\"\\tvariance {}\".format(np.var(dat)))\n"
   ]
  },
  {
   "cell_type": "code",
   "execution_count": 285,
   "metadata": {
    "collapsed": false
   },
   "outputs": [
    {
     "data": {
      "image/png": "[encoded data removed]",
      "text/plain": [
       "<matplotlib.figure.Figure at 0x12c473950>"
      ]
     },
     "metadata": {},
     "output_type": "display_data"
    }
   ],
   "source": [
    "import matplotlib.pyplot as plt\n",
    "import numpy as np\n",
    "\n",
    "fig = plt.figure()\n",
    "ax = fig.add_subplot(111)\n",
    "\n",
    "np.random.seed(10)\n",
    "\n",
    "#ax.pcolor(np.random.randn((10,10)))\n",
    "#ax.pcolor(np.random.randn(10), np.random.randn(10))\n",
    "axp = ax.pcolormesh(np.random.randn(10,10))\n",
    "cbaxes = fig.add_axes([0, 0.1, 0.02, 0.8])\n",
    "cb = plt.colorbar(axp, cax = cbaxes)\n",
    "plt.show()"
   ]
  },
  {
   "cell_type": "code",
   "execution_count": 324,
   "metadata": {
    "collapsed": false
   },
   "outputs": [
    {
     "name": "stdout",
     "output_type": "stream",
     "text": [
      "[1013, 16393, 9186, 49999, 31130, 27403, 39321, 14168, 7525, 4406, 37278, 578, 39562, 11672, 4417, 35477, 41562, 4637, 25847, 3445, 40632, 842]\n",
      "[1, 1, 2, 9940, 7, 1, 1, 1, 1, 1, 11, 1, 2, 4, 1, 2, 13, 3, 1, 1, 4, 1]\n"
     ]
    },
    {
     "data": {
      "image/png": "[encoded data removed]",
      "text/plain": [
       "<matplotlib.figure.Figure at 0x130f8a610>"
      ]
     },
     "metadata": {},
     "output_type": "display_data"
    },
    {
     "name": "stdout",
     "output_type": "stream",
     "text": [
      "[1041, 249, 19186, 8871, 59999, 6700, 1862, 24168, 5493, 14406, 47278, 49562, 21672, 5589, 1592, 51562, 14637, 166, 7064, 50632]\n",
      "[1, 1, 1, 1, 9921, 17, 1, 2, 2, 1, 12, 2, 5, 1, 2, 9, 5, 1, 2, 13]\n"
     ]
    },
    {
     "data": {
      "image/png": "[encoded data removed]",
      "text/plain": [
       "<matplotlib.figure.Figure at 0x12c3c6cd0>"
      ]
     },
     "metadata": {},
     "output_type": "display_data"
    },
    {
     "name": "stdout",
     "output_type": "stream",
     "text": [
      "[1490, 21041, 4409, 28871, 10370, 79999, 26700, 14758, 9641, 13852, 44168, 13298, 14267, 25493, 7530, 3008, 11714, 59, 67278, 41672, 3551, 71562, 34637, 2664, 8799, 19874, 6524, 70632]\n",
      "[1, 2, 1, 9, 1, 9875, 19, 1, 1, 1, 1, 8, 2, 7, 1, 1, 3, 1, 8, 9, 1, 9, 1, 1, 1, 3, 4, 28]\n"
     ]
    },
    {
     "data": {
      "image/png": "[encoded data removed]",
      "text/plain": [
       "<matplotlib.figure.Figure at 0x1293ef190>"
      ]
     },
     "metadata": {},
     "output_type": "display_data"
    },
    {
     "name": "stdout",
     "output_type": "stream",
     "text": [
      "[28360, 7593, 43298, 6349, 71672, 101562, 17845, 6701, 911, 43852, 6838, 5690, 37530, 2038, 18761, 39641, 109999, 33008, 15018, 49874, 4127, 7553, 2089, 3034, 100632, 1402, 56700, 3122, 55493, 17906, 3018, 11760, 2794, 25019, 6732]\n",
      "[2, 3, 9, 3, 10, 8, 1, 4, 2, 2, 1, 1, 6, 1, 8, 1, 9835, 2, 8, 2, 1, 1, 2, 1, 21, 2, 24, 2, 3, 1, 1, 1, 2, 5, 24]\n"
     ]
    },
    {
     "data": {
      "image/png": "[encoded data removed]",
      "text/plain": [
       "<matplotlib.figure.Figure at 0x12acafb90>"
      ]
     },
     "metadata": {},
     "output_type": "display_data"
    },
    {
     "name": "stdout",
     "output_type": "stream",
     "text": [
      "[2100, 37425, 68360, 83298, 31574, 46349, 23045, 111672, 679, 83852, 77530, 58761, 34699, 2923, 149999, 1784, 5340, 35238, 24691, 89874, 42089, 140632, 31042, 2757, 4875, 19605, 43122, 30882, 95493, 46732, 14890, 6595]\n",
      "[1, 7, 1, 6, 1, 12, 7, 11, 4, 5, 5, 1, 2, 1, 9750, 1, 1, 17, 2, 5, 10, 22, 1, 12, 61, 2, 11, 1, 15, 23, 1, 1]\n"
     ]
    },
    {
     "data": {
      "image/png": "[encoded data removed]",
      "text/plain": [
       "<matplotlib.figure.Figure at 0x130b7fd50>"
      ]
     },
     "metadata": {},
     "output_type": "display_data"
    },
    {
     "name": "stdout",
     "output_type": "stream",
     "text": [
      "[18545, 9881, 9139, 5688, 18142, 8616, 30492, 48560, 11015, 993, 127530, 4926, 37632, 199999, 3064, 14907, 139874, 190632, 34691, 23188, 5035, 21629, 34236, 7658, 8393]\n",
      "[17, 1, 1, 18, 13, 1, 5, 2, 6, 1, 8, 1, 3, 9795, 5, 3, 11, 21, 14, 13, 3, 29, 7, 4, 18]\n"
     ]
    },
    {
     "data": {
      "image/png": "[encoded data removed]",
      "text/plain": [
       "<matplotlib.figure.Figure at 0x130b41b10>"
      ]
     },
     "metadata": {},
     "output_type": "display_data"
    },
    {
     "name": "stdout",
     "output_type": "stream",
     "text": [
      "[78545, 34604, 65688, 78142, 12126, 25883, 413, 90492, 24514, 71015, 32386, 30540, 2602, 259999, 55389, 5485, 63064, 74907, 199874, 7095, 12459, 250632, 94691, 1363, 25022, 4919, 1048, 18466, 67658, 17116, 68393]\n",
      "[6, 2, 9, 18, 1, 4, 1, 2, 1, 11, 13, 7, 1, 9730, 9, 1, 18, 3, 14, 1, 2, 54, 22, 1, 22, 5, 1, 3, 16, 3, 19]\n"
     ]
    },
    {
     "data": {
      "image/png": "[encoded data removed]",
      "text/plain": [
       "<matplotlib.figure.Figure at 0x12acce9d0>"
      ]
     },
     "metadata": {},
     "output_type": "display_data"
    },
    {
     "name": "stdout",
     "output_type": "stream",
     "text": [
      "[64513, 38057, 6174, 2680, 69777, 148142, 36275, 1453, 54186, 43700, 18338, 70413, 8270, 42395, 16550, 42131, 2979, 51068, 21362, 35132, 329999, 7463, 58943, 5290, 20433, 320632, 50449, 95022, 30017, 18179, 1900, 7142, 138393]\n",
      "[6, 3, 1, 1, 18, 32, 5, 1, 32, 13, 1, 7, 3, 6, 15, 26, 1, 1, 4, 11, 9673, 1, 10, 14, 7, 27, 1, 53, 3, 4, 1, 1, 18]\n"
     ]
    },
    {
     "data": {
      "image/png": "[encoded data removed]",
      "text/plain": [
       "<matplotlib.figure.Figure at 0x12381d210>"
      ]
     },
     "metadata": {},
     "output_type": "display_data"
    },
    {
     "name": "stdout",
     "output_type": "stream",
     "text": [
      "[31684, 118057, 5651, 4795, 70019, 228142, 19389, 36206, 23945, 24084, 19774, 36617, 150413, 48365, 96550, 48675, 13463, 4100, 101362, 115132, 5416, 409999, 7359, 87463, 10372, 75400, 400632, 22954, 175022, 52709, 46134, 218393]\n",
      "[11, 8, 2, 1, 29, 30, 2, 5, 65, 10, 2, 4, 6, 14, 16, 20, 1, 1, 15, 28, 1, 9608, 1, 10, 19, 14, 26, 1, 39, 3, 3, 5]\n"
     ]
    },
    {
     "data": {
      "image/png": "[encoded data removed]",
      "text/plain": [
       "<matplotlib.figure.Figure at 0x123144f90>"
      ]
     },
     "metadata": {},
     "output_type": "display_data"
    },
    {
     "name": "stdout",
     "output_type": "stream",
     "text": [
      "[42069, 208057, 3770, 1091, 2785, 160019, 318142, 1023, 10497, 9758, 707, 138365, 47386, 4467, 14869, 21755, 22332, 4268, 499999, 30714, 97359, 177463, 100372, 54440, 58098, 30906, 490632, 6060, 536, 265022, 13476, 40480, 35258, 53250, 67312]\n",
      "[4, 16, 3, 1, 1, 24, 14, 6, 54, 3, 41, 41, 7, 1, 3, 2, 12, 42, 9559, 2, 9, 13, 5, 1, 14, 2, 28, 4, 1, 71, 1, 8, 4, 1, 2]\n"
     ]
    },
    {
     "data": {
      "image/png": "[encoded data removed]",
      "text/plain": [
       "<matplotlib.figure.Figure at 0x129c9dad0>"
      ]
     },
     "metadata": {},
     "output_type": "display_data"
    }
   ],
   "source": [
    "#print(sp_through_time)\n",
    "for sp in sp_through_time.values():\n",
    "    print([s.colonization_time for s in sp])\n",
    "    print([s.abundance for s in sp])\n",
    "\n",
    "    x = [s.pi_island for s in sp]\n",
    "    y = [np.log10(s.abundance) for s in sp]\n",
    "    plt.scatter(x, y)\n",
    "    plt.ylim(0, 5)\n",
    "    plt.xlim(0, 0.02)\n",
    "    plt.show()"
   ]
  },
  {
   "cell_type": "code",
   "execution_count": 320,
   "metadata": {
    "collapsed": false
   },
   "outputs": [
    {
     "data": {
      "text/plain": [
       "array([[ 0.11747566, -1.90745689, -0.92290926,  0.46975143, -0.14436676,\n",
       "        -0.40013835, -0.29598385,  0.84820861,  0.70683045, -0.78726893],\n",
       "       [ 0.29294072, -0.47080725,  2.40432561, -0.73935674, -0.31282876,\n",
       "        -0.34888192, -0.43902624,  0.14110417,  0.27304932, -1.61857075],\n",
       "       [-0.57311336, -1.32044755,  1.23620533,  2.46532508,  1.38323223,\n",
       "         0.34623312,  1.02251611,  0.16681027,  1.65671662,  0.66788961],\n",
       "       [-0.22994664, -1.12955119, -0.6399626 ,  0.31383052, -1.22583598,\n",
       "        -0.22179314,  1.33992631,  0.02930971,  1.98538575,  1.4471656 ],\n",
       "       [-0.28762941, -1.35931057, -0.04804133, -0.48078734,  0.37775309,\n",
       "         1.61440797, -1.12310404, -0.38872795,  0.33234995,  1.13497317],\n",
       "       [ 0.51071441,  0.41429764,  1.34454942,  0.49351532, -0.23700418,\n",
       "         0.05728515, -0.70707145,  0.54666484,  0.94250041, -2.97959677],\n",
       "       [ 1.21814885, -0.05652072,  0.46088845,  0.66237401, -2.29510333,\n",
       "        -1.19592931, -0.33310116, -0.79139077,  0.27417278, -0.51490992],\n",
       "       [-1.7110712 ,  0.61229731,  1.10012937,  0.56435253, -0.71279944,\n",
       "        -0.26085948,  0.54842807,  0.60319905,  1.00686114, -0.29442601],\n",
       "       [-1.42088052, -0.67894677,  0.53388481,  0.7439744 ,  2.22504964,\n",
       "         0.11718142,  0.24461452, -0.17729882, -0.40572953,  0.78177519],\n",
       "       [ 0.35347761, -0.20727949, -1.07969738, -0.12306983, -0.39098219,\n",
       "         1.25517373,  0.94712608, -1.02231069,  1.16716837, -0.57197681]])"
      ]
     },
     "execution_count": 320,
     "metadata": {},
     "output_type": "execute_result"
    }
   ],
   "source": [
    "np.random.randn(10,10)"
   ]
  },
  {
   "cell_type": "code",
   "execution_count": null,
   "metadata": {
    "collapsed": true
   },
   "outputs": [],
   "source": []
  }
 ],
 "metadata": {
  "kernelspec": {
   "display_name": "Python 2",
   "language": "python",
   "name": "python2"
  },
  "language_info": {
   "codemirror_mode": {
    "name": "ipython",
    "version": 2
   },
   "file_extension": ".py",
   "mimetype": "text/x-python",
   "name": "python",
   "nbconvert_exporter": "python",
   "pygments_lexer": "ipython2",
   "version": "2.7.12"
  }
 },
 "nbformat": 4,
 "nbformat_minor": 0
}
