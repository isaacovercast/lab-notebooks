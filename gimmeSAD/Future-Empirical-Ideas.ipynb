{
 "cells": [
  {
   "cell_type": "markdown",
   "metadata": {},
   "source": [
    "## Some good empirical datasets\n",
    "\n",
    "Trade-off between taxon diversity and functional diversity in European lake ecosystems\n",
    "http://onlinelibrary.wiley.com/doi/10.1111/mec.13878/full?wol1URL=/doi/10.1111/mec.13878/full&regionCode=US-NY&identityKey=2535de61-42bd-4268-9b5b-9650c7abe1a0\n",
    "\n",
    "Long-term dynamics in microbial eukaryotes communities: a palaeolimnological view based on sedimentary DNA\n",
    "https://www.ncbi.nlm.nih.gov/pubmed/27761959"
   ]
  }
 ],
 "metadata": {
  "anaconda-cloud": {},
  "kernelspec": {
   "display_name": "Python [default]",
   "language": "python",
   "name": "python2"
  },
  "language_info": {
   "codemirror_mode": {
    "name": "ipython",
    "version": 2
   },
   "file_extension": ".py",
   "mimetype": "text/x-python",
   "name": "python",
   "nbconvert_exporter": "python",
   "pygments_lexer": "ipython2",
   "version": "2.7.12"
  }
 },
 "nbformat": 4,
 "nbformat_minor": 1
}
