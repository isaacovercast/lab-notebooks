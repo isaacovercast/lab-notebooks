{
 "cells": [
  {
   "cell_type": "markdown",
   "metadata": {},
   "source": [
    "## Notebook for hacking on migrating gimmeSAD internals to numpy"
   ]
  },
  {
   "cell_type": "code",
   "execution_count": 7,
   "metadata": {
    "collapsed": false
   },
   "outputs": [],
   "source": [
    "import numpy as np\n",
    "import os\n",
    "\n",
    "workdir = \"/Volumes/WorkDrive/gimmeSAD\"\n",
    "os.chdir(workdir)\n",
    "\n",
    "import Community\n",
    "\n"
   ]
  },
  {
   "cell_type": "code",
   "execution_count": 8,
   "metadata": {
    "collapsed": false
   },
   "outputs": [
    {
     "name": "stdout",
     "output_type": "stream",
     "text": [
      "('total_inds', 1000300302)\n",
      "('metacommunity', array([(0, 517471, 0.0005173156490759512), (1, 66, 6.598018601817837e-08),\n",
      "       (2, 1, 9.996997881542177e-10), ...,\n",
      "       (1634, 21854754, 0.021848192943962542),\n",
      "       (1635, 138741, 0.0001386993483083043),\n",
      "       (1636, 3255510, 0.0032545326573339374)], \n",
      "      dtype=[('uuid', '<i8'), ('abund', '<i8'), ('col_prob', '<f8')]))\n",
      "[('uuid', '<i8'), ('abund', '<i8'), ('col_prob', '<f8')]\n",
      "('init_community', array([[  2,   0,   0, ..., 247,   0,  24]]))\n",
      "Initializing local community:\n",
      "N species = 477\n",
      "N individuals = 10000\n",
      "('local_community', array([(0, 2, 1, True), (1, 0, 0, False), (2, 0, 0, False), ...,\n",
      "       (1634, 247, 1, True), (1635, 0, 0, False), (1636, 24, 1, True)], \n",
      "      dtype=[('uuid', '<i8'), ('abund', '<i8'), ('col_time', '<i8'), ('is_founder', '?')]))\n"
     ]
    }
   ],
   "source": [
    "data = Community.Community()\n",
    "data.set_metacommunity(\"metacommunity_LS4.txt\")\n",
    "data.prepopulate(mode=\"landbridge\")"
   ]
  },
  {
   "cell_type": "code",
   "execution_count": 9,
   "metadata": {
    "collapsed": false
   },
   "outputs": [
    {
     "data": {
      "text/plain": [
       "array([556])"
      ]
     },
     "execution_count": 9,
     "metadata": {},
     "output_type": "execute_result"
    }
   ],
   "source": [
    "victim = np.random.multinomial(1, data.local_community[\"abund\"]/float(data.K), size=1)\n",
    "victim[0]\n",
    "data.local_community[\"uuid\"][victim[0].astype(\"bool\")]"
   ]
  },
  {
   "cell_type": "code",
   "execution_count": 61,
   "metadata": {
    "collapsed": false
   },
   "outputs": [
    {
     "name": "stdout",
     "output_type": "stream",
     "text": [
      "10 loops, best of 3: 18.4 ms per loop\n",
      "54901706\n",
      "1443\n"
     ]
    }
   ],
   "source": [
    "#new_species = data.metacommunity[\"uuid\"][migrant_draw.astype(\"bool\")]\n",
    "#print(migrant_draw, new_species)\n",
    "wat = []\n",
    "allsp = []\n",
    "%timeit [allsp.extend([x] * x) for x in data.metacommunity[\"uuid\"]]; wat = random.choice(allsp)\n",
    "#allsp = np.array(allsp)\n",
    "#%timeit migrant_draw = np.random.multinomial(10000, data.metacommunity[\"col_prob\"], size=1)[0]\n",
    "#%timeit random.choice(allsp)\n",
    "print(len(allsp))\n",
    "print(random.choice(allsp))"
   ]
  },
  {
   "cell_type": "code",
   "execution_count": 37,
   "metadata": {
    "collapsed": false
   },
   "outputs": [
    {
     "name": "stdout",
     "output_type": "stream",
     "text": [
      "10000 loops, best of 3: 22.6 µs per loop\n"
     ]
    }
   ],
   "source": [
    "import random\n",
    "%timeit random.choice(data.metacommunity[\"uuid\"])\n",
    "%timeit np.random.choice(data.metacommunity[\"uuid\"])"
   ]
  },
  {
   "cell_type": "code",
   "execution_count": 65,
   "metadata": {
    "collapsed": false
   },
   "outputs": [
    {
     "name": "stdout",
     "output_type": "stream",
     "text": [
      "614\n",
      "1000300302\n"
     ]
    }
   ],
   "source": [
    "source_pool = []\n",
    "[source_pool.extend([x] * y) for x, y in zip(data.metacommunity[\"uuid\"], data.metacommunity[\"abund\"])]\n",
    "print(random.choice(source_pool))\n",
    "print(len(source_pool))"
   ]
  },
  {
   "cell_type": "code",
   "execution_count": 112,
   "metadata": {
    "collapsed": false
   },
   "outputs": [
    {
     "name": "stdout",
     "output_type": "stream",
     "text": [
      "The slowest run took 18.86 times longer than the fastest. This could mean that an intermediate result is being cached.\n",
      "1000000 loops, best of 3: 265 ns per loop\n",
      "100000 loops, best of 3: 14.6 µs per loop\n",
      "The slowest run took 13.24 times longer than the fastest. This could mean that an intermediate result is being cached.\n",
      "1000000 loops, best of 3: 919 ns per loop\n"
     ]
    }
   ],
   "source": [
    "wat = np.random.rand(100)\n",
    "wat2d = np.zeros((100,2), dtype=int)\n",
    "#print(wat2d)\n",
    "a = np.recarray(100, dtype=[('wat', np.int)])\n",
    "b = np.array([0]*100, dtype=np.int)\n",
    "#%timeit wat[5] += 1\n",
    "#%timeit np.add.at(wat, [5], 1)\n",
    "#%timeit wat2d[5][1] += 1\n",
    "#%timeit wat[5] -= 1\n",
    "%timeit b[5]\n",
    "%timeit a['wat'][5]\n",
    "dict_homo = {'a': np.zeros(10000), 'b': np.zeros(10000)}\n",
    "np_homo = np.zeros(10000, dtype=[('a', np.double), ('b', np.double)])\n",
    "#%timeit dict_homo['a'][0] += 1\n",
    "%timeit np_homo[\"a\"][0] += 1"
   ]
  },
  {
   "cell_type": "code",
   "execution_count": 6,
   "metadata": {
    "collapsed": false
   },
   "outputs": [
    {
     "name": "stdout",
     "output_type": "stream",
     "text": [
      "The slowest run took 16.37 times longer than the fastest. This could mean that an intermediate result is being cached.\n",
      "1000000 loops, best of 3: 845 ns per loop\n",
      "The slowest run took 7.96 times longer than the fastest. This could mean that an intermediate result is being cached.\n",
      "1000000 loops, best of 3: 629 ns per loop\n"
     ]
    }
   ],
   "source": [
    "a = np.zeros(100, dtype=[('wat', np.int64)])\n",
    "b = np.zeros(100, dtype=np.int64)\n",
    "%timeit a['wat'][5] += 1\n",
    "%timeit b[5] += 1\n"
   ]
  },
  {
   "cell_type": "code",
   "execution_count": 263,
   "metadata": {
    "collapsed": false
   },
   "outputs": [],
   "source": [
    "## 10000 loops, best of 3: 165 µs per loop\n",
    "def rand1(data):\n",
    "    idx = (np.cumsum(data.local_community[np.nonzero(data.local_community[\"abund\"])][\"abund\"])/float(data.K)).searchsorted(np.random.sample(1))[0]\n",
    "    local_abund = np.nonzero(data.local_community[\"abund\"])[0]\n",
    "    #print(idx)#, len(local_abund), local_abund)\n",
    "    idx = np.nonzero(data.local_community[\"abund\"])[0][idx]\n",
    "    #print(idx)\n",
    "    return idx\n",
    "\n",
    "## 10000 loops, best of 3: 91.6 µs per loop\n",
    "def rand2(data):\n",
    "    victim = np.random.multinomial(1, data.local_community[\"abund\"]/float(data.K), size=1)\n",
    "    idx = data.local_community['uuid'][victim[0].astype(\"bool\")]\n",
    "    return idx\n",
    "\n",
    "import itertools, random\n",
    "\n",
    "## 1000 loops, best of 3: 1.94 ms per loop\n",
    "def rand3(data):\n",
    "    local_abunds = [[x[0]] * x[1] for x in data.local_community[np.nonzero(data.local_community[\"abund\"])]]\n",
    "    ## flatten list\n",
    "    local_abunds = list(itertools.chain.from_iterable(local_abunds))\n",
    "    idx = random.choice(local_abunds)\n",
    "\n",
    "## 10000 loops, best of 3: 118 µs per loop\n",
    "def rand4(data):\n",
    "    subset = data.local_community[np.nonzero(data.local_community[\"abund\"])]\n",
    "    lt = subset[\"abund\"].cumsum()\n",
    "    get = lt.searchsorted(random.randint(0, lt.max()))\n",
    "    return get\n",
    "\n",
    "## 10000 loops, best of 3: 105 µs per loop\n",
    "## 10000 loops, best of 3: 33.8 µs per loop\n",
    "def rand5(data):\n",
    "    #idx = data.local_community[np.nonzero(data.local_community[\"abund\"])][\"abund\"].cumsum().searchsorted(random.randint(0, data.K))\n",
    "    idx = np.nonzero(data.local_community[\"abund\"])[0].cumsum().searchsorted(random.randint(0, data.K))\n",
    "    return idx"
   ]
  },
  {
   "cell_type": "code",
   "execution_count": 266,
   "metadata": {
    "collapsed": false
   },
   "outputs": [
    {
     "name": "stdout",
     "output_type": "stream",
     "text": [
      "The slowest run took 8.48 times longer than the fastest. This could mean that an intermediate result is being cached.\n",
      "10000 loops, best of 3: 33.8 µs per loop\n"
     ]
    }
   ],
   "source": [
    "%timeit rand5(data)"
   ]
  },
  {
   "cell_type": "code",
   "execution_count": 247,
   "metadata": {
    "collapsed": false
   },
   "outputs": [
    {
     "name": "stdout",
     "output_type": "stream",
     "text": [
      "(477, 10000, 165, array([    2,    56,   182,   300,   311,   322,   323,   324,   342,\n",
      "         346,   348,   358,   364,   373,   402,   404,   418,   461,\n",
      "         572,   585,   657,   659,   660,   694,   695,   703,   709,\n",
      "         711,   716,   717,   719,   720,   745,   814,   816,   817,\n",
      "         819,   821,   832,   838,   842,   898,   951,   957,   961,\n",
      "        1038,  1041,  1042,  1053,  1057,  1058,  1072,  1082,  1086,\n",
      "        1088,  1097,  1166,  1178,  1187,  1189,  1202,  1203,  1220,\n",
      "        1228,  1248,  1255,  1256,  1353,  1359,  1360,  1416,  1434,\n",
      "        1435,  1436,  1437,  1449,  1461,  1474,  1475,  1485,  1486,\n",
      "        1657,  1676,  1723,  1771,  1790,  1871,  1872,  1880,  1888,\n",
      "        1892,  1893,  1894,  1905,  1927,  1953,  1954,  1955,  1956,\n",
      "        1964,  1985,  2019,  2021,  2039,  2046,  2053,  2057,  2123,\n",
      "        2131,  2135,  2136,  2219,  2232,  2234,  2294,  2302,  2500,\n",
      "        2518,  2523,  2565,  2567,  2614,  2615,  2620,  2765,  2769,\n",
      "        2773,  2774,  2784,  2787,  2788,  2795,  2811,  2881,  2890,\n",
      "        2918,  2931,  2934,  2959,  2960,  2961,  2980,  3000,  3001,\n",
      "        3002,  3005,  3009,  3120,  3149,  3154,  3158,  3159,  3197,\n",
      "        3223,  3236,  3242,  3247,  3249,  3251,  3338,  3355,  3377,\n",
      "        3398,  3411,  3413,  3520,  3716,  3717,  3719,  3748,  3758,\n",
      "        3782,  3790,  3791,  3792,  3793,  3795,  3906,  3986,  3999,\n",
      "        4013,  4014,  4016,  4019,  4020,  4035,  4038,  4039,  4128,\n",
      "        4130,  4131,  4135,  4287,  4288,  4292,  4297,  4358,  4364,\n",
      "        4379,  4438,  4475,  4476,  4478,  4480,  4484,  4485,  4563,\n",
      "        4564,  4579,  4582,  4631,  4632,  4633,  4653,  4656,  4663,\n",
      "        4664,  4677,  4684,  4685,  4735,  4736,  4780,  4801,  4830,\n",
      "        4834,  4835,  4887,  4889,  4899,  4900,  4919,  4923,  4924,\n",
      "        4927,  4940,  4941,  4962,  4983,  4984,  4990,  5016,  5017,\n",
      "        5020,  5026,  5032,  5060,  5166,  5191,  5240,  5241,  5248,\n",
      "        5266,  5278,  5281,  5289,  5291,  5306,  5307,  5422,  5423,\n",
      "        5442,  5464,  5469,  5531,  5532,  5547,  5550,  5551,  5555,\n",
      "        5569,  5570,  5571,  5725,  5738,  5741,  5752,  5804,  5827,\n",
      "        5828,  5832,  5837,  5871,  5887,  5892,  5904,  5937,  5962,\n",
      "        5977,  5980,  5988,  5990,  5991,  5992,  6012,  6118,  6119,\n",
      "        6126,  6137,  6147,  6148,  6220,  6225,  6228,  6241,  6244,\n",
      "        6253,  6254,  6258,  6259,  6274,  6323,  6324,  6326,  6349,\n",
      "        6399,  6402,  6403,  6425,  6457,  6470,  6471,  6480,  6538,\n",
      "        6539,  6554,  6556,  6628,  6629,  6688,  6689,  6690,  6698,\n",
      "        6704,  6737,  6820,  6864,  6869,  6974,  7001,  7010,  7018,\n",
      "        7193,  7249,  7250,  7253,  7275,  7287,  7292,  7311,  7313,\n",
      "        7315,  7317,  7328,  7379,  7387,  7392,  7442,  7467,  7474,\n",
      "        7491,  7536,  7541,  7542,  7562,  7567,  7570,  7571,  7572,\n",
      "        7620,  7621,  7626,  7628,  7630,  7636,  7638,  7662,  7667,\n",
      "        7669,  7672,  7674,  7676,  7679,  7738,  7743,  7747,  7748,\n",
      "        7752,  7753,  7755,  7858,  7859,  7868,  7869,  7877,  7904,\n",
      "        7910,  7964,  7965,  8039,  8049,  8060,  8061,  8078,  8158,\n",
      "        8168,  8329,  8351,  8355,  8356,  8358,  8365,  8366,  8371,\n",
      "        8484,  8507,  8508,  8509,  8514,  8515,  8523,  8534,  8540,\n",
      "        8585,  8595,  8598,  8657,  8660,  8760,  8761,  8762,  8768,\n",
      "        8911,  8946,  8954,  8964,  8967,  9026,  9034,  9038,  9040,\n",
      "        9041,  9042,  9044,  9061,  9064,  9066,  9070,  9074,  9096,\n",
      "        9111,  9363,  9365,  9370,  9377,  9443,  9445,  9449,  9452,\n",
      "        9463,  9546,  9567,  9586,  9587,  9589,  9642,  9643,  9657,\n",
      "        9658,  9660,  9661,  9710,  9711,  9728,  9729,  9976, 10000]), 3520)\n"
     ]
    }
   ],
   "source": [
    "subset = data.local_community[np.nonzero(data.local_community[\"abund\"])]\n",
    "lt = subset[\"abund\"].cumsum()\n",
    "get = lt.searchsorted(random.randint(0, lt.max()))\n",
    "print(len(lt), lt.max(), get, lt, lt[get])"
   ]
  },
  {
   "cell_type": "code",
   "execution_count": 274,
   "metadata": {
    "collapsed": false
   },
   "outputs": [
    {
     "data": {
      "text/plain": [
       "5"
      ]
     },
     "execution_count": 274,
     "metadata": {},
     "output_type": "execute_result"
    }
   ],
   "source": [
    "random.choice([1,2,3,4,4,4,4,4,5,5,5,5,5,5,5])"
   ]
  }
 ],
 "metadata": {
  "anaconda-cloud": {},
  "kernelspec": {
   "display_name": "Python [default]",
   "language": "python",
   "name": "python2"
  },
  "language_info": {
   "codemirror_mode": {
    "name": "ipython",
    "version": 2
   },
   "file_extension": ".py",
   "mimetype": "text/x-python",
   "name": "python",
   "nbconvert_exporter": "python",
   "pygments_lexer": "ipython2",
   "version": "2.7.12"
  }
 },
 "nbformat": 4,
 "nbformat_minor": 1
}
