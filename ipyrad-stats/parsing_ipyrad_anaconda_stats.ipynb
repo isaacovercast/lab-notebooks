{
 "cells": [
  {
   "cell_type": "markdown",
   "metadata": {},
   "source": [
    "# Fetching and parsing ipyrad anaconda cloud package stats\n",
    "Before we delete the ipyrad anaconda package we want to look at some stats. It's been up\n",
    "there for a long time and it'd be a shame not to take the opportunity to look at the package history. Luckily\n",
    "anaconda provides a REST api, so we can just grab all the stats and parse them with python."
   ]
  },
  {
   "cell_type": "code",
   "execution_count": 42,
   "metadata": {},
   "outputs": [
    {
     "data": {
      "text/plain": [
       "dict_keys(['app_entry', 'conda_platforms', 'full_name', 'owner', 'home', 'source_git_url', 'source_git_tag', 'app_type', 'upvoted', 'id', 'app_summary', 'public', 'revision', 'files', 'package_types', 'description', 'releases', 'html_url', 'builds', 'watchers', 'dev_url', 'name', 'license', 'versions', 'url', 'created_at', 'modified_at', 'latest_version', 'summary', 'license_url', 'doc_url'])"
      ]
     },
     "execution_count": 42,
     "metadata": {},
     "output_type": "execute_result"
    }
   ],
   "source": [
    "%matplotlib inline\n",
    "import json\n",
    "import matplotlib.pyplot as plt\n",
    "import numpy as np\n",
    "import urllib.request\n",
    "from datetime import datetime\n",
    "from distutils.version import LooseVersion\n",
    "from matplotlib.dates import date2num\n",
    "\n",
    "# The REST api returns json for the package info request\n",
    "with urllib.request.urlopen(\"https://api.anaconda.org/package/ipyrad/ipyrad\") as resp:\n",
    "    stats = resp.read()\n",
    "stats = json.loads(stats)\n",
    "\n",
    "# Look at the keys in this json file\n",
    "stats.keys()"
   ]
  },
  {
   "cell_type": "markdown",
   "metadata": {},
   "source": [
    "Anaconda retains information about each package version including date, number of downlads, and\n",
    "much much more. This is in the 'files' key, lets look at the first one"
   ]
  },
  {
   "cell_type": "code",
   "execution_count": 20,
   "metadata": {},
   "outputs": [
    {
     "data": {
      "text/plain": [
       "{'description': None,\n",
       " 'basename': 'linux-64/ipyrad-0.6.26-0.tar.bz2',\n",
       " 'labels': ['main'],\n",
       " 'dependencies': {'depends': [{'name': 'bitarray', 'specs': []},\n",
       "   {'name': 'cutadapt', 'specs': [['>=', '1.12']]},\n",
       "   {'name': 'cython', 'specs': []},\n",
       "   {'name': 'dask', 'specs': []},\n",
       "   {'name': 'h5py', 'specs': []},\n",
       "   {'name': 'ipyparallel', 'specs': [['>=', '5.1.0']]},\n",
       "   {'name': 'ipython', 'specs': [['>=', '5.0.0']]},\n",
       "   {'name': 'jupyter', 'specs': []},\n",
       "   {'name': 'jupyter_client', 'specs': []},\n",
       "   {'name': 'mpi4py', 'specs': []},\n",
       "   {'name': 'nbconvert', 'specs': []},\n",
       "   {'name': 'networkx', 'specs': []},\n",
       "   {'name': 'notebook', 'specs': [['>=', '4.3']]},\n",
       "   {'name': 'numba', 'specs': [['>=', '0.31']]},\n",
       "   {'name': 'numpy', 'specs': [['>=', '1.7']]},\n",
       "   {'name': 'pandas', 'specs': []},\n",
       "   {'name': 'scipy', 'specs': [['>=', '0.16']]},\n",
       "   {'name': 'sphinx', 'specs': []}]},\n",
       " 'distribution_type': 'conda',\n",
       " 'attrs': {'build_number': 0,\n",
       "  'license': 'GPLv3',\n",
       "  'has_prefix': True,\n",
       "  'machine': 'x86_64',\n",
       "  'platform': 'linux',\n",
       "  'depends': ['bitarray',\n",
       "   'cutadapt >=1.12',\n",
       "   'cython',\n",
       "   'dask',\n",
       "   'h5py',\n",
       "   'ipyparallel >=5.1.0',\n",
       "   'ipython >=5.0.0',\n",
       "   'jupyter',\n",
       "   'jupyter_client',\n",
       "   'mpi4py',\n",
       "   'nbconvert',\n",
       "   'networkx',\n",
       "   'notebook >=4.3',\n",
       "   'numba >=0.31',\n",
       "   'numpy >=1.7',\n",
       "   'pandas',\n",
       "   'scipy >=0.16',\n",
       "   'sphinx'],\n",
       "  'build': '0',\n",
       "  'arch': 'x86_64',\n",
       "  'operatingsystem': 'linux',\n",
       "  'target-triplet': 'x86_64-any-linux',\n",
       "  'subdir': 'linux-64'},\n",
       " 'full_name': 'ipyrad/ipyrad/0.6.26/linux-64/ipyrad-0.6.26-0.tar.bz2',\n",
       " 'owner': 'ipyrad',\n",
       " 'size': 20664740,\n",
       " 'upload_time': '2017-06-01 18:47:50.246000+00:00',\n",
       " 'ndownloads': 23,\n",
       " 'download_url': '//api.anaconda.org/download/ipyrad/ipyrad/0.6.26/linux-64/ipyrad-0.6.26-0.tar.bz2',\n",
       " 'version': '0.6.26',\n",
       " 'md5': '994b2ef66c6f4ab1a7d1aefc95973a93',\n",
       " 'type': 'conda'}"
      ]
     },
     "execution_count": 20,
     "metadata": {},
     "output_type": "execute_result"
    }
   ],
   "source": [
    "v = stats[\"files\"][0]\n",
    "v"
   ]
  },
  {
   "cell_type": "markdown",
   "metadata": {},
   "source": [
    "We're not really interested in most of this, so we'll pull out the version, upload time, and\n",
    "number of downloads for each package, into a tuple.\n",
    "\n",
    "Anaconda cloud reports 10023 total downloads, but we see only 9361 in our data. This is\n",
    "probably caused by having deleted packages through time, while anaconda just increments a\n",
    "global counter per download."
   ]
  },
  {
   "cell_type": "code",
   "execution_count": 88,
   "metadata": {},
   "outputs": [
    {
     "name": "stdout",
     "output_type": "stream",
     "text": [
      "181 9361\n"
     ]
    },
    {
     "data": {
      "text/plain": [
       "[('0.6.26', '2017-06-01 18:47:50.246000+00:00', 23),\n",
       " ('0.4.6', '2016-10-31 21:41:33.711000+00:00', 19),\n",
       " ('0.4.6', '2016-10-31 21:41:47.220000+00:00', 3),\n",
       " ('0.7.28', '2018-07-22 18:51:45.998000+00:00', 380),\n",
       " ('0.4.0', '2016-09-30 16:49:20.595000+00:00', 3)]"
      ]
     },
     "execution_count": 88,
     "metadata": {},
     "output_type": "execute_result"
    }
   ],
   "source": [
    "dat = [(x[\"version\"], x[\"upload_time\"], x[\"ndownloads\"]) for x in stats[\"files\"]]\n",
    "print(len(dat), np.sum([x[2] for x in dat]))\n",
    "dat[:5]"
   ]
  },
  {
   "cell_type": "markdown",
   "metadata": {},
   "source": [
    "Lets pull out the linux ones for now."
   ]
  },
  {
   "cell_type": "code",
   "execution_count": 89,
   "metadata": {},
   "outputs": [
    {
     "name": "stdout",
     "output_type": "stream",
     "text": [
      "96 7755\n"
     ]
    },
    {
     "data": {
      "text/plain": [
       "[('0.6.26', '2017-06-01 18:47:50.246000+00:00', 23),\n",
       " ('0.4.6', '2016-10-31 21:41:33.711000+00:00', 19),\n",
       " ('0.7.28', '2018-07-22 18:51:45.998000+00:00', 380),\n",
       " ('0.4.0', '2016-09-30 16:49:45.436000+00:00', 8),\n",
       " ('0.4.1', '2016-10-01 17:00:45.291000+00:00', 20)]"
      ]
     },
     "execution_count": 89,
     "metadata": {},
     "output_type": "execute_result"
    }
   ],
   "source": [
    "dat = [(x[\"version\"], x[\"upload_time\"], x[\"ndownloads\"]) for x in stats[\"files\"] if \"linux\" in x[\"basename\"]]\n",
    "print(len(dat), np.sum([x[2] for x in dat]))\n",
    "dat[:5]"
   ]
  },
  {
   "cell_type": "markdown",
   "metadata": {},
   "source": [
    "Redo the list comprehension and include a few conversions that'll make things easier later.\n",
    "Semantic versioning is so common there's a mondule for representing it in python, and you can\n",
    "even sort them, super convenient. Also, convert the date to a datetime object, so we can compare\n",
    "them easier."
   ]
  },
  {
   "cell_type": "code",
   "execution_count": 93,
   "metadata": {},
   "outputs": [
    {
     "data": {
      "text/plain": [
       "[(LooseVersion ('0.6.26'), datetime.datetime(2017, 6, 1, 18, 47, 50), 23),\n",
       " (LooseVersion ('0.4.6'), datetime.datetime(2016, 10, 31, 21, 41, 33), 19),\n",
       " (LooseVersion ('0.7.28'), datetime.datetime(2018, 7, 22, 18, 51, 45), 380),\n",
       " (LooseVersion ('0.4.0'), datetime.datetime(2016, 9, 30, 16, 49, 45), 8),\n",
       " (LooseVersion ('0.4.1'), datetime.datetime(2016, 10, 1, 17, 0, 45), 20)]"
      ]
     },
     "execution_count": 93,
     "metadata": {},
     "output_type": "execute_result"
    }
   ],
   "source": [
    "dat = [(LooseVersion(x[\"version\"]),\n",
    "        datetime.strptime(x[\"upload_time\"].split(\".\")[0].split(\"+\")[0], \"%Y-%m-%d %H:%M:%S\"),\n",
    "        x[\"ndownloads\"]) for x in stats[\"files\"]\n",
    "        if \"linux\" in x[\"basename\"]]\n",
    "dat[:5]"
   ]
  },
  {
   "cell_type": "markdown",
   "metadata": {},
   "source": [
    "First of all it's out of order, so lets sort by version number. "
   ]
  },
  {
   "cell_type": "code",
   "execution_count": 94,
   "metadata": {},
   "outputs": [
    {
     "data": {
      "text/plain": [
       "[(LooseVersion ('0.7.28'), datetime.datetime(2018, 11, 22, 18, 11, 45), 302),\n",
       " (LooseVersion ('0.7.29'), datetime.datetime(2019, 1, 21, 18, 51, 41), 453),\n",
       " (LooseVersion ('0.7.30'), datetime.datetime(2019, 3, 9, 19, 31, 50), 3),\n",
       " (LooseVersion ('0.7.30'), datetime.datetime(2019, 3, 9, 21, 26, 17), 102),\n",
       " (LooseVersion ('0.7.30'), datetime.datetime(2019, 3, 29, 3, 59, 16), 618)]"
      ]
     },
     "execution_count": 94,
     "metadata": {},
     "output_type": "execute_result"
    }
   ],
   "source": [
    "dat = sorted(dat, key=lambda x: x[0])\n",
    "dat[-5:]"
   ]
  },
  {
   "cell_type": "markdown",
   "metadata": {},
   "source": [
    "Lets look at the release schedule, so plot version number by date"
   ]
  },
  {
   "cell_type": "code",
   "execution_count": 95,
   "metadata": {},
   "outputs": [
    {
     "name": "stdout",
     "output_type": "stream",
     "text": [
      "96\n"
     ]
    },
    {
     "data": {
      "text/plain": [
       "<matplotlib.lines.Line2D at 0x7ff0281b20d0>"
      ]
     },
     "execution_count": 95,
     "metadata": {},
     "output_type": "execute_result"
    },
    {
     "data": {
      "image/png": "[encoded data removed]",
      "text/plain": [
       "<Figure size 1080x720 with 1 Axes>"
      ]
     },
     "metadata": {
      "needs_background": "light"
     },
     "output_type": "display_data"
    }
   ],
   "source": [
    "print(len(dat))\n",
    "ys = range(0, len(dat))\n",
    "fig, ax = plt.subplots(figsize=(15, 10))\n",
    "ax = plt.plot_date([date2num(x[1]) for x in dat], ys)\n",
    "\n",
    "# Add vertical bars for minor version updates\n",
    "release_05 = [x for x in dat if str(x[0]) == \"0.5.0\"][0]\n",
    "release_06 = [x for x in dat if str(x[0]) == \"0.6.0\"][0]\n",
    "release_07 = [x for x in dat if str(x[0]) == \"0.7.0\"][0]\n",
    "\n",
    "#ax.axvline(x=0, ymin=0, ymax=175)\n",
    "plt.axvline(release_05[1])\n",
    "plt.axvline(release_06[1])\n",
    "plt.axvline(release_07[1])"
   ]
  },
  {
   "cell_type": "markdown",
   "metadata": {},
   "source": [
    "This is another view on time, except now we'll plot how long each version 'lasted', the duration of\n",
    "time between releases."
   ]
  },
  {
   "cell_type": "code",
   "execution_count": 107,
   "metadata": {},
   "outputs": [
    {
     "name": "stderr",
     "output_type": "stream",
     "text": [
      "/home/isaac/miniconda3/envs/ipyrad_py37/lib/python3.7/site-packages/ipykernel_launcher.py:10: RuntimeWarning: invalid value encountered in log10\n",
      "  # Remove the CWD from sys.path while we load stuff.\n"
     ]
    },
    {
     "data": {
      "text/plain": [
       "<matplotlib.lines.Line2D at 0x7ff021e46490>"
      ]
     },
     "execution_count": 107,
     "metadata": {},
     "output_type": "execute_result"
    },
    {
     "data": {
      "image/png": "[encoded data removed]",
      "text/plain": [
       "<Figure size 1080x720 with 1 Axes>"
      ]
     },
     "metadata": {
      "needs_background": "light"
     },
     "output_type": "display_data"
    }
   ],
   "source": [
    "# Now ys will be download count\n",
    "v9_rollout = datetime.strptime(\"2019-10-5 00:00:01\", \"%Y-%m-%d %H:%M:%S\")\n",
    "\n",
    "dates = np.array([x[1] for x in dat])\n",
    "dates_shift = [x[1] for x in dat][1:]\n",
    "dates_shift.append(v9_rollout)\n",
    "date_shift = np.array(dates_shift)\n",
    "\n",
    "transit_time = dates_shift - dates\n",
    "ys = [np.log10(x.total_seconds()) for x in transit_time]\n",
    "fig, ax = plt.subplots(figsize=(15, 10))\n",
    "plt.plot_date([date2num(x[1]) for x in dat], ys)\n",
    "\n",
    "# Add vertical bars for minor version updates\n",
    "release_05 = [x for x in dat if str(x[0]) == \"0.5.0\"][0]\n",
    "release_06 = [x for x in dat if str(x[0]) == \"0.6.0\"][0]\n",
    "release_07 = [x for x in dat if str(x[0]) == \"0.7.0\"][0]\n",
    "\n",
    "#ax.axvline(x=0, ymin=0, ymax=175)\n",
    "plt.axvline(release_05[1])\n",
    "plt.axvline(release_06[1])\n",
    "plt.axvline(release_07[1])"
   ]
  },
  {
   "cell_type": "markdown",
   "metadata": {},
   "source": [
    "Now lets check out the download history"
   ]
  },
  {
   "cell_type": "code",
   "execution_count": 96,
   "metadata": {},
   "outputs": [
    {
     "data": {
      "text/plain": [
       "<matplotlib.lines.Line2D at 0x7ff028129690>"
      ]
     },
     "execution_count": 96,
     "metadata": {},
     "output_type": "execute_result"
    },
    {
     "data": {
      "image/png": "[encoded data removed]",
      "text/plain": [
       "<Figure size 1080x720 with 1 Axes>"
      ]
     },
     "metadata": {
      "needs_background": "light"
     },
     "output_type": "display_data"
    }
   ],
   "source": [
    "# Now ys will be download count\n",
    "ys = [x[2] for x in dat]\n",
    "fig, ax = plt.subplots(figsize=(15, 10))\n",
    "ax = plt.plot_date([date2num(x[1]) for x in dat], ys)\n",
    "\n",
    "# Add vertical bars for minor version updates\n",
    "release_05 = [x for x in dat if str(x[0]) == \"0.5.0\"][0]\n",
    "release_06 = [x for x in dat if str(x[0]) == \"0.6.0\"][0]\n",
    "release_07 = [x for x in dat if str(x[0]) == \"0.7.0\"][0]\n",
    "\n",
    "#ax.axvline(x=0, ymin=0, ymax=175)\n",
    "plt.axvline(release_05[1])\n",
    "plt.axvline(release_06[1])\n",
    "plt.axvline(release_07[1])"
   ]
  },
  {
   "cell_type": "markdown",
   "metadata": {},
   "source": [
    "## Do bioconda"
   ]
  },
  {
   "cell_type": "code",
   "execution_count": 108,
   "metadata": {},
   "outputs": [
    {
     "data": {
      "text/plain": [
       "[(LooseVersion ('0.9.7'), datetime.datetime(2019, 6, 9, 19, 36, 39), 60),\n",
       " (LooseVersion ('0.9.8'), datetime.datetime(2019, 6, 10, 23, 3, 27), 68),\n",
       " (LooseVersion ('0.9.10'), datetime.datetime(2019, 6, 15, 22, 17, 20), 90),\n",
       " (LooseVersion ('0.9.11'), datetime.datetime(2019, 7, 26, 20, 54, 4), 62),\n",
       " (LooseVersion ('0.9.11'), datetime.datetime(2019, 8, 16, 7, 14, 26), 37)]"
      ]
     },
     "execution_count": 108,
     "metadata": {},
     "output_type": "execute_result"
    }
   ],
   "source": [
    "with urllib.request.urlopen(\"https://api.anaconda.org/package/bioconda/ipyrad\") as resp:\n",
    "    stats = resp.read()\n",
    "stats = json.loads(stats)\n",
    "dat = [(LooseVersion(x[\"version\"]),\n",
    "        datetime.strptime(x[\"upload_time\"].split(\".\")[0].split(\"+\")[0], \"%Y-%m-%d %H:%M:%S\"),\n",
    "        x[\"ndownloads\"]) for x in stats[\"files\"]\n",
    "      ]\n",
    "dat = sorted(dat, key=lambda x: x[0])\n",
    "dat[:5]"
   ]
  },
  {
   "cell_type": "code",
   "execution_count": 110,
   "metadata": {},
   "outputs": [
    {
     "name": "stdout",
     "output_type": "stream",
     "text": [
      "27\n"
     ]
    },
    {
     "data": {
      "text/plain": [
       "<matplotlib.lines.Line2D at 0x7ff0287daad0>"
      ]
     },
     "execution_count": 110,
     "metadata": {},
     "output_type": "execute_result"
    },
    {
     "data": {
      "image/png": "[encoded data removed]",
      "text/plain": [
       "<Figure size 1080x720 with 1 Axes>"
      ]
     },
     "metadata": {
      "needs_background": "light"
     },
     "output_type": "display_data"
    }
   ],
   "source": [
    "print(len(dat))\n",
    "manu_published = datetime.strptime(\"2020-01-06 00:00:01\", \"%Y-%m-%d %H:%M:%S\")\n",
    "\n",
    "ys = range(0, len(dat))\n",
    "fig, ax = plt.subplots(figsize=(15, 10))\n",
    "ax = plt.plot_date([date2num(x[1]) for x in dat], ys)\n",
    "\n",
    "plt.axvline(manu_published)"
   ]
  },
  {
   "cell_type": "code",
   "execution_count": 111,
   "metadata": {},
   "outputs": [
    {
     "data": {
      "text/plain": [
       "<matplotlib.lines.Line2D at 0x7ff028b0d590>"
      ]
     },
     "execution_count": 111,
     "metadata": {},
     "output_type": "execute_result"
    },
    {
     "data": {
      "image/png": "[encoded data removed]",
      "text/plain": [
       "<Figure size 1080x720 with 1 Axes>"
      ]
     },
     "metadata": {
      "needs_background": "light"
     },
     "output_type": "display_data"
    }
   ],
   "source": [
    "# Now ys will be download count\n",
    "ys = [x[2] for x in dat]\n",
    "fig, ax = plt.subplots(figsize=(15, 10))\n",
    "ax = plt.plot_date([date2num(x[1]) for x in dat], ys)\n",
    "manu_published = datetime.strptime(\"2020-01-06 00:00:01\", \"%Y-%m-%d %H:%M:%S\")\n",
    "plt.axvline(manu_published)"
   ]
  },
  {
   "cell_type": "code",
   "execution_count": 127,
   "metadata": {},
   "outputs": [
    {
     "name": "stdout",
     "output_type": "stream",
     "text": [
      "loading Assembly: peddrad22\n",
      "from saved path: /tmp/ipyrad-test/peddrad22.json\n",
      "/tmp/ipyrad-test/peddrad22_fastqs/*.gz\n"
     ]
    },
    {
     "data": {
      "text/plain": [
       "'/tmp/ipyrad-test/peddrad22_fastqs'"
      ]
     },
     "execution_count": 127,
     "metadata": {},
     "output_type": "execute_result"
    }
   ],
   "source": [
    "import os\n",
    "import ipyrad\n",
    "\n",
    "data = ipyrad.load_json(\"/tmp/ipyrad-test/peddrad22.json\")\n",
    "data.set_params(\"sorted_fastq_path\", \"~/../../tmp/ipyrad-test/peddrad22_fastqs/*.gz\")\n",
    "print(data.params.sorted_fastq_path)\n",
    "\n",
    "#os.path.realpath(\"~/tmp\")\n",
    "data.params.sorted_fastq_path.rsplit(\"/\", 1)[0]"
   ]
  },
  {
   "cell_type": "code",
   "execution_count": 124,
   "metadata": {},
   "outputs": [
    {
     "name": "stdout",
     "output_type": "stream",
     "text": [
      "analysis-bucky\t      peddrad22_consens  peddrad22.json\r\n",
      "peddrad22_across      peddrad22_edits\t peddrad22_outfiles\r\n",
      "peddrad22_clust_0.85  peddrad22_fastqs\t peddrad22_refmapping\r\n"
     ]
    }
   ],
   "source": [
    "!ls /tmp/ipyrad-test/"
   ]
  }
 ],
 "metadata": {
  "kernelspec": {
   "display_name": "Python 3",
   "language": "python",
   "name": "python3"
  },
  "language_info": {
   "codemirror_mode": {
    "name": "ipython",
    "version": 3
   },
   "file_extension": ".py",
   "mimetype": "text/x-python",
   "name": "python",
   "nbconvert_exporter": "python",
   "pygments_lexer": "ipython3",
   "version": "3.7.6"
  }
 },
 "nbformat": 4,
 "nbformat_minor": 2
}
