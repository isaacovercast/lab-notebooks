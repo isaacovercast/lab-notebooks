{
 "cells": [
  {
   "cell_type": "markdown",
   "metadata": {},
   "source": [
    "https://www.hmpdacc.org/resources/data_browser.php\n",
    "    \n",
    "Files you need:\n",
    "- map file between otu and clusters\n",
    "- final otu table\n",
    "- mapping files\n",
    "- All the sequence data for the body sites of interest from here: https://www.hmpdacc.org/hmp/HM16STR/"
   ]
  },
  {
   "cell_type": "code",
   "execution_count": 67,
   "metadata": {},
   "outputs": [],
   "source": [
    "## Imports\n",
    "import pandas as pd\n",
    "import numpy as np\n",
    "import glob"
   ]
  },
  {
   "cell_type": "code",
   "execution_count": 90,
   "metadata": {},
   "outputs": [
    {
     "name": "stdout",
     "output_type": "stream",
     "text": [
      "   #SampleID       RSID visitno     sex RUNCENTER  \\\n",
      "0  700013549  158013734       1  female       BCM   \n",
      "1  700014386  158398106       1    male    BCM,BI   \n",
      "2  700014403  158398106       1    male    BCM,BI   \n",
      "3  700014409  158398106       1    male    BCM,BI   \n",
      "4  700014412  158398106       1    male    BCM,BI   \n",
      "5  700014415  158398106       1    male    BCM,BI   \n",
      "6  700014418  158398106       1    male    BCM,BI   \n",
      "7  700014421  158398106       1    male    BCM,BI   \n",
      "8  700014424  158398106       1    male    BCM,BI   \n",
      "9  700014427  158398106       1    male    BCM,BI   \n",
      "\n",
      "                 HMPbodysubsite  \\\n",
      "0                         Stool   \n",
      "1                         Stool   \n",
      "2                        Saliva   \n",
      "3                 Tongue_dorsum   \n",
      "4                   Hard_palate   \n",
      "5                 Buccal_mucosa   \n",
      "6  Attached_Keratinized_gingiva   \n",
      "7              Palatine_Tonsils   \n",
      "8                        Throat   \n",
      "9          Supragingival_plaque   \n",
      "\n",
      "                                         Description  \n",
      "0  HMP_Human_metagenome_sample_700013549_from_sub...  \n",
      "1  HMP_Human_metagenome_sample_700014386_from_sub...  \n",
      "2  HMP_Human_metagenome_sample_700014403_from_sub...  \n",
      "3  HMP_Human_metagenome_sample_700014409_from_sub...  \n",
      "4  HMP_Human_metagenome_sample_700014412_from_sub...  \n",
      "5  HMP_Human_metagenome_sample_700014415_from_sub...  \n",
      "6  HMP_Human_metagenome_sample_700014418_from_sub...  \n",
      "7  HMP_Human_metagenome_sample_700014421_from_sub...  \n",
      "8  HMP_Human_metagenome_sample_700014424_from_sub...  \n",
      "9  HMP_Human_metagenome_sample_700014427_from_sub...  \n",
      "2970\n",
      "4857\n"
     ]
    }
   ],
   "source": [
    "## READ the map file\n",
    "df_13_map = pd.read_csv(\"v13_map_uniquebyPSN.txt\", header=0, delim_whitespace=True, dtype=str)#, index_col=0)\n",
    "df_35_map = pd.read_csv(\"v35_map_uniquebyPSN.txt\", header=0, delim_whitespace=True, dtype=str)#, index_col=0)\n",
    "print(df_13_map.head(10))\n",
    "print(len(df_13_map))\n",
    "print(len(df_35_map))"
   ]
  },
  {
   "cell_type": "code",
   "execution_count": 51,
   "metadata": {
    "collapsed": true
   },
   "outputs": [
    {
     "name": "stdout",
     "output_type": "stream",
     "text": [
      "Posterior_fornix\n",
      "Mid_vagina\n",
      "Hard_palate\n",
      "Supragingival_plaque\n",
      "Stool\n",
      "Right_Antecubital_fossa\n",
      "Saliva\n",
      "Tongue_dorsum\n",
      "Right_Retroauricular_crease\n",
      "Anterior_nares\n",
      "Palatine_Tonsils\n",
      "Throat\n",
      "Vaginal_introitus\n",
      "Subgingival_plaque\n",
      "Attached_Keratinized_gingiva\n",
      "Buccal_mucosa\n",
      "Left_Retroauricular_crease\n",
      "Left_Antecubital_fossa\n"
     ]
    }
   ],
   "source": [
    "## Get #SampleID per body subsite dictionary\n",
    "site_to_sampleid_map = {}\n",
    "for site in set(df_hmp_map[\"HMPbodysubsite\"]):\n",
    "    print(site)\n",
    "    site_to_sampleid_map[site] = df_hmp_map[df_hmp_map[\"HMPbodysubsite\"] == site][\"#SampleID\"]\n",
    "#print(site_to_sampleid_map)"
   ]
  },
  {
   "cell_type": "code",
   "execution_count": 92,
   "metadata": {},
   "outputs": [
    {
     "name": "stdout",
     "output_type": "stream",
     "text": [
      "          #OTU  ID  700114607  700114380  700114716  700114798  700114710  \\\n",
      "0     OTU_97.1   0          0          0          0          0          0   \n",
      "1    OTU_97.10   0          0          0          0          0          0   \n",
      "2   OTU_97.100   0          0          0          0          0          0   \n",
      "3  OTU_97.1000   0          0          0          0          0          0   \n",
      "\n",
      "   700114614  700114755  700114715   ...     700032036  700015970  700032180  \\\n",
      "0          0          0          0   ...             0          0          0   \n",
      "1          0          0          1   ...             0          0          0   \n",
      "2          0          0          0   ...             0          0          0   \n",
      "3          0          0          0   ...             0          0          0   \n",
      "\n",
      "   700015873  700016708  700016812  700016713  \\\n",
      "0          0          0          0          0   \n",
      "1          0          0          0          0   \n",
      "2          0          0          0          0   \n",
      "3          0          0          0          0   \n",
      "\n",
      "                                           700016048  Consensus  Lineage  \n",
      "0  Root;p__Firmicutes;c__Bacilli;o__Lactobacillal...        NaN      NaN  \n",
      "1  Root;p__Proteobacteria;c__Betaproteobacteria;o...        NaN      NaN  \n",
      "2  Root;p__Bacteroidetes;c__Bacteroidia;o__Bacter...        NaN      NaN  \n",
      "3  Root;p__Proteobacteria;c__Betaproteobacteria;o...        NaN      NaN  \n",
      "\n",
      "[4 rows x 4792 columns]\n"
     ]
    }
   ],
   "source": [
    "## True file length, subsamp for quick testing\n",
    "#nrows = 45385\n",
    "nrows = 1000\n",
    "df_hmp_otu = pd.read_csv(\"otu_table_psn_v35.txt\", header=0, delim_whitespace=True, skiprows=1, nrows=nrows)#, index_col=0)\n",
    "print(df_hmp_otu.loc[:3])\n"
   ]
  },
  {
   "cell_type": "code",
   "execution_count": 98,
   "metadata": {},
   "outputs": [
    {
     "ename": "KeyError",
     "evalue": "'700023566'",
     "output_type": "error",
     "traceback": [
      "\u001b[0;31m---------------------------------------------------------------------------\u001b[0m",
      "\u001b[0;31mKeyError\u001b[0m                                  Traceback (most recent call last)",
      "\u001b[0;32m<ipython-input-98-adb3ce302d26>\u001b[0m in \u001b[0;36m<module>\u001b[0;34m()\u001b[0m\n\u001b[0;32m----> 1\u001b[0;31m \u001b[0mdf_hmp_otu\u001b[0m\u001b[0;34m[\u001b[0m\u001b[0;34m\"700023566\"\u001b[0m\u001b[0;34m]\u001b[0m\u001b[0;34m\u001b[0m\u001b[0m\n\u001b[0m\u001b[1;32m      2\u001b[0m \u001b[0;31m#df_hmp_otu.loc[0]\u001b[0m\u001b[0;34m\u001b[0m\u001b[0;34m\u001b[0m\u001b[0m\n",
      "\u001b[0;32m/home/isaac/miniconda2/lib/python2.7/site-packages/pandas/core/frame.pyc\u001b[0m in \u001b[0;36m__getitem__\u001b[0;34m(self, key)\u001b[0m\n\u001b[1;32m   2683\u001b[0m             \u001b[0;32mreturn\u001b[0m \u001b[0mself\u001b[0m\u001b[0;34m.\u001b[0m\u001b[0m_getitem_multilevel\u001b[0m\u001b[0;34m(\u001b[0m\u001b[0mkey\u001b[0m\u001b[0;34m)\u001b[0m\u001b[0;34m\u001b[0m\u001b[0m\n\u001b[1;32m   2684\u001b[0m         \u001b[0;32melse\u001b[0m\u001b[0;34m:\u001b[0m\u001b[0;34m\u001b[0m\u001b[0m\n\u001b[0;32m-> 2685\u001b[0;31m             \u001b[0;32mreturn\u001b[0m \u001b[0mself\u001b[0m\u001b[0;34m.\u001b[0m\u001b[0m_getitem_column\u001b[0m\u001b[0;34m(\u001b[0m\u001b[0mkey\u001b[0m\u001b[0;34m)\u001b[0m\u001b[0;34m\u001b[0m\u001b[0m\n\u001b[0m\u001b[1;32m   2686\u001b[0m \u001b[0;34m\u001b[0m\u001b[0m\n\u001b[1;32m   2687\u001b[0m     \u001b[0;32mdef\u001b[0m \u001b[0m_getitem_column\u001b[0m\u001b[0;34m(\u001b[0m\u001b[0mself\u001b[0m\u001b[0;34m,\u001b[0m \u001b[0mkey\u001b[0m\u001b[0;34m)\u001b[0m\u001b[0;34m:\u001b[0m\u001b[0;34m\u001b[0m\u001b[0m\n",
      "\u001b[0;32m/home/isaac/miniconda2/lib/python2.7/site-packages/pandas/core/frame.pyc\u001b[0m in \u001b[0;36m_getitem_column\u001b[0;34m(self, key)\u001b[0m\n\u001b[1;32m   2690\u001b[0m         \u001b[0;31m# get column\u001b[0m\u001b[0;34m\u001b[0m\u001b[0;34m\u001b[0m\u001b[0m\n\u001b[1;32m   2691\u001b[0m         \u001b[0;32mif\u001b[0m \u001b[0mself\u001b[0m\u001b[0;34m.\u001b[0m\u001b[0mcolumns\u001b[0m\u001b[0;34m.\u001b[0m\u001b[0mis_unique\u001b[0m\u001b[0;34m:\u001b[0m\u001b[0;34m\u001b[0m\u001b[0m\n\u001b[0;32m-> 2692\u001b[0;31m             \u001b[0;32mreturn\u001b[0m \u001b[0mself\u001b[0m\u001b[0;34m.\u001b[0m\u001b[0m_get_item_cache\u001b[0m\u001b[0;34m(\u001b[0m\u001b[0mkey\u001b[0m\u001b[0;34m)\u001b[0m\u001b[0;34m\u001b[0m\u001b[0m\n\u001b[0m\u001b[1;32m   2693\u001b[0m \u001b[0;34m\u001b[0m\u001b[0m\n\u001b[1;32m   2694\u001b[0m         \u001b[0;31m# duplicate columns & possible reduce dimensionality\u001b[0m\u001b[0;34m\u001b[0m\u001b[0;34m\u001b[0m\u001b[0m\n",
      "\u001b[0;32m/home/isaac/miniconda2/lib/python2.7/site-packages/pandas/core/generic.pyc\u001b[0m in \u001b[0;36m_get_item_cache\u001b[0;34m(self, item)\u001b[0m\n\u001b[1;32m   2484\u001b[0m         \u001b[0mres\u001b[0m \u001b[0;34m=\u001b[0m \u001b[0mcache\u001b[0m\u001b[0;34m.\u001b[0m\u001b[0mget\u001b[0m\u001b[0;34m(\u001b[0m\u001b[0mitem\u001b[0m\u001b[0;34m)\u001b[0m\u001b[0;34m\u001b[0m\u001b[0m\n\u001b[1;32m   2485\u001b[0m         \u001b[0;32mif\u001b[0m \u001b[0mres\u001b[0m \u001b[0;32mis\u001b[0m \u001b[0mNone\u001b[0m\u001b[0;34m:\u001b[0m\u001b[0;34m\u001b[0m\u001b[0m\n\u001b[0;32m-> 2486\u001b[0;31m             \u001b[0mvalues\u001b[0m \u001b[0;34m=\u001b[0m \u001b[0mself\u001b[0m\u001b[0;34m.\u001b[0m\u001b[0m_data\u001b[0m\u001b[0;34m.\u001b[0m\u001b[0mget\u001b[0m\u001b[0;34m(\u001b[0m\u001b[0mitem\u001b[0m\u001b[0;34m)\u001b[0m\u001b[0;34m\u001b[0m\u001b[0m\n\u001b[0m\u001b[1;32m   2487\u001b[0m             \u001b[0mres\u001b[0m \u001b[0;34m=\u001b[0m \u001b[0mself\u001b[0m\u001b[0;34m.\u001b[0m\u001b[0m_box_item_values\u001b[0m\u001b[0;34m(\u001b[0m\u001b[0mitem\u001b[0m\u001b[0;34m,\u001b[0m \u001b[0mvalues\u001b[0m\u001b[0;34m)\u001b[0m\u001b[0;34m\u001b[0m\u001b[0m\n\u001b[1;32m   2488\u001b[0m             \u001b[0mcache\u001b[0m\u001b[0;34m[\u001b[0m\u001b[0mitem\u001b[0m\u001b[0;34m]\u001b[0m \u001b[0;34m=\u001b[0m \u001b[0mres\u001b[0m\u001b[0;34m\u001b[0m\u001b[0m\n",
      "\u001b[0;32m/home/isaac/miniconda2/lib/python2.7/site-packages/pandas/core/internals.pyc\u001b[0m in \u001b[0;36mget\u001b[0;34m(self, item, fastpath)\u001b[0m\n\u001b[1;32m   4113\u001b[0m \u001b[0;34m\u001b[0m\u001b[0m\n\u001b[1;32m   4114\u001b[0m             \u001b[0;32mif\u001b[0m \u001b[0;32mnot\u001b[0m \u001b[0misna\u001b[0m\u001b[0;34m(\u001b[0m\u001b[0mitem\u001b[0m\u001b[0;34m)\u001b[0m\u001b[0;34m:\u001b[0m\u001b[0;34m\u001b[0m\u001b[0m\n\u001b[0;32m-> 4115\u001b[0;31m                 \u001b[0mloc\u001b[0m \u001b[0;34m=\u001b[0m \u001b[0mself\u001b[0m\u001b[0;34m.\u001b[0m\u001b[0mitems\u001b[0m\u001b[0;34m.\u001b[0m\u001b[0mget_loc\u001b[0m\u001b[0;34m(\u001b[0m\u001b[0mitem\u001b[0m\u001b[0;34m)\u001b[0m\u001b[0;34m\u001b[0m\u001b[0m\n\u001b[0m\u001b[1;32m   4116\u001b[0m             \u001b[0;32melse\u001b[0m\u001b[0;34m:\u001b[0m\u001b[0;34m\u001b[0m\u001b[0m\n\u001b[1;32m   4117\u001b[0m                 \u001b[0mindexer\u001b[0m \u001b[0;34m=\u001b[0m \u001b[0mnp\u001b[0m\u001b[0;34m.\u001b[0m\u001b[0marange\u001b[0m\u001b[0;34m(\u001b[0m\u001b[0mlen\u001b[0m\u001b[0;34m(\u001b[0m\u001b[0mself\u001b[0m\u001b[0;34m.\u001b[0m\u001b[0mitems\u001b[0m\u001b[0;34m)\u001b[0m\u001b[0;34m)\u001b[0m\u001b[0;34m[\u001b[0m\u001b[0misna\u001b[0m\u001b[0;34m(\u001b[0m\u001b[0mself\u001b[0m\u001b[0;34m.\u001b[0m\u001b[0mitems\u001b[0m\u001b[0;34m)\u001b[0m\u001b[0;34m]\u001b[0m\u001b[0;34m\u001b[0m\u001b[0m\n",
      "\u001b[0;32m/home/isaac/miniconda2/lib/python2.7/site-packages/pandas/core/indexes/base.pyc\u001b[0m in \u001b[0;36mget_loc\u001b[0;34m(self, key, method, tolerance)\u001b[0m\n\u001b[1;32m   3063\u001b[0m                 \u001b[0;32mreturn\u001b[0m \u001b[0mself\u001b[0m\u001b[0;34m.\u001b[0m\u001b[0m_engine\u001b[0m\u001b[0;34m.\u001b[0m\u001b[0mget_loc\u001b[0m\u001b[0;34m(\u001b[0m\u001b[0mkey\u001b[0m\u001b[0;34m)\u001b[0m\u001b[0;34m\u001b[0m\u001b[0m\n\u001b[1;32m   3064\u001b[0m             \u001b[0;32mexcept\u001b[0m \u001b[0mKeyError\u001b[0m\u001b[0;34m:\u001b[0m\u001b[0;34m\u001b[0m\u001b[0m\n\u001b[0;32m-> 3065\u001b[0;31m                 \u001b[0;32mreturn\u001b[0m \u001b[0mself\u001b[0m\u001b[0;34m.\u001b[0m\u001b[0m_engine\u001b[0m\u001b[0;34m.\u001b[0m\u001b[0mget_loc\u001b[0m\u001b[0;34m(\u001b[0m\u001b[0mself\u001b[0m\u001b[0;34m.\u001b[0m\u001b[0m_maybe_cast_indexer\u001b[0m\u001b[0;34m(\u001b[0m\u001b[0mkey\u001b[0m\u001b[0;34m)\u001b[0m\u001b[0;34m)\u001b[0m\u001b[0;34m\u001b[0m\u001b[0m\n\u001b[0m\u001b[1;32m   3066\u001b[0m \u001b[0;34m\u001b[0m\u001b[0m\n\u001b[1;32m   3067\u001b[0m         \u001b[0mindexer\u001b[0m \u001b[0;34m=\u001b[0m \u001b[0mself\u001b[0m\u001b[0;34m.\u001b[0m\u001b[0mget_indexer\u001b[0m\u001b[0;34m(\u001b[0m\u001b[0;34m[\u001b[0m\u001b[0mkey\u001b[0m\u001b[0;34m]\u001b[0m\u001b[0;34m,\u001b[0m \u001b[0mmethod\u001b[0m\u001b[0;34m=\u001b[0m\u001b[0mmethod\u001b[0m\u001b[0;34m,\u001b[0m \u001b[0mtolerance\u001b[0m\u001b[0;34m=\u001b[0m\u001b[0mtolerance\u001b[0m\u001b[0;34m)\u001b[0m\u001b[0;34m\u001b[0m\u001b[0m\n",
      "\u001b[0;32mpandas/_libs/index.pyx\u001b[0m in \u001b[0;36mpandas._libs.index.IndexEngine.get_loc\u001b[0;34m()\u001b[0m\n",
      "\u001b[0;32mpandas/_libs/index.pyx\u001b[0m in \u001b[0;36mpandas._libs.index.IndexEngine.get_loc\u001b[0;34m()\u001b[0m\n",
      "\u001b[0;32mpandas/_libs/hashtable_class_helper.pxi\u001b[0m in \u001b[0;36mpandas._libs.hashtable.PyObjectHashTable.get_item\u001b[0;34m()\u001b[0m\n",
      "\u001b[0;32mpandas/_libs/hashtable_class_helper.pxi\u001b[0m in \u001b[0;36mpandas._libs.hashtable.PyObjectHashTable.get_item\u001b[0;34m()\u001b[0m\n",
      "\u001b[0;31mKeyError\u001b[0m: '700023566'"
     ]
    }
   ],
   "source": [
    "df_hmp_otu[\"700023566\"]\n",
    "#df_hmp_otu.loc[0]"
   ]
  },
  {
   "cell_type": "code",
   "execution_count": 74,
   "metadata": {},
   "outputs": [],
   "source": [
    "import gzip\n",
    "import sys\n",
    "samp_to_fsa = {}\n",
    "fsa_to_samp = {}\n",
    "for f in glob.glob(\"raws/*.fsa.gz\"):\n",
    "    with gzip.open(f) as infile:\n",
    "        samp = infile.readline().split()[2].split(\"=\")[1]\n",
    "        samp_to_fsa[samp] = f\n",
    "        fsa_to_samp[f.split(\"/\")[1].split(\".\")[0]] = samp"
   ]
  },
  {
   "cell_type": "code",
   "execution_count": 97,
   "metadata": {},
   "outputs": [
    {
     "name": "stdout",
     "output_type": "stream",
     "text": [
      ">SRS014911.SRX020546_211858915 GCDIEO201EXJK2 orig_bc=TCAGACACGGAC new_bc=TCAGACACGGAC bc_diffs=0\n",
      "\n",
      "700023566\n"
     ]
    },
    {
     "ename": "KeyError",
     "evalue": "'700114607'",
     "output_type": "error",
     "traceback": [
      "\u001b[0;31m---------------------------------------------------------------------------\u001b[0m",
      "\u001b[0;31mKeyError\u001b[0m                                  Traceback (most recent call last)",
      "\u001b[0;32m<ipython-input-97-b2368c859a48>\u001b[0m in \u001b[0;36m<module>\u001b[0;34m()\u001b[0m\n\u001b[1;32m      2\u001b[0m     \u001b[0;32mprint\u001b[0m\u001b[0;34m(\u001b[0m\u001b[0minfile\u001b[0m\u001b[0;34m.\u001b[0m\u001b[0mreadline\u001b[0m\u001b[0;34m(\u001b[0m\u001b[0;34m)\u001b[0m\u001b[0;34m)\u001b[0m\u001b[0;34m\u001b[0m\u001b[0m\n\u001b[1;32m      3\u001b[0m \u001b[0;32mprint\u001b[0m\u001b[0;34m(\u001b[0m\u001b[0mfsa_to_samp\u001b[0m\u001b[0;34m[\u001b[0m\u001b[0;34m\"SRS014911\"\u001b[0m\u001b[0;34m]\u001b[0m\u001b[0;34m)\u001b[0m\u001b[0;34m\u001b[0m\u001b[0m\n\u001b[0;32m----> 4\u001b[0;31m \u001b[0;32mprint\u001b[0m\u001b[0;34m(\u001b[0m\u001b[0msamp_to_fsa\u001b[0m\u001b[0;34m[\u001b[0m\u001b[0;34m\"700114607\"\u001b[0m\u001b[0;34m]\u001b[0m\u001b[0;34m)\u001b[0m\u001b[0;34m\u001b[0m\u001b[0m\n\u001b[0m",
      "\u001b[0;31mKeyError\u001b[0m: '700114607'"
     ]
    }
   ],
   "source": [
    "with gzip.open(\"seqs_v13.fna.gz\") as infile:\n",
    "    print(infile.readline())\n",
    "print(fsa_to_samp[\"SRS014911\"])\n",
    "print(samp_to_fsa[\"700114607\"])"
   ]
  }
 ],
 "metadata": {
  "kernelspec": {
   "display_name": "Python 2",
   "language": "python",
   "name": "python2"
  },
  "language_info": {
   "codemirror_mode": {
    "name": "ipython",
    "version": 2
   },
   "file_extension": ".py",
   "mimetype": "text/x-python",
   "name": "python",
   "nbconvert_exporter": "python",
   "pygments_lexer": "ipython2",
   "version": "2.7.15"
  }
 },
 "nbformat": 4,
 "nbformat_minor": 2
}
