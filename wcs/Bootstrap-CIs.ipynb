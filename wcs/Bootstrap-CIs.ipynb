{
 "cells": [
  {
   "cell_type": "code",
   "execution_count": 2,
   "metadata": {
    "collapsed": true
   },
   "outputs": [],
   "source": [
    "from scipy import stats\n",
    "import scikits.bootstrap as boot\n",
    "import numpy as np\n",
    "import scipy as sp\n",
    "import math"
   ]
  },
  {
   "cell_type": "code",
   "execution_count": 3,
   "metadata": {
    "collapsed": false
   },
   "outputs": [
    {
     "name": "stdout",
     "output_type": "stream",
     "text": [
      "['NA1', 'NCL', 'NLN', 'M1', 'M2', 'TD2', 'TCONTACT', 'TISOLATE', 'TD1', 'TD0', 'EXB', 'EXN', 'MaxEstLhood', 'MaxObsLhood']\n",
      "14\n"
     ]
    }
   ],
   "source": [
    "col_headers = \"NA1     NCL     NLN     M1      M2      TD2     TCONTACT        TISOLATE        TD1     TD0     EXB     EXN     MaxEstLhood     MaxObsLhood\"\n",
    "col_headers = col_headers.split()\n",
    "print(col_headers)\n",
    "print(len(col_headers))"
   ]
  },
  {
   "cell_type": "code",
   "execution_count": 4,
   "metadata": {
    "collapsed": false
   },
   "outputs": [],
   "source": [
    "f = \"/tmp/rpt.txt\"\n",
    "infile = open(f, 'r')\n",
    "for line in infile.read():\n",
    "    line = line.strip().split()\n",
    "    \n",
    "\n",
    "dat = np.loadtxt(f)\n",
    "dat_t = np.transpose(dat)"
   ]
  },
  {
   "cell_type": "code",
   "execution_count": 5,
   "metadata": {
    "collapsed": true
   },
   "outputs": [
    {
     "name": "stdout",
     "output_type": "stream",
     "text": [
      "{0: [75058.0, 75528.0, 94694.0, 58850.0, 54566.0, 13262.0, 44540.0, 50295.0, 49823.0, 85882.0, 74024.0, 16972.0, 55179.0, 38652.0, 58356.0, 53481.0, 80351.0, 43291.0, 54381.0, 67125.0], 1: [60082.0, 88573.0, 18267.0, 15114.0, 116944.0, 44784.0, 7012.0, 54647.0, 16383.0, 74799.0, 16737.0, 80673.0, 47204.0, 4706.0, 13239.0, 25409.0, 73313.0, 1654.0, 5066.0, 97976.0], 2: [27707.0, 38262.0, 8537.0, 8948.0, 56967.0, 24969.0, 3429.0, 26086.0, 8104.0, 41281.0, 7779.0, 37634.0, 22614.0, 2649.0, 6766.0, 12957.0, 39452.0, 959.0, 2712.0, 46637.0], 3: [3.7215300000000003e-05, 2.5603900000000001e-05, 0.000103427, 0.000133058, 1.64779e-05, 4.2642499999999997e-05, 0.00029188100000000002, 3.4754800000000001e-05, 0.000121067, 2.6821999999999998e-05, 0.00012747999999999999, 2.4961500000000001e-05, 4.3349500000000002e-05, 0.00042629799999999998, 0.000156176, 7.8060100000000002e-05, 2.7869e-05, 0.0011942000000000001, 0.00037295200000000002, 2.1188399999999999e-05], 4: [0.0050692000000000003, 0.0019166999999999999, 0.0081470999999999991, 0.0034686999999999999, 0.0028925999999999999, 0.0053902000000000004, 0.0042576999999999997, 0.0030409, 0.0060470999999999997, 0.0030339999999999998, 0.0039386999999999998, 0.0065541999999999996, 0.004875, 0.0035523, 0.0087725000000000008, 0.0026155000000000002, 0.0012960999999999999, 0.0101604, 4.29127e-05, 0.0022753000000000001], 5: [94714.0, 71243.0, 31990.0, 12446.0, 84828.0, 55758.0, 19377.0, 97224.0, 36501.0, 81417.0, 50232.0, 113587.0, 39011.0, 14704.0, 40417.0, 29533.0, 58913.0, 19489.0, 2816.0, 76920.0], 6: [0.98868230000000001, 0.9886007, 0.99723930000000005, 0.98411000000000004, 0.97504029999999997, 0.96512339999999996, 0.99555769999999999, 0.98820830000000004, 0.99553700000000001, 0.99076629999999999, 0.9968844, 0.99800029999999995, 0.99708229999999998, 0.99396640000000003, 0.99975020000000003, 0.99081339999999996, 0.98792270000000004, 0.95998919999999999, 1.2291865, 0.97299469999999999], 7: [0.33950049999999998, 0.63405400000000001, 0.3071181, 0.81175220000000003, 0.84244450000000004, 0.52108940000000004, 0.20539540000000001, 0.3277989, 0.22686509999999999, 0.58162400000000003, 0.18651609999999999, 0.37653969999999998, 0.68423540000000005, 0.21376890000000001, 0.18618970000000001, 0.48481079999999999, 0.71990589999999999, 0.061785199999999998, 0.81587460000000001, 0.71198600000000001], 8: [32155.0, 45171.0, 9824.0, 10103.0, 71462.0, 29054.0, 3979.0, 31869.0, 8280.0, 47354.0, 9369.0, 42770.0, 26692.0, 3143.0, 7525.0, 14317.0, 42411.0, 1204.0, 2297.0, 54765.0], 9: [31791.0, 44656.0, 9796.0, 9942.0, 69678.0, 28040.0, 3961.0, 31493.0, 8243.0, 46916.0, 9339.0, 42684.0, 26614.0, 3124.0, 7523.0, 14185.0, 41898.0, 1155.0, 2823.0, 53286.0], 10: [-2.6238399999999999e-05, -3.1442300000000002e-05, -8.2886099999999999e-05, -7.1590900000000006e-05, -4.3847300000000001e-06, -1.40725e-05, -0.00021054799999999999, -2.56684e-05, -0.000125291, -1.38911e-05, -0.000101681, -1.41917e-05, -3.1296e-05, -7.8734199999999996e-05, -0.000149536, -3.4184199999999997e-05, -1.1844100000000001e-05, -9.2985000000000005e-05, -0.000110779, -9.1529399999999995e-06], 11: [-2.6169899999999998e-06, 4.5947500000000004e-06, -9.1590699999999997e-06, -0.00036379899999999999, 1.00023e-06, -2.6078899999999999e-05, -0.00013429800000000001, 2.6196299999999999e-06, -7.5740499999999998e-05, -3.3151899999999997e-05, -1.6416400000000001e-05, -6.1545500000000002e-06, -5.0907600000000002e-06, -0.00082893799999999998, -7.5871399999999993e-05, -2.86709e-05, -1.17188e-05, -0.00255734, -0.00017408699999999999, 1.88174e-06], 12: [-10696.489, -10665.837, -10576.319, -10423.329, -10723.245999999999, -10884.52, -10747.851000000001, -10802.834999999999, -10524.280000000001, -10752.275, -10778.717000000001, -10632.903, -10678.374, -10592.959999999999, -10751.085999999999, -10624.502, -10541.919, -10664.77, -10508.826999999999, -10618.103999999999], 13: [-10297.468999999999, -10266.058999999999, -10187.385, -10012.718000000001, -10328.374, -10457.165000000001, -10320.540000000001, -10398.205, -10120.194, -10330.152, -10350.034, -10239.473, -10281.837, -10196.566000000001, -10336.857, -10239.477999999999, -10159.575000000001, -10246.791999999999, -10129.699000000001, -10237.636]}\n"
     ]
    }
   ],
   "source": [
    "max_stat_dict = {}\n",
    "for i in range(len(col_headers)):\n",
    "    max_stat_dict[i] = []\n",
    "## Get all the unique max obs lhoods\n",
    "for i in set(dat_t[-1]):\n",
    "#    print(\"Doing {}\".format(i))\n",
    "    curvals = [x for x in dat if x[-1] == i]\n",
    "    #print(curvals)\n",
    "    maxlhood = max([x[-2] for x in curvals])\n",
    "    maxlhood_vals = dat[np.where(dat[:,12] == maxlhood)]\n",
    "    for j, k in enumerate(maxlhood_vals[0]):\n",
    "        max_stat_dict[j].append(k)\n",
    "#    for j,k in enumerate(col_headers):\n",
    "#        curvals = [x for x in dat[j] if dat_t[-1][j] == i]\n",
    "#        print(\"Found curvals {} {}\".format(i, curvals))\n",
    "#        if curvals:\n",
    "#            max_stat_dict[j].append(max(curvals))\n",
    "print(max_stat_dict)"
   ]
  },
  {
   "cell_type": "markdown",
   "metadata": {},
   "source": [
    "# Run bootstrap CIs on just the maxlhood data"
   ]
  },
  {
   "cell_type": "code",
   "execution_count": 57,
   "metadata": {
    "collapsed": false
   },
   "outputs": [
    {
     "name": "stdout",
     "output_type": "stream",
     "text": [
      "NA1\tmin_max - (13262.0, 94694.0)\tmean - 57215.5\tmedian - 54872.5\t2std - 40684.0969468\n",
      "Bootstrapped CI w/ average - [ 49363.55  64229.1 ]\n",
      "Bootstrapped CI w/ median - [ 49823.  67125.]\n",
      "Bootstrapped CI w/ mean - [ 47797.35  65412.45]\n",
      "NCL\tmin_max - (1654.0, 116944.0)\tmean - 43129.1\tmedian - 35096.5\t2std - 70032.2373616\n",
      "Bootstrapped CI w/ average - [ 31235.05  57104.15]\n",
      "Bootstrapped CI w/ median - [ 15114.  63980.]\n",
      "Bootstrapped CI w/ mean - [ 28973.15  60199.75]\n",
      "NLN\tmin_max - (959.0, 56967.0)\tmean - 21222.45\tmedian - 17785.5\t2std - 33817.300838\n",
      "Bootstrapped CI w/ average - [ 15503.55  27896.35]\n",
      "Bootstrapped CI w/ median - [  7779.  31860.]\n",
      "Bootstrapped CI w/ mean - [ 14425.3   29275.85]\n",
      "M1\tmin_max - (1.64779e-05, 0.0011942000000000001)\tmean - 0.000165274195\tmedian - 6.07048e-05\t2std - 0.000529257317635\n",
      "Bootstrapped CI w/ average - [  9.74727350e-05   3.25376870e-04]\n",
      "Bootstrapped CI w/ median - [  2.78690000e-05   1.27480000e-04]\n",
      "Bootstrapped CI w/ mean - [  8.90718250e-05   3.73601445e-04]\n",
      "M2\tmin_max - (4.29127e-05, 0.0101604)\tmean - 0.004367355635\tmedian - 0.0037455\t2std - 0.00503966946769\n",
      "Bootstrapped CI w/ average - [ 0.00351929  0.00539361]\n",
      "Bootstrapped CI w/ median - [ 0.0028926  0.0051326]\n",
      "Bootstrapped CI w/ mean - [ 0.00335659  0.00557714]\n",
      "TD2\tmin_max - (2816.0, 113587.0)\tmean - 51556.0\tmedian - 45324.5\t2std - 62955.1356676\n",
      "Bootstrapped CI w/ average - [ 40585.1   63789.55]\n",
      "Bootstrapped CI w/ median - [ 29250.  71243.]\n",
      "Bootstrapped CI w/ mean - [ 38298.8  65869.4]\n",
      "TCONTACT\tmin_max - (0.95998919999999999, 1.2291865)\tmean - 0.99977277\tmedian - 0.99078985\t2std - 0.108072535613\n",
      "Bootstrapped CI w/ average - [ 0.98666273  1.03643034]\n",
      "Bootstrapped CI w/ median - [ 0.9879227  0.9955577]\n",
      "Bootstrapped CI w/ mean - [ 0.98598656  1.04986963]\n",
      "TISOLATE\tmin_max - (0.061785199999999998, 0.84244450000000004)\tmean - 0.46196272\tmedian - 0.43067525\t2std - 0.487996447332\n",
      "Bootstrapped CI w/ average - [ 0.37449178  0.55293096]\n",
      "Bootstrapped CI w/ median - [ 0.2268651  0.634054 ]\n",
      "Bootstrapped CI w/ mean - [ 0.35824764  0.57160281]\n",
      "TD1\tmin_max - (1204.0, 71462.0)\tmean - 24687.2\tmedian - 20504.5\t2std - 40425.9058692\n",
      "Bootstrapped CI w/ average - [ 17728.1  32635.1]\n",
      "Bootstrapped CI w/ median - [  8447.  37140.]\n",
      "Bootstrapped CI w/ mean - [ 16672.4   34377.35]\n",
      "TD0\tmin_max - (1155.0, 69678.0)\tmean - 24357.35\tmedian - 20399.5\t2std - 39561.9641251\n",
      "Bootstrapped CI w/ average - [ 17612.6  32330.7]\n",
      "Bootstrapped CI w/ median - [  8243.   36695.5]\n",
      "Bootstrapped CI w/ mean - [ 16538.  33543.]\n",
      "EXB\tmin_max - (-0.00021054799999999999, -4.3847300000000001e-06)\tmean - -6.20198785e-05\tmedian - -3.281325e-05\t2std - 0.000110354576088\n",
      "Bootstrapped CI w/ average - [ -8.56609800e-05  -4.45337955e-05]\n",
      "Bootstrapped CI w/ median - [ -9.22835500e-05  -2.02150500e-05]\n",
      "Bootstrapped CI w/ mean - [ -9.12797770e-05  -4.16918490e-05]\n",
      "EXN\tmin_max - (-0.00255734, 4.5947500000000004e-06)\tmean - -0.000216951791\tmedian - -2.124765e-05\t2std - 0.00114473543351\n",
      "Bootstrapped CI w/ average - [ -6.05862350e-04  -7.71751945e-05]\n",
      "Bootstrapped CI w/ median - [ -7.58714000e-05  -6.15455000e-06]\n",
      "Bootstrapped CI w/ mean - [ -7.06319180e-04  -6.42626780e-05]\n",
      "MaxEstLhood\tmin_max - (-10884.52, -10423.329)\tmean - -10659.45715\tmedian - -10665.3035\t2std - 221.031742944\n",
      "Bootstrapped CI w/ average - [-10698.65855 -10617.13365]\n",
      "Bootstrapped CI w/ median - [-10747.851 -10608.731]\n",
      "Bootstrapped CI w/ mean - [-10707.55525 -10611.54145]\n",
      "MaxObsLhood\tmin_max - (-10457.165000000001, -10012.718000000001)\tmean - -10256.8104\tmedian - -10256.4255\t2std - 203.855252625\n",
      "Bootstrapped CI w/ average - [-10292.92345 -10217.5775 ]\n",
      "Bootstrapped CI w/ median - [-10325.346 -10217.101]\n",
      "Bootstrapped CI w/ mean - [-10299.1703 -10209.9402]\n"
     ]
    }
   ],
   "source": [
    "for i, d in enumerate(col_headers):\n",
    "    n, min_max, mean, var, skew, kurt = stats.describe(max_stat_dict[i])\n",
    "    std=math.sqrt(var)\n",
    "    #print(\"\\n\"+d)\n",
    "    print(d+\"\\tmin_max - {}\\tmean - {}\\tmedian - {}\\t2std - {}\".format(min_max, mean, np.median(max_stat_dict[i]), 1.96*std))\n",
    "    \n",
    "    results = boot.ci(max_stat_dict[i],np.average,alpha=(0.05,0.95),n_samples=20000)\n",
    "    print(\"Bootstrapped CI w/ average - {}\".format(results))\n",
    "    results = boot.ci(max_stat_dict[i],np.median,alpha=(0.05),n_samples=20000)\n",
    "    print(\"Bootstrapped CI w/ median - {}\".format(results))\n",
    "    results = boot.ci(max_stat_dict[i],np.mean,alpha=(0.05),n_samples=20000)\n",
    "    print(\"Bootstrapped CI w/ mean - {}\".format(results))\n"
   ]
  },
  {
   "cell_type": "markdown",
   "metadata": {},
   "source": [
    "# Run bootstrap CIs on all data"
   ]
  },
  {
   "cell_type": "code",
   "execution_count": 55,
   "metadata": {
    "collapsed": false
   },
   "outputs": [
    {
     "name": "stdout",
     "output_type": "stream",
     "text": [
      "\n",
      "NA1\n",
      "min_max - (13262.0, 94694.0)\tmean - 50481.0588235\tmedian - 49823.0\t2std - 39562.5898741\n",
      "BCA\n",
      "Bootstrapped CI w/ average - [ 46857.95294118  54097.75294118]\n",
      "Bootstrapped CI w/ median - [ 44558.  54381.]\n",
      "Bootstrapped CI w/ mean - [ 46222.08235294  54833.01176471]\n",
      "\n",
      "NCL\n",
      "min_max - (258.0, 116944.0)\tmean - 24263.1411765\tmedian - 11612.0\t2std - 59357.5785854\n",
      "BCA\n",
      "Bootstrapped CI w/ average - [ 19355.56470588  30217.74117647]\n",
      "Bootstrapped CI w/ median - [  7012.  16383.]\n",
      "Bootstrapped CI w/ mean - [ 18487.54117647  31575.05882353]\n",
      "\n",
      "NLN\n",
      "min_max - (146.0, 56967.0)\tmean - 12021.5058824\tmedian - 5757.0\t2std - 29006.9487301\n",
      "BCA\n",
      "Bootstrapped CI w/ average - [  9646.22352941  14975.27058824]\n",
      "Bootstrapped CI w/ median - [ 3419.  8094.]\n",
      "Bootstrapped CI w/ mean - [  9206.83529412  15487.58823529]\n",
      "\n",
      "M1\n",
      "min_max - (1.64779e-05, 0.0080523000000000001)\tmean - 0.000755687007059\tmedian - 0.00017086\t2std - 0.00254670550008\n",
      "BCA\n",
      "Bootstrapped CI w/ average - [ 0.0005683   0.00105067]\n",
      "Bootstrapped CI w/ median - [ 0.00012107  0.00028577]\n",
      "Bootstrapped CI w/ mean - [ 0.00053667  0.00111613]\n",
      "\n",
      "M2\n",
      "min_max - (4.29127e-05, 0.023994600000000001)\tmean - 0.00631590956118\tmedian - 0.0060471\t2std - 0.00718795081605\n",
      "BCA\n",
      "Bootstrapped CI w/ average - [ 0.00573623  0.0070665 ]\n",
      "Bootstrapped CI w/ median - [ 0.004875   0.0067226]\n",
      "Bootstrapped CI w/ mean - [ 0.00562428  0.00719524]\n",
      "\n",
      "TD2\n",
      "min_max - (581.0, 113587.0)\tmean - 41000.2352941\tmedian - 31990.0\t2std - 64592.8145971\n",
      "BCA\n",
      "Bootstrapped CI w/ average - [ 35279.49411765  47100.50588235]\n",
      "Bootstrapped CI w/ median - [ 19377.  43337.]\n",
      "Bootstrapped CI w/ mean - [ 34434.02352941  48318.65882353]\n",
      "\n",
      "TCONTACT\n",
      "min_max - (0.91002819999999995, 1.2291865)\tmean - 0.986093722353\tmedian - 0.9885751\t2std - 0.0608931191621\n",
      "BCA\n",
      "Bootstrapped CI w/ average - [ 0.98224998  0.99475741]\n",
      "Bootstrapped CI w/ median - [ 0.9849721  0.9902755]\n",
      "Bootstrapped CI w/ mean - [ 0.98172744  0.99675489]\n",
      "\n",
      "TISOLATE\n",
      "min_max - (0.0057657000000000003, 0.86962269999999997)\tmean - 0.355662572941\tmedian - 0.3279914\t2std - 0.50715260673\n",
      "BCA\n",
      "Bootstrapped CI w/ average - [ 0.31118728  0.40247393]\n",
      "Bootstrapped CI w/ median - [ 0.2053954  0.3765397]\n",
      "Bootstrapped CI w/ mean - [ 0.30219344  0.41195747]\n",
      "\n",
      "TD1\n",
      "min_max - (158.0, 71462.0)\tmean - 14043.6\tmedian - 6225.0\t2std - 34457.7816839\n",
      "BCA\n",
      "Bootstrapped CI w/ average - [ 11194.90588235  17553.69411765]\n",
      "Bootstrapped CI w/ median - [ 3816.  9369.]\n",
      "Bootstrapped CI w/ mean - [ 10683.51764706  18159.09411765]\n",
      "\n",
      "TD0\n",
      "min_max - (154.0, 69678.0)\tmean - 13872.2823529\tmedian - 6139.0\t2std - 33982.2929689\n",
      "BCA\n",
      "Bootstrapped CI w/ average - [ 11067.22352941  17313.98823529]\n",
      "Bootstrapped CI w/ median - [ 3755.  9339.]\n",
      "Bootstrapped CI w/ mean - [ 10619.14117647  18024.10588235]\n",
      "\n",
      "EXB\n",
      "min_max - (-0.00213641, 9.1952400000000004e-05)\tmean - -0.000261552276282\tmedian - -9.17482e-05\t2std - 0.000884566521486\n",
      "BCA\n",
      "Bootstrapped CI w/ average - [-0.00035861 -0.00019362]\n",
      "Bootstrapped CI w/ median - [ -1.15282000e-04  -6.92659000e-05]\n",
      "Bootstrapped CI w/ mean - [-0.0003782  -0.00018315]\n",
      "\n",
      "EXN\n",
      "min_max - (-0.0217083, 0.000116891)\tmean - -0.00134710364918\tmedian - -6.59415e-05\t2std - 0.00636146773293\n",
      "BCA\n",
      "Bootstrapped CI w/ average - [-0.00213134 -0.00090534]\n",
      "Bootstrapped CI w/ median - [ -1.71028000e-04  -3.31519000e-05]\n",
      "Bootstrapped CI w/ mean - [-0.00230719 -0.00082348]\n",
      "\n",
      "MaxEstLhood\n",
      "min_max - (-10889.624, -10423.329)\tmean - -10672.6277059\tmedian - -10678.374\t2std - 210.900451575\n",
      "BCA\n",
      "Bootstrapped CI w/ average - [-10692.15321176 -10653.63096471]\n",
      "Bootstrapped CI w/ median - [-10723.246 -10634.538]\n",
      "Bootstrapped CI w/ mean - [-10695.28190588 -10649.54958824]\n",
      "\n",
      "MaxObsLhood\n",
      "min_max - (-10457.165000000001, -10012.718000000001)\tmean - -10268.1722353\tmedian - -10281.837\t2std - 190.647545468\n",
      "BCA\n",
      "Bootstrapped CI w/ average - [-10285.31768235 -10250.71622353]\n"
     ]
    },
    {
     "name": "stderr",
     "output_type": "stream",
     "text": [
      "/usr/local/opt/anaconda/lib/python2.7/site-packages/scikits/bootstrap/bootstrap.py:202: InstabilityWarning:\n",
      "\n",
      "Some values used top 10 low/high samples; results may be unstable.\n",
      "\n"
     ]
    },
    {
     "name": "stdout",
     "output_type": "stream",
     "text": [
      "Bootstrapped CI w/ median - [-10328.374 -10281.837]\n",
      "Bootstrapped CI w/ mean - [-10287.884      -10246.87274118]\n"
     ]
    }
   ],
   "source": [
    "for i, d in enumerate(col_headers):\n",
    "    n, min_max, mean, var, skew, kurt = stats.describe(dat_t[i])\n",
    "    std=math.sqrt(var)\n",
    "    print(\"\\n\"+d)\n",
    "    #print(\"min_max - {}\\tmean - {}\\tvar - {}\\tstd - {}\".format(min_max, mean, var, std))\n",
    "    print(\"min_max - {}\\tmean - {}\\tmedian - {}\\t2std - {}\".format(min_max, mean, np.median(dat_t[i]), 1.96*std))\n",
    "    #print(\"Normal dist CI - {} - {}\".format(d, stats.norm.interval(0.95, loc=mean, scale=std)))\n",
    "    \n",
    "\n",
    "    print(\"BCA\")\n",
    "    results = boot.ci(dat_t[i],np.average,alpha=(0.05,0.95),n_samples=20000)\n",
    "    print(\"Bootstrapped CI w/ average - {}\".format(results))\n",
    "    results = boot.ci(dat_t[i],np.median,alpha=(0.05),n_samples=20000)\n",
    "    print(\"Bootstrapped CI w/ median - {}\".format(results))\n",
    "    results = boot.ci(dat_t[i],np.mean,alpha=(0.05),n_samples=20000)\n",
    "    print(\"Bootstrapped CI w/ mean - {}\".format(results))\n",
    "\n",
    "## Effectively the same\n",
    "#    print(\"pi\")\n",
    "#    results = boot.ci(dat_t[i],np.average,alpha=(0.05,0.95),method='pi',n_samples=20000)\n",
    "#    print(\"Bootstrapped CI w/ average - {}\".format(results))\n",
    "#    results = boot.ci(dat_t[i],np.median,alpha=(0.05),method='pi',n_samples=20000)\n",
    "#    print(\"Bootstrapped CI w/ median - {}\".format(results))\n",
    "#    results = boot.ci(dat_t[i],np.mean,alpha=(0.05),method='pi',n_samples=20000)\n",
    "#    print(\"Bootstrapped CI w/ mean - {}\".format(results))\n",
    "#    print(\"abc\")\n",
    "#    results = boot.ci(dat_t[i],np.average,alpha=(0.05,0.95),method='abc',n_samples=20000)\n",
    "#    print(\"Bootstrapped CI w/ average - {}\".format(results))\n",
    "#    results = boot.ci(dat_t[i],np.median,alpha=(0.05),method='abc',n_samples=20000)\n",
    "#    print(\"Bootstrapped CI w/ median - {}\".format(results))\n",
    "#    results = boot.ci(dat_t[i],np.mean,alpha=(0.05),method='abc',n_samples=20000)\n",
    "#    print(\"Bootstrapped CI w/ mean - {}\".format(results))"
   ]
  },
  {
   "cell_type": "code",
   "execution_count": 29,
   "metadata": {
    "collapsed": true
   },
   "outputs": [
    {
     "name": "stdout",
     "output_type": "stream",
     "text": [
      "\n",
      "NA1\n",
      "median - 49823.0\taverage - 50481.0588235\n",
      "min_max - (13262.0, 94694.0)\tmean - 50481.0588235\tvar - 407434016.437\tstd - 20184.9948337\n",
      "NA1 - (10919.195921327089, 90042.921725731736)\n",
      "\n",
      "NCL\n",
      "median - 11612.0\taverage - 24263.1411765\n",
      "min_max - (258.0, 116944.0)\tmean - 24263.1411765\tvar - 917149660.432\tstd - 30284.4788701\n",
      "NCL - (-35093.346699446964, 83619.629052388133)\n",
      "\n",
      "NLN\n",
      "median - 5757.0\taverage - 12021.5058824\n",
      "min_max - (146.0, 56967.0)\tmean - 12021.5058824\tvar - 219024123.967\tstd - 14799.4636378\n",
      "NLN - (-16984.909838289059, 41027.921602994938)\n",
      "\n",
      "M1\n",
      "median - 0.00017086\taverage - 0.000755687007059\n",
      "min_max - (1.64779e-05, 0.0080523000000000001)\tmean - 0.000755687007059\tvar - 1.68828324243e-06\tstd - 0.00129933954086\n",
      "M1 - (-0.0017909716967097248, 0.0033023457108273722)\n",
      "\n",
      "M2\n",
      "median - 0.0060471\taverage - 0.00631590956118\n",
      "min_max - (4.29127e-05, 0.023994600000000001)\tmean - 0.00631590956118\tvar - 1.34492495143e-05\tstd - 0.00366732184493\n",
      "M2 - (-0.00087190917459353551, 0.013503728296946474)\n",
      "\n",
      "TD2\n",
      "median - 31990.0\taverage - 41000.2352941\n",
      "min_max - (581.0, 113587.0)\tmean - 41000.2352941\tvar - 1086066143.68\tstd - 32955.5176516\n",
      "TD2 - (-23591.392394807721, 105591.86298304301)\n",
      "\n",
      "TCONTACT\n",
      "median - 0.9885751\taverage - 0.986093722353\n",
      "min_max - (0.91002819999999995, 1.2291865)\tmean - 0.986093722353\tvar - 0.000965215525116\tstd - 0.0310679179398\n",
      "TCONTACT - (0.92520172211622742, 1.0469857225896546)\n",
      "\n",
      "TISOLATE\n",
      "median - 0.3279914\taverage - 0.355662572941\n",
      "min_max - (0.0057657000000000003, 0.86962269999999997)\tmean - 0.355662572941\tvar - 0.0669522507583\tstd - 0.258751329964\n",
      "TISOLATE - (-0.15148071474074837, 0.86280586062310127)\n",
      "\n",
      "TD1\n",
      "median - 6225.0\taverage - 14043.6\n",
      "min_max - (158.0, 71462.0)\tmean - 14043.6\tvar - 309074010.457\tstd - 17580.5008591\n",
      "TD1 - (-20413.548514029717, 48500.748514029714)\n",
      "\n",
      "TD0\n",
      "median - 6139.0\taverage - 13872.2823529\n",
      "min_max - (154.0, 69678.0)\tmean - 13872.2823529\tvar - 300602935.086\tstd - 17337.904576\n",
      "TD0 - (-20109.386183383474, 47853.950889265827)\n",
      "\n",
      "EXB\n",
      "median - -9.17482e-05\taverage - -0.000261552276282\n",
      "min_max - (-0.00213641, 9.1952400000000004e-05)\tmean - -0.000261552276282\tvar - 2.03680219423e-07\tstd - 0.000451309449738\n",
      "EXB - (-0.0011461025436508485, 0.00062299799108614254)\n",
      "\n",
      "EXN\n",
      "median - -6.59415e-05\taverage - -0.00134710364918\n",
      "min_max - (-0.0217083, 0.000116891)\tmean - -0.00134710364918\tvar - 1.05342231667e-05\tstd - 0.00324564680252\n",
      "EXN - (-0.0077084544886446994, 0.0050142471902917575)\n",
      "\n",
      "MaxEstLhood\n",
      "median - -10678.374\taverage - -10672.6277059\n",
      "min_max - (-10889.624, -10423.329)\tmean - -10672.6277059\tvar - 11578.2487699\tstd - 107.602271212\n",
      "MaxEstLhood - (-10883.524282112072, -10461.731129652637)\n",
      "\n",
      "MaxObsLhood\n",
      "median - -10281.837\taverage - -10268.1722353\n",
      "min_max - (-10457.165000000001, -10012.718000000001)\tmean - -10268.1722353\tvar - 9461.28868002\tstd - 97.2691558513\n",
      "MaxObsLhood - (-10458.816277569189, -10077.52819301905)\n"
     ]
    }
   ],
   "source": [
    "## Don't Use\n",
    "## Get stats for transposed full dataset (this includes all the values\n",
    "## even from the not maxlhood run)\n",
    "for i, d in enumerate(col_headers):\n",
    "    n, min_max, mean, var, skew, kurt = stats.describe(dat_t[i])\n",
    "    std=math.sqrt(var)\n",
    "    print(\"\\n\"+d)\n",
    "    print(\"median - {}\\taverage - {}\".format(np.median(dat_t[i]), np.average(dat_t[i])))\n",
    "    print(\"min_max - {}\\tmean - {}\\tvar - {}\\tstd - {}\".format(min_max, mean, var, std))\n",
    "    print(\"CI - {} - {}\".format(d, stats.norm.interval(0.95, loc=mean, scale=std)))\n",
    "## Don't use"
   ]
  },
  {
   "cell_type": "code",
   "execution_count": 8,
   "metadata": {
    "collapsed": true
   },
   "outputs": [
    {
     "data": {
      "text/plain": [
       "array([  1.97970000e+04,   4.42100000e+03,   2.68000000e+03,\n",
       "         4.46502000e-04,   4.53800000e-03,   9.77800000e+04,\n",
       "         9.57059300e-01,   2.96186000e-02,   2.89600000e+03,\n",
       "         2.77100000e+03,  -8.52038000e-05,  -1.21692000e-03,\n",
       "        -1.04236910e+04,  -1.00127180e+04])"
      ]
     },
     "execution_count": 8,
     "metadata": {},
     "output_type": "execute_result"
    }
   ],
   "source": [
    "dat[0]"
   ]
  },
  {
   "cell_type": "code",
   "execution_count": 28,
   "metadata": {
    "collapsed": false
   },
   "outputs": [
    {
     "data": {
      "image/png": "[encoded data removed]",
      "text/plain": [
       "<matplotlib.figure.Figure at 0x1227a3390>"
      ]
     },
     "metadata": {},
     "output_type": "display_data"
    },
    {
     "data": {
      "image/png": "[encoded data removed]",
      "text/plain": [
       "<matplotlib.figure.Figure at 0x1229bcfd0>"
      ]
     },
     "metadata": {},
     "output_type": "display_data"
    },
    {
     "data": {
      "image/png": "[encoded data removed]",
      "text/plain": [
       "<matplotlib.figure.Figure at 0x122cd5b50>"
      ]
     },
     "metadata": {},
     "output_type": "display_data"
    },
    {
     "data": {
      "image/png": "[encoded data removed]",
      "text/plain": [
       "<matplotlib.figure.Figure at 0x122aff090>"
      ]
     },
     "metadata": {},
     "output_type": "display_data"
    },
    {
     "data": {
      "image/png": "[encoded data removed]",
      "text/plain": [
       "<matplotlib.figure.Figure at 0x121768850>"
      ]
     },
     "metadata": {},
     "output_type": "display_data"
    }
   ],
   "source": [
    "%matplotlib inline\n",
    "import matplotlib.pyplot as plt\n",
    "import plotly.plotly as py\n",
    "for i,j in enumerate(col_headers):\n",
    "    if \"N\" in j:\n",
    "        plt.hist(dat_t[i])\n",
    "        plt.show()"
   ]
  },
  {
   "cell_type": "code",
   "execution_count": 20,
   "metadata": {
    "collapsed": false
   },
   "outputs": [
    {
     "data": {
      "text/plain": [
       "array([[  6.71250000e+04,   9.79760000e+04,   4.66370000e+04,\n",
       "          2.11884000e-05,   2.27530000e-03,   7.69200000e+04,\n",
       "          9.72994700e-01,   7.11986000e-01,   5.47650000e+04,\n",
       "          5.32860000e+04,  -9.15294000e-06,   1.88174000e-06,\n",
       "         -1.06181040e+04,  -1.02376360e+04]])"
      ]
     },
     "execution_count": 20,
     "metadata": {},
     "output_type": "execute_result"
    }
   ],
   "source": [
    "a = dat\n",
    "a[np.where(a[:,12] == maxlhood)]"
   ]
  },
  {
   "cell_type": "code",
   "execution_count": 12,
   "metadata": {
    "collapsed": false
   },
   "outputs": [
    {
     "name": "stdout",
     "output_type": "stream",
     "text": [
      "[   270.18468388  27927.16231145]\n"
     ]
    },
    {
     "name": "stderr",
     "output_type": "stream",
     "text": [
      "/usr/local/opt/anaconda/lib/python2.7/site-packages/scikits/bootstrap/bootstrap.py:202: InstabilityWarning: Some values used top 10 low/high samples; results may be unstable.\n",
      "  warnings.warn(\"Some values used top 10 low/high samples; results may be unstable.\", InstabilityWarning)\n"
     ]
    }
   ],
   "source": [
    "\n",
    "print(results)"
   ]
  },
  {
   "cell_type": "code",
   "execution_count": null,
   "metadata": {
    "collapsed": true
   },
   "outputs": [],
   "source": []
  },
  {
   "cell_type": "code",
   "execution_count": null,
   "metadata": {
    "collapsed": true
   },
   "outputs": [],
   "source": []
  }
 ],
 "metadata": {
  "kernelspec": {
   "display_name": "Python 2",
   "language": "python",
   "name": "python2"
  },
  "language_info": {
   "codemirror_mode": {
    "name": "ipython",
    "version": 2
   },
   "file_extension": ".py",
   "mimetype": "text/x-python",
   "name": "python",
   "nbconvert_exporter": "python",
   "pygments_lexer": "ipython2",
   "version": "2.7.10"
  }
 },
 "nbformat": 4,
 "nbformat_minor": 0
}
