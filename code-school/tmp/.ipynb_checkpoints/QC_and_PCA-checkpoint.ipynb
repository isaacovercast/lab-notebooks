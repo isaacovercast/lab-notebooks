{
 "cells": [
  {
   "cell_type": "code",
   "execution_count": 3,
   "metadata": {
    "collapsed": false
   },
   "outputs": [],
   "source": [
    "import matplotlib.pyplot as plt\n",
    "%matplotlib inline\n",
    "plt.rcParams[\"figure.figsize\"] = [12,9]\n",
    "\n",
    "import seaborn as sns\n",
    "sns.set_style('white')\n",
    "sns.set_style('ticks')\n",
    "import numpy as np\n",
    "import ipyrad as ip\n",
    "import collections\n",
    "import allel\n",
    "import vcfnp\n",
    "import sys                 ## for sys.exit()\n",
    "import os"
   ]
  },
  {
   "cell_type": "code",
   "execution_count": 4,
   "metadata": {
    "collapsed": false
   },
   "outputs": [],
   "source": [
    "## You need to update this directory to reflect the reality of your path\n",
    "WORK_DIR = \"/Users/iovercast/Desktop/lab-notebooks/code-school/tmp/\"\n",
    "os.chdir(WORK_DIR)"
   ]
  },
  {
   "cell_type": "markdown",
   "metadata": {},
   "source": [
    "## Load in the current assembly\n",
    "Your work directory has a full completed assembly from a small simulated dataset. Lets load\n",
    "in this assembly and poke around a little. "
   ]
  },
  {
   "cell_type": "code",
   "execution_count": 5,
   "metadata": {
    "collapsed": false
   },
   "outputs": [
    {
     "name": "stdout",
     "output_type": "stream",
     "text": [
      "  New Assembly: my_assembly\n"
     ]
    }
   ],
   "source": [
    "## Load the current assembly. If you set your WORK_DIR correctly this should work fine.\n",
    "#data1 = ip.load_json(WORK_DIR + \"ipyrad-test/ipyrad-test.json\")\n",
    "data1 = ip.Assembly(\"my_assembly\")\n"
   ]
  },
  {
   "cell_type": "markdown",
   "metadata": {},
   "source": [
    "## Print the default params for the current assembly."
   ]
  },
  {
   "cell_type": "code",
   "execution_count": 6,
   "metadata": {
    "collapsed": false
   },
   "outputs": [
    {
     "name": "stdout",
     "output_type": "stream",
     "text": [
      "  0   assembly_name               my_assembly                                  \n",
      "  1   project_dir                 ./                                           \n",
      "  2   raw_fastq_path                                                           \n",
      "  3   barcodes_path                                                            \n",
      "  4   sorted_fastq_path                                                        \n",
      "  5   assembly_method             denovo                                       \n",
      "  6   reference_sequence                                                       \n",
      "  7   datatype                    rad                                          \n",
      "  8   restriction_overhang        ('TGCAG', '')                                \n",
      "  9   max_low_qual_bases          5                                            \n",
      "  10  phred_Qscore_offset         33                                           \n",
      "  11  mindepth_statistical        6                                            \n",
      "  12  mindepth_majrule            6                                            \n",
      "  13  maxdepth                    10000                                        \n",
      "  14  clust_threshold             0.85                                         \n",
      "  15  max_barcode_mismatch        0                                            \n",
      "  16  filter_adapters             0                                            \n",
      "  17  filter_min_trim_len         35                                           \n",
      "  18  max_alleles_consens         2                                            \n",
      "  19  max_Ns_consens              (5, 5)                                       \n",
      "  20  max_Hs_consens              (8, 8)                                       \n",
      "  21  min_samples_locus           4                                            \n",
      "  22  max_SNPs_locus              (20, 20)                                     \n",
      "  23  max_Indels_locus            (8, 8)                                       \n",
      "  24  max_shared_Hs_locus         0.5                                          \n",
      "  25  trim_reads                  (0, 0, 0, 0)                                 \n",
      "  26  trim_loci                   (0, 0, 0, 0)                                 \n",
      "  27  output_formats              ['p', 's', 'v']                              \n",
      "  28  pop_assign_file                                                          \n"
     ]
    }
   ],
   "source": [
    "data1.get_params()"
   ]
  },
  {
   "cell_type": "markdown",
   "metadata": {},
   "source": [
    "You can see that the default parameters don't include paths to raw data or barcodes files, so we'll\n",
    "add these now. Also note the value of `min_samples_locus`, as we'll be modifying this later."
   ]
  },
  {
   "cell_type": "code",
   "execution_count": 7,
   "metadata": {
    "collapsed": false
   },
   "outputs": [],
   "source": [
    "data1.set_params(\"raw_fastq_path\", \"/Volumes/WorkDrive/ipyrad/ipyrad/tests/ipsimdata/rad_example_R1_.fastq.gz\")\n",
    "data1.set_params(\"barcodes_path\", \"/Volumes/WorkDrive/ipyrad/ipyrad/tests/ipsimdata/rad_example_barcodes.txt\")"
   ]
  },
  {
   "cell_type": "code",
   "execution_count": 8,
   "metadata": {
    "collapsed": false
   },
   "outputs": [
    {
     "name": "stdout",
     "output_type": "stream",
     "text": [
      "QC_and_PCA.ipynb       \u001b[34mmy_assembly_consens\u001b[m\u001b[m    nomissing.json\r\n",
      "ipyrad_log.txt         \u001b[34mmy_assembly_edits\u001b[m\u001b[m      params-my_assembly.txt\r\n",
      "my_assembly.json       \u001b[34mmy_assembly_fastqs\u001b[m\u001b[m\r\n",
      "\u001b[34mmy_assembly_clust_0.85\u001b[m\u001b[m \u001b[34mmy_assembly_outfiles\u001b[m\u001b[m\r\n"
     ]
    },
    {
     "ename": "IPyradError",
     "evalue": "\n    Error: Params file already exists: params-my_assembly.txt\n    Use force argument to overwrite.\n    ",
     "output_type": "error",
     "traceback": [
      "\u001b[0;31m---------------------------------------------------------------------------\u001b[0m",
      "\u001b[0;31mIPyradError\u001b[0m                               Traceback (most recent call last)",
      "\u001b[0;32m<ipython-input-8-69d610d93eb3>\u001b[0m in \u001b[0;36m<module>\u001b[0;34m()\u001b[0m\n\u001b[1;32m      2\u001b[0m \u001b[0;31m## The default simply writes `params-<assembly_name>.txt` to the project directory\u001b[0m\u001b[0;34m\u001b[0m\u001b[0;34m\u001b[0m\u001b[0m\n\u001b[1;32m      3\u001b[0m \u001b[0mget_ipython\u001b[0m\u001b[0;34m(\u001b[0m\u001b[0;34m)\u001b[0m\u001b[0;34m.\u001b[0m\u001b[0msystem\u001b[0m\u001b[0;34m(\u001b[0m\u001b[0;34mu'ls'\u001b[0m\u001b[0;34m)\u001b[0m\u001b[0;34m\u001b[0m\u001b[0m\n\u001b[0;32m----> 4\u001b[0;31m \u001b[0mdata1\u001b[0m\u001b[0;34m.\u001b[0m\u001b[0mwrite_params\u001b[0m\u001b[0;34m(\u001b[0m\u001b[0;34m)\u001b[0m\u001b[0;34m\u001b[0m\u001b[0m\n\u001b[0m\u001b[1;32m      5\u001b[0m \u001b[0mget_ipython\u001b[0m\u001b[0;34m(\u001b[0m\u001b[0;34m)\u001b[0m\u001b[0;34m.\u001b[0m\u001b[0msystem\u001b[0m\u001b[0;34m(\u001b[0m\u001b[0;34mu'ls'\u001b[0m\u001b[0;34m)\u001b[0m\u001b[0;34m\u001b[0m\u001b[0m\n",
      "\u001b[0;32m/usr/local/opt/miniconda/lib/python2.7/site-packages/ipyrad/core/assembly.pyc\u001b[0m in \u001b[0;36mwrite_params\u001b[0;34m(self, outfile, force)\u001b[0m\n\u001b[1;32m    756\u001b[0m         \u001b[0;32mif\u001b[0m \u001b[0;32mnot\u001b[0m \u001b[0mforce\u001b[0m\u001b[0;34m:\u001b[0m\u001b[0;34m\u001b[0m\u001b[0m\n\u001b[1;32m    757\u001b[0m             \u001b[0;32mif\u001b[0m \u001b[0mos\u001b[0m\u001b[0;34m.\u001b[0m\u001b[0mpath\u001b[0m\u001b[0;34m.\u001b[0m\u001b[0misfile\u001b[0m\u001b[0;34m(\u001b[0m\u001b[0moutfile\u001b[0m\u001b[0;34m)\u001b[0m\u001b[0;34m:\u001b[0m\u001b[0;34m\u001b[0m\u001b[0m\n\u001b[0;32m--> 758\u001b[0;31m                 \u001b[0;32mraise\u001b[0m \u001b[0mIPyradWarningExit\u001b[0m\u001b[0;34m(\u001b[0m\u001b[0mPARAMS_EXISTS\u001b[0m\u001b[0;34m.\u001b[0m\u001b[0mformat\u001b[0m\u001b[0;34m(\u001b[0m\u001b[0moutfile\u001b[0m\u001b[0;34m)\u001b[0m\u001b[0;34m)\u001b[0m\u001b[0;34m\u001b[0m\u001b[0m\n\u001b[0m\u001b[1;32m    759\u001b[0m \u001b[0;34m\u001b[0m\u001b[0m\n\u001b[1;32m    760\u001b[0m         \u001b[0;32mwith\u001b[0m \u001b[0mopen\u001b[0m\u001b[0;34m(\u001b[0m\u001b[0moutfile\u001b[0m\u001b[0;34m,\u001b[0m \u001b[0;34m'w'\u001b[0m\u001b[0;34m)\u001b[0m \u001b[0;32mas\u001b[0m \u001b[0mparamsfile\u001b[0m\u001b[0;34m:\u001b[0m\u001b[0;34m\u001b[0m\u001b[0m\n",
      "\u001b[0;32m/usr/local/opt/miniconda/lib/python2.7/site-packages/ipyrad/assemble/util.pyc\u001b[0m in \u001b[0;36m__init__\u001b[0;34m(self, *args, **kwargs)\u001b[0m\n\u001b[1;32m     49\u001b[0m     \u001b[0;32mdef\u001b[0m \u001b[0m__init__\u001b[0m\u001b[0;34m(\u001b[0m\u001b[0mself\u001b[0m\u001b[0;34m,\u001b[0m \u001b[0;34m*\u001b[0m\u001b[0margs\u001b[0m\u001b[0;34m,\u001b[0m \u001b[0;34m**\u001b[0m\u001b[0mkwargs\u001b[0m\u001b[0;34m)\u001b[0m\u001b[0;34m:\u001b[0m\u001b[0;34m\u001b[0m\u001b[0m\n\u001b[1;32m     50\u001b[0m         \u001b[0;32mif\u001b[0m \u001b[0mipyrad\u001b[0m\u001b[0;34m.\u001b[0m\u001b[0m__interactive__\u001b[0m\u001b[0;34m:\u001b[0m\u001b[0;34m\u001b[0m\u001b[0m\n\u001b[0;32m---> 51\u001b[0;31m             \u001b[0;32mraise\u001b[0m \u001b[0mIPyradError\u001b[0m\u001b[0;34m(\u001b[0m\u001b[0;34m*\u001b[0m\u001b[0margs\u001b[0m\u001b[0;34m,\u001b[0m \u001b[0;34m**\u001b[0m\u001b[0mkwargs\u001b[0m\u001b[0;34m)\u001b[0m\u001b[0;34m\u001b[0m\u001b[0m\n\u001b[0m\u001b[1;32m     52\u001b[0m         \u001b[0;32melse\u001b[0m\u001b[0;34m:\u001b[0m\u001b[0;34m\u001b[0m\u001b[0m\n\u001b[1;32m     53\u001b[0m             \u001b[0mSystemExit\u001b[0m\u001b[0;34m.\u001b[0m\u001b[0m__init__\u001b[0m\u001b[0;34m(\u001b[0m\u001b[0mself\u001b[0m\u001b[0;34m,\u001b[0m \u001b[0;34m*\u001b[0m\u001b[0margs\u001b[0m\u001b[0;34m,\u001b[0m \u001b[0;34m**\u001b[0m\u001b[0mkwargs\u001b[0m\u001b[0;34m)\u001b[0m\u001b[0;34m\u001b[0m\u001b[0m\n",
      "\u001b[0;31mIPyradError\u001b[0m: \n    Error: Params file already exists: params-my_assembly.txt\n    Use force argument to overwrite.\n    "
     ]
    }
   ],
   "source": [
    "## We can write the params to a file if we want to inspect or modify them at the command line\n",
    "## The default simply writes `params-<assembly_name>.txt` to the project directory\n",
    "!ls\n",
    "data1.write_params()\n",
    "!ls"
   ]
  },
  {
   "cell_type": "markdown",
   "metadata": {},
   "source": [
    "## Now run the full assembly"
   ]
  },
  {
   "cell_type": "code",
   "execution_count": 10,
   "metadata": {
    "collapsed": false
   },
   "outputs": [
    {
     "name": "stdout",
     "output_type": "stream",
     "text": [
      "\n",
      "  Assembly: my_assembly\n",
      "\n",
      "  [####################] 100%  sorting reads         | 0:00:10 | s1 | \n",
      "  [####################] 100%  writing/compressing   | 0:00:00 | s1 | \n",
      "  [####################] 100%  processing reads      | 0:00:06 | s2 | \n",
      "  [####################] 100%  dereplicating         | 0:00:00 | s3 | \n",
      "  [####################] 100%  clustering            | 0:00:02 | s3 | \n",
      "  [####################] 100%  building clusters     | 0:00:00 | s3 | \n",
      "  [####################] 100%  chunking              | 0:00:00 | s3 | \n",
      "  [####################] 100%  aligning              | 0:00:20 | s3 | \n",
      "  [####################] 100%  concatenating         | 0:00:00 | s3 | \n",
      "  [####################] 100%  inferring [H, E]      | 0:00:03 | s4 | \n",
      "  [####################] 100%  calculating depths    | 0:00:00 | s5 | \n",
      "  [####################] 100%  chunking clusters     | 0:00:00 | s5 | \n",
      "  [####################] 100%  consens calling       | 0:00:32 | s5 | \n",
      "  [####################] 100%  concat/shuffle input  | 0:00:00 | s6 | \n",
      "  [####################] 100%  clustering across     | 0:00:03 | s6 | \n",
      "  [####################] 100%  building clusters     | 0:00:00 | s6 | \n",
      "  [####################] 100%  aligning clusters     | 0:00:09 | s6 | \n",
      "  [####################] 100%  database indels       | 0:00:00 | s6 | \n",
      "  [####################] 100%  indexing clusters     | 0:00:01 | s6 | \n",
      "  [####################] 100%  building database     | 0:00:00 | s6 | \n",
      "  [####################] 100%  filtering loci        | 0:00:00 | s7 | \n",
      "  [####################] 100%  building loci/stats   | 0:00:00 | s7 | \n",
      "  [####################] 100%  building vcf file     | 0:00:01 | s7 | \n",
      "  [####################] 100%  writing vcf file      | 0:00:00 | s7 | \n",
      "  [####################] 100%  building arrays       | 0:00:00 | s7 | \n",
      "  [####################] 100%  writing outfiles      | 0:00:05 | s7 | \n",
      "  Outfiles written to: /Volumes/WorkDrive/lab-notebooks/code-school/tmp/my_assembly_outfiles\n"
     ]
    }
   ],
   "source": [
    "data1.run(steps=1234567)"
   ]
  },
  {
   "cell_type": "markdown",
   "metadata": {},
   "source": [
    "## Examine the outfiles"
   ]
  },
  {
   "cell_type": "code",
   "execution_count": 12,
   "metadata": {
    "collapsed": false
   },
   "outputs": [
    {
     "data": {
      "text/plain": [
       "['my_assembly.hdf5',\n",
       " 'my_assembly.loci',\n",
       " 'my_assembly.phy',\n",
       " 'my_assembly.snps.map',\n",
       " 'my_assembly.snps.phy',\n",
       " 'my_assembly.vcf',\n",
       " 'my_assembly_stats.txt']"
      ]
     },
     "execution_count": 12,
     "metadata": {},
     "output_type": "execute_result"
    }
   ],
   "source": [
    "outfiles = WORK_DIR + \"my_assembly_outfiles/\"\n",
    "os.listdir(outfiles)"
   ]
  },
  {
   "cell_type": "code",
   "execution_count": 13,
   "metadata": {
    "collapsed": false
   },
   "outputs": [
    {
     "data": {
      "text/html": [
       "<div>\n",
       "<table border=\"1\" class=\"dataframe\">\n",
       "  <thead>\n",
       "    <tr style=\"text-align: right;\">\n",
       "      <th></th>\n",
       "      <th>state</th>\n",
       "      <th>reads_raw</th>\n",
       "      <th>reads_passed_filter</th>\n",
       "      <th>clusters_total</th>\n",
       "      <th>clusters_hidepth</th>\n",
       "      <th>hetero_est</th>\n",
       "      <th>error_est</th>\n",
       "      <th>reads_consens</th>\n",
       "    </tr>\n",
       "  </thead>\n",
       "  <tbody>\n",
       "    <tr>\n",
       "      <th>1A_0</th>\n",
       "      <td>6</td>\n",
       "      <td>19862</td>\n",
       "      <td>19862</td>\n",
       "      <td>1000</td>\n",
       "      <td>1000</td>\n",
       "      <td>0.001824</td>\n",
       "      <td>0.000759</td>\n",
       "      <td>1000</td>\n",
       "    </tr>\n",
       "    <tr>\n",
       "      <th>1B_0</th>\n",
       "      <td>6</td>\n",
       "      <td>20043</td>\n",
       "      <td>20043</td>\n",
       "      <td>1000</td>\n",
       "      <td>1000</td>\n",
       "      <td>0.001908</td>\n",
       "      <td>0.000752</td>\n",
       "      <td>1000</td>\n",
       "    </tr>\n",
       "    <tr>\n",
       "      <th>1C_0</th>\n",
       "      <td>6</td>\n",
       "      <td>20136</td>\n",
       "      <td>20136</td>\n",
       "      <td>1000</td>\n",
       "      <td>1000</td>\n",
       "      <td>0.002084</td>\n",
       "      <td>0.000745</td>\n",
       "      <td>1000</td>\n",
       "    </tr>\n",
       "    <tr>\n",
       "      <th>1D_0</th>\n",
       "      <td>6</td>\n",
       "      <td>19966</td>\n",
       "      <td>19966</td>\n",
       "      <td>1000</td>\n",
       "      <td>1000</td>\n",
       "      <td>0.001803</td>\n",
       "      <td>0.000761</td>\n",
       "      <td>1000</td>\n",
       "    </tr>\n",
       "    <tr>\n",
       "      <th>2E_0</th>\n",
       "      <td>6</td>\n",
       "      <td>20017</td>\n",
       "      <td>20017</td>\n",
       "      <td>1000</td>\n",
       "      <td>1000</td>\n",
       "      <td>0.001830</td>\n",
       "      <td>0.000766</td>\n",
       "      <td>1000</td>\n",
       "    </tr>\n",
       "    <tr>\n",
       "      <th>2F_0</th>\n",
       "      <td>6</td>\n",
       "      <td>19933</td>\n",
       "      <td>19933</td>\n",
       "      <td>1000</td>\n",
       "      <td>1000</td>\n",
       "      <td>0.001996</td>\n",
       "      <td>0.000755</td>\n",
       "      <td>1000</td>\n",
       "    </tr>\n",
       "    <tr>\n",
       "      <th>2G_0</th>\n",
       "      <td>6</td>\n",
       "      <td>20030</td>\n",
       "      <td>20030</td>\n",
       "      <td>1000</td>\n",
       "      <td>1000</td>\n",
       "      <td>0.001940</td>\n",
       "      <td>0.000763</td>\n",
       "      <td>1000</td>\n",
       "    </tr>\n",
       "    <tr>\n",
       "      <th>2H_0</th>\n",
       "      <td>6</td>\n",
       "      <td>20199</td>\n",
       "      <td>20199</td>\n",
       "      <td>1000</td>\n",
       "      <td>1000</td>\n",
       "      <td>0.001747</td>\n",
       "      <td>0.000756</td>\n",
       "      <td>1000</td>\n",
       "    </tr>\n",
       "    <tr>\n",
       "      <th>3I_0</th>\n",
       "      <td>6</td>\n",
       "      <td>19885</td>\n",
       "      <td>19885</td>\n",
       "      <td>1000</td>\n",
       "      <td>1000</td>\n",
       "      <td>0.001807</td>\n",
       "      <td>0.000758</td>\n",
       "      <td>1000</td>\n",
       "    </tr>\n",
       "    <tr>\n",
       "      <th>3J_0</th>\n",
       "      <td>6</td>\n",
       "      <td>19822</td>\n",
       "      <td>19822</td>\n",
       "      <td>1000</td>\n",
       "      <td>1000</td>\n",
       "      <td>0.001931</td>\n",
       "      <td>0.000776</td>\n",
       "      <td>1000</td>\n",
       "    </tr>\n",
       "    <tr>\n",
       "      <th>3K_0</th>\n",
       "      <td>6</td>\n",
       "      <td>19965</td>\n",
       "      <td>19965</td>\n",
       "      <td>1000</td>\n",
       "      <td>1000</td>\n",
       "      <td>0.002092</td>\n",
       "      <td>0.000766</td>\n",
       "      <td>1000</td>\n",
       "    </tr>\n",
       "    <tr>\n",
       "      <th>3L_0</th>\n",
       "      <td>6</td>\n",
       "      <td>20008</td>\n",
       "      <td>20008</td>\n",
       "      <td>1000</td>\n",
       "      <td>1000</td>\n",
       "      <td>0.002042</td>\n",
       "      <td>0.000748</td>\n",
       "      <td>1000</td>\n",
       "    </tr>\n",
       "  </tbody>\n",
       "</table>\n",
       "</div>"
      ],
      "text/plain": [
       "      state  reads_raw  reads_passed_filter  clusters_total  clusters_hidepth  \\\n",
       "1A_0      6      19862                19862            1000              1000   \n",
       "1B_0      6      20043                20043            1000              1000   \n",
       "1C_0      6      20136                20136            1000              1000   \n",
       "1D_0      6      19966                19966            1000              1000   \n",
       "2E_0      6      20017                20017            1000              1000   \n",
       "2F_0      6      19933                19933            1000              1000   \n",
       "2G_0      6      20030                20030            1000              1000   \n",
       "2H_0      6      20199                20199            1000              1000   \n",
       "3I_0      6      19885                19885            1000              1000   \n",
       "3J_0      6      19822                19822            1000              1000   \n",
       "3K_0      6      19965                19965            1000              1000   \n",
       "3L_0      6      20008                20008            1000              1000   \n",
       "\n",
       "      hetero_est  error_est  reads_consens  \n",
       "1A_0    0.001824   0.000759           1000  \n",
       "1B_0    0.001908   0.000752           1000  \n",
       "1C_0    0.002084   0.000745           1000  \n",
       "1D_0    0.001803   0.000761           1000  \n",
       "2E_0    0.001830   0.000766           1000  \n",
       "2F_0    0.001996   0.000755           1000  \n",
       "2G_0    0.001940   0.000763           1000  \n",
       "2H_0    0.001747   0.000756           1000  \n",
       "3I_0    0.001807   0.000758           1000  \n",
       "3J_0    0.001931   0.000776           1000  \n",
       "3K_0    0.002092   0.000766           1000  \n",
       "3L_0    0.002042   0.000748           1000  "
      ]
     },
     "execution_count": 13,
     "metadata": {},
     "output_type": "execute_result"
    }
   ],
   "source": [
    "## Get some info about the state of each sample and the results from all the steps.\n",
    "data1.stats"
   ]
  },
  {
   "cell_type": "markdown",
   "metadata": {},
   "source": [
    "## Now we'll create a new branch with no missing data\n",
    "Branching creates a shallow copy of an assembly at any given step. It's called a branch\n",
    "because it essentially allows each branched assembly to run independently without writing over the\n",
    "files of the other branch. In this case we want to re-run step 7 on the same assembled\n",
    "data, but we want to modify a parameter to allow for no missing data. In order to do this we need \n",
    "to know how many samples are in the assembly, so we can ask like this:"
   ]
  },
  {
   "cell_type": "code",
   "execution_count": 14,
   "metadata": {
    "collapsed": false
   },
   "outputs": [
    {
     "name": "stdout",
     "output_type": "stream",
     "text": [
      "12\n"
     ]
    }
   ],
   "source": [
    "print(len(data1.samples))"
   ]
  },
  {
   "cell_type": "markdown",
   "metadata": {},
   "source": [
    "Now call the `branch` function and then set the `min_samples_locus` value to equal the total\n",
    "number of samples in the assembly."
   ]
  },
  {
   "cell_type": "code",
   "execution_count": null,
   "metadata": {
    "collapsed": false
   },
   "outputs": [
    {
     "name": "stdout",
     "output_type": "stream",
     "text": [
      "Reloading ipyrad.os\n",
      "Reloading os\n",
      "Reloading errno\n",
      "Reloading posix\n",
      "Reloading posixpath\n",
      "Reloading stat\n",
      "Reloading genericpath\n",
      "Reloading warnings\n",
      "Reloading linecache\n",
      "Reloading types\n",
      "Reloading _warnings\n",
      "Reloading UserDict\n",
      "Reloading _abcoll\n",
      "Reloading abc\n",
      "Reloading _weakrefset\n",
      "Reloading _weakref\n",
      "Reloading copy_reg\n",
      "Reloading ipyrad.atexit\n",
      "Reloading atexit"
     ]
    }
   ],
   "source": [
    "nomissing = data1.branch(\"nomissing\")\n",
    "nomissing.set_params(\"min_samples_locus\", 12)\n",
    "nomissing.get_params()\n",
    "#nomissing.get_params(\"min_samples_locs\")"
   ]
  },
  {
   "cell_type": "markdown",
   "metadata": {},
   "source": [
    "## Now run step 7 on your branched assembly\n"
   ]
  },
  {
   "cell_type": "code",
   "execution_count": 32,
   "metadata": {
    "collapsed": false
   },
   "outputs": [
    {
     "name": "stdout",
     "output_type": "stream",
     "text": [
      "\n",
      "  Assembly: nomissing\n",
      "  [####################] 100%  filtering loci        | 0:00:00 | s7 | \n",
      "  [####################] 100%  building loci/stats   | 0:00:00 | s7 | \n",
      "  [####################] 100%  building vcf file     | 0:00:01 | s7 | \n",
      "  [####################] 100%  writing vcf file      | 0:00:00 | s7 | \n",
      "  [####################] 100%  building arrays       | 0:00:01 | s7 | \n",
      "  [####################] 100%  writing outfiles      | 0:00:04 | s7 | \n",
      "  Outfiles written to: ipyrad-test/nomissing_outfiles\n"
     ]
    }
   ],
   "source": [
    "nomissing.run(steps=7)"
   ]
  },
  {
   "cell_type": "markdown",
   "metadata": {},
   "source": [
    "## Establish paths to your vcf files and load in the vcf data\n",
    "Here we'll create 2 new variables to point to our 2 vcf files. Then we'll use the external `vcfnp` library to load in the snp data."
   ]
  },
  {
   "cell_type": "code",
   "execution_count": 34,
   "metadata": {
    "collapsed": true
   },
   "outputs": [],
   "source": [
    "missing_vcf_file = WORK_DIR + \"ipyrad-test/ipyrad-test_outfiles/ipyrad-test.vcf\"\n",
    "nomissing_vcf_file = WORK_DIR + \"ipyrad-test/ipyrad-test_outfiles/ipyrad-test.vcf\"\n",
    "\n",
    "for i in [missing_vcf, nomissing_vcf]:\n",
    "    if not os.path.exists(my_vcf):\n",
    "        print(my_vcf)\n",
    "        sys.exit(\"Can't find vcf file!\")"
   ]
  },
  {
   "cell_type": "code",
   "execution_count": 35,
   "metadata": {
    "collapsed": true
   },
   "outputs": [],
   "source": [
    "## Load in vcf call data\n",
    "missing_calldata = vcfnp.calldata_2d(missing_vcf_file, verbose=False).view(np.recarray)\n",
    "nomissing_calldata = vcfnp.calldata_2d(nomissing_vcf_file, verbose=False).view(np.recarray)"
   ]
  },
  {
   "cell_type": "markdown",
   "metadata": {},
   "source": [
    "## Set populations and population colors\n",
    "Since we will want to identify individuals in the PCA by \"population\" we have to establish population lists that contain the sample names of each sample per pop. We also have a dictionary that maps labels to lists, and a dictionary that assigns colors to each label."
   ]
  },
  {
   "cell_type": "code",
   "execution_count": 100,
   "metadata": {
    "collapsed": false
   },
   "outputs": [
    {
     "name": "stdout",
     "output_type": "stream",
     "text": [
      "OrderedDict([('1A_0', 'pop1'), ('1B_0', 'pop1'), ('1C_0', 'pop1'), ('1D_0', 'pop1'), ('2E_0', 'pop2'), ('2F_0', 'pop2'), ('2G_0', 'pop2'), ('2H_0', 'pop2'), ('3I_0', 'pop3'), ('3J_0', 'pop3'), ('3K_0', 'pop3'), ('3L_0', 'pop3')])\n"
     ]
    }
   ],
   "source": [
    "pops = [\"pop1\", \"pop2\", \"pop3\"]\n",
    "pop1 = [\"1A_0\", \"1B_0\", \"1C_0\", \"1D_0\"]\n",
    "pop2 = [\"2E_0\", \"2F_0\", \"2G_0\", \"2H_0\"]\n",
    "pop3 = [\"3I_0\", \"3J_0\", \"3K_0\", \"3L_0\"]\n",
    "\n",
    "## Make one big list with all the samples together _in the same order_ as the vcf file.\n",
    "## Otherwise your PCA will be messed up.\n",
    "sample_names = pop1 + pop2 + pop3\n",
    "\n",
    "## YMMV here, at the end of the day you need an ordered dictionary mapping sample names to population names.\n",
    "pop_dict = collections.OrderedDict([(y, \"pop\" + y[0]) for y in sample_names])\n",
    "print(pop_dict)\n",
    "\n",
    "## Set colors for plotting each pop. You can play with these.\n",
    "pop_colors = {\"pop1\":\"r\", \"pop2\":\"b\", \"pop3\":\"g\"}"
   ]
  },
  {
   "cell_type": "code",
   "execution_count": 39,
   "metadata": {
    "collapsed": true
   },
   "outputs": [],
   "source": [
    "def getPCA(call_data):\n",
    "    c = call_data\n",
    "    g = allel.GenotypeArray(c.genotype)\n",
    "    ac = g.count_alleles()\n",
    "    ## Filter singletons and multi-allelic snps\n",
    "    flt = (ac.max_allele() == 1) & (ac[:, :2].min(axis=1) > 1)\n",
    "    gf = g.compress(flt, axis=0)\n",
    "    gn = gf.to_n_alt()\n",
    "    coords1, model1 = allel.stats.pca(gn, n_components=10, scaler='patterson')\n",
    "    return coords1, model1"
   ]
  },
  {
   "cell_type": "code",
   "execution_count": 102,
   "metadata": {
    "collapsed": true
   },
   "outputs": [],
   "source": [
    "def plotPCA(call_data, title):\n",
    "    c = call_data\n",
    "    g = allel.GenotypeArray(c.genotype)\n",
    "    ac = g.count_alleles()\n",
    "    \n",
    "    ## Filter singletons and multi-allelic snps\n",
    "    flt = (ac.max_allele() == 1) & (ac[:, :2].min(axis=1) > 1)\n",
    "    gf = g.compress(flt, axis=0)\n",
    "    gn = gf.to_n_alt()\n",
    "    coords1, model1 = allel.stats.pca(gn, n_components=10, scaler='patterson')\n",
    "    fig = plt.figure(figsize=(5, 5))\n",
    "    ax = fig.add_subplot(1, 1, 1)\n",
    "    sns.despine(ax=ax, offset=5)\n",
    "    x = coords1[:, 0]\n",
    "    y = coords1[:, 1]\n",
    "    \n",
    "    for pop in pops:\n",
    "        flt = (np.array(pop_dict.values()) == pop)\n",
    "        ax.plot(x[flt], y[flt], marker='o', linestyle=' ', color=pop_colors[pop], label=pop, markersize=10, mec='k', mew=.5)\n",
    "    ax.set_xlabel('PC%s (%.1f%%)' % (1, model1.explained_variance_ratio_[0]*100))\n",
    "    ax.set_ylabel('PC%s (%.1f%%)' % (2, model1.explained_variance_ratio_[1]*100))\n",
    "    ax.legend(bbox_to_anchor=(1, 1), loc='upper left')\n",
    "    fig.suptitle(title+\" pca\", y=1.02, style=\"italic\", fontsize=20, fontweight='bold')\n",
    "    fig.tight_layout()"
   ]
  },
  {
   "cell_type": "code",
   "execution_count": 103,
   "metadata": {
    "collapsed": false
   },
   "outputs": [
    {
     "data": {
      "image/png": "[encoded data removed]",
      "text/plain": [
       "<matplotlib.figure.Figure at 0x11af843d0>"
      ]
     },
     "metadata": {},
     "output_type": "display_data"
    },
    {
     "data": {
      "image/png": "[encoded data removed]",
      "text/plain": [
       "<matplotlib.figure.Figure at 0x11af1b7d0>"
      ]
     },
     "metadata": {},
     "output_type": "display_data"
    }
   ],
   "source": [
    "plotPCA(missing_calldata, \"Lots of missing data\")\n",
    "plotPCA(nomissing_calldata, \"No missing data\")"
   ]
  },
  {
   "cell_type": "markdown",
   "metadata": {},
   "source": [
    "## Further exploration with pairwise distance matrices\n",
    "If there's time or if you have inclination to try another plotting function."
   ]
  },
  {
   "cell_type": "code",
   "execution_count": null,
   "metadata": {
    "collapsed": true
   },
   "outputs": [],
   "source": [
    "def plotPairwiseDistance(call_data, title):\n",
    "    c = call_data\n",
    "    #c = vcfnp.calldata_2d(filename).view(np.recarray)\n",
    "    g = allel.GenotypeArray(c.genotype)\n",
    "    gn = g.to_n_alt()\n",
    "    dist = allel.stats.pairwise_distance(gn, metric='euclidean')\n",
    "    allel.plot.pairwise_distance(dist, labels=species_dict.keys())\n",
    "\n",
    "def getDistances(call_data):\n",
    "    c = call_data\n",
    "    #c = vcfnp.calldata_2d(filename).view(np.recarray)\n",
    "    g = allel.GenotypeArray(c.genotype)\n",
    "    gn = g.to_n_alt()\n",
    "    dist = allel.stats.pairwise_distance(gn, metric='euclidean')\n",
    "    return(dist)"
   ]
  },
  {
   "cell_type": "markdown",
   "metadata": {},
   "source": [
    "## Ignore below here"
   ]
  },
  {
   "cell_type": "code",
   "execution_count": 11,
   "metadata": {
    "collapsed": false
   },
   "outputs": [
    {
     "name": "stdout",
     "output_type": "stream",
     "text": [
      "  New Assembly: watdo\n"
     ]
    }
   ],
   "source": [
    "watdo = ip.Assembly(\"watdo\", profile=\"watdo\")"
   ]
  },
  {
   "cell_type": "code",
   "execution_count": 21,
   "metadata": {
    "collapsed": false
   },
   "outputs": [
    {
     "name": "stdout",
     "output_type": "stream",
     "text": [
      "4\n"
     ]
    }
   ],
   "source": [
    "param = \"min_samples_locus\"\n",
    "try:                                                                                                                                     \n",
    "    if int(param):                                                                                                                       \n",
    "        #sys.stdout.write(self.paramsdict.values()[int(param)-1])                                                                        \n",
    "        print data1.paramsdict.values()[int(param)]                                                                                      \n",
    "except (ValueError, TypeError, NameError, IndexError):                                                                                   \n",
    "    try:                                                                                                                          \n",
    "        print(data1.paramsdict[param])                                                                                                    \n",
    "    except KeyError:                                                                                                                     \n",
    "        print('key not recognized')  "
   ]
  },
  {
   "cell_type": "code",
   "execution_count": 18,
   "metadata": {
    "collapsed": false
   },
   "outputs": [
    {
     "data": {
      "text/plain": [
       "<module 'ipyrad.core' from '/usr/local/opt/miniconda/lib/python2.7/site-packages/ipyrad/core/__init__.pyc'>"
      ]
     },
     "execution_count": 18,
     "metadata": {},
     "output_type": "execute_result"
    }
   ],
   "source": [
    "import sys\n",
    "sys.path\n",
    "sys.modules.keys()\n",
    "sys.modules[\"ipyrad.core\"]"
   ]
  },
  {
   "cell_type": "code",
   "execution_count": null,
   "metadata": {
    "collapsed": true
   },
   "outputs": [],
   "source": [
    "## 2 dif strategies for deep reloading ipyrad lib, neither work.\n",
    "##import __builtin__\n",
    "##from IPython.lib import deepreload\n",
    "##__builtin__.reload = deepreload.reload\n",
    "\n",
    "##reload(sys.modules['ipyrad'])\n",
    "\n",
    "##-------------------\n",
    "\n",
    "##%load_ext autoreload"
   ]
  }
 ],
 "metadata": {
  "anaconda-cloud": {},
  "kernelspec": {
   "display_name": "Python [default]",
   "language": "python",
   "name": "python2"
  },
  "language_info": {
   "codemirror_mode": {
    "name": "ipython",
    "version": 2
   },
   "file_extension": ".py",
   "mimetype": "text/x-python",
   "name": "python",
   "nbconvert_exporter": "python",
   "pygments_lexer": "ipython2",
   "version": "2.7.12"
  }
 },
 "nbformat": 4,
 "nbformat_minor": 1
}
