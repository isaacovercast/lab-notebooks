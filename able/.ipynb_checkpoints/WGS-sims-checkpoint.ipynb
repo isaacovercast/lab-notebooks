{
 "cells": [
  {
   "cell_type": "markdown",
   "metadata": {},
   "source": [
    "On enterprise, testing different short read simulators.\n",
    "\n",
    "Good article about whole genome sequencing process from lab to assembly.\n",
    "https://www.ncbi.nlm.nih.gov/pmc/articles/PMC4231593/\n",
    "\n",
    "Good pub listing a bunch of different short read simulators:\n",
    "http://www.nature.com.ezproxy.gc.cuny.edu/nrg/journal/v17/n8/full/nrg.2016.57.html#sequencing-depth\n",
    "\n",
    "Timing for 1M PE reads"
   ]
  },
  {
   "cell_type": "markdown",
   "metadata": {},
   "source": [
    "# Estimate reference size from illumina reads\n",
    "\n",
    "http://josephryan.github.io/estimate_genome_size.pl/\n",
    "\n",
    "Thoughts on how to deal w/ low coverage:\n",
    "http://seqanswers.com/forums/showthread.php?t=41874\n",
    "\n",
    "`jellyfish count -m 31 -o fastq.counts -C -s 1000000000 -U 500 -t 30 ~/able/frog_locov/Sample_16_116_read1_trimmomatic_1PE.fastq ~/able/frog_locov/Sample_16_116_read2_trimmomatic_2PE.fastq`\n",
    "\n",
    "`jellyfish histo fastq.counts_0 > fastq.counts_0.histo`\n",
    "\n",
    "`./find_valleys.pl fastq.counts.histo`\n",
    "`./jellyplot.pl fastq.counts.histo`\n",
    "\n",
    "# Quantify quality of genome assembly\n",
    "http://busco.ezlab.org/\n"
   ]
  },
  {
   "cell_type": "markdown",
   "metadata": {},
   "source": [
    "# Generate simulated whole genome sequence\n"
   ]
  },
  {
   "cell_type": "markdown",
   "metadata": {},
   "source": [
    "# Simulate illumina reads from a reference\n",
    "\n",
    "## wgsim\n",
    "hung after writing only a fraction of the reads.\n",
    "\n",
    "\n",
    "## simNGS\n",
    "https://www.biostars.org/p/8752/\n",
    "\n",
    "`simLibrary -n [number_of_fragments] reference.fas | simNGS -o fastq -p paired [runfile] > simulated_reads.fq`\n",
    "\n",
    "Requires a run file that I don't have.\n",
    "\n",
    "## simhtsd\n",
    "perl script. Requires bioperl install.\n",
    "\n",
    "Runs fast, but doesn't introduce variation, except for an optional error rate.\n",
    "`./simhtsd.pl -o simht_out -n 1000000 -p 2 -l 400 -s 10 -r 100 ~/able/xenopus/Xla.v91.repeatMasked.fa`\n",
    "\n",
    "## ART\n",
    "`art_illumina -ss HS25 -sam -i ~/able/xenopus/Xla.v91.repeatMasked.fa -c 10000 -p -l 150 -m 200 -s 10 -o paired_dat`\n"
   ]
  },
  {
   "cell_type": "markdown",
   "metadata": {},
   "source": [
    "# Genome assembly\n",
    "\n",
    "## SOAP\n",
    "http://soap.genomics.org.cn/soapdenovo.html\n",
    "\n",
    "`SOAPdenovo-63mer all -s conf.txt -K 33  -R -o prefix 1> out.log 2> err.log`\n",
    "\n",
    "SOAP requires a conf file which looks like this:\n",
    "```\n",
    "#maximal read length\n",
    "max_rd_len=150\n",
    "[LIB]\n",
    "#average insert size\n",
    "avg_ins=300\n",
    "#if sequence needs to be reversed\n",
    "reverse_seq=0\n",
    "#in which part(s) the reads are used\n",
    "asm_flags=3\n",
    "#use only first 100 bps of each read\n",
    "rd_len_cutoff=150\n",
    "#in which order the reads are used while scaffolding\n",
    "rank=1\n",
    "# cutoff of pair number for a reliable connection (at least 3 for short insert size)\n",
    "pair_num_cutoff=3\n",
    "#minimum aligned length to contigs for a reliable read location (at least 32 for short insert size)\n",
    "map_len=32\n",
    "#a pair of fastq file, read 1 file should always be followed by read 2 file\n",
    "q1=/home/iovercast/able/frog_locov/Sample_16_116_read1_trimmomatic_1PE.fastq\n",
    "q2=/home/iovercast/able/frog_locov/Sample_16_116_read2_trimmomatic_2PE.fastq\n",
    "```\n",
    "\n",
    "## Abyss\n",
    "Installed, but still need to test.\n",
    "\n",
    "## SGA\n",
    "\n",
    "https://github.com/jts/sga/wiki\n",
    "http://genome.cshlp.org.ezproxy.gc.cuny.edu/content/22/3/549.full\n",
    "\n",
    "Supposed to be fast.\n",
    "\n",
    "-----------------\n",
    "\n",
    "## minia\n",
    "More of a toy. Runs fast. Doesn't make scaffold, just contigs.\n",
    "\n",
    "## AllPaths-LG\n",
    "Requires very high coverage (100x) and at least 2 libraries (1 w/ short and 1 w/ long insert sizes). This _may_ not be true, but it's still true that it's a bitch to configure and run.\n",
    "ftp://ftp.broadinstitute.org/pub/crd/ALLPATHS/Release-LG/AllPaths-LG_Manual.pdf"
   ]
  },
  {
   "cell_type": "markdown",
   "metadata": {},
   "source": [
    "# Mapping\n",
    "\n",
    "`bwa mem prefix.scafSeq ../frog_locov/Sample_16_116_read1_trimmomatic_1PE.fastq ../frog_locov/Sample_16_116_read2_trimmomatic_2PE.fastq > tmp.sam`"
   ]
  },
  {
   "cell_type": "code",
   "execution_count": 1,
   "metadata": {
    "collapsed": true
   },
   "outputs": [],
   "source": [
    "import msprime"
   ]
  }
 ],
 "metadata": {
  "anaconda-cloud": {},
  "kernelspec": {
   "display_name": "Python [default]",
   "language": "python",
   "name": "python2"
  },
  "language_info": {
   "codemirror_mode": {
    "name": "ipython",
    "version": 2
   },
   "file_extension": ".py",
   "mimetype": "text/x-python",
   "name": "python",
   "nbconvert_exporter": "python",
   "pygments_lexer": "ipython2",
   "version": "2.7.12"
  }
 },
 "nbformat": 4,
 "nbformat_minor": 1
}
