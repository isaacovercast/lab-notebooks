{
 "cells": [
  {
   "cell_type": "code",
   "execution_count": 11,
   "metadata": {},
   "outputs": [
    {
     "name": "stdout",
     "output_type": "stream",
     "text": [
      "The autoreload extension is already loaded. To reload it, use:\n",
      "  %reload_ext autoreload\n"
     ]
    }
   ],
   "source": [
    "%load_ext autoreload\n",
    "%autoreload 2\n",
    "%matplotlib inline\n",
    "\n",
    "import glob\n",
    "import ipyparallel as ipp\n",
    "import matplotlib.pyplot as plt\n",
    "import numpy as np\n",
    "import pandas as pd\n",
    "import iBioGen\n",
    "\n",
    "from sad_logLikZ import *\n",
    "\n",
    "from collections import Counter\n",
    "from itertools import combinations\n",
    "from IPython.display import display\n",
    "\n",
    "pd.set_option('display.max_columns', None)\n"
   ]
  },
  {
   "cell_type": "code",
   "execution_count": 13,
   "metadata": {},
   "outputs": [
    {
     "data": {
      "text/plain": [
       "0.16406403343629572"
      ]
     },
     "execution_count": 13,
     "metadata": {},
     "output_type": "execute_result"
    }
   ],
   "source": [
    "sad_logLikZ(np.array([1, 2, 3, 4, 4]))"
   ]
  },
  {
   "cell_type": "code",
   "execution_count": 14,
   "metadata": {},
   "outputs": [
    {
     "name": "stdout",
     "output_type": "stream",
     "text": [
      "[0.18127216982512456, -10.032815564492767]\n",
      "[      1       2       3 ...  999998  999999 1000000]\n"
     ]
    },
    {
     "name": "stderr",
     "output_type": "stream",
     "text": [
      "/home/isaac/miniconda3/envs/iBioGen/lib/python3.7/site-packages/ipykernel_launcher.py:11: RuntimeWarning: divide by zero encountered in log\n",
      "  # This is added back by InteractiveShellApp.init_path()\n"
     ]
    },
    {
     "data": {
      "text/plain": [
       "0.16406403343629572"
      ]
     },
     "execution_count": 14,
     "metadata": {},
     "output_type": "execute_result"
    }
   ],
   "source": [
    "def sad_logLikZ(x):\n",
    "    \"\"\"sad_logLikZ -- this takes a 1D array of abundances, fits Fisher's logseries\n",
    "       to it, then calculates the squared scaled difference between the likelihood\n",
    "       of the observed data given the model and the likelihood of an ideal dataset\"\"\"\n",
    "    x = x[x > 0]\n",
    "    \n",
    "    thisFit = fitFisher(x)\n",
    "    print(thisFit)\n",
    "    x0 = np.array(range(np.power(10, 6))) + 1\n",
    "    print(x0)\n",
    "    p0 = np.log(fisherPMF(x0, thisFit[0]))\n",
    "    p0 = p0[np.isfinite(p0)]\n",
    "    \n",
    "    n = x.size\n",
    "    m = sum(p0 * np.exp(p0)) * n\n",
    "    v = sum(np.power(m/n - p0, 2) * np.exp(p0)) * n\n",
    "    \n",
    "    return np.power((thisFit[1] - m) / np.power(v, 0.5), 2)\n",
    "\n",
    "def betax(z, a, b):\n",
    "    \"\"\"betax -- a helper function for fisherCMF that uses hypergeometric for \n",
    "       accuracy and speed\"\"\"\n",
    "    return 1/a * np.power(z, a) * np.power(1-z, b) * special.hyp2f1(a+b, 1, a+1, z)\n",
    "\n",
    "def fisherCMF(x, beta):\n",
    "    \"\"\"fisherCMF -- the CMF for the fisher logseries\"\"\"\n",
    "    return 1 + betax(np.exp(-beta), x+1, 0) / np.log(1 - np.exp(-beta))\n",
    "\n",
    "def fisherPMF(x, beta):\n",
    "    \"\"\"fisherPMF -- the PMF for the fisher logseries\"\"\"\n",
    "    return 1 / np.log(1 / (1 - np.exp(-beta))) * np.exp(-beta * x) / x\n",
    "\n",
    "def fitFisher(x):\n",
    "    \"\"\"ML for fisher logseries\"\"\"\n",
    "    xbar = np.mean(x)\n",
    "    \n",
    "    def fun(b): \n",
    "        return -1 / np.log(1 - np.exp(-b)) * np.exp(-b)/(1 - np.exp(-b)) - xbar\n",
    "    \n",
    "    up = 1.1 * np.exp(2 * np.power(xbar - 0.1, -6)) * np.power(xbar - 0.1, -1.25)\n",
    "    lo = 0.5 * np.exp(2 * np.power(xbar + 0.1, -5)) * np.power(xbar + 0.1, -1.5)\n",
    "    \n",
    "    mle = optimize.brentq(fun, lo, up)\n",
    "    ll = sum(np.log(fisherPMF(x, mle)))\n",
    "    \n",
    "    return [mle, ll]\n",
    "\n",
    "\n",
    "## example of how it works\n",
    "sad_logLikZ(np.array([1, 2, 3, 4, 4]))"
   ]
  },
  {
   "cell_type": "code",
   "execution_count": 82,
   "metadata": {},
   "outputs": [
    {
     "name": "stdout",
     "output_type": "stream",
     "text": [
      "[0.0021715261810138537, -24.718090470862034]\n",
      "[0.38468223 0.17403744 0.10498373 0.0712449  0.05157204 0.03888693\n",
      " 0.03015973 0.02387844 0.01920543 0.01564001]\n"
     ]
    },
    {
     "data": {
      "image/png": "[encoded data removed]",
      "text/plain": [
       "<Figure size 432x288 with 1 Axes>"
      ]
     },
     "metadata": {
      "needs_background": "light"
     },
     "output_type": "display_data"
    }
   ],
   "source": [
    "x = np.array([1,2,3,4,40,400])\n",
    "thisFit = fitFisher(x)\n",
    "print(thisFit)\n",
    "x0 = np.array(range(np.power(10, 1))) + 1\n",
    "#p0 = np.log(fisherPMF(x0, thisFit[0]))\n",
    "p0 = fisherPMF(x0, 0.1)\n",
    "print(p0)\n",
    "p0 = p0[np.isfinite(p0)]\n",
    "_ = plt.plot(p0)"
   ]
  },
  {
   "cell_type": "code",
   "execution_count": 85,
   "metadata": {},
   "outputs": [
    {
     "name": "stdout",
     "output_type": "stream",
     "text": [
      "[0.39086503 0.5667543  0.67228786 0.74352301 0.79481232 0.8332793\n",
      " 0.86295383 0.88632252 0.90501748 0.92016039]\n"
     ]
    },
    {
     "data": {
      "text/plain": [
       "[<matplotlib.lines.Line2D at 0x7f12a7171290>]"
      ]
     },
     "execution_count": 85,
     "metadata": {},
     "output_type": "execute_result"
    },
    {
     "data": {
      "image/png": "[encoded data removed]",
      "text/plain": [
       "<Figure size 432x288 with 1 Axes>"
      ]
     },
     "metadata": {
      "needs_background": "light"
     },
     "output_type": "display_data"
    }
   ],
   "source": [
    "p = 0.9\n",
    "x0 = np.array(range(np.power(10, 1))) + 1\n",
    "print(logser.cdf(x0, p))\n",
    "plt.plot(x0, logser.pmf(x0, p))"
   ]
  },
  {
   "cell_type": "code",
   "execution_count": null,
   "metadata": {},
   "outputs": [],
   "source": []
  },
  {
   "cell_type": "code",
   "execution_count": null,
   "metadata": {},
   "outputs": [],
   "source": []
  },
  {
   "cell_type": "code",
   "execution_count": null,
   "metadata": {},
   "outputs": [],
   "source": []
  },
  {
   "cell_type": "code",
   "execution_count": 95,
   "metadata": {},
   "outputs": [
    {
     "data": {
      "text/plain": [
       "'1.6.0'"
      ]
     },
     "execution_count": 95,
     "metadata": {},
     "output_type": "execute_result"
    }
   ],
   "source": [
    "from scipy import stats\n",
    "scipy.__version__"
   ]
  },
  {
   "cell_type": "code",
   "execution_count": 67,
   "metadata": {
    "collapsed": true
   },
   "outputs": [
    {
     "name": "stdout",
     "output_type": "stream",
     "text": [
      "[ 2.  3.  4.  5.  6.  7.  8.  9. 10. 11. 12. 13. 14. 15. 16. 17. 18. 19.\n",
      " 20. 21. 22. 23. 24. 25. 26. 27. 28. 29. 30. 31. 32. 33. 34. 35. 36. 37.]\n"
     ]
    },
    {
     "data": {
      "text/plain": [
       "[<matplotlib.lines.Line2D at 0x7f12a763ca50>]"
      ]
     },
     "execution_count": 67,
     "metadata": {},
     "output_type": "execute_result"
    },
    {
     "data": {
      "image/png": "[encoded data removed]",
      "text/plain": [
       "<Figure size 432x288 with 1 Axes>"
      ]
     },
     "metadata": {
      "needs_background": "light"
     },
     "output_type": "display_data"
    }
   ],
   "source": [
    "from scipy.stats import nbinom, logser\n",
    "n, p = 5, 0.25\n",
    "x = np.arange(nbinom.ppf(0.01, n, p),\n",
    "              nbinom.ppf(0.99, n, p))\n",
    "print(x)\n",
    "prob = nbinom.cdf(x, n, p)\n",
    "plt.plot(x, nbinom.pmf(x, n, p))"
   ]
  },
  {
   "cell_type": "code",
   "execution_count": null,
   "metadata": {},
   "outputs": [],
   "source": []
  },
  {
   "cell_type": "code",
   "execution_count": null,
   "metadata": {},
   "outputs": [],
   "source": []
  },
  {
   "cell_type": "code",
   "execution_count": null,
   "metadata": {},
   "outputs": [],
   "source": []
  }
 ],
 "metadata": {
  "kernelspec": {
   "display_name": "Python 3",
   "language": "python",
   "name": "python3"
  },
  "language_info": {
   "codemirror_mode": {
    "name": "ipython",
    "version": 3
   },
   "file_extension": ".py",
   "mimetype": "text/x-python",
   "name": "python",
   "nbconvert_exporter": "python",
   "pygments_lexer": "ipython3",
   "version": "3.6.10"
  }
 },
 "nbformat": 4,
 "nbformat_minor": 5
}
