{
 "cells": [
  {
   "cell_type": "code",
   "execution_count": 108,
   "metadata": {},
   "outputs": [
    {
     "name": "stdout",
     "output_type": "stream",
     "text": [
      "[5 5 2 6 1]\n",
      "1\n"
     ]
    }
   ],
   "source": [
    "%matplotlib inline\n",
    "import random\n",
    "import matplotlib.pyplot as plt\n",
    "import numpy as np\n",
    "import math\n",
    "from collections import Counter\n",
    "\n",
    "dice = np.random.randint(1, 7, size=5)\n",
    "print(dice)\n",
    "print(dice[dice.argmin()])"
   ]
  },
  {
   "cell_type": "code",
   "execution_count": 422,
   "metadata": {},
   "outputs": [],
   "source": [
    "def keep_threes(ndice):\n",
    "    ## Take a turn with ndice and return the dice to keep\n",
    "    dice = np.random.randint(1, 7, size=ndice)\n",
    "    #print(\"roll {}\".format(dice))\n",
    "    threes = np.where(dice == 3)[0]\n",
    "    if len(threes) > 0:\n",
    "        return [3] * len(threes)\n",
    "    else:\n",
    "        return [dice[dice.argmin()]]"
   ]
  },
  {
   "cell_type": "code",
   "execution_count": 423,
   "metadata": {},
   "outputs": [],
   "source": [
    "def keep_ones(ndice):\n",
    "    ## Take a turn with ndice and return the dice to keep\n",
    "    dice = np.random.randint(1, 7, size=ndice)\n",
    "    #print(\"roll {}\".format(dice))\n",
    "    threes = np.where(dice == 3)[0]\n",
    "    ones = np.where(dice == 1)[0]\n",
    "    if len(threes) > 0 or len(ones) > 0:\n",
    "        ret = [3] * len(threes)\n",
    "        ret.extend([1] * len(ones))\n",
    "        return ret\n",
    "    else:\n",
    "        return [dice[dice.argmin()]]"
   ]
  },
  {
   "cell_type": "code",
   "execution_count": 475,
   "metadata": {},
   "outputs": [
    {
     "data": {
      "text/plain": [
       "[3, 3, 1, 1]"
      ]
     },
     "execution_count": 475,
     "metadata": {},
     "output_type": "execute_result"
    }
   ],
   "source": [
    "def keep_twos(ndice):\n",
    "    ## Take a turn with ndice and return the dice to keep\n",
    "    dice = np.random.randint(1, 7, size=ndice)\n",
    "    #print(\"roll {}\".format(dice))\n",
    "    threes = np.where(dice == 3)[0]\n",
    "    ones = np.where(dice == 1)[0]\n",
    "    twos = np.where(dice == 2)[0]\n",
    "    if len(threes) > 0 or len(ones) > 0 or len(twos) > 0:\n",
    "        ret = [3] * len(threes)\n",
    "        ret.extend([1] * len(ones))\n",
    "        ret.extend([2] * len(twos))\n",
    "        return ret\n",
    "    else:\n",
    "        return [dice[dice.argmin()]]\n",
    "keep_twos(5)"
   ]
  },
  {
   "cell_type": "code",
   "execution_count": 336,
   "metadata": {},
   "outputs": [
    {
     "name": "stdout",
     "output_type": "stream",
     "text": [
      "(array([2, 4, 3, 4, 5]), 15)\n"
     ]
    }
   ],
   "source": [
    "def threes_tot(dice):\n",
    "    ## Remove all threes so essentially they are worth 0 points\n",
    "    return sum(filter(lambda a: a != 3, dice))\n",
    "roll = np.random.randint(1, 7, size=5)\n",
    "print(roll, threes_tot(roll))"
   ]
  },
  {
   "cell_type": "code",
   "execution_count": 435,
   "metadata": {},
   "outputs": [],
   "source": [
    "def turn(func, ndice=5):\n",
    "    keepers = []\n",
    "    while ndice != 0:\n",
    "        ret = func(ndice)\n",
    "        ndice -= len(ret)\n",
    "        keepers.extend(ret)\n",
    "        #print(\"keepers {}\".format(keepers))\n",
    "    #print(\"tot {}\".format(threes_tot(keepers)))\n",
    "    return threes_tot(keepers)\n",
    "        "
   ]
  },
  {
   "cell_type": "code",
   "execution_count": 487,
   "metadata": {},
   "outputs": [
    {
     "name": "stdout",
     "output_type": "stream",
     "text": [
      "Mean/var threes - 6.27/14.4971\n",
      "Mean/var ones - 6.42/9.5236\n",
      "Mean/var twos - 8.01/8.1699\n"
     ]
    }
   ],
   "source": [
    "res_threes = []\n",
    "res_ones = []\n",
    "res_twos = []\n",
    "for x in range(100):\n",
    "    res_threes.append(turn(keep_threes))\n",
    "    res_ones.append(turn(keep_ones))\n",
    "    res_twos.append(turn(keep_twos))\n",
    "print(\"Mean/var threes - {}/{}\".format(np.mean(res_threes), np.var(res_threes)))\n",
    "print(\"Mean/var ones - {}/{}\".format(np.mean(res_ones), np.var(res_ones)))\n",
    "print(\"Mean/var twos - {}/{}\".format(np.mean(res_twos), np.var(res_twos)))"
   ]
  },
  {
   "cell_type": "code",
   "execution_count": 488,
   "metadata": {},
   "outputs": [
    {
     "data": {
      "text/plain": [
       "<matplotlib.legend.Legend at 0x7faaafe85dd0>"
      ]
     },
     "execution_count": 488,
     "metadata": {},
     "output_type": "execute_result"
    },
    {
     "data": {
      "image/png": "[encoded data removed]",
      "text/plain": [
       "<Figure size 432x288 with 1 Axes>"
      ]
     },
     "metadata": {},
     "output_type": "display_data"
    }
   ],
   "source": [
    "alpha = 0.5\n",
    "nbins = 40\n",
    "_, _, _ = plt.hist(res_threes, bins=nbins, alpha=alpha, label=\"3\")\n",
    "_, _, _ = plt.hist(res_ones, bins=nbins, alpha=alpha, label=\"3+1\")\n",
    "_, _, _ = plt.hist(res_twos, bins=nbins, alpha=alpha, label=\"3+1+2\")\n",
    "plt.legend()"
   ]
  },
  {
   "cell_type": "code",
   "execution_count": 836,
   "metadata": {},
   "outputs": [
    {
     "name": "stdout",
     "output_type": "stream",
     "text": [
      "([10, 85, 94, 96], 0)\n"
     ]
    }
   ],
   "source": [
    "## Now we run tournaments\n",
    "ndice = 5\n",
    "score_to_switch_strategies = 10000000\n",
    "\n",
    "def player(best_score, ndice=5, switchval=3):\n",
    "    ## dynamically adjust strategy, sort of\n",
    "    ## If the current score is better than the score for switching then\n",
    "    ## you need to get more aggressive\n",
    "    if best_score < score_to_switch_strategies:\n",
    "        func = keep_threes\n",
    "    else:\n",
    "        func = keep_ones\n",
    "    keepers = []\n",
    "    while ndice != 0:\n",
    "        ## If we already beat the best score we can hedge a bit\n",
    "        if threes_tot(keepers) < best_score and ndice <= switchval:\n",
    "            func = keep_ones\n",
    "        ret = func(ndice)\n",
    "        ndice -= len(ret)\n",
    "        keepers.extend(ret)\n",
    "        #print(keepers)\n",
    "    return threes_tot(keepers)\n",
    "\n",
    "def player_twos(best_score, ndice=5, switchval=3):\n",
    "    ## dynamically adjust strategy, sort of\n",
    "    ## If the current score is better than the score for switching then\n",
    "    ## you need to get more aggressive\n",
    "    if best_score < score_to_switch_strategies:\n",
    "        func = keep_threes\n",
    "    else:\n",
    "        func = keep_twos\n",
    "        \n",
    "    keepers = []\n",
    "    while ndice != 0:\n",
    "        ## If we already beat the best score we can hedge a bit\n",
    "        if threes_tot(keepers) < best_score and ndice <= switchval:\n",
    "            func = keep_ones\n",
    "        ret = func(ndice)\n",
    "        ndice -= len(ret)\n",
    "        keepers.extend(ret)\n",
    "        #print(keepers)\n",
    "    return threes_tot(keepers)\n",
    "\n",
    "\n",
    "\n",
    "def player_keep_threes(best_score, ndice=5, switchval=0):\n",
    "    ## dynamically adjust strategy, sort of\n",
    "    ## If the current score is better than the score for switching then\n",
    "    ## you need to get more aggressive\n",
    "    func = keep_threes\n",
    "    keepers = []\n",
    "    while ndice != 0:\n",
    "        ## If we already beat the best score we can hedge a bit\n",
    "        ret = func(ndice)\n",
    "        ndice -= len(ret)\n",
    "        keepers.extend(ret)\n",
    "        #print(keepers)\n",
    "    return threes_tot(keepers)\n",
    "\n",
    "def player_keep_ones(best_score, ndice=5, switchval=0):\n",
    "    ## dynamically adjust strategy, sort of\n",
    "    ## If the current score is better than the score for switching then\n",
    "    ## you need to get more aggressive\n",
    "    func = keep_ones\n",
    "    keepers = []\n",
    "    while ndice != 0:\n",
    "        ## If we already beat the best score we can hedge a bit\n",
    "        ret = func(ndice)\n",
    "        ndice -= len(ret)\n",
    "        keepers.extend(ret)\n",
    "        #print(keepers)\n",
    "    return threes_tot(keepers)\n",
    "\n",
    "def one_tournament(nplayers = 9):\n",
    "    ## \"best\" score at time zero is 30 for 5 dice\n",
    "    best_score = ndice * 6\n",
    "    winner = []\n",
    "    for p in range(nplayers):\n",
    "        score = player(best_score, ndice)\n",
    "        #print(p, score)\n",
    "        if score < best_score:\n",
    "            ## If the score is truly new then blank the winner list\n",
    "            winner = []\n",
    "        if score <= best_score:\n",
    "            ## Allow for ties\n",
    "            best_score = score\n",
    "            #winner = p\n",
    "            winner.append(p)\n",
    "    #print(winner, best_score),\n",
    "    return winner, best_score\n",
    "\n",
    "for x in xrange(1):\n",
    "    print(one_tournament(nplayers=100)),"
   ]
  },
  {
   "cell_type": "markdown",
   "metadata": {},
   "source": [
    "## 9 players"
   ]
  },
  {
   "cell_type": "code",
   "execution_count": 829,
   "metadata": {},
   "outputs": [
    {
     "data": {
      "image/png": "[encoded data removed]",
      "text/plain": [
       "<Figure size 432x288 with 1 Axes>"
      ]
     },
     "metadata": {},
     "output_type": "display_data"
    }
   ],
   "source": [
    "winners = []\n",
    "scores = []\n",
    "for _ in range(50000):\n",
    "    w, b = one_tournament()\n",
    "    winners.extend(w)\n",
    "    scores.append(b)\n",
    "_, _, _ = plt.hist(winners, bins=nbins, alpha=alpha, label=\"winners\")\n"
   ]
  },
  {
   "cell_type": "code",
   "execution_count": 830,
   "metadata": {},
   "outputs": [
    {
     "name": "stdout",
     "output_type": "stream",
     "text": [
      "(1.79814, 2.0)\n"
     ]
    },
    {
     "data": {
      "image/png": "[encoded data removed]",
      "text/plain": [
       "<Figure size 432x288 with 1 Axes>"
      ]
     },
     "metadata": {},
     "output_type": "display_data"
    }
   ],
   "source": [
    "_, _, _ = plt.hist(scores, bins=nbins, alpha=alpha, label=\"scores\")\n",
    "print(np.mean(scores), np.median(scores))"
   ]
  },
  {
   "cell_type": "markdown",
   "metadata": {},
   "source": [
    "## 5 players"
   ]
  },
  {
   "cell_type": "code",
   "execution_count": 751,
   "metadata": {},
   "outputs": [
    {
     "data": {
      "image/png": "[encoded data removed]",
      "text/plain": [
       "<Figure size 432x288 with 1 Axes>"
      ]
     },
     "metadata": {},
     "output_type": "display_data"
    }
   ],
   "source": [
    "winners = []\n",
    "scores = []\n",
    "for _ in range(10000):\n",
    "    w, b = one_tournament(nplayers=5)\n",
    "    winners.extend(w)\n",
    "    scores.append(b)\n",
    "_, _, _ = plt.hist(winners, bins=nbins, alpha=alpha, label=\"winners\")\n"
   ]
  },
  {
   "cell_type": "code",
   "execution_count": 752,
   "metadata": {},
   "outputs": [
    {
     "name": "stdout",
     "output_type": "stream",
     "text": [
      "(2.6289, 2.0)\n"
     ]
    },
    {
     "data": {
      "image/png": "[encoded data removed]",
      "text/plain": [
       "<Figure size 432x288 with 1 Axes>"
      ]
     },
     "metadata": {},
     "output_type": "display_data"
    }
   ],
   "source": [
    "_, _, _ = plt.hist(scores, bins=nbins, alpha=alpha, label=\"scores\")\n",
    "print(np.mean(scores), np.median(scores))"
   ]
  },
  {
   "cell_type": "markdown",
   "metadata": {},
   "source": [
    "## Lots of players!!"
   ]
  },
  {
   "cell_type": "code",
   "execution_count": 705,
   "metadata": {},
   "outputs": [
    {
     "data": {
      "image/png": "[encoded data removed]",
      "text/plain": [
       "<Figure size 432x288 with 1 Axes>"
      ]
     },
     "metadata": {},
     "output_type": "display_data"
    }
   ],
   "source": [
    "winners = []\n",
    "scores = []\n",
    "for _ in range(10000):\n",
    "    w, b = one_tournament(nplayers=20)\n",
    "    winners.extend(w)\n",
    "    scores.append(b)\n",
    "_, _, _ = plt.hist(winners, bins=nbins, alpha=alpha, label=\"winners\")\n"
   ]
  },
  {
   "cell_type": "code",
   "execution_count": 706,
   "metadata": {},
   "outputs": [
    {
     "name": "stdout",
     "output_type": "stream",
     "text": [
      "(1.6879, 2.0)\n"
     ]
    },
    {
     "data": {
      "image/png": "[encoded data removed]",
      "text/plain": [
       "<Figure size 432x288 with 1 Axes>"
      ]
     },
     "metadata": {},
     "output_type": "display_data"
    }
   ],
   "source": [
    "_, _, _ = plt.hist(scores, bins=nbins, alpha=alpha, label=\"scores\")\n",
    "print(np.mean(scores), np.median(scores))"
   ]
  },
  {
   "cell_type": "code",
   "execution_count": 864,
   "metadata": {},
   "outputs": [
    {
     "data": {
      "text/plain": [
       "([8], 2)"
      ]
     },
     "execution_count": 864,
     "metadata": {},
     "output_type": "execute_result"
    }
   ],
   "source": [
    "def one_tournament_diff_strategies(nplayers = 9):\n",
    "    ## \"best\" score at time zero is 30 for 5 dice\n",
    "    best_score = ndice * 6\n",
    "    winner = []\n",
    "    players = []\n",
    "    players.extend([player_keep_threes] * (nplayers / 2))\n",
    "    players.extend([player_keep_ones] * (nplayers / 2))\n",
    "    players.extend([player] * (nplayers / 2))\n",
    "    players.extend([player_twos] * (nplayers / 2))\n",
    "    \n",
    "\n",
    "    for i, p in enumerate(players):\n",
    "        score = p(best_score, ndice, (i%4)+1)\n",
    "        #print(p, score)\n",
    "        if score < best_score:\n",
    "            ## If the score is truly new then blank the winner list\n",
    "            winner = []\n",
    "        if score <= best_score:\n",
    "            ## Allow for ties\n",
    "            best_score = score\n",
    "            #winner = p\n",
    "            winner.append(i)\n",
    "    #print(winner, best_score),\n",
    "    return winner, best_score\n",
    "one_tournament_diff_strategies()"
   ]
  },
  {
   "cell_type": "code",
   "execution_count": 886,
   "metadata": {},
   "outputs": [
    {
     "data": {
      "image/png": "[encoded data removed]",
      "text/plain": [
       "<Figure size 432x288 with 1 Axes>"
      ]
     },
     "metadata": {},
     "output_type": "display_data"
    }
   ],
   "source": [
    "winners = []\n",
    "scores = []\n",
    "for _ in range(10):\n",
    "    w, b = one_tournament_diff_strategies(nplayers=8)\n",
    "    winners.extend(w)\n",
    "    scores.append(b)\n",
    "_, _, _ = plt.hist(winners, bins=nbins, alpha=alpha, label=\"winners\")\n",
    "for _ in range(10):\n",
    "    w, b = one_tournament_diff_strategies(nplayers=8)\n",
    "    winners.extend(w)\n",
    "    scores.append(b)\n",
    "_, _, _ = plt.hist(winners, bins=nbins, alpha=alpha, label=\"winners\")\n",
    "for _ in range(10):\n",
    "    w, b = one_tournament_diff_strategies(nplayers=8)\n",
    "    winners.extend(w)\n",
    "    scores.append(b)\n",
    "_, _, _ = plt.hist(winners, bins=nbins, alpha=alpha, label=\"winners\")\n",
    "for _ in range(10):\n",
    "    w, b = one_tournament_diff_strategies(nplayers=8)\n",
    "    winners.extend(w)\n",
    "    scores.append(b)\n",
    "_, _, _ = plt.hist(winners, bins=nbins, alpha=alpha, label=\"winners\")\n",
    "for _ in range(10):\n",
    "    w, b = one_tournament_diff_strategies(nplayers=8)\n",
    "    winners.extend(w)\n",
    "    scores.append(b)\n",
    "_, _, _ = plt.hist(winners, bins=nbins, alpha=alpha, label=\"winners\")\n",
    "for _ in range(10):\n",
    "    w, b = one_tournament_diff_strategies(nplayers=8)\n",
    "    winners.extend(w)\n",
    "    scores.append(b)\n",
    "_, _, _ = plt.hist(winners, bins=nbins, alpha=alpha, label=\"winners\")\n",
    "for _ in range(10):\n",
    "    w, b = one_tournament_diff_strategies(nplayers=8)\n",
    "    winners.extend(w)\n",
    "    scores.append(b)\n",
    "_, _, _ = plt.hist(winners, bins=nbins, alpha=alpha, label=\"winners\")\n",
    "for _ in range(10):\n",
    "    w, b = one_tournament_diff_strategies(nplayers=8)\n",
    "    winners.extend(w)\n",
    "    scores.append(b)\n",
    "_, _, _ = plt.hist(winners, bins=nbins, alpha=alpha, label=\"winners\")\n",
    "for _ in range(10):\n",
    "    w, b = one_tournament_diff_strategies(nplayers=8)\n",
    "    winners.extend(w)\n",
    "    scores.append(b)\n",
    "_, _, _ = plt.hist(winners, bins=nbins, alpha=alpha, label=\"winners\")\n",
    "for _ in range(10):\n",
    "    w, b = one_tournament_diff_strategies(nplayers=8)\n",
    "    winners.extend(w)\n",
    "    scores.append(b)\n",
    "_, _, _ = plt.hist(winners, bins=nbins, alpha=alpha, label=\"winners\")\n"
   ]
  },
  {
   "cell_type": "code",
   "execution_count": 847,
   "metadata": {},
   "outputs": [
    {
     "name": "stdout",
     "output_type": "stream",
     "text": [
      "(1.9843, 2.0)\n"
     ]
    },
    {
     "data": {
      "image/png": "[encoded data removed]",
      "text/plain": [
       "<Figure size 432x288 with 1 Axes>"
      ]
     },
     "metadata": {},
     "output_type": "display_data"
    }
   ],
   "source": [
    "_, _, _ = plt.hist(scores, bins=nbins, alpha=alpha, label=\"scores\")\n",
    "print(np.mean(scores), np.median(scores))"
   ]
  }
 ],
 "metadata": {
  "kernelspec": {
   "display_name": "Python 2",
   "language": "python",
   "name": "python2"
  },
  "language_info": {
   "codemirror_mode": {
    "name": "ipython",
    "version": 2
   },
   "file_extension": ".py",
   "mimetype": "text/x-python",
   "name": "python",
   "nbconvert_exporter": "python",
   "pygments_lexer": "ipython2",
   "version": "2.7.14"
  }
 },
 "nbformat": 4,
 "nbformat_minor": 2
}
