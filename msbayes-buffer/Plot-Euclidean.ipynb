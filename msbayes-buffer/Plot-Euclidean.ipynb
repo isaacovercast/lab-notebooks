{
 "cells": [
  {
   "cell_type": "code",
   "execution_count": 48,
   "metadata": {
    "collapsed": false
   },
   "outputs": [],
   "source": [
    "%matplotlib inline\n",
    "\n",
    "import os\n",
    "import scipy\n",
    "import pandas as pd\n",
    "import matplotlib\n",
    "import itertools\n",
    "import collections\n",
    "import numpy as np\n",
    "import matplotlib.pyplot as plt\n",
    "from scipy.spatial import distance"
   ]
  },
  {
   "cell_type": "code",
   "execution_count": 233,
   "metadata": {
    "collapsed": false
   },
   "outputs": [],
   "source": [
    "WORKDIR=\"/Volumes/WorkDrive/2x2-5e7/\"\n",
    "DPP_SORT_PRIOR = WORKDIR + \"dpp_sort/dirichlet-sort.prior\"\n",
    "DPP_USORT_PRIOR = WORKDIR + \"dpp_usort/dirichlet-usort.prior\"\n",
    "UNIF_SORT_PRIOR = \"/Volumes/Macintosh_HD_2/isaac/msbayes/18wasps-5e7-2x2/uniform-sort.prior\"\n",
    "UNIF_USORT_PRIOR = \"/Volumes/Macintosh_HD_2/isaac/msbayes/18wasps-5e7-2x2/uniform-usort.prior\"\n",
    "\n",
    "#SUMSTATS <- c(42:95,114:131)\n",
    "#PSI_INDEX <- 2\n",
    "#OMEGA_INDEX <- 5\n",
    "# pi: 42-59\n",
    "# Watterson: 60-77\n",
    "# pi.net: 78-95\n",
    "# Tajima's D denominator: 114-131\n",
    "\n",
    "pib = (41,58)\n",
    "wat = (59,76)\n",
    "pinet = (77,94)\n",
    "tajd = (113,130)\n",
    "\n",
    "## Plots non-overlapping on different subplots\n",
    "def plot_euclid(SORTPRIOR_file, USORTPRIOR_file,  psi, start_index, end_index, nrows):\n",
    "    plt.subplot(211)\n",
    "    \n",
    "    df = pd.read_table(SORTPRIOR_file, nrows=nrows)\n",
    "    data = df.as_matrix()\n",
    "    d8 = data[np.where(data[:,1] == psi)[0]]\n",
    "    mean8 = np.mean(d8, axis=0)\n",
    "    tot = 0\n",
    "    sldist = []\n",
    "    for i, _ in enumerate(d8):\n",
    "        val = distance.euclidean(d8[i][start_index:end_index], mean8[start_index:end_index])\n",
    "        sldist.append(val)\n",
    "    print(\"Sorted: \\tMean {0:.4f}\\tStdv {1:.4f}\".format(np.mean(sldist), np.std(sldist)))\n",
    "    plt.xlim(xmin=0, xmax=0.22)\n",
    "    plt.hist(sldist)\n",
    "\n",
    "    plt.subplot(212)\n",
    "    df = pd.read_table(USORTPRIOR_file, nrows=nrows)\n",
    "    data = df.as_matrix()\n",
    "    d8 = data[np.where(data[:,1] == psi)[0]]\n",
    "    mean8 = np.mean(d8, axis=0)\n",
    "    tot = 0\n",
    "    usldist = []\n",
    "    for i, _ in enumerate(d8):\n",
    "        val = distance.euclidean(d8[i][start_index:end_index], mean8[start_index:end_index])\n",
    "        usldist.append(val)\n",
    "    print(\"Unsorted:\\tMean {0:.4f}\\tStdv {1:.4f}\".format(np.mean(usldist), np.std(usldist)))\n",
    "    plt.xlim(xmin=0, xmax=0.22)\n",
    "    plt.hist(usldist)\n",
    "\n",
    "    plt.suptitle(\"Psi=\"+str(psi))\n"
   ]
  },
  {
   "cell_type": "code",
   "execution_count": 243,
   "metadata": {
    "collapsed": true
   },
   "outputs": [],
   "source": [
    "#plot sorted and unsorted overlapping w/ alpha\n",
    "def plot_euclid_overlapping(ax, SORTPRIOR_file, USORTPRIOR_file,  psi, start_index, end_index, nrows):\n",
    "#    plt.figure()\n",
    "    \n",
    "    df = pd.read_table(SORTPRIOR_file, nrows=nrows)\n",
    "    data = df.as_matrix()\n",
    "    d8 = data[np.where(data[:,1] == psi)[0]]\n",
    "    mean8 = np.mean(d8, axis=0)\n",
    "    tot = 0\n",
    "    sldist = []\n",
    "    for i, _ in enumerate(d8):\n",
    "        val = distance.euclidean(d8[i][start_index:end_index], mean8[start_index:end_index])\n",
    "        sldist.append(val)\n",
    "    print(\"Sorted: \\tMean {0:.4f}\\tStdv {1:.4f}\".format(np.mean(sldist), np.std(sldist)))\n",
    "    #ax.xlim(xmin=0, xmax=0.22)\n",
    "    ax.hist(sldist, alpha=0.5)\n",
    "\n",
    "    df = pd.read_table(USORTPRIOR_file, nrows=nrows)\n",
    "    data = df.as_matrix()\n",
    "    d8 = data[np.where(data[:,1] == psi)[0]]\n",
    "    mean8 = np.mean(d8, axis=0)\n",
    "    tot = 0\n",
    "    usldist = []\n",
    "    for i, _ in enumerate(d8):\n",
    "        val = distance.euclidean(d8[i][start_index:end_index], mean8[start_index:end_index])\n",
    "        usldist.append(val)\n",
    "    print(\"Unsorted:\\tMean {0:.4f}\\tStdv {1:.4f}\".format(np.mean(usldist), np.std(usldist)))\n",
    "    #ax.xlim(xmin=0, xmax=0.22)\n",
    "    ax.hist(usldist, alpha=0.5)\n",
    "\n",
    "    ax.set_title(\"Psi=\"+str(psi))\n"
   ]
  },
  {
   "cell_type": "code",
   "execution_count": 252,
   "metadata": {
    "collapsed": true
   },
   "outputs": [],
   "source": [
    "#plot sorted and unsorted overlapping w/ alpha\n",
    "def plot_euclid_overlapping_offDiag(ax, SORTPRIOR_file, USORTPRIOR_file,  psi1, psi2, start_index, end_index, nrows):\n",
    "#    plt.figure()\n",
    "    \n",
    "    # Get the mean for psi2\n",
    "    df = pd.read_table(SORTPRIOR_file, nrows=nrows)\n",
    "    data = df.as_matrix()\n",
    "\n",
    "    mean8 = np.mean(data[np.where(data[:,1] == psi2)[0]], axis=0)\n",
    "\n",
    "    # Select all the psi values for psi1\n",
    "    d8 = data[np.where(data[:,1] == psi1)[0]]\n",
    "    tot = 0\n",
    "    sldist = []\n",
    "    for i, _ in enumerate(d8):\n",
    "        val = distance.euclidean(d8[i][start_index:end_index], mean8[start_index:end_index])\n",
    "        sldist.append(val)\n",
    "    print(\"Sorted: \\tMean {0:.4f}\\tStdv {1:.4f}\".format(np.mean(sldist), np.std(sldist)))\n",
    "    #ax.xlim(xmin=0, xmax=0.22)\n",
    "    ax.hist(sldist, alpha=0.5)\n",
    "\n",
    "    df = pd.read_table(USORTPRIOR_file, nrows=nrows)\n",
    "    data = df.as_matrix()\n",
    "    mean8 = np.mean(data[np.where(data[:,1] == psi2)[0]], axis=0)\n",
    "    \n",
    "    d8 = data[np.where(data[:,1] == psi1)[0]]\n",
    "    tot = 0\n",
    "    usldist = []\n",
    "    for i, _ in enumerate(d8):\n",
    "        val = distance.euclidean(d8[i][start_index:end_index], mean8[start_index:end_index])\n",
    "        usldist.append(val)\n",
    "    print(\"Unsorted:\\tMean {0:.4f}\\tStdv {1:.4f}\".format(np.mean(usldist), np.std(usldist)))\n",
    "    #ax.xlim(xmin=0, xmax=0.22)\n",
    "    ax.hist(usldist, alpha=0.5)\n",
    "\n",
    "    ax.set_title(\"Psi=\"+str(psi2))\n"
   ]
  },
  {
   "cell_type": "code",
   "execution_count": 254,
   "metadata": {
    "collapsed": false
   },
   "outputs": [
    {
     "name": "stdout",
     "output_type": "stream",
     "text": [
      "Sorted: \tMean 0.0540\tStdv 0.0220\n",
      "Unsorted:\tMean 0.0627\tStdv 0.0204\n",
      "Sorted: \tMean 0.0368\tStdv 0.0101\n",
      "Unsorted:\tMean 0.0651\tStdv 0.0139\n",
      "Sorted: \tMean 0.0326\tStdv 0.0077\n",
      "Unsorted:\tMean 0.0650\tStdv 0.0117\n",
      "Sorted: \tMean 0.0594\tStdv 0.0205\n",
      "Unsorted:\tMean 0.0628\tStdv 0.0204\n",
      "Sorted: \tMean 0.0609\tStdv 0.0201\n",
      "Unsorted:\tMean 0.0629\tStdv 0.0204\n",
      "Sorted: \tMean 0.0434\tStdv 0.0109\n",
      "Unsorted:\tMean 0.0651\tStdv 0.0138\n",
      "Sorted: \tMean 0.0369\tStdv 0.0101\n",
      "Unsorted:\tMean 0.0652\tStdv 0.0138\n",
      "Sorted: \tMean 0.0419\tStdv 0.0091\n",
      "Unsorted:\tMean 0.0651\tStdv 0.0118\n",
      "Sorted: \tMean 0.0327\tStdv 0.0078\n",
      "Unsorted:\tMean 0.0652\tStdv 0.0119\n"
     ]
    },
    {
     "data": {
      "image/png": "[encoded data removed]",
      "text/plain": [
       "<matplotlib.figure.Figure at 0x117ffb150>"
      ]
     },
     "metadata": {},
     "output_type": "display_data"
    }
   ],
   "source": [
    "#plot_euclid(UNIF_SORT_PRIOR, UNIF_USORT_PRIOR, 3, pib[0], pib[1], 10000)\n",
    "f, axarr = plt.subplots(3, 3, sharex='col', sharey='row')\n",
    "\n",
    "#Diagonals\n",
    "plot_euclid_overlapping(axarr[0][0], UNIF_SORT_PRIOR, UNIF_USORT_PRIOR, 1, pib[0], pib[1], 10000)\n",
    "plot_euclid_overlapping(axarr[1][1], UNIF_SORT_PRIOR, UNIF_USORT_PRIOR, 8, pib[0], pib[1], 10000)\n",
    "plot_euclid_overlapping(axarr[2][2], UNIF_SORT_PRIOR, UNIF_USORT_PRIOR, 18, pib[0], pib[1], 10000)\n",
    "\n",
    "#Off diagonal\n",
    "plot_euclid_overlapping_offDiag(axarr[0][1], UNIF_SORT_PRIOR, UNIF_USORT_PRIOR, 1, 8, pib[0], pib[1], 10000)\n",
    "plot_euclid_overlapping_offDiag(axarr[0][2], UNIF_SORT_PRIOR, UNIF_USORT_PRIOR, 1, 18, pib[0], pib[1], 10000)\n",
    "\n",
    "#Off diagonal row 2\n",
    "plot_euclid_overlapping_offDiag(axarr[1][0], UNIF_SORT_PRIOR, UNIF_USORT_PRIOR, 8, 1, pib[0], pib[1], 10000)\n",
    "plot_euclid_overlapping_offDiag(axarr[1][2], UNIF_SORT_PRIOR, UNIF_USORT_PRIOR, 8, 18, pib[0], pib[1], 10000)\n",
    "\n",
    "#Off diagonal row 3\n",
    "plot_euclid_overlapping_offDiag(axarr[2][0], UNIF_SORT_PRIOR, UNIF_USORT_PRIOR, 18, 1, pib[0], pib[1], 10000)\n",
    "plot_euclid_overlapping_offDiag(axarr[2][1], UNIF_SORT_PRIOR, UNIF_USORT_PRIOR, 18, 8, pib[0], pib[1], 10000)"
   ]
  },
  {
   "cell_type": "code",
   "execution_count": 183,
   "metadata": {
    "collapsed": false
   },
   "outputs": [
    {
     "name": "stdout",
     "output_type": "stream",
     "text": [
      "0.123668726042\n",
      "0.136988206322\n",
      "0.0985056882974\n",
      "0.136654071525\n",
      "0.0924377691603\n",
      "0.135379942085\n",
      "0.0905405185025\n",
      "0.132437938542\n",
      "0.0870828008843\n",
      "0.130132745015\n",
      "0.0864393977173\n",
      "0.135245725093\n",
      "0.0828826182352\n",
      "0.130551592951\n",
      "0.0840699553522\n",
      "0.133487852107\n",
      "0.0811001422562\n",
      "0.129702882707\n"
     ]
    },
    {
     "data": {
      "image/png": "[encoded data removed]",
      "text/plain": [
       "<matplotlib.figure.Figure at 0x114f0dc10>"
      ]
     },
     "metadata": {},
     "output_type": "display_data"
    }
   ],
   "source": [
    "for i in xrange(1,18,2):\n",
    "    plot_euclid(UNIF_SORT_PRIOR, UNIF_USORT_PRIOR, i, 41, 94, 1000)"
   ]
  },
  {
   "cell_type": "code",
   "execution_count": 129,
   "metadata": {
    "collapsed": false
   },
   "outputs": [
    {
     "name": "stdout",
     "output_type": "stream",
     "text": [
      "0.136510082796\n"
     ]
    }
   ],
   "source": [
    "df = pd.read_table(UNIF_USORT_PRIOR, nrows=10000)\n",
    "cols = [df.columns[1]]\n",
    "cols.append(df.columns[4])\n",
    "cols.append(df.columns[41:94])\n",
    "cols.append(df.columns[113:130])\n",
    "data = df.as_matrix()\n",
    "#a[np.where(a[:,0] == 9)]\n",
    "d8 = data[np.where(data[:,1] == 18)[0]]\n",
    "mean8 = np.mean(d8, axis=0)\n",
    "dist = distance.euclidean(d8[3][41:94], mean8[41:94])\n",
    "tot = 0\n",
    "usldist = []\n",
    "for i, _ in enumerate(d8):\n",
    "    val = distance.euclidean(d8[i][41:94], mean8[41:94])\n",
    "    usldist.append(val)\n",
    "print(np.mean(usldist))\n",
    "#print(usldist)"
   ]
  },
  {
   "cell_type": "code",
   "execution_count": 130,
   "metadata": {
    "collapsed": false
   },
   "outputs": [
    {
     "name": "stdout",
     "output_type": "stream",
     "text": [
      "0.0834536394414\n"
     ]
    }
   ],
   "source": [
    "df = pd.read_table(UNIF_SORT_PRIOR, nrows=10000)\n",
    "cols = [df.columns[1]]\n",
    "cols.append(df.columns[4])\n",
    "cols.append(df.columns[41:94])\n",
    "cols.append(df.columns[113:130])\n",
    "data = df.as_matrix()\n",
    "#a[np.where(a[:,0] == 9)]\n",
    "d8 = data[np.where(data[:,1] == 18)[0]]\n",
    "mean8 = np.mean(d8, axis=0)\n",
    "dist = distance.euclidean(d8[3][41:94], mean8[41:94])\n",
    "sldist = []\n",
    "for i, _ in enumerate(d8):\n",
    "    val = distance.euclidean(d8[i][41:94], mean8[41:94])\n",
    "    sldist.append(val)\n",
    "print(np.mean(sldist))\n",
    "#print(sldist)"
   ]
  },
  {
   "cell_type": "code",
   "execution_count": 90,
   "metadata": {
    "collapsed": true
   },
   "outputs": [
    {
     "data": {
      "text/plain": [
       "Counter({1.0: 61,\n",
       "         2.0: 50,\n",
       "         3.0: 51,\n",
       "         4.0: 58,\n",
       "         5.0: 62,\n",
       "         6.0: 51,\n",
       "         7.0: 57,\n",
       "         8.0: 51,\n",
       "         9.0: 47,\n",
       "         10.0: 55,\n",
       "         11.0: 57,\n",
       "         12.0: 71,\n",
       "         13.0: 55,\n",
       "         14.0: 60,\n",
       "         15.0: 61,\n",
       "         16.0: 54,\n",
       "         17.0: 57,\n",
       "         18.0: 42})"
      ]
     },
     "execution_count": 90,
     "metadata": {},
     "output_type": "execute_result"
    }
   ],
   "source": [
    "collections.Counter(data[:,1])"
   ]
  },
  {
   "cell_type": "code",
   "execution_count": 131,
   "metadata": {
    "collapsed": false
   },
   "outputs": [
    {
     "data": {
      "text/plain": [
       "(array([   1.,   18.,  120.,  186.,  133.,   53.,   20.,    7.,    1.,    3.]),\n",
       " array([ 0.04005547,  0.05134936,  0.06264325,  0.07393714,  0.08523103,\n",
       "         0.09652492,  0.10781881,  0.11911271,  0.1304066 ,  0.14170049,\n",
       "         0.15299438]),\n",
       " <a list of 10 Patch objects>)"
      ]
     },
     "execution_count": 131,
     "metadata": {},
     "output_type": "execute_result"
    },
    {
     "data": {
      "image/png": "[encoded data removed]",
      "text/plain": [
       "<matplotlib.figure.Figure at 0x113716910>"
      ]
     },
     "metadata": {},
     "output_type": "display_data"
    }
   ],
   "source": [
    "plt.xlim(xmin=0, xmax=0.22)\n",
    "plt.hist(sldist)"
   ]
  },
  {
   "cell_type": "code",
   "execution_count": 132,
   "metadata": {
    "collapsed": false
   },
   "outputs": [
    {
     "data": {
      "text/plain": [
       "(array([   5.,   91.,  187.,  163.,   64.,   18.,   10.,    2.,    0.,    2.]),\n",
       " array([ 0.08719468,  0.10321144,  0.1192282 ,  0.13524496,  0.15126172,\n",
       "         0.16727848,  0.18329524,  0.199312  ,  0.21532876,  0.23134552,\n",
       "         0.24736228]),\n",
       " <a list of 10 Patch objects>)"
      ]
     },
     "execution_count": 132,
     "metadata": {},
     "output_type": "execute_result"
    },
    {
     "data": {
      "image/png": "[encoded data removed]",
      "text/plain": [
       "<matplotlib.figure.Figure at 0x11371d910>"
      ]
     },
     "metadata": {},
     "output_type": "display_data"
    }
   ],
   "source": [
    "plt.xlim(xmin=0, xmax=0.22)\n",
    "plt.hist(usldist)"
   ]
  },
  {
   "cell_type": "code",
   "execution_count": 133,
   "metadata": {
    "collapsed": false
   },
   "outputs": [
    {
     "name": "stdout",
     "output_type": "stream",
     "text": [
      "0.0142371491103\n",
      "0.0195153476065\n"
     ]
    }
   ],
   "source": [
    "print(np.std(sldist))\n",
    "print(np.std(usldist))"
   ]
  },
  {
   "cell_type": "code",
   "execution_count": 144,
   "metadata": {
    "collapsed": false
   },
   "outputs": [
    {
     "name": "stdout",
     "output_type": "stream",
     "text": [
      "0.0901112532405\n",
      "0.140588118911\n"
     ]
    },
    {
     "data": {
      "image/png": "[encoded data removed]",
      "text/plain": [
       "<matplotlib.figure.Figure at 0x116325950>"
      ]
     },
     "metadata": {},
     "output_type": "display_data"
    },
    {
     "data": {
      "image/png": "[encoded data removed]",
      "text/plain": [
       "<matplotlib.figure.Figure at 0x115d96ed0>"
      ]
     },
     "metadata": {},
     "output_type": "display_data"
    }
   ],
   "source": [
    "plot_euclid(UNIF_SORT_PRIOR, UNIF_USORT_PRIOR, 8, 41, 94, 1000)"
   ]
  }
 ],
 "metadata": {
  "kernelspec": {
   "display_name": "Python 2",
   "language": "python",
   "name": "python2"
  },
  "language_info": {
   "codemirror_mode": {
    "name": "ipython",
    "version": 2
   },
   "file_extension": ".py",
   "mimetype": "text/x-python",
   "name": "python",
   "nbconvert_exporter": "python",
   "pygments_lexer": "ipython2",
   "version": "2.7.2"
  }
 },
 "nbformat": 4,
 "nbformat_minor": 0
}
