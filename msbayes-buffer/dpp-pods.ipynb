{
 "cells": [
  {
   "cell_type": "markdown",
   "metadata": {},
   "source": [
    "# Testing dirichlet process prior w/ and w/o buffering/ordering\n"
   ]
  },
  {
   "cell_type": "code",
   "execution_count": 27,
   "metadata": {
    "collapsed": false
   },
   "outputs": [],
   "source": [
    "import os\n",
    "import time\n",
    "import subprocess\n",
    "\n",
    "#msbayes paths\n",
    "MSBAYES_ROOTDIR=\"/Volumes/WorkDrive/msbayes-buffering/hickerlab-repository/msbayes-buffering/\"\n",
    "MSBAYES_EXECDIR=MSBAYES_ROOTDIR+\"src/\"\n",
    "\n",
    "# Binaries\n",
    "MSBAYES_BIN=MSBAYES_EXECDIR+\"msbayes.pl\"\n",
    "\n",
    "# Results directories\n",
    "MSBAYES_DATADIR=MSBAYES_ROOTDIR+\"data/\"\n",
    "\n",
    "# Dirichlet\n",
    "DIRICHLET_OUT=MSBAYES_DATADIR+\"dirichlet/\"\n",
    "DIRICHLET_PRIORS_DIR=DIRICHLET_OUT+\"priors/\"\n",
    "DIRICHLET_CONF_DIR=DIRICHLET_OUT+\"conf/\"\n",
    "DIRICHLET_RESULTS_DIR=DIRICHLET_OUT+\"results/\"\n",
    "\n",
    "os.chdir(MSBAYES_EXECDIR)"
   ]
  },
  {
   "cell_type": "code",
   "execution_count": 80,
   "metadata": {
    "collapsed": true
   },
   "outputs": [],
   "source": [
    "## Define the msbayes priors command\n",
    "def do_priors(num, sorting=\"7\", outname, conf_file):\n",
    "    os.chdir(MSBAYES_EXECDIR)\n",
    "    cmd = MSBAYES_BIN \\\n",
    "        + \" -s \" + sorting \\\n",
    "        + \" -r \" + str(num) \\\n",
    "        + \" -c \" + conf_file \\\n",
    "        + \" -o \" + outname\n",
    "    try:\n",
    "        print(cmd)\n",
    "        time.sleep(2)\n",
    "        os.system(cmd)\n",
    "        #subprocess.check_output([MSBAYES_BIN, \"-h\"],\n",
    "        #                        stderr=subprocess.STDOUT)\n",
    "    except Exception as inst:\n",
    "        print(inst)"
   ]
  },
  {
   "cell_type": "code",
   "execution_count": 56,
   "metadata": {
    "collapsed": true
   },
   "outputs": [
    {
     "name": "stdout",
     "output_type": "stream",
     "text": [
      "chunk size = 300000\n",
      "/Volumes/WorkDrive/msbayes-buffering/hickerlab-repository/msbayes-buffering/data/dirichlet/priors/dirichlet-unsorted-0.prior\n",
      "/Volumes/WorkDrive/msbayes-buffering/hickerlab-repository/msbayes-buffering/data/dirichlet/priors/dirichlet-unsorted-1.prior\n",
      "/Volumes/WorkDrive/msbayes-buffering/hickerlab-repository/msbayes-buffering/src/msbayes.pl -s 0 -r 300000 -c /Volumes/WorkDrive/msbayes-buffering/hickerlab-repository/msbayes-buffering/data/dirichlet/conf/conf_dirichlet.txt -o /Volumes/WorkDrive/msbayes-buffering/hickerlab-repository/msbayes-buffering/data/dirichlet/priors/dirichlet-unsorted-0.prior\n",
      "/Volumes/WorkDrive/msbayes-buffering/hickerlab-repository/msbayes-buffering/data/dirichlet/priors/dirichlet-unsorted-2.prior\n",
      "/Volumes/WorkDrive/msbayes-buffering/hickerlab-repository/msbayes-buffering/src/msbayes.pl -s 0 -r 300000 -c /Volumes/WorkDrive/msbayes-buffering/hickerlab-repository/msbayes-buffering/data/dirichlet/conf/conf_dirichlet.txt -o /Volumes/WorkDrive/msbayes-buffering/hickerlab-repository/msbayes-buffering/data/dirichlet/priors/dirichlet-unsorted-1.prior\n",
      "/Volumes/WorkDrive/msbayes-buffering/hickerlab-repository/msbayes-buffering/data/dirichlet/priors/dirichlet-unsorted-3.prior\n",
      "/Volumes/WorkDrive/msbayes-buffering/hickerlab-repository/msbayes-buffering/src/msbayes.pl -s 0 -r 300000 -c /Volumes/WorkDrive/msbayes-buffering/hickerlab-repository/msbayes-buffering/data/dirichlet/conf/conf_dirichlet.txt -o /Volumes/WorkDrive/msbayes-buffering/hickerlab-repository/msbayes-buffering/data/dirichlet/priors/dirichlet-unsorted-2.prior\n",
      "/Volumes/WorkDrive/msbayes-buffering/hickerlab-repository/msbayes-buffering/data/dirichlet/priors/dirichlet-unsorted-4.prior\n",
      "/Volumes/WorkDrive/msbayes-buffering/hickerlab-repository/msbayes-buffering/src/msbayes.pl -s 0 -r 300000 -c /Volumes/WorkDrive/msbayes-buffering/hickerlab-repository/msbayes-buffering/data/dirichlet/conf/conf_dirichlet.txt -o /Volumes/WorkDrive/msbayes-buffering/hickerlab-repository/msbayes-buffering/data/dirichlet/priors/dirichlet-unsorted-3.prior\n",
      "/Volumes/WorkDrive/msbayes-buffering/hickerlab-repository/msbayes-buffering/data/dirichlet/priors/dirichlet-unsorted-5.prior\n",
      "/Volumes/WorkDrive/msbayes-buffering/hickerlab-repository/msbayes-buffering/src/msbayes.pl -s 0 -r 300000 -c /Volumes/WorkDrive/msbayes-buffering/hickerlab-repository/msbayes-buffering/data/dirichlet/conf/conf_dirichlet.txt -o /Volumes/WorkDrive/msbayes-buffering/hickerlab-repository/msbayes-buffering/data/dirichlet/priors/dirichlet-unsorted-4.prior\n",
      "/Volumes/WorkDrive/msbayes-buffering/hickerlab-repository/msbayes-buffering/data/dirichlet/priors/dirichlet-unsorted-6.prior\n",
      "/Volumes/WorkDrive/msbayes-buffering/hickerlab-repository/msbayes-buffering/src/msbayes.pl -s 0 -r 300000 -c /Volumes/WorkDrive/msbayes-buffering/hickerlab-repository/msbayes-buffering/data/dirichlet/conf/conf_dirichlet.txt -o /Volumes/WorkDrive/msbayes-buffering/hickerlab-repository/msbayes-buffering/data/dirichlet/priors/dirichlet-unsorted-5.prior\n",
      "/Volumes/WorkDrive/msbayes-buffering/hickerlab-repository/msbayes-buffering/data/dirichlet/priors/dirichlet-unsorted-7.prior\n",
      "/Volumes/WorkDrive/msbayes-buffering/hickerlab-repository/msbayes-buffering/src/msbayes.pl -s 0 -r 300000 -c /Volumes/WorkDrive/msbayes-buffering/hickerlab-repository/msbayes-buffering/data/dirichlet/conf/conf_dirichlet.txt -o /Volumes/WorkDrive/msbayes-buffering/hickerlab-repository/msbayes-buffering/data/dirichlet/priors/dirichlet-unsorted-6.prior\n",
      "/Volumes/WorkDrive/msbayes-buffering/hickerlab-repository/msbayes-buffering/data/dirichlet/priors/dirichlet-unsorted-8.prior\n",
      "/Volumes/WorkDrive/msbayes-buffering/hickerlab-repository/msbayes-buffering/src/msbayes.pl -s 0 -r 300000 -c /Volumes/WorkDrive/msbayes-buffering/hickerlab-repository/msbayes-buffering/data/dirichlet/conf/conf_dirichlet.txt -o /Volumes/WorkDrive/msbayes-buffering/hickerlab-repository/msbayes-buffering/data/dirichlet/priors/dirichlet-unsorted-7.prior\n",
      "/Volumes/WorkDrive/msbayes-buffering/hickerlab-repository/msbayes-buffering/data/dirichlet/priors/dirichlet-unsorted-9.prior\n",
      "/Volumes/WorkDrive/msbayes-buffering/hickerlab-repository/msbayes-buffering/src/msbayes.pl -s 0 -r 300000 -c /Volumes/WorkDrive/msbayes-buffering/hickerlab-repository/msbayes-buffering/data/dirichlet/conf/conf_dirichlet.txt -o /Volumes/WorkDrive/msbayes-buffering/hickerlab-repository/msbayes-buffering/data/dirichlet/priors/dirichlet-unsorted-8.prior\n",
      "/Volumes/WorkDrive/msbayes-buffering/hickerlab-repository/msbayes-buffering/src/msbayes.pl -s 0 -r 300000 -c /Volumes/WorkDrive/msbayes-buffering/hickerlab-repository/msbayes-buffering/data/dirichlet/conf/conf_dirichlet.txt -o /Volumes/WorkDrive/msbayes-buffering/hickerlab-repository/msbayes-buffering/data/dirichlet/priors/dirichlet-unsorted-9.prior\n"
     ]
    }
   ],
   "source": [
    "## Generate a chunk of the reference table\n",
    "## This takes the better part of a day, so don't run it unless you're _sure_\n",
    "## you want it. If you need to kill open a term and `killall -9 perl`\n",
    "DIRICHLET_CONF=DIRICHLET_CONF_DIR+\"conf_dirichlet_buffer0.txt\"\n",
    "DIR_BUFF0_PRIORS_DIR=DIRICHLET_PRIORS_DIR+\"buffer0/\"\n",
    "\n",
    "PRIORS_SIZE=3000000\n",
    "NPROC=10\n",
    "CHUNK_SIZE=PRIORS_SIZE/NPROC\n",
    "print(\"chunk size = \"+str(CHUNK_SIZE))\n",
    "for i in range(NPROC):\n",
    "    outfile = DIR_BUFF0_PRIORS+\"dirichlet-unsorted-\"+str(i)+\".prior\"\n",
    "    print(outfile)\n",
    "\n",
    "    p = multiprocessing.Process(target=do_priors, args=(CHUNK_SIZE,outfile, DIRICHLET_CONF))\n",
    "    p.start()\n",
    "    time.sleep(2)\n"
   ]
  },
  {
   "cell_type": "code",
   "execution_count": 78,
   "metadata": {
    "collapsed": false
   },
   "outputs": [
    {
     "name": "stdout",
     "output_type": "stream",
     "text": [
      "0.txt\n",
      "Making - /Volumes/WorkDrive/msbayes-buffering/hickerlab-repository/msbayes-buffering/data/dirichlet/conf/conf_dirichlet_buffer0.1.txt\n",
      "0.txt\n",
      "Making - /Volumes/WorkDrive/msbayes-buffering/hickerlab-repository/msbayes-buffering/data/dirichlet/conf/conf_dirichlet_buffer0.05.txt\n",
      "0.txt\n",
      "Making - /Volumes/WorkDrive/msbayes-buffering/hickerlab-repository/msbayes-buffering/data/dirichlet/conf/conf_dirichlet_buffer0.01.txt\n"
     ]
    }
   ],
   "source": [
    "## Make the dirichlet buffering files and priors\n",
    "BUFFER_VALUES = [\"0.1\", \"0.05\", \"0.01\"]\n",
    "buffer_conf_dict={}\n",
    "for buff in BUFFER_VALUES:\n",
    "    print(DIRICHLET_CONF.split(\"buffer\")[-1])\n",
    "    DIR_BUFF_CONF=DIRICHLET_CONF.split(\"0\")[0]+buff+\".txt\"\n",
    "    print(\"Making - \" + DIR_BUFF_CONF)\n",
    "    with open(DIRICHLET_CONF, 'r') as infile:\n",
    "        lines = infile.readlines()\n",
    "        with open(DIR_BUFF_CONF, 'w') as outfile:\n",
    "            for line in lines:\n",
    "                if \"bufferTauClasses = 0\" in line:\n",
    "                    outfile.write(\"bufferTauClasses = \" + buff)\n",
    "                else:\n",
    "                    outfile.write(line)\n",
    "        buffer_conf_dict[buff]=DIR_BUFF_CONF"
   ]
  },
  {
   "cell_type": "code",
   "execution_count": null,
   "metadata": {
    "collapsed": true
   },
   "outputs": [
    {
     "name": "stdout",
     "output_type": "stream",
     "text": [
      "chunk size = 300000\n",
      "/Volumes/WorkDrive/msbayes-buffering/hickerlab-repository/msbayes-buffering/data/dirichlet/priors/buffer0.05/dirichlet-buffer0.05-unsorted-0.prior\n",
      "/Volumes/WorkDrive/msbayes-buffering/hickerlab-repository/msbayes-buffering/data/dirichlet/priors/buffer0.05/dirichlet-buffer0.05-unsorted-1.prior\n",
      "/Volumes/WorkDrive/msbayes-buffering/hickerlab-repository/msbayes-buffering/src/msbayes.pl -s 0 -r 300000 -c /Volumes/WorkDrive/msbayes-buffering/hickerlab-repository/msbayes-buffering/data/dirichlet/conf/conf_dirichlet_buffer0.05.txt -o /Volumes/WorkDrive/msbayes-buffering/hickerlab-repository/msbayes-buffering/data/dirichlet/priors/buffer0.05/dirichlet-buffer0.05-unsorted-0.prior\n",
      "/Volumes/WorkDrive/msbayes-buffering/hickerlab-repository/msbayes-buffering/data/dirichlet/priors/buffer0.05/dirichlet-buffer0.05-unsorted-2.prior\n",
      "/Volumes/WorkDrive/msbayes-buffering/hickerlab-repository/msbayes-buffering/src/msbayes.pl -s 0 -r 300000 -c /Volumes/WorkDrive/msbayes-buffering/hickerlab-repository/msbayes-buffering/data/dirichlet/conf/conf_dirichlet_buffer0.05.txt -o /Volumes/WorkDrive/msbayes-buffering/hickerlab-repository/msbayes-buffering/data/dirichlet/priors/buffer0.05/dirichlet-buffer0.05-unsorted-1.prior\n",
      "/Volumes/WorkDrive/msbayes-buffering/hickerlab-repository/msbayes-buffering/data/dirichlet/priors/buffer0.05/dirichlet-buffer0.05-unsorted-3.prior\n",
      "/Volumes/WorkDrive/msbayes-buffering/hickerlab-repository/msbayes-buffering/src/msbayes.pl -s 0 -r 300000 -c /Volumes/WorkDrive/msbayes-buffering/hickerlab-repository/msbayes-buffering/data/dirichlet/conf/conf_dirichlet_buffer0.05.txt -o /Volumes/WorkDrive/msbayes-buffering/hickerlab-repository/msbayes-buffering/data/dirichlet/priors/buffer0.05/dirichlet-buffer0.05-unsorted-2.prior\n",
      "/Volumes/WorkDrive/msbayes-buffering/hickerlab-repository/msbayes-buffering/data/dirichlet/priors/buffer0.05/dirichlet-buffer0.05-unsorted-4.prior\n",
      "/Volumes/WorkDrive/msbayes-buffering/hickerlab-repository/msbayes-buffering/src/msbayes.pl -s 0 -r 300000 -c /Volumes/WorkDrive/msbayes-buffering/hickerlab-repository/msbayes-buffering/data/dirichlet/conf/conf_dirichlet_buffer0.05.txt -o /Volumes/WorkDrive/msbayes-buffering/hickerlab-repository/msbayes-buffering/data/dirichlet/priors/buffer0.05/dirichlet-buffer0.05-unsorted-3.prior\n",
      "/Volumes/WorkDrive/msbayes-buffering/hickerlab-repository/msbayes-buffering/data/dirichlet/priors/buffer0.05/dirichlet-buffer0.05-unsorted-5.prior\n",
      "/Volumes/WorkDrive/msbayes-buffering/hickerlab-repository/msbayes-buffering/src/msbayes.pl -s 0 -r 300000 -c /Volumes/WorkDrive/msbayes-buffering/hickerlab-repository/msbayes-buffering/data/dirichlet/conf/conf_dirichlet_buffer0.05.txt -o /Volumes/WorkDrive/msbayes-buffering/hickerlab-repository/msbayes-buffering/data/dirichlet/priors/buffer0.05/dirichlet-buffer0.05-unsorted-4.prior\n",
      "/Volumes/WorkDrive/msbayes-buffering/hickerlab-repository/msbayes-buffering/data/dirichlet/priors/buffer0.05/dirichlet-buffer0.05-unsorted-6.prior\n",
      "/Volumes/WorkDrive/msbayes-buffering/hickerlab-repository/msbayes-buffering/src/msbayes.pl -s 0 -r 300000 -c /Volumes/WorkDrive/msbayes-buffering/hickerlab-repository/msbayes-buffering/data/dirichlet/conf/conf_dirichlet_buffer0.05.txt -o /Volumes/WorkDrive/msbayes-buffering/hickerlab-repository/msbayes-buffering/data/dirichlet/priors/buffer0.05/dirichlet-buffer0.05-unsorted-5.prior\n",
      "/Volumes/WorkDrive/msbayes-buffering/hickerlab-repository/msbayes-buffering/data/dirichlet/priors/buffer0.05/dirichlet-buffer0.05-unsorted-7.prior\n",
      "/Volumes/WorkDrive/msbayes-buffering/hickerlab-repository/msbayes-buffering/src/msbayes.pl -s 0 -r 300000 -c /Volumes/WorkDrive/msbayes-buffering/hickerlab-repository/msbayes-buffering/data/dirichlet/conf/conf_dirichlet_buffer0.05.txt -o /Volumes/WorkDrive/msbayes-buffering/hickerlab-repository/msbayes-buffering/data/dirichlet/priors/buffer0.05/dirichlet-buffer0.05-unsorted-6.prior\n",
      "/Volumes/WorkDrive/msbayes-buffering/hickerlab-repository/msbayes-buffering/data/dirichlet/priors/buffer0.05/dirichlet-buffer0.05-unsorted-8.prior\n",
      "/Volumes/WorkDrive/msbayes-buffering/hickerlab-repository/msbayes-buffering/src/msbayes.pl -s 0 -r 300000 -c /Volumes/WorkDrive/msbayes-buffering/hickerlab-repository/msbayes-buffering/data/dirichlet/conf/conf_dirichlet_buffer0.05.txt -o /Volumes/WorkDrive/msbayes-buffering/hickerlab-repository/msbayes-buffering/data/dirichlet/priors/buffer0.05/dirichlet-buffer0.05-unsorted-7.prior\n",
      "/Volumes/WorkDrive/msbayes-buffering/hickerlab-repository/msbayes-buffering/data/dirichlet/priors/buffer0.05/dirichlet-buffer0.05-unsorted-9.prior\n",
      "/Volumes/WorkDrive/msbayes-buffering/hickerlab-repository/msbayes-buffering/src/msbayes.pl -s 0 -r 300000 -c /Volumes/WorkDrive/msbayes-buffering/hickerlab-repository/msbayes-buffering/data/dirichlet/conf/conf_dirichlet_buffer0.05.txt -o /Volumes/WorkDrive/msbayes-buffering/hickerlab-repository/msbayes-buffering/data/dirichlet/priors/buffer0.05/dirichlet-buffer0.05-unsorted-8.prior\n"
     ]
    }
   ],
   "source": [
    "## Generate a chunk of the reference table\n",
    "## This takes the better part of a day, so don't run it unless you're _sure_\n",
    "## you want it. If you need to kill open a term and `killall -9 perl`\n",
    "#BUFFER_VALUES = [\"0.01\", \"0.05\", \"0.1\"]\n",
    "BUFFER_VALUES = [\"0.05\", \"0.1\"]\n",
    "\n",
    "for buff in BUFFER_VALUES:\n",
    "    \n",
    "    DIR_BUFF_PRIORS_DIR=DIRICHLET_PRIORS_DIR+\"buffer\"+buff+\"/\"\n",
    "    directory=DIR_BUFF_PRIORS_DIR\n",
    "    if not os.path.exists(directory):\n",
    "        os.makedirs(directory)\n",
    "    \n",
    "    PRIORS_SIZE=3000000\n",
    "    NPROC=10\n",
    "    CHUNK_SIZE=PRIORS_SIZE/NPROC\n",
    "    ## Don't sort\n",
    "    SORTING=\"0\"\n",
    "    print(\"chunk size = \"+str(CHUNK_SIZE))\n",
    "    for i in range(NPROC):\n",
    "        outfile = DIR_BUFF_PRIORS_DIR+\"dirichlet-buffer\"+buff+\"-unsorted-\"+str(i)+\".prior\"\n",
    "        print(outfile)\n",
    "\n",
    "        p = multiprocessing.Process(target=do_priors, args=(CHUNK_SIZE, SORTING, outfile, buffer_conf_dict[buff]))\n",
    "        p.start()\n",
    "        time.sleep(2)\n",
    "    ## Join the main process ot the last spawned process and wait for it to end before doing the next set of buffers.\n",
    "    p.join()"
   ]
  },
  {
   "cell_type": "code",
   "execution_count": 8,
   "metadata": {
    "collapsed": false
   },
   "outputs": [
    {
     "name": "stdout",
     "output_type": "stream",
     "text": [
      "Doing - 0\n"
     ]
    }
   ],
   "source": [
    "## For each of the buffer values go through and concatenate all the\n",
    "## priors files into one giant file\n",
    "## Takes about 5 minutes per directory\n",
    "#BUFFER_VALUES = [\"0.05\", \"0.1\", \"0\"]\n",
    "BUFFER_VALUES = [\"0\"]\n",
    "\n",
    "for buff in BUFFER_VALUES:\n",
    "    print(\"Doing - \"+buff)\n",
    "    \n",
    "    DIR_BUFF_PRIORS_DIR=DIRICHLET_PRIORS_DIR+\"buffer\"+buff+\"/\"\n",
    "    NCHUNKS=10\n",
    "    MASSIVE_PRIOR=DIR_BUFF_PRIORS_DIR+\"buffer\"+buff+\".prior\"\n",
    "    with open(MASSIVE_PRIOR, 'w') as outfile:\n",
    "        for i in range(NCHUNKS):\n",
    "            with open(DIR_BUFF_PRIORS_DIR+\"dirichlet-buffer\"+buff+\"-unsorted-\"+str(i)+\".prior\", 'r') as infile:\n",
    "                if i == 0:\n",
    "                    ## Write the header only once\n",
    "                    outfile.write(infile.readline())\n",
    "                else:\n",
    "                    ## Read the header and swallow it\n",
    "                    wat = infile.readline()\n",
    "                ## Copy the rest of the file in 1024kb chunks\n",
    "                while True:\n",
    "                    data = infile.read(1024)\n",
    "                    if not data:\n",
    "                        break\n",
    "                    outfile.write(data)"
   ]
  },
  {
   "cell_type": "markdown",
   "metadata": {},
   "source": [
    "# Do the PODS"
   ]
  },
  {
   "cell_type": "code",
   "execution_count": 30,
   "metadata": {
    "collapsed": false
   },
   "outputs": [
    {
     "name": "stdout",
     "output_type": "stream",
     "text": [
      "Doing - 0.01\n",
      "./bu_doPODS.sh -s 0 -p /Volumes/WorkDrive/msbayes-buffering/hickerlab-repository/msbayes-buffering/data/dirichlet/priors/buffer0.01/buffer0.01.prior -c /Volumes/WorkDrive/msbayes-buffering/hickerlab-repository/msbayes-buffering/data/dirichlet/conf/conf_dirichlet_buffer0.01.txt -n 5\n",
      "On step 0\t12:33:32\n",
      "On step 5\t15:05:24\n",
      "On step 10\t17:37:17\n",
      "On step 15\t20:06:00\n",
      "On step 20\t22:33:24\n",
      "On step 25\t01:01:16\n",
      "On step 30\t03:28:10\n",
      "On step 35\t05:55:26\n",
      "On step 40\t08:22:00\n",
      "On step 45\t10:48:44\n",
      "On step 50\t13:15:25\n",
      "On step 55\t15:42:01\n",
      "On step 60\t18:08:46\n",
      "On step 65\t20:35:32\n",
      "On step 70\t23:03:01\n",
      "On step 75\t01:30:14\n",
      "On step 80\t03:58:27\n",
      "On step 85\t06:25:37\n",
      "On step 90\t08:53:18\n",
      "On step 95\t11:20:35\n"
     ]
    }
   ],
   "source": [
    "import time\n",
    "#BUFFER_VALUES = [\"0.05\", \"0.1\", \"0\"]\n",
    "BUFFER_VALUES = [\"0.01\"]\n",
    "\n",
    "## Go to the msbayes working directory\n",
    "os.chdir(MSBAYES_EXECDIR)\n",
    "\n",
    "NPODS = 100\n",
    "STEP = 5\n",
    "SORTING=\"0\"\n",
    "for buff in BUFFER_VALUES:\n",
    "    print(\"Doing - \"+buff)\n",
    "\n",
    "    # Find the priors file\n",
    "    DIR_BUFF_PRIORS_DIR=DIRICHLET_PRIORS_DIR+\"buffer\"+buff+\"/\"\n",
    "    MASSIVE_PRIOR=DIR_BUFF_PRIORS_DIR+\"buffer\"+buff+\".prior\"\n",
    "    \n",
    "    # And the conf file\n",
    "    DIRICHLET_CONF=DIRICHLET_CONF_DIR+\"conf_dirichlet_buffer0.txt\"\n",
    "    DIR_BUFF_CONF=DIRICHLET_CONF.split(\"0\")[0]+buff+\".txt\"\n",
    "\n",
    "    cmd = \"./bu_doPODS.sh\" \\\n",
    "        + \" -s \" + SORTING\\\n",
    "        + \" -p \" + MASSIVE_PRIOR\\\n",
    "        + \" -c \" + DIR_BUFF_CONF\\\n",
    "        + \" -n \" + str(STEP)\n",
    "    print(cmd)\n",
    "\n",
    "    ## Do it in chunks so we can track progress\n",
    "    count = 0\n",
    "    while count < NPODS:\n",
    "        try:\n",
    "            print(\"On step {}\\t{}\".format(count, time.strftime('%X')))\n",
    "            time.sleep(2)\n",
    "            os.system(cmd)\n",
    "            count += STEP\n",
    "        except Exception as inst:\n",
    "            print(inst)\n",
    "    \n",
    "    # Make the results directory\n",
    "    MY_RESULTS_DIR=DIRICHLET_RESULTS_DIR+\"buffer\"+buff+\"/\"\n",
    "    directory=MY_RESULTS_DIR\n",
    "    if not os.path.exists(directory):\n",
    "        os.makedirs(directory)\n",
    "    \n",
    "    ## When you're done, save the output files\n",
    "    results_files = [\"results_psi_omega_et_tol.out\", \"results_psi.out\", \\\n",
    "                     \"results_omega_unadjusted.out\", \"results_omega.out\", \"all_pods.obs\"]\n",
    "    for res in results_files:\n",
    "        os.rename(res, MY_RESULTS_DIR+res)"
   ]
  },
  {
   "cell_type": "code",
   "execution_count": 16,
   "metadata": {
    "collapsed": false
   },
   "outputs": [
    {
     "data": {
      "text/plain": [
       "'17:29:51 04/24/16 EDT'"
      ]
     },
     "execution_count": 16,
     "metadata": {},
     "output_type": "execute_result"
    }
   ],
   "source": [
    "import time\n",
    "time.strftime('%X %x %Z')"
   ]
  }
 ],
 "metadata": {
  "kernelspec": {
   "display_name": "Python 2",
   "language": "python",
   "name": "python2"
  },
  "language_info": {
   "codemirror_mode": {
    "name": "ipython",
    "version": 2
   },
   "file_extension": ".py",
   "mimetype": "text/x-python",
   "name": "python",
   "nbconvert_exporter": "python",
   "pygments_lexer": "ipython2",
   "version": "2.7.10"
  }
 },
 "nbformat": 4,
 "nbformat_minor": 0
}
