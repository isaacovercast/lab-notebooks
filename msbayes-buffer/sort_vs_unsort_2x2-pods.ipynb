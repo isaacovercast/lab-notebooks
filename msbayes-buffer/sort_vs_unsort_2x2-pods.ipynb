{
 "cells": [
  {
   "cell_type": "markdown",
   "metadata": {},
   "source": [
    "# dpp vs uniform on identical sorted vs unsorted pods with identical histories\n",
    "\n",
    "This notebook will generate pods sampled from uniform psi and will create both sorted and unsorted\n",
    "sumstats. We do this by executing two simultaneous instances of msbayes (it samples time as a seed for\n",
    "the random number generator so two instances started at the same time will produce the same histories).\n"
   ]
  },
  {
   "cell_type": "code",
   "execution_count": 42,
   "metadata": {
    "collapsed": false
   },
   "outputs": [],
   "source": [
    "import os\n",
    "import sys\n",
    "import time\n",
    "import subprocess\n",
    "\n",
    "#msbayes paths\n",
    "MSBAYES_ROOTDIR=\"/Volumes/WorkDrive/msbayes-buffering/hickerlab-repository/msbayes-buffering/\"\n",
    "MSBAYES_EXECDIR=MSBAYES_ROOTDIR+\"src/\"\n",
    "\n",
    "# Binaries\n",
    "MSBAYES_BIN=MSBAYES_EXECDIR+\"msbayes.pl\"\n",
    "\n",
    "# Top level analysis directories\n",
    "MSBAYES_DATADIR=MSBAYES_ROOTDIR+\"data/\"\n",
    "\n",
    "# Dirichlet priors/confs\n",
    "DIRICHLET_OUT=MSBAYES_DATADIR+\"dirichlet/\"\n",
    "DIRICHLET_PRIORS_DIR=DIRICHLET_OUT+\"priors/\"\n",
    "DIRICHLET_CONF_DIR=DIRICHLET_OUT+\"conf/\"\n",
    "\n",
    "# Uniform priors/confs\n",
    "UNIFORM_OUT=MSBAYES_DATADIR+\"pods/\"\n",
    "UNIFORM_PRIORS_DIR=UNIFORM_OUT+\"priors/\"\n",
    "UNIFORM_CONF_DIR=UNIFORM_OUT+\"conf/\"\n",
    "\n",
    "# 2x2 pods draws and results\n",
    "TWOxTWO_OUT=MSBAYES_DATADIR+\"2x2/\"\n",
    "TWOxTWO_PODS_DIR=TWOxTWO_OUT+\"pods_draws/\"\n",
    "TWOxTWO_RESULTS_DIR=TWOxTWO_OUT+\"results/\"\n",
    "\n",
    "os.chdir(MSBAYES_EXECDIR)"
   ]
  },
  {
   "cell_type": "code",
   "execution_count": 36,
   "metadata": {
    "collapsed": false
   },
   "outputs": [],
   "source": [
    "## Define the msbayes priors command\n",
    "def do_priors(num, outname, conf_file):\n",
    "    for i in range(num):\n",
    "        ## Switch on whether this is the first iteration\n",
    "        out = \"\"\n",
    "        if i == 0:\n",
    "            out = \" -o \"\n",
    "        else:\n",
    "            out = \" | tail -n 1 >> \"\n",
    "        \n",
    "        seed = str(time.time())\n",
    "        \n",
    "        os.chdir(MSBAYES_EXECDIR)\n",
    "        args_sort = \"\" \\\n",
    "            + \" -s 7 \" \\\n",
    "            + \" -r 1 \" \\\n",
    "            + \" -c \" + conf_file \\\n",
    "            + \" -S \" + seed \\\n",
    "            + out + outname+\"_sort\"\n",
    "        args_usort = \"\" \\\n",
    "            + \" -s 0 \" \\\n",
    "            + \" -r 1 \" \\\n",
    "            + \" -c \" + conf_file \\\n",
    "            + \" -S \" + seed \\\n",
    "            + out + outname+\"_usort\"\n",
    "\n",
    "        with open('tmp.sh', 'w') as f:\n",
    "            f.write(\"#!/bin/bash\\n\")\n",
    "            f.write(MSBAYES_BIN + args_sort + \" & \\n\")\n",
    "            f.write(MSBAYES_BIN + args_usort + \"\\n\")\n",
    "\n",
    "        try:\n",
    "            time.sleep(2)\n",
    "            os.system(\"chmod 777 tmp.sh; ./tmp.sh\")\n",
    "    #        pid = subprocess.Popen([\"pwd\", \" > /tmp/rpt.txt\"])\n",
    "    #        pid1 = subprocess.Popen([MSBAYES_BIN, args_sort]).pid\n",
    "    #        pid2 = subprocess.Popen([MSBAYES_BIN, args_usort]).pid\n",
    "        except Exception as inst:\n",
    "            print(inst)"
   ]
  },
  {
   "cell_type": "code",
   "execution_count": 51,
   "metadata": {
    "collapsed": false
   },
   "outputs": [],
   "source": [
    "do_priors(100, TWOxTWO_PODS_DIR+\"pods\", UNIFORM_CONF_DIR+\"conf_nobuffer_psi18_ne0.5_taumax0.75.txt\")"
   ]
  },
  {
   "cell_type": "markdown",
   "metadata": {},
   "source": [
    "# Do the PODS"
   ]
  },
  {
   "cell_type": "code",
   "execution_count": 52,
   "metadata": {
    "collapsed": false
   },
   "outputs": [
    {
     "name": "stdout",
     "output_type": "stream",
     "text": [
      "Doing - dpp_usort\n",
      "Params - {'priors': '/Volumes/WorkDrive/msbayes-buffering/hickerlab-repository/msbayes-buffering/data/dirichlet/priors/buffer0/buffer0.prior', 'pods': '/Volumes/WorkDrive/msbayes-buffering/hickerlab-repository/msbayes-buffering/data/2x2/pods_draws/pods_usort', 'conf': '/Volumes/WorkDrive/msbayes-buffering/hickerlab-repository/msbayes-buffering/data/dirichlet/conf/conf_dirichlet_buffer0.txt', 'outdir': '/Volumes/WorkDrive/msbayes-buffering/hickerlab-repository/msbayes-buffering/data/2x2/results/dpp_usort/'}\n",
      "./bu_doPODS.sh -p /Volumes/WorkDrive/msbayes-buffering/hickerlab-repository/msbayes-buffering/data/dirichlet/priors/buffer0/buffer0.prior -c /Volumes/WorkDrive/msbayes-buffering/hickerlab-repository/msbayes-buffering/data/dirichlet/conf/conf_dirichlet_buffer0.txt -n 100 -e /Volumes/WorkDrive/msbayes-buffering/hickerlab-repository/msbayes-buffering/data/2x2/pods_draws/pods_usort\n",
      "Doing - unif_sort\n",
      "Params - {'priors': '/Volumes/WorkDrive/msbayes-buffering/hickerlab-repository/msbayes-buffering/data/pods/priors/new_priors/sorted_buffer0.prior', 'pods': '/Volumes/WorkDrive/msbayes-buffering/hickerlab-repository/msbayes-buffering/data/2x2/pods_draws/pods_sort', 'conf': '/Volumes/WorkDrive/msbayes-buffering/hickerlab-repository/msbayes-buffering/data/pods/conf/conf_nobuffer_psi18_ne0.5_taumax0.75.txt', 'outdir': '/Volumes/WorkDrive/msbayes-buffering/hickerlab-repository/msbayes-buffering/data/2x2/results/unif_sort/'}\n",
      "./bu_doPODS.sh -p /Volumes/WorkDrive/msbayes-buffering/hickerlab-repository/msbayes-buffering/data/pods/priors/new_priors/sorted_buffer0.prior -c /Volumes/WorkDrive/msbayes-buffering/hickerlab-repository/msbayes-buffering/data/pods/conf/conf_nobuffer_psi18_ne0.5_taumax0.75.txt -n 100 -e /Volumes/WorkDrive/msbayes-buffering/hickerlab-repository/msbayes-buffering/data/2x2/pods_draws/pods_sort\n",
      "Doing - unif_usort\n",
      "Params - {'priors': '/Volumes/WorkDrive/msbayes-buffering/hickerlab-repository/msbayes-buffering/data/pods/priors/new_priors/unsorted_buffer0.prior', 'pods': '/Volumes/WorkDrive/msbayes-buffering/hickerlab-repository/msbayes-buffering/data/2x2/pods_draws/pods_usort', 'conf': '/Volumes/WorkDrive/msbayes-buffering/hickerlab-repository/msbayes-buffering/data/pods/conf/conf_nobuffer_psi18_ne0.5_taumax0.75.txt', 'outdir': '/Volumes/WorkDrive/msbayes-buffering/hickerlab-repository/msbayes-buffering/data/2x2/results/unif_usort/'}\n",
      "./bu_doPODS.sh -p /Volumes/WorkDrive/msbayes-buffering/hickerlab-repository/msbayes-buffering/data/pods/priors/new_priors/unsorted_buffer0.prior -c /Volumes/WorkDrive/msbayes-buffering/hickerlab-repository/msbayes-buffering/data/pods/conf/conf_nobuffer_psi18_ne0.5_taumax0.75.txt -n 100 -e /Volumes/WorkDrive/msbayes-buffering/hickerlab-repository/msbayes-buffering/data/2x2/pods_draws/pods_usort\n",
      "Doing - dpp_sort\n",
      "Params - {'priors': '/Volumes/WorkDrive/msbayes-buffering/hickerlab-repository/msbayes-buffering/data/dirichlet/priors/buffer0-sorted/dpp-sorted.prior', 'pods': '/Volumes/WorkDrive/msbayes-buffering/hickerlab-repository/msbayes-buffering/data/2x2/pods_draws/pods_sort', 'conf': '/Volumes/WorkDrive/msbayes-buffering/hickerlab-repository/msbayes-buffering/data/dirichlet/conf/conf_dirichlet_buffer0.txt', 'outdir': '/Volumes/WorkDrive/msbayes-buffering/hickerlab-repository/msbayes-buffering/data/2x2/results/dpp_sort/'}\n",
      "./bu_doPODS.sh -p /Volumes/WorkDrive/msbayes-buffering/hickerlab-repository/msbayes-buffering/data/dirichlet/priors/buffer0-sorted/dpp-sorted.prior -c /Volumes/WorkDrive/msbayes-buffering/hickerlab-repository/msbayes-buffering/data/dirichlet/conf/conf_dirichlet_buffer0.txt -n 100 -e /Volumes/WorkDrive/msbayes-buffering/hickerlab-repository/msbayes-buffering/data/2x2/pods_draws/pods_sort\n"
     ]
    }
   ],
   "source": [
    "## Go to the msbayes working directory\n",
    "os.chdir(MSBAYES_EXECDIR)\n",
    "\n",
    "## Output\n",
    "DPP_SORTED_OUT = TWOxTWO_RESULTS_DIR + \"dpp_sort/\"\n",
    "DPP_UNSORTED_OUT = TWOxTWO_RESULTS_DIR + \"dpp_usort/\"\n",
    "UNIF_SORTED_OUT = TWOxTWO_RESULTS_DIR + \"unif_sort/\"\n",
    "UNIF_UNSORTED_OUT = TWOxTWO_RESULTS_DIR + \"unif_usort/\"\n",
    "\n",
    "## PODS files\n",
    "SORTED_PODS = TWOxTWO_PODS_DIR + \"pods_sort\"\n",
    "UNSORTED_PODS = TWOxTWO_PODS_DIR + \"pods_usort\"\n",
    "\n",
    "## DPP/Uniform Configs\n",
    "DPP_CONF = DIRICHLET_CONF_DIR + \"conf_dirichlet_buffer0.txt\"\n",
    "UNIF_CONF = UNIFORM_CONF_DIR + \"conf_nobuffer_psi18_ne0.5_taumax0.75.txt\"\n",
    "\n",
    "## All priors files\n",
    "DPP_SORTED_PRIOR = DIRICHLET_PRIORS_DIR + \"buffer0-sorted/dpp-sorted.prior\"\n",
    "DPP_UNSORTED_PRIOR = DIRICHLET_PRIORS_DIR + \"buffer0/buffer0.prior\"\n",
    "UNIF_SORTED_PRIOR = UNIFORM_PRIORS_DIR + \"new_priors/sorted_buffer0.prior\"\n",
    "UNIF_UNSORTED_PRIOR = UNIFORM_PRIORS_DIR + \"new_priors/unsorted_buffer0.prior\"\n",
    "\n",
    "## Dict for mapping pods to priors\n",
    "runs = [\"dpp_sort\", \"dpp_usort\", \"unif_sort\", \"unif_usort\"]\n",
    "runs_dict = {}\n",
    "for i in runs:\n",
    "    runs_dict[i] = {}\n",
    "\n",
    "## Populate the runs_dict\n",
    "runs_dict[\"dpp_sort\"][\"priors\"] = DPP_SORTED_PRIOR\n",
    "runs_dict[\"dpp_sort\"][\"pods\"] = SORTED_PODS\n",
    "runs_dict[\"dpp_sort\"][\"conf\"] = DPP_CONF\n",
    "runs_dict[\"dpp_sort\"][\"outdir\"] = DPP_SORTED_OUT\n",
    "\n",
    "runs_dict[\"dpp_usort\"][\"priors\"] = DPP_UNSORTED_PRIOR\n",
    "runs_dict[\"dpp_usort\"][\"pods\"] = UNSORTED_PODS\n",
    "runs_dict[\"dpp_usort\"][\"conf\"] = DPP_CONF\n",
    "runs_dict[\"dpp_usort\"][\"outdir\"] = DPP_UNSORTED_OUT\n",
    "\n",
    "runs_dict[\"unif_sort\"][\"priors\"] = UNIF_SORTED_PRIOR\n",
    "runs_dict[\"unif_sort\"][\"pods\"] = SORTED_PODS\n",
    "runs_dict[\"unif_sort\"][\"conf\"] = UNIF_CONF\n",
    "runs_dict[\"unif_sort\"][\"outdir\"] = UNIF_SORTED_OUT\n",
    "\n",
    "runs_dict[\"unif_usort\"][\"priors\"] = UNIF_UNSORTED_PRIOR\n",
    "runs_dict[\"unif_usort\"][\"pods\"] = UNSORTED_PODS\n",
    "runs_dict[\"unif_usort\"][\"conf\"] = UNIF_CONF\n",
    "runs_dict[\"unif_usort\"][\"outdir\"] = UNIF_UNSORTED_OUT\n",
    "\n",
    "NPODS = 100\n",
    "for run_name, params in runs_dict.items():\n",
    "    print(\"Doing - \" + run_name)\n",
    "    print(\"Params - {}\".format(params))\n",
    "\n",
    "    ## Clean up any existing previous results files or else the results are wacky\n",
    "    results_files = [\"results_psi_omega_et_tol.out\", \"results_psi.out\", \\\n",
    "             \"results_omega_unadjusted.out\", \"results_omega.out\", \"all_pods.obs\"]\n",
    "    for f in results_files:\n",
    "        if os.path.exists(f):\n",
    "            os.path.remove(f)\n",
    "    \n",
    "    cmd = \"./bu_doPODS.sh\" \\\n",
    "        + \" -p \" + params[\"priors\"] \\\n",
    "        + \" -c \" + params[\"conf\"] \\\n",
    "        + \" -n \" + str(NPODS) \\\n",
    "        + \" -e \" + params[\"pods\"]\n",
    "\n",
    "    print(cmd)\n",
    "    os.system(cmd)\n",
    "\n",
    "    ## When you're done, save the output files\n",
    "    for res in results_files:\n",
    "        os.rename(res, params[\"outdir\"]+res)"
   ]
  },
  {
   "cell_type": "code",
   "execution_count": null,
   "metadata": {
    "collapsed": true
   },
   "outputs": [],
   "source": []
  }
 ],
 "metadata": {
  "anaconda-cloud": {},
  "kernelspec": {
   "display_name": "Python [default]",
   "language": "python",
   "name": "python2"
  },
  "language_info": {
   "codemirror_mode": {
    "name": "ipython",
    "version": 2
   },
   "file_extension": ".py",
   "mimetype": "text/x-python",
   "name": "python",
   "nbconvert_exporter": "python",
   "pygments_lexer": "ipython2",
   "version": "2.7.12"
  }
 },
 "nbformat": 4,
 "nbformat_minor": 0
}
