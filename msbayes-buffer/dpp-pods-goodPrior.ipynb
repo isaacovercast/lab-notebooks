{
 "cells": [
  {
   "cell_type": "markdown",
   "metadata": {},
   "source": [
    "# Testing dirichlet process prior w/ and w/o buffering/ordering\n"
   ]
  },
  {
   "cell_type": "code",
   "execution_count": 1,
   "metadata": {
    "collapsed": false
   },
   "outputs": [],
   "source": [
    "import os\n",
    "import time\n",
    "import subprocess\n",
    "\n",
    "#msbayes paths\n",
    "MSBAYES_ROOTDIR=\"/Volumes/WorkDrive/msbayes-buffering/hickerlab-repository/msbayes-buffering/\"\n",
    "MSBAYES_EXECDIR=MSBAYES_ROOTDIR+\"src/\"\n",
    "\n",
    "# Binaries\n",
    "MSBAYES_BIN=MSBAYES_EXECDIR+\"msbayes.pl\"\n",
    "\n",
    "# Results directories\n",
    "MSBAYES_DATADIR=MSBAYES_ROOTDIR+\"data/\"\n",
    "\n",
    "# Dirichlet\n",
    "DIRICHLET_OUT=MSBAYES_DATADIR+\"dirichlet/\"\n",
    "DIRICHLET_PRIORS_DIR=DIRICHLET_OUT+\"priors/\"\n",
    "DIRICHLET_CONF_DIR=DIRICHLET_OUT+\"conf/\"\n",
    "DIRICHLET_RESULTS_DIR=DIRICHLET_OUT+\"results/\"\n",
    "\n",
    "os.chdir(MSBAYES_EXECDIR)"
   ]
  },
  {
   "cell_type": "code",
   "execution_count": 6,
   "metadata": {
    "collapsed": true
   },
   "outputs": [],
   "source": [
    "## Define the msbayes priors command\n",
    "## Set the seed so that sorted and unsorted use the same data\n",
    "def do_priors(num, sorting, outname, conf_file, seed=665):\n",
    "    os.chdir(MSBAYES_EXECDIR)\n",
    "    cmd = MSBAYES_BIN \\\n",
    "        + \" -s \" + str(sorting) \\\n",
    "        + \" -r \" + str(num) \\\n",
    "        + \" -c \" + conf_file \\\n",
    "        + \" -S \" + str(seed) \\\n",
    "        + \" -o \" + outname\n",
    "    try:\n",
    "        print(cmd)\n",
    "        time.sleep(2)\n",
    "        os.system(cmd)\n",
    "        #subprocess.check_output([MSBAYES_BIN, \"-h\"],\n",
    "        #                        stderr=subprocess.STDOUT)\n",
    "    except Exception as inst:\n",
    "        print(inst)"
   ]
  },
  {
   "cell_type": "code",
   "execution_count": null,
   "metadata": {
    "collapsed": false
   },
   "outputs": [
    {
     "name": "stdout",
     "output_type": "stream",
     "text": [
      "/Volumes/WorkDrive/msbayes-buffering/hickerlab-repository/msbayes-buffering/src/msbayes.pl -s 7 -r 3000000 -c /Volumes/Macintosh_HD_2/isaac/msbayes/5e7-2x2/conf_dirichlet.txt -S 0 -o /Volumes/Macintosh_HD_2/isaac/msbayes/5e7-2x2/dirichlet-sort-0.prior & /Volumes/WorkDrive/msbayes-buffering/hickerlab-repository/msbayes-buffering/src/msbayes.pl -s 0 -r 3000000 -c /Volumes/Macintosh_HD_2/isaac/msbayes/5e7-2x2/conf_dirichlet.txt -S 0 -o /Volumes/Macintosh_HD_2/isaac/msbayes/5e7-2x2/dirichlet-usort-0.prior & /Volumes/WorkDrive/msbayes-buffering/hickerlab-repository/msbayes-buffering/src/msbayes.pl -s 7 -r 3000000 -c /Volumes/Macintosh_HD_2/isaac/msbayes/5e7-2x2/conf_uniform.txt -S 0 -o /Volumes/Macintosh_HD_2/isaac/msbayes/5e7-2x2/uniform-sort-0.prior & /Volumes/WorkDrive/msbayes-buffering/hickerlab-repository/msbayes-buffering/src/msbayes.pl -s 0 -r 3000000 -c /Volumes/Macintosh_HD_2/isaac/msbayes/5e7-2x2/conf_uniform.txt -S 0 -o /Volumes/Macintosh_HD_2/isaac/msbayes/5e7-2x2/uniform-usort-0.prior\n"
     ]
    }
   ],
   "source": [
    "## Generate the 5e7 reference tables.\n",
    "os.chdir(MSBAYES_EXECDIR)\n",
    "cmd = MSBAYES_BIN + \" -s {} -r {} -c {} -S {} -o {}\"\n",
    "#        + \" -s \" + str(sorting) \\\n",
    "#        + \" -r \" + str(num) \\\n",
    "#        + \" -c \" + conf_file \\\n",
    "#        + \" -S \" + str(seed) \\\n",
    "#        + \" -o \" + outname\n",
    "\n",
    "outdir = \"/Volumes/Macintosh_HD_2/isaac/msbayes/5e7-2x2/\"\n",
    "conf = {\"dirichlet\":\"conf_dirichlet.txt\", \"uniform\":\"conf_uniform.txt\"}\n",
    "sorting = {\"sort\":7, \"usort\":0}\n",
    "for i in xrange(10):\n",
    "    cmdgroup = []\n",
    "    for k, v in conf.items():\n",
    "        for sort in sorting.keys():\n",
    "            outfile = outdir + k + \"-\" + sort + \"-\" + str(i) + \".prior\"\n",
    "            cmdgroup.append(cmd.format(sorting[sort], 3000000, outdir+v, i, outfile))\n",
    "    #print(cmdgroup)\n",
    "    print(\" & \".join(cmdgroup))\n",
    "    os.system(\" & \".join(cmdgroup))"
   ]
  },
  {
   "cell_type": "code",
   "execution_count": 5,
   "metadata": {
    "collapsed": false
   },
   "outputs": [
    {
     "name": "stdout",
     "output_type": "stream",
     "text": [
      "chunk size = 300000\n"
     ]
    },
    {
     "ename": "NameError",
     "evalue": "name 'DIR_BUFF0_PRIORS' is not defined",
     "output_type": "error",
     "traceback": [
      "\u001b[0;31m\u001b[0m",
      "\u001b[0;31mNameError\u001b[0mTraceback (most recent call last)",
      "\u001b[0;32m<ipython-input-5-e7699a645ef9>\u001b[0m in \u001b[0;36m<module>\u001b[0;34m()\u001b[0m\n\u001b[1;32m     10\u001b[0m \u001b[0;32mprint\u001b[0m\u001b[0;34m(\u001b[0m\u001b[0;34m\"chunk size = \"\u001b[0m\u001b[0;34m+\u001b[0m\u001b[0mstr\u001b[0m\u001b[0;34m(\u001b[0m\u001b[0mCHUNK_SIZE\u001b[0m\u001b[0;34m)\u001b[0m\u001b[0;34m)\u001b[0m\u001b[0;34m\u001b[0m\u001b[0m\n\u001b[1;32m     11\u001b[0m \u001b[0;32mfor\u001b[0m \u001b[0mi\u001b[0m \u001b[0;32min\u001b[0m \u001b[0mrange\u001b[0m\u001b[0;34m(\u001b[0m\u001b[0mNPROC\u001b[0m\u001b[0;34m)\u001b[0m\u001b[0;34m:\u001b[0m\u001b[0;34m\u001b[0m\u001b[0m\n\u001b[0;32m---> 12\u001b[0;31m     \u001b[0moutfile\u001b[0m \u001b[0;34m=\u001b[0m \u001b[0mDIR_BUFF0_PRIORS\u001b[0m\u001b[0;34m+\u001b[0m\u001b[0;34m\"dirichlet-unsorted-\"\u001b[0m\u001b[0;34m+\u001b[0m\u001b[0mstr\u001b[0m\u001b[0;34m(\u001b[0m\u001b[0mi\u001b[0m\u001b[0;34m)\u001b[0m\u001b[0;34m+\u001b[0m\u001b[0;34m\".prior\"\u001b[0m\u001b[0;34m\u001b[0m\u001b[0m\n\u001b[0m\u001b[1;32m     13\u001b[0m     \u001b[0;32mprint\u001b[0m\u001b[0;34m(\u001b[0m\u001b[0moutfile\u001b[0m\u001b[0;34m)\u001b[0m\u001b[0;34m\u001b[0m\u001b[0m\n\u001b[1;32m     14\u001b[0m \u001b[0;34m\u001b[0m\u001b[0m\n",
      "\u001b[0;31mNameError\u001b[0m: name 'DIR_BUFF0_PRIORS' is not defined"
     ]
    }
   ],
   "source": [
    "## Generate a chunk of the reference table\n",
    "## This takes the better part of a day, so don't run it unless you're _sure_\n",
    "## you want it. If you need to kill open a term and `killall -9 perl`\n",
    "DIRICHLET_CONF=DIRICHLET_CONF_DIR+\"conf_dirichlet_buffer0.txt\"\n",
    "DIR_BUFF0_PRIORS_DIR=DIRICHLET_PRIORS_DIR+\"buffer0/\"\n",
    "\n",
    "PRIORS_SIZE=3000000\n",
    "NPROC=10\n",
    "CHUNK_SIZE=PRIORS_SIZE/NPROC\n",
    "print(\"chunk size = \"+str(CHUNK_SIZE))\n",
    "for i in range(NPROC):\n",
    "    outfile = DIR_BUFF0_PRIORS+\"dirichlet-unsorted-\"+str(i)+\".prior\"\n",
    "    print(outfile)\n",
    "\n",
    "    p = multiprocessing.Process(target=do_priors, args=(CHUNK_SIZE,outfile, DIRICHLET_CONF))\n",
    "    p.start()\n",
    "    time.sleep(2)\n"
   ]
  },
  {
   "cell_type": "code",
   "execution_count": 78,
   "metadata": {
    "collapsed": false
   },
   "outputs": [
    {
     "name": "stdout",
     "output_type": "stream",
     "text": [
      "0.txt\n",
      "Making - /Volumes/WorkDrive/msbayes-buffering/hickerlab-repository/msbayes-buffering/data/dirichlet/conf/conf_dirichlet_buffer0.1.txt\n",
      "0.txt\n",
      "Making - /Volumes/WorkDrive/msbayes-buffering/hickerlab-repository/msbayes-buffering/data/dirichlet/conf/conf_dirichlet_buffer0.05.txt\n",
      "0.txt\n",
      "Making - /Volumes/WorkDrive/msbayes-buffering/hickerlab-repository/msbayes-buffering/data/dirichlet/conf/conf_dirichlet_buffer0.01.txt\n"
     ]
    }
   ],
   "source": [
    "## Make the dirichlet buffering files and priors\n",
    "BUFFER_VALUES = [\"0.1\", \"0.05\", \"0.01\"]\n",
    "buffer_conf_dict={}\n",
    "for buff in BUFFER_VALUES:\n",
    "    print(DIRICHLET_CONF.split(\"buffer\")[-1])\n",
    "    DIR_BUFF_CONF=DIRICHLET_CONF.split(\"0\")[0]+buff+\".txt\"\n",
    "    print(\"Making - \" + DIR_BUFF_CONF)\n",
    "    with open(DIRICHLET_CONF, 'r') as infile:\n",
    "        lines = infile.readlines()\n",
    "        with open(DIR_BUFF_CONF, 'w') as outfile:\n",
    "            for line in lines:\n",
    "                if \"bufferTauClasses = 0\" in line:\n",
    "                    outfile.write(\"bufferTauClasses = \" + buff)\n",
    "                else:\n",
    "                    outfile.write(line)\n",
    "        buffer_conf_dict[buff]=DIR_BUFF_CONF"
   ]
  },
  {
   "cell_type": "code",
   "execution_count": null,
   "metadata": {
    "collapsed": true
   },
   "outputs": [
    {
     "name": "stdout",
     "output_type": "stream",
     "text": [
      "chunk size = 300000\n",
      "/Volumes/WorkDrive/msbayes-buffering/hickerlab-repository/msbayes-buffering/data/dirichlet/priors/buffer0.05/dirichlet-buffer0.05-unsorted-0.prior\n",
      "/Volumes/WorkDrive/msbayes-buffering/hickerlab-repository/msbayes-buffering/data/dirichlet/priors/buffer0.05/dirichlet-buffer0.05-unsorted-1.prior\n",
      "/Volumes/WorkDrive/msbayes-buffering/hickerlab-repository/msbayes-buffering/src/msbayes.pl -s 0 -r 300000 -c /Volumes/WorkDrive/msbayes-buffering/hickerlab-repository/msbayes-buffering/data/dirichlet/conf/conf_dirichlet_buffer0.05.txt -o /Volumes/WorkDrive/msbayes-buffering/hickerlab-repository/msbayes-buffering/data/dirichlet/priors/buffer0.05/dirichlet-buffer0.05-unsorted-0.prior\n",
      "/Volumes/WorkDrive/msbayes-buffering/hickerlab-repository/msbayes-buffering/data/dirichlet/priors/buffer0.05/dirichlet-buffer0.05-unsorted-2.prior\n",
      "/Volumes/WorkDrive/msbayes-buffering/hickerlab-repository/msbayes-buffering/src/msbayes.pl -s 0 -r 300000 -c /Volumes/WorkDrive/msbayes-buffering/hickerlab-repository/msbayes-buffering/data/dirichlet/conf/conf_dirichlet_buffer0.05.txt -o /Volumes/WorkDrive/msbayes-buffering/hickerlab-repository/msbayes-buffering/data/dirichlet/priors/buffer0.05/dirichlet-buffer0.05-unsorted-1.prior\n",
      "/Volumes/WorkDrive/msbayes-buffering/hickerlab-repository/msbayes-buffering/data/dirichlet/priors/buffer0.05/dirichlet-buffer0.05-unsorted-3.prior\n",
      "/Volumes/WorkDrive/msbayes-buffering/hickerlab-repository/msbayes-buffering/src/msbayes.pl -s 0 -r 300000 -c /Volumes/WorkDrive/msbayes-buffering/hickerlab-repository/msbayes-buffering/data/dirichlet/conf/conf_dirichlet_buffer0.05.txt -o /Volumes/WorkDrive/msbayes-buffering/hickerlab-repository/msbayes-buffering/data/dirichlet/priors/buffer0.05/dirichlet-buffer0.05-unsorted-2.prior\n",
      "/Volumes/WorkDrive/msbayes-buffering/hickerlab-repository/msbayes-buffering/data/dirichlet/priors/buffer0.05/dirichlet-buffer0.05-unsorted-4.prior\n",
      "/Volumes/WorkDrive/msbayes-buffering/hickerlab-repository/msbayes-buffering/src/msbayes.pl -s 0 -r 300000 -c /Volumes/WorkDrive/msbayes-buffering/hickerlab-repository/msbayes-buffering/data/dirichlet/conf/conf_dirichlet_buffer0.05.txt -o /Volumes/WorkDrive/msbayes-buffering/hickerlab-repository/msbayes-buffering/data/dirichlet/priors/buffer0.05/dirichlet-buffer0.05-unsorted-3.prior\n",
      "/Volumes/WorkDrive/msbayes-buffering/hickerlab-repository/msbayes-buffering/data/dirichlet/priors/buffer0.05/dirichlet-buffer0.05-unsorted-5.prior\n",
      "/Volumes/WorkDrive/msbayes-buffering/hickerlab-repository/msbayes-buffering/src/msbayes.pl -s 0 -r 300000 -c /Volumes/WorkDrive/msbayes-buffering/hickerlab-repository/msbayes-buffering/data/dirichlet/conf/conf_dirichlet_buffer0.05.txt -o /Volumes/WorkDrive/msbayes-buffering/hickerlab-repository/msbayes-buffering/data/dirichlet/priors/buffer0.05/dirichlet-buffer0.05-unsorted-4.prior\n",
      "/Volumes/WorkDrive/msbayes-buffering/hickerlab-repository/msbayes-buffering/data/dirichlet/priors/buffer0.05/dirichlet-buffer0.05-unsorted-6.prior\n",
      "/Volumes/WorkDrive/msbayes-buffering/hickerlab-repository/msbayes-buffering/src/msbayes.pl -s 0 -r 300000 -c /Volumes/WorkDrive/msbayes-buffering/hickerlab-repository/msbayes-buffering/data/dirichlet/conf/conf_dirichlet_buffer0.05.txt -o /Volumes/WorkDrive/msbayes-buffering/hickerlab-repository/msbayes-buffering/data/dirichlet/priors/buffer0.05/dirichlet-buffer0.05-unsorted-5.prior\n",
      "/Volumes/WorkDrive/msbayes-buffering/hickerlab-repository/msbayes-buffering/data/dirichlet/priors/buffer0.05/dirichlet-buffer0.05-unsorted-7.prior\n",
      "/Volumes/WorkDrive/msbayes-buffering/hickerlab-repository/msbayes-buffering/src/msbayes.pl -s 0 -r 300000 -c /Volumes/WorkDrive/msbayes-buffering/hickerlab-repository/msbayes-buffering/data/dirichlet/conf/conf_dirichlet_buffer0.05.txt -o /Volumes/WorkDrive/msbayes-buffering/hickerlab-repository/msbayes-buffering/data/dirichlet/priors/buffer0.05/dirichlet-buffer0.05-unsorted-6.prior\n",
      "/Volumes/WorkDrive/msbayes-buffering/hickerlab-repository/msbayes-buffering/data/dirichlet/priors/buffer0.05/dirichlet-buffer0.05-unsorted-8.prior\n",
      "/Volumes/WorkDrive/msbayes-buffering/hickerlab-repository/msbayes-buffering/src/msbayes.pl -s 0 -r 300000 -c /Volumes/WorkDrive/msbayes-buffering/hickerlab-repository/msbayes-buffering/data/dirichlet/conf/conf_dirichlet_buffer0.05.txt -o /Volumes/WorkDrive/msbayes-buffering/hickerlab-repository/msbayes-buffering/data/dirichlet/priors/buffer0.05/dirichlet-buffer0.05-unsorted-7.prior\n",
      "/Volumes/WorkDrive/msbayes-buffering/hickerlab-repository/msbayes-buffering/data/dirichlet/priors/buffer0.05/dirichlet-buffer0.05-unsorted-9.prior\n",
      "/Volumes/WorkDrive/msbayes-buffering/hickerlab-repository/msbayes-buffering/src/msbayes.pl -s 0 -r 300000 -c /Volumes/WorkDrive/msbayes-buffering/hickerlab-repository/msbayes-buffering/data/dirichlet/conf/conf_dirichlet_buffer0.05.txt -o /Volumes/WorkDrive/msbayes-buffering/hickerlab-repository/msbayes-buffering/data/dirichlet/priors/buffer0.05/dirichlet-buffer0.05-unsorted-8.prior\n"
     ]
    }
   ],
   "source": [
    "## Generate a chunk of the reference table\n",
    "## This takes the better part of a day, so don't run it unless you're _sure_\n",
    "## you want it. If you need to kill open a term and `killall -9 perl`\n",
    "#BUFFER_VALUES = [\"0.01\", \"0.05\", \"0.1\"]\n",
    "BUFFER_VALUES = [\"0.05\", \"0.1\"]\n",
    "\n",
    "for buff in BUFFER_VALUES:\n",
    "    \n",
    "    DIR_BUFF_PRIORS_DIR=DIRICHLET_PRIORS_DIR+\"buffer\"+buff+\"/\"\n",
    "    directory=DIR_BUFF_PRIORS_DIR\n",
    "    if not os.path.exists(directory):\n",
    "        os.makedirs(directory)\n",
    "    \n",
    "    PRIORS_SIZE=3000000\n",
    "    NPROC=10\n",
    "    CHUNK_SIZE=PRIORS_SIZE/NPROC\n",
    "    ## Don't sort\n",
    "    SORTING=\"0\"\n",
    "    print(\"chunk size = \"+str(CHUNK_SIZE))\n",
    "    for i in range(NPROC):\n",
    "        outfile = DIR_BUFF_PRIORS_DIR+\"dirichlet-buffer\"+buff+\"-unsorted-\"+str(i)+\".prior\"\n",
    "        print(outfile)\n",
    "\n",
    "        p = multiprocessing.Process(target=do_priors, args=(CHUNK_SIZE, SORTING, outfile, buffer_conf_dict[buff]))\n",
    "        p.start()\n",
    "        time.sleep(2)\n",
    "    ## Join the main process ot the last spawned process and wait for it to end before doing the next set of buffers.\n",
    "    p.join()"
   ]
  },
  {
   "cell_type": "code",
   "execution_count": 8,
   "metadata": {
    "collapsed": false
   },
   "outputs": [
    {
     "name": "stdout",
     "output_type": "stream",
     "text": [
      "Doing - 0\n"
     ]
    }
   ],
   "source": [
    "## For each of the buffer values go through and concatenate all the\n",
    "## priors files into one giant file\n",
    "## Takes about 5 minutes per directory\n",
    "#BUFFER_VALUES = [\"0.05\", \"0.1\", \"0\"]\n",
    "BUFFER_VALUES = [\"0\"]\n",
    "\n",
    "for buff in BUFFER_VALUES:\n",
    "    print(\"Doing - \"+buff)\n",
    "    \n",
    "    DIR_BUFF_PRIORS_DIR=DIRICHLET_PRIORS_DIR+\"buffer\"+buff+\"/\"\n",
    "    NCHUNKS=10\n",
    "    MASSIVE_PRIOR=DIR_BUFF_PRIORS_DIR+\"buffer\"+buff+\".prior\"\n",
    "    with open(MASSIVE_PRIOR, 'w') as outfile:\n",
    "        for i in range(NCHUNKS):\n",
    "            with open(DIR_BUFF_PRIORS_DIR+\"dirichlet-buffer\"+buff+\"-unsorted-\"+str(i)+\".prior\", 'r') as infile:\n",
    "                if i == 0:\n",
    "                    ## Write the header only once\n",
    "                    outfile.write(infile.readline())\n",
    "                else:\n",
    "                    ## Read the header and swallow it\n",
    "                    wat = infile.readline()\n",
    "                ## Copy the rest of the file in 1024kb chunks\n",
    "                while True:\n",
    "                    data = infile.read(1024)\n",
    "                    if not data:\n",
    "                        break\n",
    "                    outfile.write(data)"
   ]
  },
  {
   "cell_type": "markdown",
   "metadata": {},
   "source": [
    "# Do the PODS"
   ]
  },
  {
   "cell_type": "code",
   "execution_count": 30,
   "metadata": {
    "collapsed": false
   },
   "outputs": [
    {
     "name": "stdout",
     "output_type": "stream",
     "text": [
      "Doing - 0.01\n",
      "./bu_doPODS.sh -s 0 -p /Volumes/WorkDrive/msbayes-buffering/hickerlab-repository/msbayes-buffering/data/dirichlet/priors/buffer0.01/buffer0.01.prior -c /Volumes/WorkDrive/msbayes-buffering/hickerlab-repository/msbayes-buffering/data/dirichlet/conf/conf_dirichlet_buffer0.01.txt -n 5\n",
      "On step 0\t12:33:32\n",
      "On step 5\t15:05:24\n",
      "On step 10\t17:37:17\n",
      "On step 15\t20:06:00\n",
      "On step 20\t22:33:24\n",
      "On step 25\t01:01:16\n",
      "On step 30\t03:28:10\n",
      "On step 35\t05:55:26\n",
      "On step 40\t08:22:00\n",
      "On step 45\t10:48:44\n",
      "On step 50\t13:15:25\n",
      "On step 55\t15:42:01\n",
      "On step 60\t18:08:46\n",
      "On step 65\t20:35:32\n",
      "On step 70\t23:03:01\n",
      "On step 75\t01:30:14\n",
      "On step 80\t03:58:27\n",
      "On step 85\t06:25:37\n",
      "On step 90\t08:53:18\n",
      "On step 95\t11:20:35\n"
     ]
    }
   ],
   "source": [
    "import time\n",
    "#BUFFER_VALUES = [\"0.05\", \"0.1\", \"0\"]\n",
    "BUFFER_VALUES = [\"0.01\"]\n",
    "\n",
    "## Go to the msbayes working directory\n",
    "os.chdir(MSBAYES_EXECDIR)\n",
    "\n",
    "NPODS = 100\n",
    "STEP = 5\n",
    "SORTING=\"0\"\n",
    "for buff in BUFFER_VALUES:\n",
    "    print(\"Doing - \"+buff)\n",
    "\n",
    "    # Find the priors file\n",
    "    DIR_BUFF_PRIORS_DIR=DIRICHLET_PRIORS_DIR+\"buffer\"+buff+\"/\"\n",
    "    MASSIVE_PRIOR=DIR_BUFF_PRIORS_DIR+\"buffer\"+buff+\".prior\"\n",
    "    \n",
    "    # And the conf file\n",
    "    DIRICHLET_CONF=DIRICHLET_CONF_DIR+\"conf_dirichlet_buffer0.txt\"\n",
    "    DIR_BUFF_CONF=DIRICHLET_CONF.split(\"0\")[0]+buff+\".txt\"\n",
    "\n",
    "    cmd = \"./bu_doPODS.sh\" \\\n",
    "        + \" -s \" + SORTING\\\n",
    "        + \" -p \" + MASSIVE_PRIOR\\\n",
    "        + \" -c \" + DIR_BUFF_CONF\\\n",
    "        + \" -n \" + str(STEP)\n",
    "    print(cmd)\n",
    "\n",
    "    ## Do it in chunks so we can track progress\n",
    "    count = 0\n",
    "    while count < NPODS:\n",
    "        try:\n",
    "            print(\"On step {}\\t{}\".format(count, time.strftime('%X')))\n",
    "            time.sleep(2)\n",
    "            os.system(cmd)\n",
    "            count += STEP\n",
    "        except Exception as inst:\n",
    "            print(inst)\n",
    "    \n",
    "    # Make the results directory\n",
    "    MY_RESULTS_DIR=DIRICHLET_RESULTS_DIR+\"buffer\"+buff+\"/\"\n",
    "    directory=MY_RESULTS_DIR\n",
    "    if not os.path.exists(directory):\n",
    "        os.makedirs(directory)\n",
    "    \n",
    "    ## When you're done, save the output files\n",
    "    results_files = [\"results_psi_omega_et_tol.out\", \"results_psi.out\", \\\n",
    "                     \"results_omega_unadjusted.out\", \"results_omega.out\", \"all_pods.obs\"]\n",
    "    for res in results_files:\n",
    "        os.rename(res, MY_RESULTS_DIR+res)"
   ]
  },
  {
   "cell_type": "markdown",
   "metadata": {},
   "source": [
    "Do pods just for the dirichlet with sorted sumstats, no buffering:\n",
    "\n",
    "./bu_doPODS.sh -s 7 -p ../data/dirichlet/priors/buffer0-sorted/dpp-sorted.prior -c ../data/dirichlet/conf/conf_dirichlet_buffer0.txt -n 100"
   ]
  },
  {
   "cell_type": "code",
   "execution_count": null,
   "metadata": {
    "collapsed": false
   },
   "outputs": [],
   "source": [
    "import time\n",
    "time.strftime('%X %x %Z')"
   ]
  },
  {
   "cell_type": "markdown",
   "metadata": {},
   "source": [
    "# Do PODS for 2x2 dirichlet/uniform & sort/unsort for empirical data"
   ]
  },
  {
   "cell_type": "code",
   "execution_count": 2,
   "metadata": {
    "collapsed": false
   },
   "outputs": [],
   "source": [
    "import multiprocessing\n",
    "os.chdir(MSBAYES_EXECDIR)\n",
    "\n",
    "# Dirichlet\n",
    "EMPIRICAL_OUT=MSBAYES_DATADIR+\"empirical/\"\n",
    "EMPIRICAL_PRIORS_DIR=EMPIRICAL_OUT+\"priors/\"\n",
    "EMPIRICAL_CONF_DIR=EMPIRICAL_OUT+\"conf/\"\n",
    "EMPIRICAL_RESULTS_DIR=EMPIRICAL_OUT+\"results/\"\n",
    "\n",
    "## Generate a chunk of the reference table\n",
    "## This takes the better part of a day, so don't run it unless you're _sure_\n",
    "## you want it. If you need to kill open a term and `killall -9 perl`\n",
    "\n",
    "## edited conf files to ensure no buffering\n",
    "FISH_UNIF_CONF = EMPIRICAL_CONF_DIR + \"3fishes_uniform.txt\"\n",
    "FROG_UNIF_CONF = EMPIRICAL_CONF_DIR + \"4frogs_uniform.txt\"\n",
    "FISH_DIRICHLET_CONF = EMPIRICAL_CONF_DIR + \"3fishes_dirichlet.txt\"\n",
    "FROG_DIRICHLET_CONF = EMPIRICAL_CONF_DIR + \"4frogs_dirichlet.txt\"\n",
    "\n",
    "confdict = {\"fish_uniform\":FISH_UNIF_CONF, \"frogs_uniform\":FROG_UNIF_CONF, \\\n",
    "             \"fish_dirichlet\":FISH_DIRICHLET_CONF, \"frogs_dirichlet\":FROG_DIRICHLET_CONF}"
   ]
  },
  {
   "cell_type": "markdown",
   "metadata": {},
   "source": [
    "## Generate priors for fish and frog datasets\n",
    "3e6 takes several hours\n",
    "\n",
    "5e7 takes ~2 weeks for fish, ~3 for frogs"
   ]
  },
  {
   "cell_type": "code",
   "execution_count": 4,
   "metadata": {
    "collapsed": true
   },
   "outputs": [
    {
     "name": "stdout",
     "output_type": "stream",
     "text": [
      "/Volumes/WorkDrive/msbayes-buffering/hickerlab-repository/msbayes-buffering/data/empirical/priors/frogs_dirichlet_sort.prior\n",
      "/Volumes/WorkDrive/msbayes-buffering/hickerlab-repository/msbayes-buffering/src/msbayes.pl -s 7 -r 50000000 -c /Volumes/WorkDrive/msbayes-buffering/hickerlab-repository/msbayes-buffering/data/empirical/conf/4frogs_dirichlet.txt -S 665 -o /Volumes/WorkDrive/msbayes-buffering/hickerlab-repository/msbayes-buffering/data/empirical/priors/frogs_dirichlet_sort.prior\n",
      "/Volumes/WorkDrive/msbayes-buffering/hickerlab-repository/msbayes-buffering/data/empirical/priors/frogs_dirichlet_usort.prior\n",
      "/Volumes/WorkDrive/msbayes-buffering/hickerlab-repository/msbayes-buffering/src/msbayes.pl -s 0 -r 50000000 -c /Volumes/WorkDrive/msbayes-buffering/hickerlab-repository/msbayes-buffering/data/empirical/conf/4frogs_dirichlet.txt -S 665 -o /Volumes/WorkDrive/msbayes-buffering/hickerlab-repository/msbayes-buffering/data/empirical/priors/frogs_dirichlet_usort.prior\n",
      "/Volumes/WorkDrive/msbayes-buffering/hickerlab-repository/msbayes-buffering/data/empirical/priors/fish_dirichlet_sort.prior\n",
      "/Volumes/WorkDrive/msbayes-buffering/hickerlab-repository/msbayes-buffering/src/msbayes.pl -s 7 -r 50000000 -c /Volumes/WorkDrive/msbayes-buffering/hickerlab-repository/msbayes-buffering/data/empirical/conf/3fishes_dirichlet.txt -S 665 -o /Volumes/WorkDrive/msbayes-buffering/hickerlab-repository/msbayes-buffering/data/empirical/priors/fish_dirichlet_sort.prior\n",
      "/Volumes/WorkDrive/msbayes-buffering/hickerlab-repository/msbayes-buffering/data/empirical/priors/fish_dirichlet_usort.prior\n",
      "/Volumes/WorkDrive/msbayes-buffering/hickerlab-repository/msbayes-buffering/src/msbayes.pl -s 0 -r 50000000 -c /Volumes/WorkDrive/msbayes-buffering/hickerlab-repository/msbayes-buffering/data/empirical/conf/3fishes_dirichlet.txt -S 665 -o /Volumes/WorkDrive/msbayes-buffering/hickerlab-repository/msbayes-buffering/data/empirical/priors/fish_dirichlet_usort.prior\n",
      "/Volumes/WorkDrive/msbayes-buffering/hickerlab-repository/msbayes-buffering/data/empirical/priors/frogs_uniform_sort.prior\n",
      "/Volumes/WorkDrive/msbayes-buffering/hickerlab-repository/msbayes-buffering/src/msbayes.pl -s 7 -r 50000000 -c /Volumes/WorkDrive/msbayes-buffering/hickerlab-repository/msbayes-buffering/data/empirical/conf/4frogs_uniform.txt -S 665 -o /Volumes/WorkDrive/msbayes-buffering/hickerlab-repository/msbayes-buffering/data/empirical/priors/frogs_uniform_sort.prior\n",
      "/Volumes/WorkDrive/msbayes-buffering/hickerlab-repository/msbayes-buffering/data/empirical/priors/frogs_uniform_usort.prior\n",
      "/Volumes/WorkDrive/msbayes-buffering/hickerlab-repository/msbayes-buffering/src/msbayes.pl -s 0 -r 50000000 -c /Volumes/WorkDrive/msbayes-buffering/hickerlab-repository/msbayes-buffering/data/empirical/conf/4frogs_uniform.txt -S 665 -o /Volumes/WorkDrive/msbayes-buffering/hickerlab-repository/msbayes-buffering/data/empirical/priors/frogs_uniform_usort.prior\n",
      "/Volumes/WorkDrive/msbayes-buffering/hickerlab-repository/msbayes-buffering/data/empirical/priors/fish_uniform_sort.prior\n",
      "/Volumes/WorkDrive/msbayes-buffering/hickerlab-repository/msbayes-buffering/src/msbayes.pl -s 7 -r 50000000 -c /Volumes/WorkDrive/msbayes-buffering/hickerlab-repository/msbayes-buffering/data/empirical/conf/3fishes_uniform.txt -S 665 -o /Volumes/WorkDrive/msbayes-buffering/hickerlab-repository/msbayes-buffering/data/empirical/priors/fish_uniform_sort.prior\n",
      "/Volumes/WorkDrive/msbayes-buffering/hickerlab-repository/msbayes-buffering/data/empirical/priors/fish_uniform_usort.prior\n",
      "/Volumes/WorkDrive/msbayes-buffering/hickerlab-repository/msbayes-buffering/src/msbayes.pl -s 0 -r 50000000 -c /Volumes/WorkDrive/msbayes-buffering/hickerlab-repository/msbayes-buffering/data/empirical/conf/3fishes_uniform.txt -S 665 -o /Volumes/WorkDrive/msbayes-buffering/hickerlab-repository/msbayes-buffering/data/empirical/priors/fish_uniform_usort.prior\n"
     ]
    }
   ],
   "source": [
    "SORT=7\n",
    "UNSORT=0\n",
    "PRIORS_SIZE=50000000\n",
    "# dont do in chunks\n",
    "# print(\"chunk size = \"+str(CHUNK_SIZE))\n",
    "## Just do the fucked up fish ones\n",
    "# confdict = {\"fish_dirichlet\":FISH_DIRICHLET_CONF}\n",
    "for tag,conf in confdict.items():\n",
    "    for sortstr,sortval in {\"sort\":SORT, \"usort\":UNSORT}.items():\n",
    "        outfile = EMPIRICAL_PRIORS_DIR + tag + \"_\" + sortstr + \".prior\"\n",
    "        print(outfile)\n",
    "\n",
    "        p = multiprocessing.Process(target=do_priors, args=(PRIORS_SIZE, sortval, outfile, conf))\n",
    "        p.start()\n",
    "        time.sleep(2)\n"
   ]
  },
  {
   "cell_type": "markdown",
   "metadata": {
    "collapsed": true
   },
   "source": [
    "## Do the PODS"
   ]
  },
  {
   "cell_type": "code",
   "execution_count": 9,
   "metadata": {
    "collapsed": false
   },
   "outputs": [
    {
     "name": "stdout",
     "output_type": "stream",
     "text": [
      "Doing - frogs_dirichlet_sort\n",
      "./frogs_doPODS.sh -s 7 -p /Volumes/WorkDrive/msbayes-buffering/hickerlab-repository/msbayes-buffering/data/empirical/priors/frogs_dirichlet_sort.prior -c /Volumes/WorkDrive/msbayes-buffering/hickerlab-repository/msbayes-buffering/data/empirical/conf/4frogs_dirichlet.txt -n 100 &\n",
      "Doing - frogs_dirichlet_usort\n",
      "./frogs_doPODS.sh -s 0 -p /Volumes/WorkDrive/msbayes-buffering/hickerlab-repository/msbayes-buffering/data/empirical/priors/frogs_dirichlet_usort.prior -c /Volumes/WorkDrive/msbayes-buffering/hickerlab-repository/msbayes-buffering/data/empirical/conf/4frogs_dirichlet.txt -n 100 &\n",
      "Doing - fish_dirichlet_sort\n",
      "./fish_doPODS.sh -s 7 -p /Volumes/WorkDrive/msbayes-buffering/hickerlab-repository/msbayes-buffering/data/empirical/priors/fish_dirichlet_sort.prior -c /Volumes/WorkDrive/msbayes-buffering/hickerlab-repository/msbayes-buffering/data/empirical/conf/3fishes_dirichlet.txt -n 100 &\n",
      "Doing - fish_dirichlet_usort\n",
      "./fish_doPODS.sh -s 0 -p /Volumes/WorkDrive/msbayes-buffering/hickerlab-repository/msbayes-buffering/data/empirical/priors/fish_dirichlet_usort.prior -c /Volumes/WorkDrive/msbayes-buffering/hickerlab-repository/msbayes-buffering/data/empirical/conf/3fishes_dirichlet.txt -n 100 &\n",
      "Doing - frogs_uniform_sort\n",
      "./frogs_doPODS.sh -s 7 -p /Volumes/WorkDrive/msbayes-buffering/hickerlab-repository/msbayes-buffering/data/empirical/priors/frogs_uniform_sort.prior -c /Volumes/WorkDrive/msbayes-buffering/hickerlab-repository/msbayes-buffering/data/empirical/conf/4frogs_uniform.txt -n 100 &\n",
      "Doing - frogs_uniform_usort\n",
      "./frogs_doPODS.sh -s 0 -p /Volumes/WorkDrive/msbayes-buffering/hickerlab-repository/msbayes-buffering/data/empirical/priors/frogs_uniform_usort.prior -c /Volumes/WorkDrive/msbayes-buffering/hickerlab-repository/msbayes-buffering/data/empirical/conf/4frogs_uniform.txt -n 100 &\n",
      "Doing - fish_uniform_sort\n",
      "./fish_doPODS.sh -s 7 -p /Volumes/WorkDrive/msbayes-buffering/hickerlab-repository/msbayes-buffering/data/empirical/priors/fish_uniform_sort.prior -c /Volumes/WorkDrive/msbayes-buffering/hickerlab-repository/msbayes-buffering/data/empirical/conf/3fishes_uniform.txt -n 100 &\n",
      "Doing - fish_uniform_usort\n",
      "./fish_doPODS.sh -s 0 -p /Volumes/WorkDrive/msbayes-buffering/hickerlab-repository/msbayes-buffering/data/empirical/priors/fish_uniform_usort.prior -c /Volumes/WorkDrive/msbayes-buffering/hickerlab-repository/msbayes-buffering/data/empirical/conf/3fishes_uniform.txt -n 100 &\n"
     ]
    }
   ],
   "source": [
    "import shutil\n",
    "import time\n",
    "import sys\n",
    "\n",
    "## Go to the msbayes working directory\n",
    "os.chdir(MSBAYES_EXECDIR)\n",
    "PRIORS_DIR = \"/Volumes/WorkDrive/msbayes-buffering/hickerlab-repository/msbayes-buffering/data/empirical/priors/\"\n",
    "CONF_DIR = \"/Volumes/WorkDrive/msbayes-buffering/hickerlab-repository/msbayes-buffering/data/empirical/conf/\"\n",
    "RESULTS_DIR = \"/Volumes/WorkDrive/msbayes-buffering/hickerlab-repository/msbayes-buffering/data/empirical/results/\"\n",
    "\n",
    "confdict = {\"fish_uniform\":FISH_UNIF_CONF, \"frogs_uniform\":FROG_UNIF_CONF, \\\n",
    "             \"fish_dirichlet\":FISH_DIRICHLET_CONF, \"frogs_dirichlet\":FROG_DIRICHLET_CONF}\n",
    "\n",
    "NPODS = 100\n",
    "SORTING = {\"sort\":\"7\", \"usort\":\"0\"}\n",
    "\n",
    "for k,CONF_FILE in confdict.items():\n",
    "    for sortstring, sortval in SORTING.items():\n",
    "        \n",
    "        model = k + \"_\" + sortstring\n",
    "        organism = k.split(\"_\")[0]\n",
    "        print(\"Doing - \" + model)\n",
    "\n",
    "        ## Make temp directories for each configuration so we can run msbayes in parallel\n",
    "        tmpdir = os.path.join(\"/tmp\", model)\n",
    "        if os.path.exists(tmpdir):\n",
    "            shutil.rmtree(tmpdir)\n",
    "        shutil.copytree(MSBAYES_EXECDIR, tmpdir)\n",
    "       \n",
    "        os.chdir(tmpdir)\n",
    "        # Find the priors file\n",
    "        MASSIVE_PRIOR = PRIORS_DIR + model + \".prior\"\n",
    "\n",
    "        cmd = \"./{}_doPODS.sh\".format(organism) \\\n",
    "            + \" -s \" + sortval\\\n",
    "            + \" -p \" + MASSIVE_PRIOR\\\n",
    "            + \" -c \" + CONF_FILE\\\n",
    "            + \" -n \" + str(NPODS) + \" &\"\n",
    "        print(cmd)\n",
    "        os.system(cmd)"
   ]
  },
  {
   "cell_type": "code",
   "execution_count": 8,
   "metadata": {
    "collapsed": false
   },
   "outputs": [
    {
     "name": "stdout",
     "output_type": "stream",
     "text": [
      "Doing - frogs_dirichlet_sort\n",
      "moving results_psi_omega_et_tol.out\n",
      "moving results_psi.out\n",
      "moving results_omega_unadjusted.out\n",
      "moving results_omega.out\n",
      "moving all_pods.obs\n",
      "Doing - frogs_dirichlet_usort\n",
      "moving results_psi_omega_et_tol.out\n",
      "moving results_psi.out\n",
      "moving results_omega_unadjusted.out\n",
      "moving results_omega.out\n",
      "moving all_pods.obs\n",
      "Doing - fish_dirichlet_sort\n",
      "moving results_psi_omega_et_tol.out\n",
      "moving results_psi.out\n",
      "moving results_omega_unadjusted.out\n",
      "moving results_omega.out\n",
      "moving all_pods.obs\n",
      "Doing - fish_dirichlet_usort\n",
      "moving results_psi_omega_et_tol.out\n",
      "moving results_psi.out\n",
      "moving results_omega_unadjusted.out\n",
      "moving results_omega.out\n",
      "moving all_pods.obs\n",
      "Doing - frogs_uniform_sort\n",
      "moving results_psi_omega_et_tol.out\n",
      "moving results_psi.out\n",
      "moving results_omega_unadjusted.out\n",
      "moving results_omega.out\n",
      "moving all_pods.obs\n",
      "Doing - frogs_uniform_usort\n",
      "moving results_psi_omega_et_tol.out\n",
      "moving results_psi.out\n",
      "moving results_omega_unadjusted.out\n",
      "moving results_omega.out\n",
      "moving all_pods.obs\n",
      "Doing - fish_uniform_sort\n",
      "moving results_psi_omega_et_tol.out\n",
      "moving results_psi.out\n",
      "moving results_omega_unadjusted.out\n",
      "moving results_omega.out\n",
      "moving all_pods.obs\n",
      "Doing - fish_uniform_usort\n",
      "moving results_psi_omega_et_tol.out\n",
      "moving results_psi.out\n",
      "moving results_omega_unadjusted.out\n",
      "moving results_omega.out\n",
      "moving all_pods.obs\n"
     ]
    }
   ],
   "source": [
    "import shutil\n",
    "\n",
    "## Gather results\n",
    "SORTING = {\"sort\":\"7\", \"usort\":\"0\"}\n",
    "RESULTS_DIR = \"/Volumes/WorkDrive/msbayes-buffering/hickerlab-repository/msbayes-buffering/data/empirical/results/results-5e7/\"\n",
    "for k,CONF_FILE in confdict.items():\n",
    "    for sortstring, sortval in SORTING.items():\n",
    "        \n",
    "        model = k + \"_\" + sortstring\n",
    "        organism = k.split(\"_\")[0]\n",
    "        print(\"Doing - \" + model)\n",
    "        tmpdir = os.path.join(\"/tmp\", model)\n",
    "        os.chdir(tmpdir)\n",
    "        \n",
    "        # Make the results directory\n",
    "        MY_RESULTS_DIR = RESULTS_DIR + model + \"/\"\n",
    "        directory=MY_RESULTS_DIR\n",
    "        if not os.path.exists(directory):\n",
    "            os.makedirs(directory)\n",
    "\n",
    "        ## When you're done, save the output files\n",
    "        results_files = [\"results_psi_omega_et_tol.out\", \"results_psi.out\", \\\n",
    "                         \"results_omega_unadjusted.out\", \"results_omega.out\", \"all_pods.obs\"]\n",
    "        for res in results_files:\n",
    "            print(\"moving {}\".format(res))\n",
    "            shutil.copy2(res, MY_RESULTS_DIR+res)"
   ]
  },
  {
   "cell_type": "code",
   "execution_count": null,
   "metadata": {
    "collapsed": true
   },
   "outputs": [],
   "source": []
  }
 ],
 "metadata": {
  "anaconda-cloud": {},
  "kernelspec": {
   "display_name": "Python [default]",
   "language": "python",
   "name": "python2"
  },
  "language_info": {
   "codemirror_mode": {
    "name": "ipython",
    "version": 2
   },
   "file_extension": ".py",
   "mimetype": "text/x-python",
   "name": "python",
   "nbconvert_exporter": "python",
   "pygments_lexer": "ipython2",
   "version": "2.7.12"
  }
 },
 "nbformat": 4,
 "nbformat_minor": 0
}
